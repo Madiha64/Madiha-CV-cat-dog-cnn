{
  "nbformat": 4,
  "nbformat_minor": 0,
  "metadata": {
    "colab": {
      "provenance": [],
      "authorship_tag": "ABX9TyM89+QZYbBvbWe04f0x8Brm",
      "include_colab_link": true
    },
    "kernelspec": {
      "name": "python3",
      "display_name": "Python 3"
    },
    "language_info": {
      "name": "python"
    }
  },
  "cells": [
    {
      "cell_type": "markdown",
      "metadata": {
        "id": "view-in-github",
        "colab_type": "text"
      },
      "source": [
        "<a href=\"https://colab.research.google.com/github/Madiha64/Madiha-CV-cat-dog-cnn/blob/main/Deeplab_v3.ipynb\" target=\"_parent\"><img src=\"https://colab.research.google.com/assets/colab-badge.svg\" alt=\"Open In Colab\"/></a>"
      ]
    },
    {
      "cell_type": "code",
      "source": [
        "import os\n",
        "os.environ[\"CUDA_LAUNCH_BLOCKING\"] = \"1\"\n"
      ],
      "metadata": {
        "id": "n4vJV2qm_MRj"
      },
      "execution_count": null,
      "outputs": []
    },
    {
      "cell_type": "code",
      "source": [
        "# Install necessary libraries\n",
        "!pip install torch torchvision transformers roboflow\n",
        "from sklearn.metrics import precision_score, recall_score, f1_score\n",
        "!pip install torch torchvision transformers roboflow tqdm scikit-learn\n",
        "import torch\n",
        "from transformers import SegformerForSemanticSegmentation, SegformerImageProcessor\n",
        "from roboflow import Roboflow\n",
        "import os\n",
        "import torch\n",
        "from transformers import SegformerForSemanticSegmentation, SegformerFeatureExtractor\n",
        "from roboflow import Roboflow\n",
        "from torch.utils.data import DataLoader, Dataset\n",
        "import os\n",
        "import json\n",
        "from PIL import Image\n",
        "import numpy as np\n",
        "import torchvision.transforms as T\n",
        "from torch.utils.data import DataLoader, Dataset\n",
        "import os\n",
        "import json\n",
        "from PIL import Image\n",
        "import cv2\n",
        "from tqdm import tqdm"
      ],
      "metadata": {
        "colab": {
          "base_uri": "https://localhost:8080/"
        },
        "id": "x90vRTGvAkYZ",
        "outputId": "6d827103-5610-4a0b-91c9-f265a88fe3c0"
      },
      "execution_count": null,
      "outputs": [
        {
          "output_type": "stream",
          "name": "stdout",
          "text": [
            "Requirement already satisfied: torch in /usr/local/lib/python3.11/dist-packages (2.6.0+cu124)\n",
            "Requirement already satisfied: torchvision in /usr/local/lib/python3.11/dist-packages (0.21.0+cu124)\n",
            "Requirement already satisfied: transformers in /usr/local/lib/python3.11/dist-packages (4.53.1)\n",
            "Collecting roboflow\n",
            "  Downloading roboflow-1.2.1-py3-none-any.whl.metadata (9.7 kB)\n",
            "Requirement already satisfied: filelock in /usr/local/lib/python3.11/dist-packages (from torch) (3.18.0)\n",
            "Requirement already satisfied: typing-extensions>=4.10.0 in /usr/local/lib/python3.11/dist-packages (from torch) (4.14.1)\n",
            "Requirement already satisfied: networkx in /usr/local/lib/python3.11/dist-packages (from torch) (3.5)\n",
            "Requirement already satisfied: jinja2 in /usr/local/lib/python3.11/dist-packages (from torch) (3.1.6)\n",
            "Requirement already satisfied: fsspec in /usr/local/lib/python3.11/dist-packages (from torch) (2025.3.2)\n",
            "Collecting nvidia-cuda-nvrtc-cu12==12.4.127 (from torch)\n",
            "  Downloading nvidia_cuda_nvrtc_cu12-12.4.127-py3-none-manylinux2014_x86_64.whl.metadata (1.5 kB)\n",
            "Collecting nvidia-cuda-runtime-cu12==12.4.127 (from torch)\n",
            "  Downloading nvidia_cuda_runtime_cu12-12.4.127-py3-none-manylinux2014_x86_64.whl.metadata (1.5 kB)\n",
            "Collecting nvidia-cuda-cupti-cu12==12.4.127 (from torch)\n",
            "  Downloading nvidia_cuda_cupti_cu12-12.4.127-py3-none-manylinux2014_x86_64.whl.metadata (1.6 kB)\n",
            "Collecting nvidia-cudnn-cu12==9.1.0.70 (from torch)\n",
            "  Downloading nvidia_cudnn_cu12-9.1.0.70-py3-none-manylinux2014_x86_64.whl.metadata (1.6 kB)\n",
            "Collecting nvidia-cublas-cu12==12.4.5.8 (from torch)\n",
            "  Downloading nvidia_cublas_cu12-12.4.5.8-py3-none-manylinux2014_x86_64.whl.metadata (1.5 kB)\n",
            "Collecting nvidia-cufft-cu12==11.2.1.3 (from torch)\n",
            "  Downloading nvidia_cufft_cu12-11.2.1.3-py3-none-manylinux2014_x86_64.whl.metadata (1.5 kB)\n",
            "Collecting nvidia-curand-cu12==10.3.5.147 (from torch)\n",
            "  Downloading nvidia_curand_cu12-10.3.5.147-py3-none-manylinux2014_x86_64.whl.metadata (1.5 kB)\n",
            "Collecting nvidia-cusolver-cu12==11.6.1.9 (from torch)\n",
            "  Downloading nvidia_cusolver_cu12-11.6.1.9-py3-none-manylinux2014_x86_64.whl.metadata (1.6 kB)\n",
            "Collecting nvidia-cusparse-cu12==12.3.1.170 (from torch)\n",
            "  Downloading nvidia_cusparse_cu12-12.3.1.170-py3-none-manylinux2014_x86_64.whl.metadata (1.6 kB)\n",
            "Requirement already satisfied: nvidia-cusparselt-cu12==0.6.2 in /usr/local/lib/python3.11/dist-packages (from torch) (0.6.2)\n",
            "Requirement already satisfied: nvidia-nccl-cu12==2.21.5 in /usr/local/lib/python3.11/dist-packages (from torch) (2.21.5)\n",
            "Requirement already satisfied: nvidia-nvtx-cu12==12.4.127 in /usr/local/lib/python3.11/dist-packages (from torch) (12.4.127)\n",
            "Collecting nvidia-nvjitlink-cu12==12.4.127 (from torch)\n",
            "  Downloading nvidia_nvjitlink_cu12-12.4.127-py3-none-manylinux2014_x86_64.whl.metadata (1.5 kB)\n",
            "Requirement already satisfied: triton==3.2.0 in /usr/local/lib/python3.11/dist-packages (from torch) (3.2.0)\n",
            "Requirement already satisfied: sympy==1.13.1 in /usr/local/lib/python3.11/dist-packages (from torch) (1.13.1)\n",
            "Requirement already satisfied: mpmath<1.4,>=1.1.0 in /usr/local/lib/python3.11/dist-packages (from sympy==1.13.1->torch) (1.3.0)\n",
            "Requirement already satisfied: numpy in /usr/local/lib/python3.11/dist-packages (from torchvision) (2.0.2)\n",
            "Requirement already satisfied: pillow!=8.3.*,>=5.3.0 in /usr/local/lib/python3.11/dist-packages (from torchvision) (11.2.1)\n",
            "Requirement already satisfied: huggingface-hub<1.0,>=0.30.0 in /usr/local/lib/python3.11/dist-packages (from transformers) (0.33.2)\n",
            "Requirement already satisfied: packaging>=20.0 in /usr/local/lib/python3.11/dist-packages (from transformers) (24.2)\n",
            "Requirement already satisfied: pyyaml>=5.1 in /usr/local/lib/python3.11/dist-packages (from transformers) (6.0.2)\n",
            "Requirement already satisfied: regex!=2019.12.17 in /usr/local/lib/python3.11/dist-packages (from transformers) (2024.11.6)\n",
            "Requirement already satisfied: requests in /usr/local/lib/python3.11/dist-packages (from transformers) (2.32.3)\n",
            "Requirement already satisfied: tokenizers<0.22,>=0.21 in /usr/local/lib/python3.11/dist-packages (from transformers) (0.21.2)\n",
            "Requirement already satisfied: safetensors>=0.4.3 in /usr/local/lib/python3.11/dist-packages (from transformers) (0.5.3)\n",
            "Requirement already satisfied: tqdm>=4.27 in /usr/local/lib/python3.11/dist-packages (from transformers) (4.67.1)\n",
            "Requirement already satisfied: certifi in /usr/local/lib/python3.11/dist-packages (from roboflow) (2025.7.9)\n",
            "Collecting idna==3.7 (from roboflow)\n",
            "  Downloading idna-3.7-py3-none-any.whl.metadata (9.9 kB)\n",
            "Requirement already satisfied: cycler in /usr/local/lib/python3.11/dist-packages (from roboflow) (0.12.1)\n",
            "Requirement already satisfied: kiwisolver>=1.3.1 in /usr/local/lib/python3.11/dist-packages (from roboflow) (1.4.8)\n",
            "Requirement already satisfied: matplotlib in /usr/local/lib/python3.11/dist-packages (from roboflow) (3.10.0)\n",
            "Collecting opencv-python-headless==4.10.0.84 (from roboflow)\n",
            "  Downloading opencv_python_headless-4.10.0.84-cp37-abi3-manylinux_2_17_x86_64.manylinux2014_x86_64.whl.metadata (20 kB)\n",
            "Collecting pillow-heif<2 (from roboflow)\n",
            "  Downloading pillow_heif-1.0.0-cp311-cp311-manylinux_2_17_x86_64.manylinux2014_x86_64.whl.metadata (9.6 kB)\n",
            "Collecting pillow-avif-plugin<2 (from roboflow)\n",
            "  Downloading pillow_avif_plugin-1.5.2-cp311-cp311-manylinux_2_28_x86_64.whl.metadata (2.1 kB)\n",
            "Requirement already satisfied: python-dateutil in /usr/local/lib/python3.11/dist-packages (from roboflow) (2.9.0.post0)\n",
            "Collecting python-dotenv (from roboflow)\n",
            "  Downloading python_dotenv-1.1.1-py3-none-any.whl.metadata (24 kB)\n",
            "Requirement already satisfied: six in /usr/local/lib/python3.11/dist-packages (from roboflow) (1.17.0)\n",
            "Requirement already satisfied: urllib3>=1.26.6 in /usr/local/lib/python3.11/dist-packages (from roboflow) (2.4.0)\n",
            "Requirement already satisfied: requests-toolbelt in /usr/local/lib/python3.11/dist-packages (from roboflow) (1.0.0)\n",
            "Collecting filetype (from roboflow)\n",
            "  Downloading filetype-1.2.0-py2.py3-none-any.whl.metadata (6.5 kB)\n",
            "Requirement already satisfied: hf-xet<2.0.0,>=1.1.2 in /usr/local/lib/python3.11/dist-packages (from huggingface-hub<1.0,>=0.30.0->transformers) (1.1.5)\n",
            "Requirement already satisfied: MarkupSafe>=2.0 in /usr/local/lib/python3.11/dist-packages (from jinja2->torch) (3.0.2)\n",
            "Requirement already satisfied: contourpy>=1.0.1 in /usr/local/lib/python3.11/dist-packages (from matplotlib->roboflow) (1.3.2)\n",
            "Requirement already satisfied: fonttools>=4.22.0 in /usr/local/lib/python3.11/dist-packages (from matplotlib->roboflow) (4.58.5)\n",
            "Requirement already satisfied: pyparsing>=2.3.1 in /usr/local/lib/python3.11/dist-packages (from matplotlib->roboflow) (3.2.3)\n",
            "Requirement already satisfied: charset-normalizer<4,>=2 in /usr/local/lib/python3.11/dist-packages (from requests->transformers) (3.4.2)\n",
            "Downloading nvidia_cublas_cu12-12.4.5.8-py3-none-manylinux2014_x86_64.whl (363.4 MB)\n",
            "\u001b[2K   \u001b[90m━━━━━━━━━━━━━━━━━━━━━━━━━━━━━━━━━━━━━━━━\u001b[0m \u001b[32m363.4/363.4 MB\u001b[0m \u001b[31m3.2 MB/s\u001b[0m eta \u001b[36m0:00:00\u001b[0m\n",
            "\u001b[?25hDownloading nvidia_cuda_cupti_cu12-12.4.127-py3-none-manylinux2014_x86_64.whl (13.8 MB)\n",
            "\u001b[2K   \u001b[90m━━━━━━━━━━━━━━━━━━━━━━━━━━━━━━━━━━━━━━━━\u001b[0m \u001b[32m13.8/13.8 MB\u001b[0m \u001b[31m127.0 MB/s\u001b[0m eta \u001b[36m0:00:00\u001b[0m\n",
            "\u001b[?25hDownloading nvidia_cuda_nvrtc_cu12-12.4.127-py3-none-manylinux2014_x86_64.whl (24.6 MB)\n",
            "\u001b[2K   \u001b[90m━━━━━━━━━━━━━━━━━━━━━━━━━━━━━━━━━━━━━━━━\u001b[0m \u001b[32m24.6/24.6 MB\u001b[0m \u001b[31m92.6 MB/s\u001b[0m eta \u001b[36m0:00:00\u001b[0m\n",
            "\u001b[?25hDownloading nvidia_cuda_runtime_cu12-12.4.127-py3-none-manylinux2014_x86_64.whl (883 kB)\n",
            "\u001b[2K   \u001b[90m━━━━━━━━━━━━━━━━━━━━━━━━━━━━━━━━━━━━━━━━\u001b[0m \u001b[32m883.7/883.7 kB\u001b[0m \u001b[31m65.5 MB/s\u001b[0m eta \u001b[36m0:00:00\u001b[0m\n",
            "\u001b[?25hDownloading nvidia_cudnn_cu12-9.1.0.70-py3-none-manylinux2014_x86_64.whl (664.8 MB)\n",
            "\u001b[2K   \u001b[90m━━━━━━━━━━━━━━━━━━━━━━━━━━━━━━━━━━━━━━━━\u001b[0m \u001b[32m664.8/664.8 MB\u001b[0m \u001b[31m2.2 MB/s\u001b[0m eta \u001b[36m0:00:00\u001b[0m\n",
            "\u001b[?25hDownloading nvidia_cufft_cu12-11.2.1.3-py3-none-manylinux2014_x86_64.whl (211.5 MB)\n",
            "\u001b[2K   \u001b[90m━━━━━━━━━━━━━━━━━━━━━━━━━━━━━━━━━━━━━━━━\u001b[0m \u001b[32m211.5/211.5 MB\u001b[0m \u001b[31m4.8 MB/s\u001b[0m eta \u001b[36m0:00:00\u001b[0m\n",
            "\u001b[?25hDownloading nvidia_curand_cu12-10.3.5.147-py3-none-manylinux2014_x86_64.whl (56.3 MB)\n",
            "\u001b[2K   \u001b[90m━━━━━━━━━━━━━━━━━━━━━━━━━━━━━━━━━━━━━━━━\u001b[0m \u001b[32m56.3/56.3 MB\u001b[0m \u001b[31m36.3 MB/s\u001b[0m eta \u001b[36m0:00:00\u001b[0m\n",
            "\u001b[?25hDownloading nvidia_cusolver_cu12-11.6.1.9-py3-none-manylinux2014_x86_64.whl (127.9 MB)\n",
            "\u001b[2K   \u001b[90m━━━━━━━━━━━━━━━━━━━━━━━━━━━━━━━━━━━━━━━━\u001b[0m \u001b[32m127.9/127.9 MB\u001b[0m \u001b[31m19.3 MB/s\u001b[0m eta \u001b[36m0:00:00\u001b[0m\n",
            "\u001b[?25hDownloading nvidia_cusparse_cu12-12.3.1.170-py3-none-manylinux2014_x86_64.whl (207.5 MB)\n",
            "\u001b[2K   \u001b[90m━━━━━━━━━━━━━━━━━━━━━━━━━━━━━━━━━━━━━━━━\u001b[0m \u001b[32m207.5/207.5 MB\u001b[0m \u001b[31m4.2 MB/s\u001b[0m eta \u001b[36m0:00:00\u001b[0m\n",
            "\u001b[?25hDownloading nvidia_nvjitlink_cu12-12.4.127-py3-none-manylinux2014_x86_64.whl (21.1 MB)\n",
            "\u001b[2K   \u001b[90m━━━━━━━━━━━━━━━━━━━━━━━━━━━━━━━━━━━━━━━━\u001b[0m \u001b[32m21.1/21.1 MB\u001b[0m \u001b[31m77.1 MB/s\u001b[0m eta \u001b[36m0:00:00\u001b[0m\n",
            "\u001b[?25hDownloading roboflow-1.2.1-py3-none-any.whl (86 kB)\n",
            "\u001b[2K   \u001b[90m━━━━━━━━━━━━━━━━━━━━━━━━━━━━━━━━━━━━━━━━\u001b[0m \u001b[32m86.9/86.9 kB\u001b[0m \u001b[31m10.0 MB/s\u001b[0m eta \u001b[36m0:00:00\u001b[0m\n",
            "\u001b[?25hDownloading idna-3.7-py3-none-any.whl (66 kB)\n",
            "\u001b[2K   \u001b[90m━━━━━━━━━━━━━━━━━━━━━━━━━━━━━━━━━━━━━━━━\u001b[0m \u001b[32m66.8/66.8 kB\u001b[0m \u001b[31m7.8 MB/s\u001b[0m eta \u001b[36m0:00:00\u001b[0m\n",
            "\u001b[?25hDownloading opencv_python_headless-4.10.0.84-cp37-abi3-manylinux_2_17_x86_64.manylinux2014_x86_64.whl (49.9 MB)\n",
            "\u001b[2K   \u001b[90m━━━━━━━━━━━━━━━━━━━━━━━━━━━━━━━━━━━━━━━━\u001b[0m \u001b[32m49.9/49.9 MB\u001b[0m \u001b[31m40.2 MB/s\u001b[0m eta \u001b[36m0:00:00\u001b[0m\n",
            "\u001b[?25hDownloading pillow_avif_plugin-1.5.2-cp311-cp311-manylinux_2_28_x86_64.whl (4.2 MB)\n",
            "\u001b[2K   \u001b[90m━━━━━━━━━━━━━━━━━━━━━━━━━━━━━━━━━━━━━━━━\u001b[0m \u001b[32m4.2/4.2 MB\u001b[0m \u001b[31m82.3 MB/s\u001b[0m eta \u001b[36m0:00:00\u001b[0m\n",
            "\u001b[?25hDownloading pillow_heif-1.0.0-cp311-cp311-manylinux_2_17_x86_64.manylinux2014_x86_64.whl (4.9 MB)\n",
            "\u001b[2K   \u001b[90m━━━━━━━━━━━━━━━━━━━━━━━━━━━━━━━━━━━━━━━━\u001b[0m \u001b[32m4.9/4.9 MB\u001b[0m \u001b[31m86.6 MB/s\u001b[0m eta \u001b[36m0:00:00\u001b[0m\n",
            "\u001b[?25hDownloading filetype-1.2.0-py2.py3-none-any.whl (19 kB)\n",
            "Downloading python_dotenv-1.1.1-py3-none-any.whl (20 kB)\n",
            "Installing collected packages: pillow-avif-plugin, filetype, python-dotenv, pillow-heif, opencv-python-headless, nvidia-nvjitlink-cu12, nvidia-curand-cu12, nvidia-cufft-cu12, nvidia-cuda-runtime-cu12, nvidia-cuda-nvrtc-cu12, nvidia-cuda-cupti-cu12, nvidia-cublas-cu12, idna, nvidia-cusparse-cu12, nvidia-cudnn-cu12, nvidia-cusolver-cu12, roboflow\n",
            "  Attempting uninstall: opencv-python-headless\n",
            "    Found existing installation: opencv-python-headless 4.12.0.88\n",
            "    Uninstalling opencv-python-headless-4.12.0.88:\n",
            "      Successfully uninstalled opencv-python-headless-4.12.0.88\n",
            "  Attempting uninstall: nvidia-nvjitlink-cu12\n",
            "    Found existing installation: nvidia-nvjitlink-cu12 12.5.82\n",
            "    Uninstalling nvidia-nvjitlink-cu12-12.5.82:\n",
            "      Successfully uninstalled nvidia-nvjitlink-cu12-12.5.82\n",
            "  Attempting uninstall: nvidia-curand-cu12\n",
            "    Found existing installation: nvidia-curand-cu12 10.3.6.82\n",
            "    Uninstalling nvidia-curand-cu12-10.3.6.82:\n",
            "      Successfully uninstalled nvidia-curand-cu12-10.3.6.82\n",
            "  Attempting uninstall: nvidia-cufft-cu12\n",
            "    Found existing installation: nvidia-cufft-cu12 11.2.3.61\n",
            "    Uninstalling nvidia-cufft-cu12-11.2.3.61:\n",
            "      Successfully uninstalled nvidia-cufft-cu12-11.2.3.61\n",
            "  Attempting uninstall: nvidia-cuda-runtime-cu12\n",
            "    Found existing installation: nvidia-cuda-runtime-cu12 12.5.82\n",
            "    Uninstalling nvidia-cuda-runtime-cu12-12.5.82:\n",
            "      Successfully uninstalled nvidia-cuda-runtime-cu12-12.5.82\n",
            "  Attempting uninstall: nvidia-cuda-nvrtc-cu12\n",
            "    Found existing installation: nvidia-cuda-nvrtc-cu12 12.5.82\n",
            "    Uninstalling nvidia-cuda-nvrtc-cu12-12.5.82:\n",
            "      Successfully uninstalled nvidia-cuda-nvrtc-cu12-12.5.82\n",
            "  Attempting uninstall: nvidia-cuda-cupti-cu12\n",
            "    Found existing installation: nvidia-cuda-cupti-cu12 12.5.82\n",
            "    Uninstalling nvidia-cuda-cupti-cu12-12.5.82:\n",
            "      Successfully uninstalled nvidia-cuda-cupti-cu12-12.5.82\n",
            "  Attempting uninstall: nvidia-cublas-cu12\n",
            "    Found existing installation: nvidia-cublas-cu12 12.5.3.2\n",
            "    Uninstalling nvidia-cublas-cu12-12.5.3.2:\n",
            "      Successfully uninstalled nvidia-cublas-cu12-12.5.3.2\n",
            "  Attempting uninstall: idna\n",
            "    Found existing installation: idna 3.10\n",
            "    Uninstalling idna-3.10:\n",
            "      Successfully uninstalled idna-3.10\n",
            "  Attempting uninstall: nvidia-cusparse-cu12\n",
            "    Found existing installation: nvidia-cusparse-cu12 12.5.1.3\n",
            "    Uninstalling nvidia-cusparse-cu12-12.5.1.3:\n",
            "      Successfully uninstalled nvidia-cusparse-cu12-12.5.1.3\n",
            "  Attempting uninstall: nvidia-cudnn-cu12\n",
            "    Found existing installation: nvidia-cudnn-cu12 9.3.0.75\n",
            "    Uninstalling nvidia-cudnn-cu12-9.3.0.75:\n",
            "      Successfully uninstalled nvidia-cudnn-cu12-9.3.0.75\n",
            "  Attempting uninstall: nvidia-cusolver-cu12\n",
            "    Found existing installation: nvidia-cusolver-cu12 11.6.3.83\n",
            "    Uninstalling nvidia-cusolver-cu12-11.6.3.83:\n",
            "      Successfully uninstalled nvidia-cusolver-cu12-11.6.3.83\n",
            "Successfully installed filetype-1.2.0 idna-3.7 nvidia-cublas-cu12-12.4.5.8 nvidia-cuda-cupti-cu12-12.4.127 nvidia-cuda-nvrtc-cu12-12.4.127 nvidia-cuda-runtime-cu12-12.4.127 nvidia-cudnn-cu12-9.1.0.70 nvidia-cufft-cu12-11.2.1.3 nvidia-curand-cu12-10.3.5.147 nvidia-cusolver-cu12-11.6.1.9 nvidia-cusparse-cu12-12.3.1.170 nvidia-nvjitlink-cu12-12.4.127 opencv-python-headless-4.10.0.84 pillow-avif-plugin-1.5.2 pillow-heif-1.0.0 python-dotenv-1.1.1 roboflow-1.2.1\n",
            "Requirement already satisfied: torch in /usr/local/lib/python3.11/dist-packages (2.6.0+cu124)\n",
            "Requirement already satisfied: torchvision in /usr/local/lib/python3.11/dist-packages (0.21.0+cu124)\n",
            "Requirement already satisfied: transformers in /usr/local/lib/python3.11/dist-packages (4.53.1)\n",
            "Requirement already satisfied: roboflow in /usr/local/lib/python3.11/dist-packages (1.2.1)\n",
            "Requirement already satisfied: tqdm in /usr/local/lib/python3.11/dist-packages (4.67.1)\n",
            "Requirement already satisfied: scikit-learn in /usr/local/lib/python3.11/dist-packages (1.6.1)\n",
            "Requirement already satisfied: filelock in /usr/local/lib/python3.11/dist-packages (from torch) (3.18.0)\n",
            "Requirement already satisfied: typing-extensions>=4.10.0 in /usr/local/lib/python3.11/dist-packages (from torch) (4.14.1)\n",
            "Requirement already satisfied: networkx in /usr/local/lib/python3.11/dist-packages (from torch) (3.5)\n",
            "Requirement already satisfied: jinja2 in /usr/local/lib/python3.11/dist-packages (from torch) (3.1.6)\n",
            "Requirement already satisfied: fsspec in /usr/local/lib/python3.11/dist-packages (from torch) (2025.3.2)\n",
            "Requirement already satisfied: nvidia-cuda-nvrtc-cu12==12.4.127 in /usr/local/lib/python3.11/dist-packages (from torch) (12.4.127)\n",
            "Requirement already satisfied: nvidia-cuda-runtime-cu12==12.4.127 in /usr/local/lib/python3.11/dist-packages (from torch) (12.4.127)\n",
            "Requirement already satisfied: nvidia-cuda-cupti-cu12==12.4.127 in /usr/local/lib/python3.11/dist-packages (from torch) (12.4.127)\n",
            "Requirement already satisfied: nvidia-cudnn-cu12==9.1.0.70 in /usr/local/lib/python3.11/dist-packages (from torch) (9.1.0.70)\n",
            "Requirement already satisfied: nvidia-cublas-cu12==12.4.5.8 in /usr/local/lib/python3.11/dist-packages (from torch) (12.4.5.8)\n",
            "Requirement already satisfied: nvidia-cufft-cu12==11.2.1.3 in /usr/local/lib/python3.11/dist-packages (from torch) (11.2.1.3)\n",
            "Requirement already satisfied: nvidia-curand-cu12==10.3.5.147 in /usr/local/lib/python3.11/dist-packages (from torch) (10.3.5.147)\n",
            "Requirement already satisfied: nvidia-cusolver-cu12==11.6.1.9 in /usr/local/lib/python3.11/dist-packages (from torch) (11.6.1.9)\n",
            "Requirement already satisfied: nvidia-cusparse-cu12==12.3.1.170 in /usr/local/lib/python3.11/dist-packages (from torch) (12.3.1.170)\n",
            "Requirement already satisfied: nvidia-cusparselt-cu12==0.6.2 in /usr/local/lib/python3.11/dist-packages (from torch) (0.6.2)\n",
            "Requirement already satisfied: nvidia-nccl-cu12==2.21.5 in /usr/local/lib/python3.11/dist-packages (from torch) (2.21.5)\n",
            "Requirement already satisfied: nvidia-nvtx-cu12==12.4.127 in /usr/local/lib/python3.11/dist-packages (from torch) (12.4.127)\n",
            "Requirement already satisfied: nvidia-nvjitlink-cu12==12.4.127 in /usr/local/lib/python3.11/dist-packages (from torch) (12.4.127)\n",
            "Requirement already satisfied: triton==3.2.0 in /usr/local/lib/python3.11/dist-packages (from torch) (3.2.0)\n",
            "Requirement already satisfied: sympy==1.13.1 in /usr/local/lib/python3.11/dist-packages (from torch) (1.13.1)\n",
            "Requirement already satisfied: mpmath<1.4,>=1.1.0 in /usr/local/lib/python3.11/dist-packages (from sympy==1.13.1->torch) (1.3.0)\n",
            "Requirement already satisfied: numpy in /usr/local/lib/python3.11/dist-packages (from torchvision) (2.0.2)\n",
            "Requirement already satisfied: pillow!=8.3.*,>=5.3.0 in /usr/local/lib/python3.11/dist-packages (from torchvision) (11.2.1)\n",
            "Requirement already satisfied: huggingface-hub<1.0,>=0.30.0 in /usr/local/lib/python3.11/dist-packages (from transformers) (0.33.2)\n",
            "Requirement already satisfied: packaging>=20.0 in /usr/local/lib/python3.11/dist-packages (from transformers) (24.2)\n",
            "Requirement already satisfied: pyyaml>=5.1 in /usr/local/lib/python3.11/dist-packages (from transformers) (6.0.2)\n",
            "Requirement already satisfied: regex!=2019.12.17 in /usr/local/lib/python3.11/dist-packages (from transformers) (2024.11.6)\n",
            "Requirement already satisfied: requests in /usr/local/lib/python3.11/dist-packages (from transformers) (2.32.3)\n",
            "Requirement already satisfied: tokenizers<0.22,>=0.21 in /usr/local/lib/python3.11/dist-packages (from transformers) (0.21.2)\n",
            "Requirement already satisfied: safetensors>=0.4.3 in /usr/local/lib/python3.11/dist-packages (from transformers) (0.5.3)\n",
            "Requirement already satisfied: certifi in /usr/local/lib/python3.11/dist-packages (from roboflow) (2025.7.9)\n",
            "Requirement already satisfied: idna==3.7 in /usr/local/lib/python3.11/dist-packages (from roboflow) (3.7)\n",
            "Requirement already satisfied: cycler in /usr/local/lib/python3.11/dist-packages (from roboflow) (0.12.1)\n",
            "Requirement already satisfied: kiwisolver>=1.3.1 in /usr/local/lib/python3.11/dist-packages (from roboflow) (1.4.8)\n",
            "Requirement already satisfied: matplotlib in /usr/local/lib/python3.11/dist-packages (from roboflow) (3.10.0)\n",
            "Requirement already satisfied: opencv-python-headless==4.10.0.84 in /usr/local/lib/python3.11/dist-packages (from roboflow) (4.10.0.84)\n",
            "Requirement already satisfied: pillow-heif<2 in /usr/local/lib/python3.11/dist-packages (from roboflow) (1.0.0)\n",
            "Requirement already satisfied: pillow-avif-plugin<2 in /usr/local/lib/python3.11/dist-packages (from roboflow) (1.5.2)\n",
            "Requirement already satisfied: python-dateutil in /usr/local/lib/python3.11/dist-packages (from roboflow) (2.9.0.post0)\n",
            "Requirement already satisfied: python-dotenv in /usr/local/lib/python3.11/dist-packages (from roboflow) (1.1.1)\n",
            "Requirement already satisfied: six in /usr/local/lib/python3.11/dist-packages (from roboflow) (1.17.0)\n",
            "Requirement already satisfied: urllib3>=1.26.6 in /usr/local/lib/python3.11/dist-packages (from roboflow) (2.4.0)\n",
            "Requirement already satisfied: requests-toolbelt in /usr/local/lib/python3.11/dist-packages (from roboflow) (1.0.0)\n",
            "Requirement already satisfied: filetype in /usr/local/lib/python3.11/dist-packages (from roboflow) (1.2.0)\n",
            "Requirement already satisfied: scipy>=1.6.0 in /usr/local/lib/python3.11/dist-packages (from scikit-learn) (1.15.3)\n",
            "Requirement already satisfied: joblib>=1.2.0 in /usr/local/lib/python3.11/dist-packages (from scikit-learn) (1.5.1)\n",
            "Requirement already satisfied: threadpoolctl>=3.1.0 in /usr/local/lib/python3.11/dist-packages (from scikit-learn) (3.6.0)\n",
            "Requirement already satisfied: hf-xet<2.0.0,>=1.1.2 in /usr/local/lib/python3.11/dist-packages (from huggingface-hub<1.0,>=0.30.0->transformers) (1.1.5)\n",
            "Requirement already satisfied: MarkupSafe>=2.0 in /usr/local/lib/python3.11/dist-packages (from jinja2->torch) (3.0.2)\n",
            "Requirement already satisfied: contourpy>=1.0.1 in /usr/local/lib/python3.11/dist-packages (from matplotlib->roboflow) (1.3.2)\n",
            "Requirement already satisfied: fonttools>=4.22.0 in /usr/local/lib/python3.11/dist-packages (from matplotlib->roboflow) (4.58.5)\n",
            "Requirement already satisfied: pyparsing>=2.3.1 in /usr/local/lib/python3.11/dist-packages (from matplotlib->roboflow) (3.2.3)\n",
            "Requirement already satisfied: charset-normalizer<4,>=2 in /usr/local/lib/python3.11/dist-packages (from requests->transformers) (3.4.2)\n"
          ]
        }
      ]
    },
    {
      "cell_type": "code",
      "source": [
        "from roboflow import Roboflow\n",
        "\n",
        "rf = Roboflow(api_key=\"Md29cWfzX6FKw6DNPDgf\")\n",
        "project = rf.workspace(\"rebar-exposure-and-spalling\").project(\"aperi\")\n",
        "version = project.version(1)\n",
        "dataset = version.download(\"coco-segmentation\")\n",
        "\n"
      ],
      "metadata": {
        "colab": {
          "base_uri": "https://localhost:8080/"
        },
        "id": "WEfnzjQ_AuSc",
        "outputId": "ac8a8609-96f7-492f-b4cd-c2774251deea"
      },
      "execution_count": null,
      "outputs": [
        {
          "output_type": "stream",
          "name": "stdout",
          "text": [
            "loading Roboflow workspace...\n",
            "loading Roboflow project...\n"
          ]
        },
        {
          "output_type": "stream",
          "name": "stderr",
          "text": [
            "Downloading Dataset Version Zip in aperi-1 to coco-segmentation:: 100%|██████████| 89830/89830 [00:01<00:00, 51424.00it/s]"
          ]
        },
        {
          "output_type": "stream",
          "name": "stdout",
          "text": [
            "\n"
          ]
        },
        {
          "output_type": "stream",
          "name": "stderr",
          "text": [
            "\n",
            "Extracting Dataset Version Zip to aperi-1 in coco-segmentation:: 100%|██████████| 2073/2073 [00:00<00:00, 5121.59it/s]\n"
          ]
        }
      ]
    },
    {
      "cell_type": "markdown",
      "source": [
        "**Check the labels/ folder contentst**"
      ],
      "metadata": {
        "id": "uFzlDtcc4knP"
      }
    },
    {
      "cell_type": "code",
      "source": [
        "# folders where the data\n",
        "import os\n",
        "\n",
        "base_dir = \"/content/aperi-1\"\n",
        "print(\"Train folder:\", os.listdir(os.path.join(base_dir, \"train\")))\n",
        "print(\"Valid folder:\", os.listdir(os.path.join(base_dir, \"valid\")))\n"
      ],
      "metadata": {
        "colab": {
          "base_uri": "https://localhost:8080/"
        },
        "id": "uU7JwFz05jGr",
        "outputId": "0d805fb9-ffd4-4c6e-9985-b1e6fc996450"
      },
      "execution_count": null,
      "outputs": [
        {
          "output_type": "stream",
          "name": "stdout",
          "text": [
            "Train folder: ['32439032_jpg.rf.ce62781bbd3826f6eb58db87183a63bf.jpg', '9583566_jpg.rf.429a21afe2355834e118677f1b588355.jpg', '124_jpg.rf.1fef00035c686fb1757c30b0e23886a5.jpg', '32439297_jpg.rf.db24a2ba9da52d4bd42a4afb63211b31.jpg', '9584021_jpg.rf.8bcc05fd9990ef1576bfb026ae395d4a.jpg', '533_jpg.rf.869f8fd7c38c054545b8b805c7f730bb.jpg', '447_jpg.rf.20828e709c41c968804b8b5391824870.jpg', '9583712_jpg.rf.94fd064ed7ecf80ac892330d8e8e4bcb.jpg', '32439282_jpg.rf.b9d04099dd69aa4510317eace9ca8ee1.jpg', '9583933_jpg.rf.385028ecce35f9f2ac05add3c377c0c9.jpg', '9583890_jpg.rf.e94ef574caf27d4fc04b5f360f0e8d10.jpg', '9583922_jpg.rf.3f7fa831c12d960001fa6ad3c4bf0eb6.jpg', '56_jpg.rf.864f4f2f9c50e721e2f9fb6658fb49a0.jpg', '9583723_jpg.rf.598dad0fb68730a58945445616be4d96.jpg', '32439171_jpg.rf.5b199a9e0dd890978521f8c65b08bb73.jpg', '32439137_jpg.rf.d44012d49046fd08b2d7a2d971ea308c.jpg', '497_jpg.rf.7dfd8db29feea809994be121edfae4de.jpg', '9584029_jpg.rf.347fa3d093806d65e5ab1478d939eeb4.jpg', '302_jpg.rf.60300d3bbfe4f099a94094e0939598d7.jpg', '436_jpg.rf.155b218d3c71ff6545233c834a16f78d.jpg', '428_jpg.rf.8c5f2e690b535f85d7e45613b8eb76e8.jpg', '70_jpg.rf.5487dc90cc1a5b1dc5ba1fad686c9fc4.jpg', '32439017_jpg.rf.3eef4c29a0229b7dcd688b2faccec619.jpg', '463_jpg.rf.e87a34f6412f166bf9e3256036aedf70.jpg', '9583996_jpg.rf.02e8539f36b2d30f2eadbc7caad8a028.jpg', '9583912_jpg.rf.dd3a0dba56747ae56fa6060f368314ee.jpg', '2_jpg.rf.3f685bd9db02ec24d6aa0d71f29087d1.jpg', '80_jpg.rf.d640f0259a6e8bbfb41c221c3a226b7e.jpg', '349_jpg.rf.1992853feda0b00374faa2c35fac6c3a.jpg', '9583649_jpg.rf.ee0b9bf81ecabac2b467c513acc46d9b.jpg', '247_jpg.rf.94f636d62009cca42ca45a63da0ff608.jpg', '461_jpg.rf.47a88cfdffd02c31b50d05d807a4f925.jpg', '9583597_jpg.rf.3b97a6bebb3e0b5cbfd17a359cb09468.jpg', '585_jpg.rf.d99e6fe2e95e2f7e476a9040844fbacd.jpg', '439_jpg.rf.95ae48ad6367b263558f3d1076a4fc18.jpg', '153_jpg.rf.7e00416af1c9d948cb6dbdc89e8470cf.jpg', '32439289_jpg.rf.3d6e9412ee9777398c73c1005d97a3af.jpg', '32439254_jpg.rf.cc10a63966674ed53e7dd984afa0d970.jpg', '4_jpg.rf.64555e2c1adbe2d0e02ed71f954b8187.jpg', '9583923_jpg.rf.e977c63dc91e2b42cd91409ce270b95b.jpg', '504_jpg.rf.48f844d646bbb5dfc975a35f8ffaebf0.jpg', '9583830_jpg.rf.9c48d04211ce64429a53fe63fb5dae05.jpg', '569_jpg.rf.3196e8fac7f900d91700f80f408583cf.jpg', '32439291_jpg.rf.544bdb56353b89aa93fbdbdf0f5723b2.jpg', '41_jpg.rf.40df4229e5eff49d4b45632be35dcfb4.jpg', '32439233_jpg.rf.19b4b8e89651c4376e67fd605dd530f7.jpg', '314_jpg.rf.965838c8586e5be43dc2ea2be1641749.jpg', '9583798_jpg.rf.1e7f3d90a19dfe9a9a3b326b9292fe77.jpg', '9583927_jpg.rf.3fc1abf8f149b5690a800eb1954c3f04.jpg', '544_jpg.rf.8cf86fce47f63e517ea022bbde574a4c.jpg', '9583966_jpg.rf.f41e558b6af7bb79f69b8a83982afd9a.jpg', '9584068_jpg.rf.8d8a5ca59a8ebe7ea3151b79f3a7da9e.jpg', '32439209_jpg.rf.6cf08614bc8f9f164a1baae586afd4c2.jpg', '32439064_jpg.rf.3f667625458696d309ae6143ec09cb44.jpg', '9583738_jpg.rf.c743b58b62687989eebfcf96006f92e0.jpg', '9583748_jpg.rf.2cb391950f5bdd8a6a6668649da8ae55.jpg', '562_jpg.rf.0a7f07f40bc7492ef48e3b82fcec7cb8.jpg', '39_jpg.rf.a3cec1f73405a087ca9217081bf65c58.jpg', '9584046_jpg.rf.e66150078b2a85ff439947f357e797f7.jpg', '225_jpg.rf.7423baca41e708f4da49f427fa7cd156.jpg', '585_jpg.rf.0165cb5ebbc4573c154a154fc58f372a.jpg', '385_jpg.rf.3f9a8c6064ad11d73b4f186493fd6c54.jpg', '32438996_jpg.rf.bf3826635e494dc02e14d66db50369fe.jpg', '9583731_jpg.rf.11cc6488912f51750dea6c36ff3d7983.jpg', '299_jpg.rf.0759f3e77d99526035dbce8e1de12f2f.jpg', '32439074_jpg.rf.8c2be842db5c0a6bf1449256332c940a.jpg', '540_jpg.rf.e574892a52592a112de057b41cd04e0d.jpg', '9583651_jpg.rf.f38c34388140ef9935a2a71d5667a300.jpg', '9583905_jpg.rf.726df9fed4314e88d1b502c90541ce72.jpg', '218_jpg.rf.22a5c316cfb54d92661af4a6a58b8cab.jpg', '546_jpg.rf.b601b03ab5d8c99dc62f8415fc3cb0dd.jpg', '9583829_jpg.rf.974b3891a9128e7cfe670910aaf9920e.jpg', '9583703_jpg.rf.86b1d4373f305b75b84f414d8d4fa9c3.jpg', '9583698_jpg.rf.557b5d4a2d4a3a9bc4274428a5cb3e17.jpg', '9583608_jpg.rf.d40b033420dc89a7a4b9dda76bfad2b8.jpg', '9583812_jpg.rf.129dac3dae3bae81d15ce02d38417c29.jpg', '219_jpg.rf.098c1bcac9c5ddb46a2787c2fa24ebe6.jpg', '522_jpg.rf.fa43e87373335872213c81a165753394.jpg', '575_jpg.rf.cca7060bf82cbe028d86ccb2330c472c.jpg', '185_jpg.rf.5cb83d8cf2c3d785ef7c4ff6401e36e1.jpg', '9583769_jpg.rf.a296a3731921170ddddf58b32058ff8e.jpg', '419_jpg.rf.ba1139cd590b418b0bf4ab8538fe747a.jpg', '9583656_jpg.rf.48b92b0a01d1ec305afc27ce3fdd9a77.jpg', '467_jpg.rf.e4aa9197b9b4d882cd7e25c43a4b43fd.jpg', '32439243_jpg.rf.360993c6422274f4ce7bc9bccafb61a7.jpg', '32439155_jpg.rf.36422043099ccd9d24cd1c2864b91fae.jpg', '268_jpg.rf.5c178485cf1b37e9e3788d5e2e35e6cc.jpg', '199_jpg.rf.951535e8f6528cc99c7771b89c9b45b0.jpg', '494_jpg.rf.1adc3ae7e2f1e8190ff68f840f2645b0.jpg', '153_jpg.rf.46bfd4e8e8f0c32deb6ac8ae48cc4ef6.jpg', '9583606_jpg.rf.2fc44c14ba9f9b54511a6a59dda84972.jpg', '561_jpg.rf.ec2f8d3658c1119e8fb1531349860478.jpg', '298_jpg.rf.ea93242773698c40a1e056b01eeee84e.jpg', '184_jpg.rf.c74ddaa90224cc1f4c44b0304473a291.jpg', '9583816_jpg.rf.23f2f518bf89c4c75aa343a7e6de05b6.jpg', '166_jpg.rf.7dc06281b32f68d7a25bf4748b2b94c6.jpg', '9583822_jpg.rf.d42acacbd983dcc8c9a289803080d992.jpg', '570_jpg.rf.c73f51ea657217fd26dce2cdfd5f1157.jpg', '593_jpg.rf.db3760e645522099faf22360c87477df.jpg', '9583585_jpg.rf.cb13b0f2698976f5480b40e354046339.jpg', '9583665_jpg.rf.9d5127e2ab99f267d846929137275b13.jpg', '32439251_jpg.rf.d638d1844e4db2cf955836a0744dc691.jpg', '32438979_jpg.rf.2b941c537c2a22b7390cecd3e62f81ff.jpg', '9583761_jpg.rf.f38b2fb03627dfd8bd9470907e1008aa.jpg', '470_jpg.rf.a77e34764a35339025810e02e246640a.jpg', '32439170_jpg.rf.e4f3e8f6dc8ad29423e6f6f52328ccab.jpg', '486_jpg.rf.2ec762166d3812a6cdaf6ea09f4cd3a5.jpg', '9583833_jpg.rf.81a11104ecba44ffd4f24e275a75af16.jpg', '49_jpg.rf.85f987b4ca0a2f6ae26646b1fd243a8f.jpg', '32439288_jpg.rf.4f5acf76bb0d2134122b96de74d50516.jpg', '84_jpg.rf.688b8203bab87f161aad84ee4ed05388.jpg', '390_jpg.rf.8906bc141faf037d486bbb600b894a19.jpg', '9583943_jpg.rf.c44838a5afa35c29984a521cc77d4e91.jpg', '42_jpg.rf.8ad58c3f64feda43601d2a9b53f0a823.jpg', '9583793_jpg.rf.d3ceacd2e8aa7f21a8d1e14c56325c9e.jpg', '32439194_jpg.rf.ae0d3f9cd3ab6bd15bc5c604621c3a4a.jpg', '320_jpg.rf.19fba69645bf3e53417114e9289856a9.jpg', '545_jpg.rf.c17477f5ea1b2f2ea90840205344830d.jpg', '32439277_jpg.rf.c4aaa675cf58fbc90dc9e3cee754deed.jpg', '9583768_jpg.rf.5b5de8116eadc2499246e6564f474925.jpg', '535_jpg.rf.5cfe802fae29188b9d6dc4b1d26dc861.jpg', '9583788_jpg.rf.aa1d2ff926f89cea2d4ae5f15370fd80.jpg', '32439013_jpg.rf.cf5049e2d102fced1a594fd1dd91219a.jpg', '32439191_jpg.rf.442703af2190ba3a238c9513fab82e72.jpg', '519_jpg.rf.9eac6cbb0f18cb9631922e1e33b3b478.jpg', '464_jpg.rf.6051a72c177ac21ab626c0602bf12f10.jpg', '145_jpg.rf.51dd54f82da3eeec0f4d6ad03ed17a92.jpg', '393_jpg.rf.0294d4ee79ff25a67fe3c5060f15cce6.jpg', '215_jpg.rf.8a0b0deefcccaf259712aafddaced60a.jpg', '133_jpg.rf.27ce0a9a23cc60fabb7a7b7edeef3e18.jpg', '240_jpg.rf.97bd1c27438ea1b061ec2f025f8fa34e.jpg', '9583740_jpg.rf.a986f473036cf554fa11d6de3bcc4bc1.jpg', '45_jpg.rf.3d92efd18bba544738daf2dcc4c3ba0d.jpg', '9583917_jpg.rf.7201ddb8fb681e57a88fb2dd7d9cf763.jpg', '57_jpg.rf.11bdfdc94993d79b77379288b26380f5.jpg', '32438991_jpg.rf.39f205022c9ebe3473e5640616ce281e.jpg', '9584065_jpg.rf.fddb1903df3af2039523265a8af5a341.jpg', '146_jpg.rf.4e11d16dfaace13c1bee7244c1fcb4ab.jpg', '32438995_jpg.rf.b7e84c2a8048b5e968ab942f7a06b5be.jpg', '478_jpg.rf.3668528b28fabcc7d8e8f1271d9b2f4a.jpg', '475_jpg.rf.304ba336280f635daf6790dfb3328597.jpg', '32439269_jpg.rf.9b12f95d089cddb0f2810d4dd84aa3c5.jpg', '329_jpg.rf.9770995c60b7427e0fdf5261db22e708.jpg', '32439173_jpg.rf.485b78fb61a9057032773b55a46736f9.jpg', '59_jpg.rf.7b5ffa8a77fb14e3f905f759edcd4663.jpg', '32439046_jpg.rf.4da0c8a711e56e83181a3f32917abb9a.jpg', '6_jpg.rf.c9b53972ab99027842566d90947d0ab2.jpg', '32439102_jpg.rf.dc60c6aa3cb26690939bf625f63d3745.jpg', '18_jpg.rf.0a75979bad1e72b8708640b464c0774a.jpg', '235_jpg.rf.ae3a3f65b9b69baea494c2ea533aa8a1.jpg', '9583626_jpg.rf.f5d7228cbc695503650828ae3cbf5967.jpg', '9583661_jpg.rf.2ef03fb005c4077f5c81c4118d9b50ef.jpg', '99_jpg.rf.21a21358cd231803b4f315b43c1cff46.jpg', '537_jpg.rf.689dd0071d3f9ef808bf48e389de1e0a.jpg', '9583999_jpg.rf.ae98097e4db67e7c0a228bed9647d58e.jpg', '168_jpg.rf.03308792b7b9cee5aa639d3ba2c10445.jpg', '110_jpg.rf.1dbea879292c07759156574707ffb689.jpg', '28_jpg.rf.883cd2971dcd8015c690750ff73d5b13.jpg', '82_jpg.rf.1e50a909ceb1b3d82e03f520368bf563.jpg', '285_jpg.rf.c3bcb4db8987bef1cf86d4a57821710b.jpg', '32439182_jpg.rf.a9f6560a8b20f724c24cc37be01179ce.jpg', '32439207_jpg.rf.27095fe41290a085276c23a50449fa44.jpg', '374_jpg.rf.54a33d2b3fba20202ef48479b19a1717.jpg', '517_jpg.rf.4b91396468be1024c4014f9faa21c605.jpg', '9583880_jpg.rf.8424f33e79fa9dbabd7010b65be8ad3f.jpg', '363_jpg.rf.28288495c9accf0e5a441d443269ff33.jpg', '9583944_jpg.rf.5819a21dfa53e074b9a09aba448f7787.jpg', '32439154_jpg.rf.00cc5f6a7acdb6813524e031f58f1e9b.jpg', '383_jpg.rf.3f7ca55b800ccc23b73ba070ebcf271c.jpg', '345_jpg.rf.c3673a2e649f63cb3ba090ad47def9b0.jpg', '32439206_jpg.rf.855f2e02343e646f9e6e064eccb02fbc.jpg', '238_jpg.rf.e8b1556d0b8d00e0dc975be955e2ccfd.jpg', '32439198_jpg.rf.cf515bc6eae7fd9694c10f6bc3af9b3b.jpg', '484_jpg.rf.13051c3ce0e5a592e112737758585a8a.jpg', '554_jpg.rf.1aa18802f95b996df646407e84ba5649.jpg', '32439126_jpg.rf.23ad42f8d8d73b2796af0154cb1eaa4d.jpg', '32439144_jpg.rf.753296cb6a9e2600ae99384ffb640d62.jpg', '419_jpg.rf.b970b1b676fe5dbcdcfbf5be1dc9464d.jpg', '147_jpg.rf.ab47a9249e74a557740e9d8d04c421f2.jpg', '32439168_jpg.rf.bfb434239edff175dc82d940a55250b6.jpg', '32439011_jpg.rf.33111daa80e55bb1bec3a75eecb88394.jpg', '503_jpg.rf.affaee45e44ed6aa6fd57af28d009fde.jpg', '9584014_jpg.rf.0f90aa605446f65b3f95b21c88830016.jpg', '149_jpg.rf.74b43314993a341c1af73aca12e23d9b.jpg', '9583674_jpg.rf.30bad871d678631dad67c8ec51abb365.jpg', '9583664_jpg.rf.6489bdcb01d50ca0462aec0c17504a0c.jpg', '9583757_jpg.rf.263b76a518762ed247a9ba5a5fa85e2c.jpg', '569_jpg.rf.cb4c8528e9ebf6e6ad796a9d821a31e1.jpg', '536_jpg.rf.e104d8393af2909f6577de5d2b8fafff.jpg', '359_jpg.rf.b61e800e224e9644c2ce98c881ec877d.jpg', '154_jpg.rf.aacc851c775a0374e8f37d12c23e95da.jpg', '45_jpg.rf.0b7a3bebc201602b3413004abb4f3ef1.jpg', '590_jpg.rf.5adf9797969ef08e642d83d350e01dcd.jpg', '9583753_jpg.rf.207e4bfb2e9d286a1b0f8307a927aba0.jpg', '186_jpg.rf.28f1cb58e259f8d6f2f6ba0b8a1ddbde.jpg', '503_jpg.rf.9e41e155038dda1f9b710ffea8fcee47.jpg', '9583763_jpg.rf.c429199f2b9e1be6f7bc7669354d89ae.jpg', '205_jpg.rf.b7eceea2119717525cfa18b444144b9c.jpg', '361_jpg.rf.6aa31e8e7bda824df31f711dfde9e82f.jpg', '9583959_jpg.rf.0dbc9d0c8858e62ed7b5fa30f1de3767.jpg', '32438981_jpg.rf.dc2f1e9c6de3600fb5ceb36e3eed189e.jpg', '113_jpg.rf.b95e1bf49411877f5c5a858c36e91b50.jpg', '139_jpg.rf.3bde4f750d2f39fc65383ee89921eaa6.jpg', '548_jpg.rf.8aa7992bbcb69be1fc803f02d15001d0.jpg', '193_jpg.rf.d84b132a0a98cbede0d9366814415cf8.jpg', '32439202_jpg.rf.a26599514ec9e41a518c635c84549622.jpg', '270_jpg.rf.bf50bb34958627570bff210b37d88b56.jpg', '367_jpg.rf.1b635c588020cc8f8015e3dfe9268ea1.jpg', '414_jpg.rf.7a8e30074b2857fd6e6c7a904c1130cf.jpg', '9584045_jpg.rf.a1d768d822eb8fa68480b88e50b2822f.jpg', '9583739_jpg.rf.595e359bd5f2e3cea71ee47bb0c86129.jpg', '547_jpg.rf.14de6bb82f717b7dac755a27cd6a6b87.jpg', '421_jpg.rf.cee1a778c3eddee5e7f2e0690f117c04.jpg', '176_jpg.rf.4eceb9ad3546bf78f3bd20a42f7319c8.jpg', '261_jpg.rf.1ac3fe5aca79e228284ccb5d65dc85f2.jpg', '210_jpg.rf.18cfa008657a71e852c6b23b87a21882.jpg', '9583803_jpg.rf.bd157b6e4ce9d08d2bfe635e32cfcec8.jpg', '237_jpg.rf.beeaea56b5b45b2408a82ad570a408c6.jpg', '493_jpg.rf.27a3bf673232f69f1de96d1c38142ccf.jpg', '32439268_jpg.rf.34ca82559ffb3e2a0ad2188979f6d6a8.jpg', '472_jpg.rf.cc436bc490209f2f11aef2a5cd37175b.jpg', '37_jpg.rf.1ef8685f0ba67225b03690f878973c08.jpg', '208_jpg.rf.1f7440384d7d07e2d1524ee5f58018f1.jpg', '9583881_jpg.rf.1e8a708c78f04cabced645614de27bae.jpg', '9583578_jpg.rf.edf300cda58f045bb056e0e5d68a15e8.jpg', '170_jpg.rf.5e18fc2fa5436c6ca91ca6b10df38f69.jpg', '163_jpg.rf.4e844e0dcbb2b0a4f54d1c99628f9188.jpg', '32439038_jpg.rf.e5258d46dfa8a7a37741c5280f1e47dd.jpg', '531_jpg.rf.9bc2690033cf553c651174a3c88a6f3b.jpg', '32438985_jpg.rf.c99fbe8386e5a1bb7d142de8f56f7317.jpg', '575_jpg.rf.62d13e829872884f77a7951441fb4ed4.jpg', '22_jpg.rf.331d4d62113d8b29351330093f579cc7.jpg', '18_jpg.rf.c671df4d94280c4ed32cebf25ca5bd2c.jpg', '158_jpg.rf.2d1e724162c3d3ab05960a0bffbac353.jpg', '417_jpg.rf.ceef76a00e7e706c8c23d4b0b7097895.jpg', '303_jpg.rf.e1f8d749af290381e7807a4fe67313be.jpg', '32439027_jpg.rf.4928473e86ad64a8fd8b8479697259ee.jpg', '32439150_jpg.rf.7e5176768f30da5835767c10bd5ccc54.jpg', '9583704_jpg.rf.61e1a8dba12108a3ac3b2ccf926939c8.jpg', '495_jpg.rf.0bb515e5044837ecb3a1ab6f86f67e23.jpg', '150_jpg.rf.dd8c7f7eff7d33d72dd5ad806ee8c857.jpg', '108_jpg.rf.5c0b06af9210560d69501d3c3d8b4ccc.jpg', '394_jpg.rf.3e93a019f377497fdbe515fa481236c7.jpg', '32439292_jpg.rf.01a4e019e63119ec136441912a41d5a6.jpg', '9583588_jpg.rf.6bbca92f832472b065ea5fca42d4e21a.jpg', '468_jpg.rf.fc7bf02fb3803ebc7f5cec9c279c74e7.jpg', '9583744_jpg.rf.f7ade6d2139c748d5e5d450073ea25d3.jpg', '174_jpg.rf.ed3200001ba38acb037c469ea2605b79.jpg', '332_jpg.rf.3389880d35e59b89576cd98322ec197d.jpg', '222_jpg.rf.6a04a121f0d997abea3d6ab30bef3397.jpg', '282_jpg.rf.e69e29b11a0305da59f767516ef78703.jpg', '103_jpg.rf.149f2727bfd27e0968455e1851e1df79.jpg', '9583619_jpg.rf.3c8c8bb6a380b33906640bb4c8afcdb9.jpg', '316_jpg.rf.fc1c6eff7f4fd06fb53967af8bb66482.jpg', '9583720_jpg.rf.d5c5d095bd28446543d2cd02497a73e7.jpg', '32439175_jpg.rf.776a77345c5ded5c8375f714286edda6.jpg', '9583925_jpg.rf.66554a89c7fb8ae464f35b031ce65535.jpg', '9583853_jpg.rf.fc91b93cf66ca4c94a5165441ccd274c.jpg', '108_jpg.rf.a31453aff3c622d9e64857fd81194d15.jpg', '9584069_jpg.rf.36806f77cc7fd4836cf6f4491b93b6be.jpg', '9583804_jpg.rf.bd5957fff3ef78ffffac5c5ab60c74fb.jpg', '355_jpg.rf.a32283c32ce090898b42bd44aee60004.jpg', '9584027_jpg.rf.eb6876d3451c65e49f3991c5dfe85296.jpg', '266_jpg.rf.869ce1fe73b28d030847ef49cc70b8fb.jpg', '190_jpg.rf.a5c8086a9955e50f07921bd5a23bd2c3.jpg', '71_jpg.rf.64601976f65b5411c3ea9f661924536d.jpg', '11_jpg.rf.56c2713d71766a92dd78349246f8e27d.jpg', '24_jpg.rf.f298e1d1a6b0f0b0b17822ff3f1efa81.jpg', '249_jpg.rf.a8430d1c4c321da12ab50af092bcb084.jpg', '280_jpg.rf.d154b08a563982889d4d72998c6bbfda.jpg', '9583904_jpg.rf.abb78fd54a8b1e3ef0d95c5fe8d78e10.jpg', '486_jpg.rf.2c972259a473321512c3b57be294d755.jpg', '518_jpg.rf.ce6ccca5bf2307082ba576be16aa12b8.jpg', '32439236_jpg.rf.67b258c5d0c627c5853d4decbaf6ec85.jpg', '9583845_jpg.rf.b6ddc4fdb4aecce51676efd786d49c69.jpg', '380_jpg.rf.d17c4112166cc7998f12b1c00e32f5ca.jpg', '32439226_jpg.rf.bcd10a0c1f925456544f99d6f36cc47d.jpg', '594_jpg.rf.d76e40cdd97bc6eeb5ac1a9e09ea339e.jpg', '9583984_jpg.rf.c6f1039bc97f5ecfc149fe288dbf7b1f.jpg', '360_jpg.rf.834f47e42cb1480c0b1365005ef0ea1a.jpg', '524_jpg.rf.1e0a7f25bf59073e113abf723100e67f.jpg', '9583924_jpg.rf.abc22a310125dc4bfde83d26b6685987.jpg', '356_jpg.rf.e856ff557b3f85b3768d14967eebad36.jpg', '132_jpg.rf.adb145064bac8138ca9408da5b6d46cc.jpg', '32439203_jpg.rf.c725e2e066274494123a43489f9993c9.jpg', '9583620_jpg.rf.1fbbe4874e0c46042661e975fad326f1.jpg', '527_jpg.rf.6ad1aef9208b8f1bb15d6b0128f23f19.jpg', '301_jpg.rf.fbdcf50723fe6bd86da996aba132c574.jpg', '9583634_jpg.rf.fcc40ab7276890500829c63b52541190.jpg', '516_jpg.rf.da1b6851c28821843f283350001622db.jpg', '32439315_jpg.rf.06a51fd6e968f3d7bdf4aa8ec2c53b5e.jpg', '167_jpg.rf.5fca37d80f0bb57f1d075a0ae7e918ff.jpg', '9583856_jpg.rf.f191dff5d1c6da952b3cd6485825906e.jpg', '235_jpg.rf.b3483b693f3ffd58beac0b639194bfb0.jpg', '9583737_jpg.rf.f82e363185c89de928bd95c9cf2211d0.jpg', '339_jpg.rf.50a30aa8124c9ebbd7efcae94e41460a.jpg', '250_jpg.rf.ac7606f9785541b0be524774715eae18.jpg', '9583734_jpg.rf.9989c588d9067006ef616f6e9cbfdd1a.jpg', '9583896_jpg.rf.574b384c475074c45d69625205725102.jpg', '87_jpg.rf.b011d02729dd65e7a0d2a73b0af47bb5.jpg', '32439320_jpg.rf.9e1721bee6a28f161fee47528d990676.jpg', '92_jpg.rf.b7725b343f728810f9d69b1ad1b73eb6.jpg', '9583688_jpg.rf.a56bddf946f0a45ffe263c6a58071d57.jpg', '9584054_jpg.rf.aed100756023e0cadcf7b119cc9258c5.jpg', '9584050_jpg.rf.4a78a1a88f84cdc4b8141d4c82063151.jpg', '538_jpg.rf.11cd594495d706d13651f61c61cc2594.jpg', '450_jpg.rf.d72b4306bf56eea487ca9a4b2bbe9209.jpg', '533_jpg.rf.f26947881db203c788ebd20c346de046.jpg', '9583974_jpg.rf.1acc1694b7d6e2e1e163732890a78926.jpg', '331_jpg.rf.4b16b1a506f56e4000bb6441a86b7c92.jpg', '9583598_jpg.rf.42e92e3810c7971052826298a6f22f01.jpg', '509_jpg.rf.c0fc0abf73444648b36d4fb912f89023.jpg', '300_jpg.rf.f021098bb6a14770b31a6add17abc47c.jpg', '347_jpg.rf.faa78f6de3e3008233560bb40c7f552b.jpg', '9583808_jpg.rf.da65197848c716e9d69abe3e1f88ea2d.jpg', '105_jpg.rf.4ad93806cefa150a4a8bb14477688c11.jpg', '9584071_jpg.rf.783d91ffc7545cff3be2e363343d1179.jpg', '9583726_jpg.rf.6eae9e3ca0cecd9167a2d43225a2785a.jpg', '9584017_jpg.rf.556592299254f13c815dbe87da3e3ed7.jpg', '9583575_jpg.rf.a3e200ffbb5230692b15be8910dcbace.jpg', '477_jpg.rf.20cb8bdbb17759f79c37281ca0526697.jpg', '9583639_jpg.rf.4711259aca888e5fd91478e161c5585c.jpg', '9583953_jpg.rf.06ffdeb3f8f1bbfd4d7c17b668cb5642.jpg', '541_jpg.rf.58e6669c790d23570736f91f5ba21a70.jpg', '9583846_jpg.rf.34c33582f6e68a51000a69dfa10a92b7.jpg', '32439021_jpg.rf.b445b161dc2bfba6d792286f5e5a5649.jpg', '216_jpg.rf.3e4cbb1374a823d5b971c35ed0ab2ce7.jpg', '73_jpg.rf.5ab69edbdc986808aab59109959d542c.jpg', '30_jpg.rf.5cc011a418d0022688cff75408961ca3.jpg', '9584024_jpg.rf.5ab317ac9bff25609d7205e0d10afdbe.jpg', '9583820_jpg.rf.e05c3aa08a412f78736868386f3f548a.jpg', '9583976_jpg.rf.3a16c884b9af5891c202c91b2e5c5d69.jpg', '516_jpg.rf.955d54e8bc6083a6b4128f3fc6e32142.jpg', '547_jpg.rf.27e7a6210da8102ed2da2509fca32318.jpg', '563_jpg.rf.b96109012818fb26f07f34ed3cfbb59e.jpg', '9583683_jpg.rf.b9c1512aa2fd2a375be889ee515edf8f.jpg', '88_jpg.rf.3f2441f1305e897a3ba7286620c4f1eb.jpg', '32438971_jpg.rf.8a864a47b546b4ee81ae1627b90850e5.jpg', '32439156_jpg.rf.bd1c9169206a5b77cb0393b794154903.jpg', '32439221_jpg.rf.c2bdeebe4ca70bac2e386aa048351abe.jpg', '9584015_jpg.rf.01e89e25f0a3a67a72ada0bcc5f5a978.jpg', '9583993_jpg.rf.d8c81375ab1b7960197d5349436a4710.jpg', '307_jpg.rf.49e8b46388b10212bb80a533087bf7ce.jpg', '451_jpg.rf.b4f5ae21f3a92593598eddd21e9e10b6.jpg', '295_jpg.rf.90f6b35ecff9852240b9ba21e0ffc918.jpg', '397_jpg.rf.4083283395eead660917cb224c19b9bf.jpg', '9583573_jpg.rf.e3bb7feae17c0e6e62d7c0afc58be090.jpg', '400_jpg.rf.cc2b6db63129202b301f64859fcf9cd4.jpg', '32439195_jpg.rf.17ad9e705dbb01fa5acbc3f6b26f8e47.jpg', '325_jpg.rf.5bdee70f7fcde8f234894ea8a225b879.jpg', '155_jpg.rf.3f1af6c04da31d1aeba42e8c5f121417.jpg', '9583601_jpg.rf.39bb792cceb2b03775786f1212d5d256.jpg', '515_jpg.rf.f5b35d451d4ae530d99b942ee415de6b.jpg', '32439163_jpg.rf.6faab53d6d9d9395385b1599348924ad.jpg', '32438990_jpg.rf.605454f815445c508686e508b0d2ba08.jpg', '437_jpg.rf.376e1cf07b96dc1f21985f14d04b1b29.jpg', '431_jpg.rf.60a29272caa6af79520c3a9c5ece5a13.jpg', '10_jpg.rf.9c8ceb1ee52f133cde733f970e4b4127.jpg', '9584063_jpg.rf.e8ad27be4ebe4bc775795238eb73ed8d.jpg', '190_jpg.rf.fa0acbcdb48d38900b1fa1ae3e5198a6.jpg', '531_jpg.rf.f8bb7eede2037fab59de09f8f053405d.jpg', '259_jpg.rf.170407b7b01cada39c04827087e9ee93.jpg', '33_jpg.rf.129f7422a051c66eb7a6f68772fb0bcd.jpg', '568_jpg.rf.ee481d4c89b454376ef76196a7827433.jpg', '523_jpg.rf.d7ed8b08ddb0c63404923d55e5a822a9.jpg', '32439034_jpg.rf.ebf51efa87aae62e9a17198199091b70.jpg', '461_jpg.rf.dea9f60ab0d7ac62473f52bbd1327898.jpg', '9583779_jpg.rf.1a1a8fc7d473a73037cc54ad152145ff.jpg', '32439237_jpg.rf.f5475f2d897f096e2c17be7074e23413.jpg', '9583690_jpg.rf.3909ce3de82e3c261a8b1186783755d2.jpg', '230_jpg.rf.28d35c63889bd6886781fb51b71fc6e0.jpg', '32438988_jpg.rf.42257ac6b68f9ae7b9e5b9219f580889.jpg', '9583629_jpg.rf.2a75ffdc7d8c8030becc9b21ac7061dc.jpg', '392_jpg.rf.819d19d03c88c99074b77aae746aa780.jpg', '131_jpg.rf.60d4049f16d1193335c81b879d7b2d6b.jpg', '9584009_jpg.rf.8d148fb86eaaa045401c2be20b82b54d.jpg', '9583569_jpg.rf.69787288f7acdc7c41b3b8e594984bca.jpg', '9583787_jpg.rf.bb77d0edfa4d3f113aa36e1e21ef4408.jpg', '558_jpg.rf.0588c984954c267e2c824abe38bb53f7.jpg', '474_jpg.rf.5dbba031208603f3f5cc96646ab50754.jpg', '9584038_jpg.rf.cc5ce0c22cbcb6fc5869c8cd2ec9a316.jpg', '9583872_jpg.rf.c4540492d93f8aacccd9e310f75cc9b9.jpg', '268_jpg.rf.efadb1ab91bb3b1e962b0538a1defa52.jpg', '587_jpg.rf.62288a7510e6a17b6c5d147d71cfc72a.jpg', '165_jpg.rf.1782e3f412a046e3556379beb4a944eb.jpg', '32439070_jpg.rf.752c5aa04e250949a9269b4e3dbb0ae4.jpg', '9583758_jpg.rf.b7a258b5f35a3d53468bb7c0d9d7e696.jpg', '94_jpg.rf.ddab20212ae20faa26fe2f3e95fa013e.jpg', '408_jpg.rf.a584f44528b972242ba1427f1eedde04.jpg', '31_jpg.rf.763a8dd5ab467eaca6693d8897ddb325.jpg', '406_jpg.rf.5a56fc1a64eae2b1b5d068985b9ad3a9.jpg', '120_jpg.rf.8e32655a35b25e7417b84a0b4fd21f42.jpg', '9583741_jpg.rf.535ef4309c42aeb8bf19ecb7c8358ba1.jpg', '338_jpg.rf.624ef3f61e931318d261a7a3557ea73d.jpg', '428_jpg.rf.921bfd52b122959e894c42f81283791a.jpg', '469_jpg.rf.0b782b58d49db762073cfd6348e37067.jpg', '306_jpg.rf.734d0b68cf35fbc2029b71acab94a13f.jpg', '272_jpg.rf.3c3ee4b0eb24e91981f978ff52c71020.jpg', '203_jpg.rf.6a3cc52023608fc3039a8610e173d5b8.jpg', '296_jpg.rf.5ad8da809dfa2b22dfabcf1f5f02249c.jpg', '62_jpg.rf.55cd95446bc3d0cd55f87a0da0c5e527.jpg', '588_jpg.rf.a36b0a9a820104fe74986917cef7dad5.jpg', '9583841_jpg.rf.f8d87030920606c3787556a6995e88cc.jpg', '9583981_jpg.rf.e4016f18a442958b053ab7cea42033a2.jpg', '32439263_jpg.rf.c03e31c99163f221812acb38137eb624.jpg', '7_jpg.rf.6a4ff2dab01e86cb7c7a16667752e80d.jpg', '32439069_jpg.rf.b423538b2d1bbb33e4a38447d7fd88de.jpg', '9583926_jpg.rf.799639f36eaad416abc0769224426db7.jpg', '457_jpg.rf.067b85dfad7942bc54a9a1b4a7737e8f.jpg', '421_jpg.rf.fa6b07fbc8ae18c274a56506540acfe3.jpg', '331_jpg.rf.14ce0822617e5c318add5407d75b717d.jpg', '105_jpg.rf.70293e8b7526414b040da078d43c6a2a.jpg', '9583728_jpg.rf.d268da743576d1f442a853d71b01b0ea.jpg', '424_jpg.rf.10ce83908a5cac9cee5fe0c4eeab3ea5.jpg', '231_jpg.rf.23c93dba6065948cba9aaaea30141de0.jpg', '9583609_jpg.rf.73afa4222e9da6b9d840be45fc7c4fa7.jpg', '550_jpg.rf.46fc90caddc562775eb93f7b3c6a0f9a.jpg', '126_jpg.rf.9de68ab0c2aea98b1fb011489f91aa25.jpg', '32438997_jpg.rf.bd0f6eb1c35097c3c86621d714856c2e.jpg', '32439023_jpg.rf.24c6bece551ec75bf423efd487f25de7.jpg', '32438972_jpg.rf.55af3e487f0019dc654f899adaa47320.jpg', '353_jpg.rf.811780b40cc81d5850d897f733718433.jpg', '559_jpg.rf.52570b4da310c7bb2b62524713ed4115.jpg', '225_jpg.rf.f077805618cf6245209dd4d1a4e767aa.jpg', '330_jpg.rf.f60948128100e2ffb37af76fd19ec7a2.jpg', '537_jpg.rf.2b4f15b595e6fc4a116b3421aabc48ee.jpg', '32439098_jpg.rf.a15dcc6bbfba524e62bd097c1a5f25f1.jpg', '91_jpg.rf.92c7ee66848c0b70c4e80cdc63325759.jpg', '140_jpg.rf.7338f73e10c234684d6a6fb2c78cabc8.jpg', '9583985_jpg.rf.ea7f93c6bb4f877f9368ee17d35ba9e8.jpg', '355_jpg.rf.43fd7a315c9698273787137db082b009.jpg', '81_jpg.rf.b316e0c4554e1576abb115667532dac6.jpg', '37_jpg.rf.52c894e0a37cdaf54833d43cd9ba4c9c.jpg', '399_jpg.rf.4605e5f3492733da8807de48436bcde2.jpg', '152_jpg.rf.22bec1e8f43136e63ba70714b79d4d1f.jpg', '32439274_jpg.rf.a7a4025af4317efc46dae88631b86bfd.jpg', '469_jpg.rf.94f1c1da936110c54cd8eb90cd891480.jpg', '32439193_jpg.rf.14c45b755d18cdf58162a7aeedf1cf61.jpg', '163_jpg.rf.2a16de31c48cf2bbbd299901890a6d34.jpg', '9583899_jpg.rf.93250f1a7107003bdf0f442234c0d522.jpg', '32439301_jpg.rf.3bd47a13249829292fcb6a004ba9a497.jpg', '5_jpg.rf.f7d88ab11b71c58df013a862d1caa198.jpg', '336_jpg.rf.2047bdf284a45656bb7be66f268d7cde.jpg', '335_jpg.rf.d6cb382e3773fc638288a275a86165d5.jpg', '32439090_jpg.rf.2cdc61c61e4b3c45f2562bbb00c22887.jpg', '32439079_jpg.rf.7ce755b91e8c46d26f4562bdb7d01bab.jpg', '9584000_jpg.rf.fcf2abb02f20f1ed3898491ae7a41468.jpg', '9583791_jpg.rf.1861bc2ff4ee34856c19a3ed4c00582e.jpg', '9583968_jpg.rf.2c2a9bb2b50c4b185ae414503e4f183f.jpg', '177_jpg.rf.64513a53cf62a46a7efe072d25acee20.jpg', '259_jpg.rf.c734221f7a06edcc507b33856054ceed.jpg', '9583807_jpg.rf.f42c8eae39457b15669a8470dbc3721c.jpg', '407_jpg.rf.04f1673bdad9fb124d18c125f7aea1a1.jpg', '471_jpg.rf.5db9289b874a68cc8311bd090cd15801.jpg', '32439113_jpg.rf.67787f384879a75bc0dc99d6d1ebed59.jpg', '9583866_jpg.rf.9af1db540e1eae186a9c07ec39e75ec0.jpg', '9583962_jpg.rf.79a1f5e8b677f64da15010a055a6102f.jpg', '32439316_jpg.rf.e080babe4e0de943a0113c2848a71c1c.jpg', '500_jpg.rf.e10ccb60af56cab257571a5c3d159d79.jpg', '384_jpg.rf.96d58e8e353fff72eaff0406e330a87f.jpg', '32439267_jpg.rf.0b1528d7f11bc88ef93a9bd8c51955e3.jpg', '484_jpg.rf.645f13f478a8133f50b303b136fe7820.jpg', '9583760_jpg.rf.cbc2c501eeda25d06b0d3d9acad39ca4.jpg', '504_jpg.rf.6a1ca4ef33e366ff94d2f23eba0baeb2.jpg', '245_jpg.rf.9bd29d097f4386ad1ec66644136cc06b.jpg', '9583936_jpg.rf.0dad9e11276744074d0e923888b396bf.jpg', '313_jpg.rf.62a1f1721feb452c355ed2bceb4d02d0.jpg', '404_jpg.rf.1eda8da44daa17507ffffa29cdb51562.jpg', '32439211_jpg.rf.392e4d37bb771ac1b78b22f93d2529ad.jpg', '389_jpg.rf.33e3c72b3cf53249b452b9067195522f.jpg', '32439125_jpg.rf.3b0a656d245ee42d5a503a20833329f5.jpg', '9583711_jpg.rf.106b4962bcf2578b6c8e9c35a48552b6.jpg', '123_jpg.rf.4a50a53acbc0c34ff2e6f68685a62275.jpg', '9583570_jpg.rf.8d87da985db97cace0afbf390ea993b8.jpg', '55_jpg.rf.de4f82aed78374b8347e34d7b629be76.jpg', '205_jpg.rf.917407567ac31cfd8c397844501d6ac6.jpg', '182_jpg.rf.97d80e8ed3a230b16c3c6a1aa7d79be6.jpg', '9583652_jpg.rf.bebd93bb266b64f3a4343a16ee1405a0.jpg', '450_jpg.rf.fafbc118eef448ac86a0cea3e4db5a83.jpg', '314_jpg.rf.222b84184b0fe0d92d22fbd4a68a204c.jpg', '9583625_jpg.rf.8aaf97713e9143332632349812399359.jpg', '520_jpg.rf.b311469019176a327bdcc2c734c12b3c.jpg', '80_jpg.rf.6f9ef389de71b1ea80e9f6ea31131065.jpg', '32439234_jpg.rf.ff4890e3623e0e519b125bf61859fd31.jpg', '459_jpg.rf.12a6d222390eeaf656e6a0b58044a91a.jpg', '9583693_jpg.rf.9b304a1010fd65c12b63d84706cd3be5.jpg', '54_jpg.rf.3458c4b1b79d1e8a4a63a154cb3e6518.jpg', '204_jpg.rf.2a53a32b6360a657b5d4bb2121526a90.jpg', '32439052_jpg.rf.9e0efa799f7cf67a75297f16563b46e4.jpg', '346_jpg.rf.b5ddb21c1c6deb0e45625b92bffb7eaa.jpg', '196_jpg.rf.733005fc1bd70da8d8cf1683c9fba2ce.jpg', '9583941_jpg.rf.618b1380c67a6d0483e6e1e57d1f6232.jpg', '16_jpg.rf.7afb4f8414352e8d0e91ad2497ca6005.jpg', '273_jpg.rf.d6b84bec97903433ecb7406aa9bca9a0.jpg', '187_jpg.rf.fd8ad4b83b8a1aa5920686fbf720e02a.jpg', '32439065_jpg.rf.d1969093b06838dd10d53339c26ca8c2.jpg', '354_jpg.rf.d59668b382363fd0b6659e2ac28c8c78.jpg', '32439312_jpg.rf.b69a7ec5792da9d1fa5ed2bd0fa1ecc4.jpg', '401_jpg.rf.c3ba1eef42d955f210bbf9ce6a004201.jpg', '9583811_jpg.rf.d82c56824a67e0ec0661a10d2d25a784.jpg', '66_jpg.rf.54ab96d4895d5ceed6a626dc3546fcbb.jpg', '481_jpg.rf.1d0375d1cceee802b5865e0dd18b2409.jpg', '32439033_jpg.rf.1008212bc88979cebfa02e1f07e7be79.jpg', '129_jpg.rf.0e0ffc829bbfc89957ca9d1aae169726.jpg', '9583950_jpg.rf.e030219e11b7ce441aa81a0770c9ce69.jpg', '14_jpg.rf.f904f37696b067efb1ef566f7755a2d0.jpg', '32439162_jpg.rf.85d4670576409a61f49fdd00238f77f3.jpg', '138_jpg.rf.5b232168b5c53387b1055c7ec53b18bc.jpg', '316_jpg.rf.20cfcdef346f1cf26765786d01000f40.jpg', '342_jpg.rf.e9692f149c0b53f240ad0d25d133e370.jpg', '9583771_jpg.rf.c377e052555f7de10055b6fbc1c70572.jpg', '262_jpg.rf.2907e2694a7004b4c6156e46b036660c.jpg', '32439107_jpg.rf.81bf02fc4c7268e02ad16f2b49dd6a62.jpg', '9583730_jpg.rf.8d64a0727290468bb7316335b0736ffc.jpg', '388_jpg.rf.3c2f1fa8632023d61ab53ec6ecb5fc62.jpg', '9583725_jpg.rf.5f32cf41a9c1a6b2cfe7d1d027e5559f.jpg', '32438993_jpg.rf.33148398299013af684f1dee45927bf8.jpg', '23_jpg.rf.e21cfd4976f2bce41809129359458518.jpg', '375_jpg.rf.81032e82a5326f7e4d251115ccb6c236.jpg', '499_jpg.rf.0694693cf54c5756ca58082a57a75fbb.jpg', '475_jpg.rf.3e0d089ed5cac7b761d28ef3188fc5c0.jpg', '32439073_jpg.rf.a36dfd7c9d37f58ac761c59d8136be2d.jpg', '201_jpg.rf.ac08fc791768b693de04749c35a805be.jpg', '32439242_jpg.rf.00ea38f6679c975f0d115e02aadad2d8.jpg', '410_jpg.rf.a3ae51280e51e30091daf03774d8869b.jpg', '32439078_jpg.rf.61938056f33ff621dc9dd311a1bf2cd6.jpg', '556_jpg.rf.b2783f4ec66b6e7ed1054e15cf21aa2a.jpg', '9583913_jpg.rf.643fd6eab7781564de8ef742381ef6b8.jpg', '32439215_jpg.rf.0484b812d171e04b5fad5a105f2e780a.jpg', '100_jpg.rf.34e54dff0f77c9f6e5685b037353fd46.jpg', '322_jpg.rf.88430c3edc1264eb5ba3ace3268d6d0a.jpg', '32439111_jpg.rf.8ecd065a0c1f7acc7af5abaf7a83bf5d.jpg', '431_jpg.rf.a0422cdd6036c9b2e98a70d149c886a7.jpg', '109_jpg.rf.b56c818a7a26626e779c53cc0d807963.jpg', '32439010_jpg.rf.f262e7d73ffcf89c3b1388659cb7bf7a.jpg', '32439303_jpg.rf.445f351f745f7eb01b32a0ce66089da7.jpg', '9583709_jpg.rf.062ee8cba15a4fd1e33395f38e2cb04b.jpg', '245_jpg.rf.6210f3648959fbf834638bb9fe7baa66.jpg', '9583589_jpg.rf.2adbcd8490dfa997ba2252afb34629cd.jpg', '32438976_jpg.rf.8354bb1b6625c7670c1f800f9fdd4143.jpg', '32439158_jpg.rf.ef37126af8deac4fb26e5681837e0b37.jpg', '305_jpg.rf.beaf64c088b59637bbf53845e4b24ced.jpg', '600_jpg.rf.dd69d27e7266c92d3c7da2c9ffc5157c.jpg', '347_jpg.rf.2aed85c08e8ef5fea87ccda869d5f664.jpg', '59_jpg.rf.a0c740c9cd7f2c7acb98e6b6b151d3c6.jpg', '513_jpg.rf.00e5240c09636dbbca47dec15c305bd5.jpg', '99_jpg.rf.67b9a59dd2686c2c284a675cc6dfa6f4.jpg', '580_jpg.rf.3ac2e329459ff5ac0d69aa6a6192736b.jpg', '213_jpg.rf.8f83947d37aba694c6cd94b0c58f64db.jpg', '490_jpg.rf.a46778a65d2bd5a70afa2f09c668ce28.jpg', '462_jpg.rf.5f122b83b8c44a95394a6009dcad99cc.jpg', '9583995_jpg.rf.f8e9f203827dd0cd405eedecd175560a.jpg', '561_jpg.rf.75830727d69c87650110449f08ec814c.jpg', '32439047_jpg.rf.6d03742c9cb5a5d74d500154b0fd929d.jpg', '382_jpg.rf.05f1ec13436c4935f9f2ff3292495e88.jpg', '318_jpg.rf.35d08a0dbf76accb17ab50b3a6f1f725.jpg', '101_jpg.rf.34cfb18c3b156a642b2695659cf58d0d.jpg', '9583956_jpg.rf.49590ac1199dadfcb30171b2d50ebc39.jpg', '32439063_jpg.rf.444e76a73dd593abf5e6b314d5dc7b72.jpg', '9583650_jpg.rf.9fd03b8dbd9e1063e34642416b0e66e6.jpg', '297_jpg.rf.ce2ca587c2f9db6b1beb487d8ed49777.jpg', '348_jpg.rf.cde8c934dff6c89562afc4133409949a.jpg', '226_jpg.rf.c043bd3493ffd5d1ab22dc6ba309a93c.jpg', '32439184_jpg.rf.0b6fe02bc5301a3d375f7912e9fbc5d1.jpg', '35_jpg.rf.34075b1a08462b62ead0b99e950510a9.jpg', '565_jpg.rf.dd2f4b84a853afc3a4d0316fb84f9060.jpg', '32438983_jpg.rf.ec3877b656e6f5b93105a76d3bfae176.jpg', '32439091_jpg.rf.94c60091390c93c12f6e54be09776007.jpg', '9583823_jpg.rf.a053b215a70c421559436eaa8c739e7b.jpg', '9583676_jpg.rf.7fd29d32c50360854c916530e7f7ceb8.jpg', '62_jpg.rf.4e0be2a2cd4c98fff52f1183139b4584.jpg', '9584051_jpg.rf.55948171161c93086b7711bdfe4afcf1.jpg', '9583749_jpg.rf.6f6b97a9ecc11cd00e1b55d871f41f97.jpg', '83_jpg.rf.5e0ff9adb25182383ba1f23f4644372a.jpg', '511_jpg.rf.7e1c286f34512885c104864b8490c7c1.jpg', '180_jpg.rf.42404a44d11c63023a08ea06d43d2815.jpg', '32439313_jpg.rf.8cb0af0ed9c40594ff3f2a52a48d3c55.jpg', '9584053_jpg.rf.4ace9e75ce5bd36769f5491ec9d118f2.jpg', '506_jpg.rf.ef08f4b53b59fadb26d8d4bd1115ddbb.jpg', '398_jpg.rf.a85cf42a32ee4d32700a48db52e07fb0.jpg', '527_jpg.rf.fa2f46ca7df5f57a92f097675ac67bfd.jpg', '85_jpg.rf.11f437a72cfa0ba446381193907f5d6c.jpg', '9583882_jpg.rf.79e8edb17ceb254cfa03bbeb47e78386.jpg', '32439259_jpg.rf.78188491ae3daea928ee7bc38a0a9f85.jpg', '300_jpg.rf.40ce7cb7925df3149e569176310bfd24.jpg', '119_jpg.rf.62602455b18fb4d651a9ce08203ecc1a.jpg', '32439287_jpg.rf.e2cf4861b7e9df55d3a32291ac58fa53.jpg', '478_jpg.rf.0c51cc6e893dcda6c303dd1fbf97a2f1.jpg', '290_jpg.rf.1e4672c2aa68e06e42d7d5b2abfd656c.jpg', '9583770_jpg.rf.f8c396e8f0c78d4f640d001a4728ae7d.jpg', '32439057_jpg.rf.b0f3cef863ebadf97a977f7e44680779.jpg', '417_jpg.rf.3601e91d6e0a539e43e643ea76563317.jpg', '9583957_jpg.rf.791bf8f5ede4523459ba5387fe1f4e8c.jpg', '283_jpg.rf.91d4349d068e87f4c649fd58afa8330d.jpg', '32439305_jpg.rf.632b627a061c3567140358cbb0b50f83.jpg', '9583594_jpg.rf.9e5ee734c3b42f70205d009c977ca8d8.jpg', '32439165_jpg.rf.2cf67c558c0da77c6f81102b7549d59d.jpg', '32438986_jpg.rf.4b9abb86cdab22acacb49bf2b8e6d3ff.jpg', '577_jpg.rf.6203538ccdee7348031492fb19dcd1f3.jpg', '256_jpg.rf.596830568c57618b8012859e28597931.jpg', '200_jpg.rf.674483196eeb6c30ba6d286d29fea02f.jpg', '122_jpg.rf.9438e595187aeef95d215643b4c5cb27.jpg', '549_jpg.rf.296b57a5e01d950a6edd01508307a309.jpg', '392_jpg.rf.a642d9c36878a4c848bfa0b56ee1b7de.jpg', '517_jpg.rf.1bf87e805e54dd5b50acb7ab7a4c3dc2.jpg', '366_jpg.rf.19cb029a5a692fcd5cf3550edcd6ba31.jpg', '416_jpg.rf.f44897b3c7973c1f841330f9a69a7694.jpg', '9583859_jpg.rf.8595a6bb8620fd73a9939ed87c5b153d.jpg', '25_jpg.rf.0d626341680273a782cb207ffa7ad132.jpg', '166_jpg.rf.7febb35a78b55a1bcceb47d29d60cdd7.jpg', '441_jpg.rf.f9e8473ad6436cacc134c59a49d67202.jpg', '344_jpg.rf.08a0266371c763d4ea9d21b62c7d62d2.jpg', '550_jpg.rf.d28a28db6bb955523acb943429524f41.jpg', '32439256_jpg.rf.79a0340d81f99b7e7aa6899cdfd4ae4d.jpg', '32439307_jpg.rf.b3567d5fb0f92f86ed5c983c2bc9e844.jpg', '350_jpg.rf.52cf9682219caf73fed3a8373f0f54bc.jpg', '32439058_jpg.rf.dcedac068eabc4043e29e21602456c4e.jpg', '9584002_jpg.rf.e1ca25320fdacc944aaf267a4cdff91a.jpg', '265_jpg.rf.a71813979621ceeb2fb2bc01e35b68fd.jpg', '32439082_jpg.rf.0deebc7f5c11a18ec4972841d86f369f.jpg', '552_jpg.rf.84267db84a5b4b5de9a98b0337bc3f31.jpg', '32439043_jpg.rf.842fab69c4957517ea4f3fff623f8a66.jpg', '350_jpg.rf.e984bb123a13199823958a19f86008f6.jpg', '32439030_jpg.rf.2fcd9c6d83db8ce1d67e1da8c36bcd46.jpg', '521_jpg.rf.9ecb331b9545e884e2faaf29ff12a111.jpg', '381_jpg.rf.4ecd0be365fe24d7c6e44aefd37137f3.jpg', '380_jpg.rf.f00a7c70c852b2ad378ff9d8ba70f8b3.jpg', '9583582_jpg.rf.13231121167a0b7a0a2aae353a72c888.jpg', '496_jpg.rf.fabd08d535486e4b03404ae6f909d4c4.jpg', '93_jpg.rf.2a0cb572b255cd0f423498be73ba2720.jpg', '33_jpg.rf.45bf4ee5dca34999a812d2af2a99bf51.jpg', '47_jpg.rf.1cea94bca5e5acc45a9a0e87a325cd39.jpg', '191_jpg.rf.ba43b3a8aa6817666566d65d7544d953.jpg', '9583647_jpg.rf.7feaf2cff3b27d4ab966d2cbe64e547c.jpg', '9583762_jpg.rf.3442ac9b3eb18a38374990c4d61b30f9.jpg', '9583633_jpg.rf.e11123fb28aaadb58555d74d4cc6ee33.jpg', '112_jpg.rf.6e6835a5c605ff5675b44bd57ec2058b.jpg', '173_jpg.rf.7f638db4e5a389699daf2e88dc0bdfc8.jpg', '515_jpg.rf.38a018713155c48a837493dc7180bd57.jpg', '395_jpg.rf.df0bc840d7f07854530d1d9c5c5acb75.jpg', '571_jpg.rf.05300cd7b97f8d0d7a4cdef474483386.jpg', '422_jpg.rf.53c98bed11156516ca0ebfcc825f758b.jpg', '53_jpg.rf.84bec03556fd7ea4e1f882c464537564.jpg', '9583782_jpg.rf.fc30b2bfa94bd0911cc9889805311ffa.jpg', '117_jpg.rf.3e979c3d59ea50906d0eabfb125e8df6.jpg', '102_jpg.rf.c6259a85048ed827157564ea6ee54203.jpg', '169_jpg.rf.0135f0d5b2800940770d77fce8dcf634.jpg', '53_jpg.rf.d9a86bb5d83e1c9b44337588a87f9073.jpg', '174_jpg.rf.14064a270c3a0fb15dad8b5b3d86f5d7.jpg', '275_jpg.rf.d5c614bad074f4e0c54a270467f5a817.jpg', '115_jpg.rf.9a344a4fd9c9c10bd01a43abf997d11a.jpg', '32439120_jpg.rf.2e26fa803d73152702780df98b746746.jpg', '571_jpg.rf.aeb129e9679177c308c6b3c244d8e74f.jpg', '69_jpg.rf.1ef536417bf8bdfc7719b32b532fd9b8.jpg', '600_jpg.rf.acb50cb9175aaf0daf7431e8957db370.jpg', '95_jpg.rf.8d8b6c77c991b8ffd7a58111387023bc.jpg', '317_jpg.rf.355209031fd1698913251c8634c5cc65.jpg', '566_jpg.rf.49d276eff9bf2b13758156a9d3d1a584.jpg', '434_jpg.rf.858c14fa92c88d16ea2964368e0f136b.jpg', '273_jpg.rf.a00f6e5fcb250c45dad35a184c47ba75.jpg', '453_jpg.rf.3734a30666a5149bf357ccda29666cd6.jpg', '9583818_jpg.rf.79bc11ebb872921ee1b327962dc538a1.jpg', '287_jpg.rf.70d7c6160c3a3eb890d64269f86b71d2.jpg', '416_jpg.rf.5195874f0111608902c83116283ebecd.jpg', '358_jpg.rf.f1809e8155602f15668e7097698f6525.jpg', '32439321_jpg.rf.5da26893230f4eb0ec31cf961732fef4.jpg', '539_jpg.rf.8287a457dfd2371f4400997b5f010a60.jpg', '192_jpg.rf.3fa189e0422c326166dead70d6712716.jpg', '327_jpg.rf.0618df04eec8e760fd7a5ab37d3e2d28.jpg', '189_jpg.rf.f8e9bdfed63fa4bfa1df3124cb965ec7.jpg', '1_jpg.rf.0bc8d189ed448924a709e4e25c12e9d8.jpg', '102_jpg.rf.94ab5b6bf26990c2f403501ebe8678f3.jpg', '32439026_jpg.rf.ccc35e468d98254e424b325ce96f741a.jpg', '32439293_jpg.rf.09adf3bec143cf9b2faad16455016188.jpg', '9583628_jpg.rf.1c336acf175be379f3f8e67efb77827b.jpg', '177_jpg.rf.24d7ee7869ec4b54fe8cc80360c33b44.jpg', '127_jpg.rf.a93a39bafc9a43b76f53f9a0f6b3575a.jpg', '489_jpg.rf.7cea6562c08a275adb9726b0257a9d36.jpg', '514_jpg.rf.77be8b8a55a546865e2ab439576340f3.jpg', '9584022_jpg.rf.bab9f570d0a58fca50b49144bbafae1c.jpg', '9583561_jpg.rf.aea6b8f6cd191094484fef841c2d89ff.jpg', '338_jpg.rf.8667eb800782bfdf958cb710897a861b.jpg', '324_jpg.rf.6f0e1f1bfbee559398f9ca37e89e9389.jpg', '487_jpg.rf.2a5fec1b3ce9e8792479dc0efc9b26c4.jpg', '32439100_jpg.rf.56cac3caf5acbf55017c7230fe6783af.jpg', '9583971_jpg.rf.9cc6d678e0f6dc120a031e7b21a38d3c.jpg', '32439130_jpg.rf.1f4f634b63a4fd4edee0caa37e98437d.jpg', '32439060_jpg.rf.c3ad5c73c0f65e17a3d73ff7c92e14b8.jpg', '9583752_jpg.rf.c54d1a7cf45cf9ea63bf7088b7bc63db.jpg', '232_jpg.rf.831283375e34d9a28b3b703974742dfe.jpg', '11_jpg.rf.dfd1a12425f43df7f86301c18fd622b7.jpg', '9583778_jpg.rf.b9c14509edb0bf53b801a1e8284fc243.jpg', '554_jpg.rf.304c940122ff9aa49e37931304e787d7.jpg', '560_jpg.rf.f12e16de0cb12cced26eb16732c08aea.jpg', '290_jpg.rf.70235e34dee791c87d0e79f4c0c80b5c.jpg', '9583900_jpg.rf.19825c6a1bf96f7fdfffa1bb1102cc4e.jpg', '9583994_jpg.rf.d41532788e8a5f62cfad43dda8775a68.jpg', '562_jpg.rf.1af05796373bf4666c019bb3aab01e22.jpg', '64_jpg.rf.84f0e86d1b1ae31114691fb28ce16044.jpg', '301_jpg.rf.abce41be0ce448d3cfa181bbde76c390.jpg', '32439271_jpg.rf.f6e1353b04a85c85c5f09fd1365f7553.jpg', '32439231_jpg.rf.ea04abe1946920eb054b702a1ad5d414.jpg', '192_jpg.rf.31c10729b141cd0b5168b11bc97cd7f0.jpg', '9583840_jpg.rf.4f8eb1820d2370a486a8be532f7375dc.jpg', '96_jpg.rf.02520f1ef1a1b28d7cc4399b12098f5b.jpg', '32439015_jpg.rf.39758a5ffcd6613aee57d083fa4f81b8.jpg', '44_jpg.rf.ebb872e002d3bfacbfbeb2efca93c3c7.jpg', '32439283_jpg.rf.2fab9c3c2c02feaac22917dc1677e574.jpg', '9584064_jpg.rf.cf03cfc46924fc324a2530c31b63ec15.jpg', '378_jpg.rf.120b431454fd08347f450c3b9c7d0a3d.jpg', '9584004_jpg.rf.23644869515126a9c59c78a5b3691f2b.jpg', '204_jpg.rf.fdcdfe2505c6c7dab80e9e8dd811843e.jpg', '52_jpg.rf.5629717f440cdfe702ceb04048a08794.jpg', '32439042_jpg.rf.bdaaa5138e822f106587a7954ca0a8c7.jpg', '231_jpg.rf.1ac8f56ac0cc2bcf943ca5a8972d56ff.jpg', '482_jpg.rf.1f4499863d0f2e9cb70967ba38018644.jpg', '427_jpg.rf.79278226620f3569cd490492a50c49fc.jpg', '175_jpg.rf.e10d623b434788a8141d541c76c32a73.jpg', '410_jpg.rf.6228f4e4775976d0ae69995cd0c01540.jpg', '9583705_jpg.rf.0753c27e24666baef48ea986f1792fc3.jpg', '326_jpg.rf.5c72223d5949759623ed27300a122ec7.jpg', '189_jpg.rf.a77daa3c9c550fcf893ea9b45d9dc194.jpg', '452_jpg.rf.12209f7edf7f900be2fbfbab03afabfa.jpg', '32439276_jpg.rf.0242fc9437b381c04d8b9023713f5eb9.jpg', '9583766_jpg.rf.660bf645ef3166e1e9f37dffee796cbf.jpg', '32439143_jpg.rf.671d5c9ea47bc6e7956b7264a9084aa6.jpg', '321_jpg.rf.014753287b62e780c0297135a23b1d27.jpg', '32439131_jpg.rf.fc5a2e8f960ec25cb86a9fa397298db7.jpg', '426_jpg.rf.35276e65bf5f21168338788aa751582c.jpg', '9583774_jpg.rf.d941b68f10128ba042fc1e1aa4ce2918.jpg', '9583679_jpg.rf.41f368d2fca6c5f1507ad5e5fd3565da.jpg', '134_jpg.rf.59ac368596233a2661d4181fb971de0f.jpg', '583_jpg.rf.e50d8f98f89caa8e49901132d0048a63.jpg', '116_jpg.rf.e4f6e9733483642d8981d710b5f0cca9.jpg', '532_jpg.rf.97540c678e9f6ba8897ef8cc38ec1e44.jpg', '9584059_jpg.rf.6f641d47cbedaff0530989d456722dca.jpg', '9583935_jpg.rf.2bb4993671cf9a6d1a38a35d08a62405.jpg', '415_jpg.rf.c373977d3d079f65b98d0761081a29cc.jpg', '592_jpg.rf.c1c959ce1cc11ac597ab87de0525a889.jpg', '9584061_jpg.rf.ba2e9a8783b7ccdc58229a1914434168.jpg', '9583669_jpg.rf.110780991a8211b6bd83d63ba19c4c4a.jpg', '179_jpg.rf.a028fe1d9e549f9df5330c9fcc111906.jpg', '9583658_jpg.rf.271824b079302f3f027f311a28c55686.jpg', '9583884_jpg.rf.ca06fba4f9e30c52b2e9816ed89be769.jpg', '32439180_jpg.rf.64103e069ae0ccf95e339e6394f6a2b1.jpg', '9583948_jpg.rf.d3efc390d200584ea1a38ca11d4a5f81.jpg', '9583718_jpg.rf.7c73871a99774a5819c053c00bdd3a40.jpg', '344_jpg.rf.aba12bab9de1c6406f98adefb2518652.jpg', '530_jpg.rf.9699b4a7b872e3b0ab958417f850d219.jpg', '152_jpg.rf.6d2e0da87c2b52ace9f1ceffac620fc3.jpg', '32439322_jpg.rf.5f5dd7a0b6abc3361747bd661e81521e.jpg', '599_jpg.rf.2201594d46349339de9417bcac857eb9.jpg', '32439077_jpg.rf.57f8059424b0fa2438c2a8ea0635b895.jpg', '9583593_jpg.rf.c75a62dbbf05ed4dd16d5600ecd684b2.jpg', '9583663_jpg.rf.07aacca7f2d441b3d9b76e1e6ea6d7ff.jpg', '32439080_jpg.rf.bb245bc3c82ecd58efb423601d732662.jpg', '32439214_jpg.rf.2fd92be6896faa91da888e2e09a1e37e.jpg', '9584026_jpg.rf.6fe830ef1fad82c6a1af8700d691a328.jpg', '43_jpg.rf.1f0032f5528403dbb109afedf0c8131b.jpg', '64_jpg.rf.9e7d169bd48b7f6665cd9117e5c2a395.jpg', '9583988_jpg.rf.7b329463b3f5899caea2d997fdd2fc7a.jpg', '32439314_jpg.rf.3d26367dd9c30a8610277d4e3fdeab72.jpg', '32439260_jpg.rf.df727178b29e57ee0f7a0a69b1fe4ddd.jpg', '159_jpg.rf.2d57ca31342aabcf266aba4b9fecb476.jpg', '32439061_jpg.rf.bed4f93ae3fc99def11ed13ea29a8b07.jpg', '482_jpg.rf.1c8e1a071a5cba42706f3d2fcce2949e.jpg', '9583998_jpg.rf.83d58eb029fde55009429ec3576c1c9f.jpg', '32439179_jpg.rf.8f2cc0a79557f91746f8cb202cf4838d.jpg', '116_jpg.rf.8adf9663f0c7dbf825e92f87895984ad.jpg', '256_jpg.rf.b1feb3d307a477ea9433ad7b2ed2b708.jpg', '573_jpg.rf.d6af8a43df9b6f51dc670d721631caca.jpg', '425_jpg.rf.8550a409b04d508df48891f56a4952cf.jpg', '9583717_jpg.rf.fd9aba786d783c3f87a28e8cac7ba2a7.jpg', '32438987_jpg.rf.e26fd93d39892dbaf00352207f43227c.jpg', '409_jpg.rf.47800f180aea8a8c881604b528586fec.jpg', '93_jpg.rf.f7a22a8a6b5ef2411cf1ba4cecca1fa9.jpg', '508_jpg.rf.28f6e3519c76572e023077566f60f0bb.jpg', '501_jpg.rf.3112f64d5d24ed5b5ca9e90411d79381.jpg', '327_jpg.rf.85c7907d6f8aeb49e7473ee0413dc6cc.jpg', '492_jpg.rf.61aec76c0f77106572e84ca3867429f0.jpg', '49_jpg.rf.e6212d7edacff5ef5571ad9ac1cfa508.jpg', '9583670_jpg.rf.7d8852bdfc6a0915d82ad5e2f2029aa2.jpg', '32439275_jpg.rf.0476f35db295446816a04974e075ec8e.jpg', '32439149_jpg.rf.310e00243cf0e40d7fd445b8f2ae9b22.jpg', '36_jpg.rf.b9cc3041bea03e8fa0b6bbc37f9b659c.jpg', '543_jpg.rf.be0af5018db785f95897311254879578.jpg', '442_jpg.rf.928c610b128e541379bd5dc134e6184d.jpg', '9583577_jpg.rf.14dd24343934fc97d876ac7b1b0a9335.jpg', '32439201_jpg.rf.85dc6eb8f26fe4a64f1396ff30c0e5e0.jpg', '10_jpg.rf.5731b676f8d8316fb52d07556d152666.jpg', '32439257_jpg.rf.084565f589ee46776b922307c31b0fad.jpg', '183_jpg.rf.228c5db1340bc2e685b85622ece4f5bb.jpg', '433_jpg.rf.ee0e928353571fa924684dbbbc232094.jpg', '9583736_jpg.rf.930f561d037ddbdbe7e5678b2beccfcb.jpg', '9583795_jpg.rf.41d32a19d6a27a289cff924482619479.jpg', '32439318_jpg.rf.e3574bc594b38c6ed5ce65161737799c.jpg', '32439250_jpg.rf.f5105b67656026838e3aa739238fafc4.jpg', '394_jpg.rf.ceeba4afc3be2a808454ae1348a147c6.jpg', '370_jpg.rf.c5b0913cf208267171cf34a5bb563627.jpg', '9583592_jpg.rf.ae3645fe1e3706afc9f4217b3a0c3b04.jpg', '9583724_jpg.rf.08ef24a8bf137167730d401ec3d4ed7a.jpg', '28_jpg.rf.02f43916631ed122bd95500d2f26bb6b.jpg', '26_jpg.rf.2f68d770d27aaf0f6f509f167137dca5.jpg', '9583876_jpg.rf.16772972d5fc4039156dfbf154440f72.jpg', '340_jpg.rf.506945e90380c34bf09cb336426cf492.jpg', '75_jpg.rf.745dd358080c4e220712fd1d1a628706.jpg', '44_jpg.rf.a5df19253074da267f56340027c21f19.jpg', '101_jpg.rf.845d3e8914bce0d40f36ab701158e097.jpg', '373_jpg.rf.5a017a0292573e8f2fb0afc72deefb66.jpg', '9584043_jpg.rf.b8f785e33d267eac6cb7c893047cb21f.jpg', '456_jpg.rf.8bbd15ee67312a72d0c27ab8f4923220.jpg', '584_jpg.rf.c3ecfd9729a911428b3c0430a550072e.jpg', '218_jpg.rf.8fdf254cb0aa6ad1372c5a882ad750de.jpg', '9584047_jpg.rf.757a8fe0fc80ed263e75593dc7ace9ca.jpg', '9583844_jpg.rf.f1e87a545600d2cc593bdf94df283aa8.jpg', '9583747_jpg.rf.83dc252aac1bce2e4687115facb65d93.jpg', '9583785_jpg.rf.f87248871ff53707021e1e71bc1cc412.jpg', '89_jpg.rf.2a074a0984c782ccc5a2b520c0e2cb23.jpg', '234_jpg.rf.1f9ca56943980013c1738642fe26a4e6.jpg', '9583978_jpg.rf.9e3ffd531189269b0129b47e5a7f4659.jpg', '206_jpg.rf.ae06ce60af1c05f71ff4651a4a6e2d88.jpg', '304_jpg.rf.20f1daa076e987c69b77061d3751430f.jpg', '342_jpg.rf.7e745170f91900e0b5c7ce3e11204e4a.jpg', '32439112_jpg.rf.ee326d126c016ec01343bf0eb8974f71.jpg', '455_jpg.rf.8be20e1a8ad150f91122fb60e014e7c6.jpg', '32439225_jpg.rf.73a7d075102770eb59553bdf6f1cdd6c.jpg', '429_jpg.rf.678e471e8233b2375026ae8fdc20b227.jpg', '496_jpg.rf.84e9747c215a0e63b6a36ec53240126a.jpg', '9583801_jpg.rf.b4a65d4ab6b16d093311f134113f4655.jpg', '128_jpg.rf.9c6dcf79e258855aa93eded3057c37af.jpg', '9584066_jpg.rf.8f9e5101e9f7a080ed94d65566ac41cb.jpg', '32439008_jpg.rf.cede4b3e4dab823eacbaa28fa8903b90.jpg', '32439258_jpg.rf.97b04efcdbdad722fc43e5e4e2a9dbac.jpg', '8_jpg.rf.c9f646e3a7241c95ee86466e49aa2f24.jpg', '32439106_jpg.rf.25a67a5f75d332fe6f254b9d127c0daf.jpg', '263_jpg.rf.f09135e0f337a9905ec182e857fdfa75.jpg', '449_jpg.rf.e965ed352b11bd8ec8205b0cf06718e8.jpg', '32439147_jpg.rf.c18c735c8ed69d70215b93ce16e8588c.jpg', '32439224_jpg.rf.f38aecae422046c03687d78c89f25383.jpg', '212_jpg.rf.6748ea04879316cf91e4811c23df11a2.jpg', '586_jpg.rf.bf29e6afde3590af841bb5ba46353009.jpg', '248_jpg.rf.8ca22693eecdf68a61b9daf1751f17d7.jpg', '390_jpg.rf.1915b46d598fa24fe178fc45b0825f98.jpg', '199_jpg.rf.1dabce6f3b2a17dd42cd79178b23110f.jpg', '104_jpg.rf.e6c4fe34e3e4e1185d309360b62b4afd.jpg', '9583908_jpg.rf.ccac53b01a42e5cd979ef5fcca829684.jpg', '445_jpg.rf.f6d48e131bff0d64af149b723aa3084b.jpg', '9583685_jpg.rf.a2129faddb02d805ae06f6820631118b.jpg', '142_jpg.rf.9c8da585d52b0d4e2976f265f5e582ac.jpg', '522_jpg.rf.d6e33c813ecc418ae45ed5c9999db82d.jpg', '57_jpg.rf.1ea8b68928b726dd6c2e838f79a7a2c8.jpg', '32439096_jpg.rf.28cfb90e3ba144ff5ccf22f45b1b6a26.jpg', '319_jpg.rf.536b55c32af608bbe7d28a9e3d88b3a2.jpg', '9583687_jpg.rf.2017245bdb21d5599aba9ff66ba0faec.jpg', '121_jpg.rf.f61f3ddec5674b7bf9f74c457351dbfc.jpg', '353_jpg.rf.8cf86cbbda2220882c3d788a3bccbaa7.jpg', '133_jpg.rf.3ec6b9fc0a02cfcaca59f8de72caffce.jpg', '32439189_jpg.rf.03ea49eb8e2d600e83d14f91ebd2a3f5.jpg', '414_jpg.rf.1fa991b577479c21ed46e0427314d01b.jpg', '32439190_jpg.rf.621f203aebb076226bd7ddf17e210072.jpg', '220_jpg.rf.b8737f177bb3949a394fe329f8fb65a9.jpg', '32439002_jpg.rf.7255d52e0da0320baf404cb163ddd6c7.jpg', '9584034_jpg.rf.1dc692c1507e874f29f522b33552dbac.jpg', '265_jpg.rf.e42ddaa9a9627ee55b8778855a3c3d14.jpg', '107_jpg.rf.ef2219d0c4bfae1f24d452dc06333c80.jpg', '32439210_jpg.rf.0b40815777fcc3bf8f33dcb83a1f9536.jpg', '485_jpg.rf.e76ed22d6a8ed75b5202f637be2d3614.jpg', '32439285_jpg.rf.9d44ae9e1366af3c8c21bd53d2f1b7da.jpg', '276_jpg.rf.2cc6523b7088d39fb90f408a3bc104bd.jpg', '32439247_jpg.rf.2e9e86d471da12f156263ab2b6a82264.jpg', '9583603_jpg.rf.53627b5068f5ed2308dbd7495a41577e.jpg', '186_jpg.rf.4c57f4d90551d3112cc98caacb245032.jpg', '32438974_jpg.rf.99fcd701c33c88607e3b3c2373236e8c.jpg', '9583871_jpg.rf.2e46569394b9a3fa064d57a8f37d118a.jpg', '32439185_jpg.rf.3244f38c58fe4da7d6a4df1f388497f1.jpg', '435_jpg.rf.202cfe0a4f09f97e0970386d8f4eef54.jpg', '369_jpg.rf.c85e5ddc6e9cd35bd83b32a03a649508.jpg', '73_jpg.rf.1f0cef8a44ff74a7e508921590cdf423.jpg', '9583949_jpg.rf.7015c3b99419997088e2f47dcd97d2c8.jpg', '9583885_jpg.rf.1e92bc3278e3892ae3d603c62b760e29.jpg', '27_jpg.rf.cdfc5e59bf38264f3604dd62733f6656.jpg', '510_jpg.rf.7de3bf938373c14968ec65a51a77cf9b.jpg', '9583939_jpg.rf.3dbd17b827b332b7c3f6a503653cafdf.jpg', '40_jpg.rf.82a1b8a82d1aa76b669f5e7ca5d3998a.jpg', '9583642_jpg.rf.3c420ac0330f89f65ce2bc6b2fbcaf3d.jpg', '307_jpg.rf.d1e3360ae236eec338c0ef8c9b66dd63.jpg', '9583567_jpg.rf.970ec98237f3785e950331baf0349a39.jpg', '228_jpg.rf.a3b383ac61c31f9a313d627a111276fb.jpg', '51_jpg.rf.38d7cc19b13aeaba195320928f8f318b.jpg', '529_jpg.rf.7c242a34f590ec41dca8a332cef733f7.jpg', '32439220_jpg.rf.d63b5506119e4d22ab975a4b69169ac5.jpg', '251_jpg.rf.295e978e6ba8e91324e6b13bc559ccbe.jpg', '563_jpg.rf.2f33a2c72f35e4b322e3d8c7bfaaf033.jpg', '574_jpg.rf.1252f3584ada21e87678a1ea23573a79.jpg', '32439006_jpg.rf.2177d36a7c06f1493ace1d16f5608ad4.jpg', '32439264_jpg.rf.4b87cb916a605e37e7c294354ccd396b.jpg', '9583964_jpg.rf.c5c6a05d3243113addb2f7a699443187.jpg', '9583699_jpg.rf.cb2c1980c89b6dead72a0e12b0adf8c4.jpg', '15_jpg.rf.7484bfb89c8ab9dff2f39372b13897c1.jpg', '281_jpg.rf.5e3d08202050fa62a4354fdb2367350f.jpg', '568_jpg.rf.5849c11e51ed51b3307cc19968448cea.jpg', '535_jpg.rf.411c63d7bf20ff99aab45031af4857a4.jpg', '407_jpg.rf.2744926b1fd77537edbde0479b8bb8c3.jpg', '9583989_jpg.rf.b2e36d16dd34a0b88365cf1039c888b0.jpg', '9583901_jpg.rf.bf08fb3b9f749a060445a96ec94401ec.jpg', '589_jpg.rf.af7e6443a91734b44a5712ae834f85a4.jpg', '14_jpg.rf.b5cb6aadb56caaebb68229cd3a6df62c.jpg', '545_jpg.rf.749d4ce02407006ac29143075155ab57.jpg', '32438960_jpg.rf.9127b496357038ce81a99650010f8b3f.jpg', '135_jpg.rf.bff92b8537d59f64a6df26554418a67e.jpg', '6_jpg.rf.906e4083bfb8774d79a18f4cb839cc36.jpg', '56_jpg.rf.34e70ae849308c5bdeaf79311332bc84.jpg', '32438984_jpg.rf.cf106e29977f5dc9b0397dc124d59ce8.jpg', '242_jpg.rf.3fff1148670f77fc3432c36671331a8a.jpg', '184_jpg.rf.93eb94c9347b968454defdc986416b34.jpg', '32439136_jpg.rf.6e8f8187e723bab383641aef16e0feff.jpg', '460_jpg.rf.716722408bc10a6c1aded59d0c7d1577.jpg', '570_jpg.rf.8d2a97ee31ca02e3b0d13bc2117af49c.jpg', '9583955_jpg.rf.8f6ff48b00d5599c0e122b87abea6a63.jpg', '9583671_jpg.rf.eb500ff2fdca37ac4e4b364d99daf6bc.jpg', '32439169_jpg.rf.ebdd190ae27c793e0cc5e501cd289036.jpg', '332_jpg.rf.f2012cce98e8fe3d3e0b38559bca7ac8.jpg', '68_jpg.rf.b5eb782393853e9ffc0b9351f6332b96.jpg', '32439245_jpg.rf.0d4ebc13189e042e53c0b7bd09b0e25d.jpg', '328_jpg.rf.79e1d25ecf47f0192fa5a1b23cf013a4.jpg', '9583960_jpg.rf.8413038df215bb0c1f93fabe057136a0.jpg', '9583838_jpg.rf.53f9dfd9f8c006c00f0ee7b1aa4d93fe.jpg', '32439040_jpg.rf.cd6ec363b317b957918fe525269f0151.jpg', '526_jpg.rf.9d517e4497ac43ad4484af6640554955.jpg', '510_jpg.rf.491fcca291de37ed36b9a6226f4e3631.jpg', '9583826_jpg.rf.53ec6f2da3e241ed7354c2c7a596f20a.jpg', '582_jpg.rf.462c55ba954f76feb3b6a50125cf54f9.jpg', '243_jpg.rf.3ec7e39bb63079fd7928bf56e2ec2af3.jpg', '32438957_jpg.rf.277b64ffce54609d56c2220f40e0efb9.jpg', '90_jpg.rf.17c9e7c9fc8dcbf7f8436f8181565b17.jpg', '55_jpg.rf.19fc26bb45842704330fc1aae16be844.jpg', '9583965_jpg.rf.1c19963306132b33b3e29531ce375b9c.jpg', '597_jpg.rf.2380c72d1b32c9902cff2698015ede87.jpg', '207_jpg.rf.18b5dad2b88fc3c244cf24363a0bbd8c.jpg', '255_jpg.rf.49ac9fdc99d198c788f2834d9037c962.jpg', '526_jpg.rf.eb149a62aedbd34b72ad62f06b4820a3.jpg', '9583980_jpg.rf.460c531a9215d65e35eba7b32065ecab.jpg', '32439205_jpg.rf.06e870e0ca284c48119f471e0e75f282.jpg', '326_jpg.rf.0cf1c8ba62c904d1f684a46cf4e5c783.jpg', '32439218_jpg.rf.cde77ed0ec70a124e4f040f469fb0d8d.jpg', '9584036_jpg.rf.35cdc294642ca25a74d733fa08e7edb8.jpg', '32439157_jpg.rf.0f42c1382eac862989dead5818837657.jpg', '9583902_jpg.rf.dcab02b3ad0a4035f961516b89de18a5.jpg', '468_jpg.rf.f6f5d1f7b00b8fb204de7a7b19c5d431.jpg', '339_jpg.rf.63c4f452aa1ef1eea46c87c9a1dadd13.jpg', '9583660_jpg.rf.cd497e20527b80da94a7b28a1900b27d.jpg', '293_jpg.rf.f54dadf16a87d40eb7885d3cb16172cd.jpg', '9584042_jpg.rf.f31792acfbf16f70911f1c1d23b67f38.jpg', '9583784_jpg.rf.7aea1d85f122f003a9796a69357997cb.jpg', '9584018_jpg.rf.32ae3903b4aac7b6dc19c86cca1a1e85.jpg', '107_jpg.rf.c9d9ca069947360deb611a86bb9ebd90.jpg', '466_jpg.rf.b1e2115dbe6feb84faebc228033f8aab.jpg', '9584003_jpg.rf.56c7f9cc37ea2b6fe7866a24ad17735b.jpg', '32439001_jpg.rf.728da5013e476cf60d70d82da9eb57fa.jpg', '451_jpg.rf.12444aff6503d1778a07a63f3d1e4d70.jpg', '343_jpg.rf.662997847780d2f2f2436722e742c67c.jpg', '498_jpg.rf.db76ae1fa5c31b4b3b2f3be0a3c88225.jpg', '9584041_jpg.rf.5fc0765156bd48fdd4f80a7ceac97828.jpg', '351_jpg.rf.86c37f9d192be41b5ca9acb24d7390f7.jpg', '448_jpg.rf.729b499d1da8394eaefeba5bbdfff447.jpg', '32439086_jpg.rf.2062922d43fff7083eef5245c09e5166.jpg', '534_jpg.rf.ea5017bead6e37ea53c5719bdc6fec9e.jpg', '578_jpg.rf.fa5ca64cc3550ad8369242c01f7004e4.jpg', '9583813_jpg.rf.741c56f5c7daf0210e6716bd91f459f4.jpg', '386_jpg.rf.3c7c2e6b9a6cc814813e276b0ffed6c5.jpg', '32439105_jpg.rf.7c22b3c93215a0b97af7ab5ef52da6f6.jpg', '9583602_jpg.rf.666ddfdcb9778f23c0ef54f199b3541e.jpg', '438_jpg.rf.cd09f049a61cc7768b87b93b69c3cebe.jpg', '32439044_jpg.rf.afd681edda6cf1aee0dcd093d9f6e7c9.jpg', '512_jpg.rf.8f6ba558d03745e63d27d3a0e285652b.jpg', '233_jpg.rf.8e981fbd72fb2cebcba82f2ae0f39148.jpg', '112_jpg.rf.4b1ebdc54e7ed0d99751353b46b699b1.jpg', '9583655_jpg.rf.408b54ba680185c4b9a7b6922b299705.jpg', '296_jpg.rf.c12f1d260fe21de38756f1b94c7d1db0.jpg', '227_jpg.rf.711c35e7f6125b41261dd72c89a0eb58.jpg', '377_jpg.rf.06c27577e72210021591632a983816e3.jpg', '9583689_jpg.rf.93ddae2fb96c7734451973c49d4eb4f2.jpg', '452_jpg.rf.d6e0550feae3094d2abfea85ad3914c7.jpg', '351_jpg.rf.827c5765a35b8f9dc53cb314db529cab.jpg', '32439146_jpg.rf.b1371f6e395b416bd5d39dec43c69b37.jpg', '9583583_jpg.rf.58b93e8e3fb22348c26b204e95f17dd6.jpg', '9583646_jpg.rf.7767825e7308603c1dbb8f68db69e504.jpg', '32439104_jpg.rf.7c4d04a73e56426d043041f255626525.jpg', '60_jpg.rf.9d462f2aa657f4ae0229ef71471b9c96.jpg', '176_jpg.rf.b015606d0cecbfe44c746363dff02b69.jpg', '20_jpg.rf.69bbbede16b9f7349753be8bdfc4e0c1.jpg', '411_jpg.rf.8408df83035f8efcd29b6bf646f48a8d.jpg', '315_jpg.rf.9480d1c713ed94ef4a06cdbe1b60736f.jpg', '32439122_jpg.rf.f6f7fd240447641f760713751aa9adc6.jpg', '406_jpg.rf.c6f15d796f164f3b4b0e73b59beceb96.jpg', '490_jpg.rf.60d21833f1e3cbf2846264702b7d94a7.jpg', '9583932_jpg.rf.f2f3983b1e518a169b22d533ddfc4485.jpg', '32439114_jpg.rf.d257f65c91fb447db04f522108154922.jpg', '32439119_jpg.rf.9506b6d386501f15c8b7dae389fc8e09.jpg', '373_jpg.rf.b6b86eab817b80facfb709463704bf53.jpg', '254_jpg.rf.f9f6260c5058948f9870ee123e12b9af.jpg', '29_jpg.rf.e2040fe6d80bc4cb65dbcfb31e667a4e.jpg', '156_jpg.rf.0e10f94502514a46344056b1b9201005.jpg', '94_jpg.rf.6e3ccafe2aafb470ae3f95ec704c1821.jpg', '9583587_jpg.rf.d47fed6424da61ade5df415ae433431c.jpg', '32439252_jpg.rf.bfaf09cfe40eeb71f9978cecfc0bdee7.jpg', '298_jpg.rf.ea15e0fde32edf7ca869f81cb5d8be7b.jpg', '556_jpg.rf.e3f4133e7ce6b8fb17af81e3f1349931.jpg', '9583842_jpg.rf.29600cf034e252b1f9d1375b6086d8aa.jpg', '375_jpg.rf.abca0873372cac789d95e3139265089e.jpg', '9583729_jpg.rf.95e6d3678d5e9629c519ca6e2ffef37f.jpg', '9583590_jpg.rf.e2d1d53b64e03638103186f3e0a939f7.jpg', '9583855_jpg.rf.807da20d344bcf5856740aa86d283aa8.jpg', '32439016_jpg.rf.e0467e2dcc570606ddb5bdd1c840f5fc.jpg', '9583986_jpg.rf.376eeded21c6ab19b7ad36c6a10c77dc.jpg', '9583792_jpg.rf.46de7e2811634516038ad9803e8d807d.jpg', '9583686_jpg.rf.a703140ac87e02b3cbca33203619c64f.jpg', '292_jpg.rf.17a25ebef3e5ddac5f20a68739fc7466.jpg', '383_jpg.rf.837da8abbda2dfd3f6f79ec2696bd98b.jpg', '161_jpg.rf.ebafe5e4bfff9eac2cb2b65dedb2315d.jpg', '32439072_jpg.rf.a47e8d5769cf0fcf34b2e5d5811c09af.jpg', '32438965_jpg.rf.c9002fc3c8f77595296059e5290e4a5d.jpg', '9583951_jpg.rf.3ed477ad1282d1bc29454608dd268952.jpg', '9583910_jpg.rf.661d4478cdd9ffba244f571fd7119cec.jpg', '23_jpg.rf.f8d07d26f77c0f09388abd033a8c8057.jpg', '71_jpg.rf.a123c52676c74fe8f00109df487bbe66.jpg', '32439123_jpg.rf.d7be9f493a3cd6564919d3808c71cde3.jpg', '32439014_jpg.rf.01972291ce93e6c1e054ef2a507aec2a.jpg', '139_jpg.rf.3d4f129ef43d0b131a33d63654eeec06.jpg', '9583967_jpg.rf.b67497a992f7484711e0b71631118c68.jpg', '92_jpg.rf.db985cbc14b5e6f89fba439d1377d0d9.jpg', '32439129_jpg.rf.8e2c027c8ceb3eeb3ca1ae364f16e8f0.jpg', '9583825_jpg.rf.305a37dbdbb19f1b55f0ccb55241b448.jpg', '415_jpg.rf.4c4e35cc56d249e8a6542f135478c63b.jpg', '552_jpg.rf.8b1e2e4b1e2ffa0d61e5d8c7dc08da83.jpg', '145_jpg.rf.29a9b364b920a930bf729cd835119676.jpg', '32439121_jpg.rf.3aaaa89dcdad47bfd80e304e905788ca.jpg', '129_jpg.rf.2d2b87299e6f002bd6f7e49dc7edb615.jpg', '30_jpg.rf.46f0a5197e64123065a50aecd4bfee7b.jpg', '32439219_jpg.rf.50c5af658958a795ba7e69ea2b2843d0.jpg', '341_jpg.rf.8d1c4e0cf0c0fc18ca6994fdfe407b0b.jpg', '9583755_jpg.rf.e8964a489bdeed19f7159be0b5029bd8.jpg', '32_jpg.rf.9f74ebd03fe339f93712da1a545153e5.jpg', '172_jpg.rf.dc2fedcc52643bccc9e624a8506ff98d.jpg', '9583888_jpg.rf.873566884c3c2738692a202daddd8e37.jpg', '67_jpg.rf.e2ce3d818f76c2ffa4738503993e8ea0.jpg', '528_jpg.rf.a3a54374a08085abd4333f34e8296b73.jpg', '272_jpg.rf.25cf94490916660060f70a6520a496be.jpg', '9584020_jpg.rf.b97a7a17326e512d60abe985cd91ae89.jpg', '337_jpg.rf.46b74923189951cdd4d4b741747c1395.jpg', '361_jpg.rf.47a25d5b76713f059a9a8eeb50b3d75d.jpg', '9583817_jpg.rf.cce76400ae91fa22c767c3208994de3a.jpg', '181_jpg.rf.a92a2ba2b1fb22c8f47d765693aa5fad.jpg', '61_jpg.rf.ccd4433cc8859181ad5fc11b725d01e4.jpg', '328_jpg.rf.0b1afab497cb90de24eba7570c09749f.jpg', '32439089_jpg.rf.c75838e2479eb0bb1409b47b7f995704.jpg', '120_jpg.rf.3f7d6b4d7ca725ce88cc6ef9a4a4d726.jpg', '9583863_jpg.rf.6215670778bc1c98ea0491513565eaec.jpg', '32439317_jpg.rf.88927c382c2cf7d3eb853e3be14115e1.jpg', '32439031_jpg.rf.fafde72aa32aa2d7ab842da150385b23.jpg', '9583743_jpg.rf.4cde0579f161feb13aa60b7ab4f6f17d.jpg', '364_jpg.rf.a31aefbee8a0a4d91d30aefee4b54917.jpg', '74_jpg.rf.6c46f9494ae7c65104fe8aa178eb7a61.jpg', '456_jpg.rf.d9794820c511afe5c2d2b703eea315b3.jpg', '136_jpg.rf.8af0a8b0d972cdf6a69f85cb7bf2dcdb.jpg', '9583706_jpg.rf.398f421410a435539122293b86b92251.jpg', '32439152_jpg.rf.eceaee972bd1017222d3365e21099ed4.jpg', '32439028_jpg.rf.e433290491264594fb39dcf8999a6255.jpg', '32439249_jpg.rf.b170d3f72b83af9595e50d14c9e1a28a.jpg', '9583672_jpg.rf.6cc87954b51869af2906c17fac8ea6c1.jpg', '313_jpg.rf.aa28c1552b481cfdad704a611c153713.jpg', '182_jpg.rf.2171ebff767099a39c624f3c98ad390a.jpg', '371_jpg.rf.074af872098c2657089a0aa60d913729.jpg', '9583982_jpg.rf.9ecb49f884ebbdfba956b132bea223e8.jpg', '41_jpg.rf.2e9b4f9e34c7ae5447f18fb9b0133eb8.jpg', '9583934_jpg.rf.9bef72738bda3f657e890490c52708f1.jpg', '359_jpg.rf.a5727af15e7d1f133a2a0f81c23b5765.jpg', '312_jpg.rf.741e1090f6e2e69d50c82f3cdf071ff1.jpg', '286_jpg.rf.0ef94c9bcc9adab1dbb41678605dd8be.jpg', '9583806_jpg.rf.299413df83af20b8bb19cf3c9dea2940.jpg', '224_jpg.rf.faf4282dd376e85a6b6486f0a3a22206.jpg', '317_jpg.rf.e25c92592fb2263038372890bde3d6e8.jpg', '408_jpg.rf.8ac3ef1ef85982340772a544316ca939.jpg', '582_jpg.rf.027d258c0b82ec347d5b179bd32cc408.jpg', '491_jpg.rf.e87be1d7a58d8af28f7816c16ff8a243.jpg', '376_jpg.rf.c2c59b86af490ceead11ff36046a93c7.jpg', '530_jpg.rf.9da725541394a7ec494ad98cbd8cb143.jpg', '564_jpg.rf.86f4ede9dc7ec9dd4a134f7e62e67c28.jpg', '157_jpg.rf.d7ee4a2d2c5df95c703c1be637ffc391.jpg', '374_jpg.rf.99ec8ba4292a25efae59baef4ad231e1.jpg', '32439133_jpg.rf.d886cf740765647c4b02b6ff68897623.jpg', '117_jpg.rf.ec4603583fb777a3b4865763bfc295e8.jpg', '525_jpg.rf.0ffb709c0c9caaf8599feb06ce638a14.jpg', '393_jpg.rf.6d1e5c7747d0a69b5d4cc851055e7788.jpg', '32439117_jpg.rf.1793554b8cb03baeba338ebaf10fb890.jpg', '397_jpg.rf.303a43b412680e04d901dc25481242e8.jpg', '9584070_jpg.rf.c3c9d8ba86f60d83a03563bdce98880f.jpg', '9583868_jpg.rf.f9c11443fb681ed72b7adf92aa36a92d.jpg', '9583973_jpg.rf.1f8b6ab01e6c945be9c568a059f1cfdd.jpg', '32439240_jpg.rf.9f76cc33801336389039f37b6e69476e.jpg', '198_jpg.rf.52513504d7fb67a25742997a07ca4079.jpg', '178_jpg.rf.9abd913ea07065085ab1096dec26074f.jpg', '9583564_jpg.rf.171f4f96d02162d09d736c0090feb8c6.jpg', '433_jpg.rf.41fe93af4573a87d1d726200bb64e014.jpg', '318_jpg.rf.63ba09ea52e2c5ef7acd5cf07a33fa88.jpg', '160_jpg.rf.b66b3c8ddd4f6372389462d29d80304a.jpg', '9583911_jpg.rf.17408971b977ed60ec5f90cc891df6a3.jpg', '9583586_jpg.rf.4d876660e6006e6363ad56451464f614.jpg', '9583591_jpg.rf.7823ef7c28f1ce8f05e72120585ba699.jpg', '319_jpg.rf.b9bf476b0f91177ed946f55eac48ae07.jpg', '214_jpg.rf.82f5856d8e11f3cc2c392bf8eff50d59.jpg', '323_jpg.rf.faf99db74bbd6ba7bd608b4fac84c7d0.jpg', '288_jpg.rf.688c79d516af28207ea47b31dc012ed1.jpg', '9583700_jpg.rf.a2fdef37167698eb6804fd5a3c7eaa0b.jpg', '565_jpg.rf.378c6bdf0de9c797e37164adcdc899db.jpg', '9583604_jpg.rf.3c01c36d1d6bd0038084e4724c921ed8.jpg', '162_jpg.rf.ee7d357890dc1b871a1f81b64ec354fd.jpg', '9584040_jpg.rf.ed32218f1c1d4b709fbafbbf0b8da175.jpg', '32438961_jpg.rf.5db8e9bb39ba98089f9c7e615c16f41a.jpg', '284_jpg.rf.35e35009a20e3809a39560ace91a7afd.jpg', '85_jpg.rf.f5bf6e4184f538718dcaa40292bdccc5.jpg', '508_jpg.rf.4237821e98dd7889c33938c109c46ee7.jpg', '564_jpg.rf.a08eeaa1a9dfa8328dce995707f9e0a9.jpg', '458_jpg.rf.db6e89f2fc7bf8c449ce45b8da7624c4.jpg', '32438969_jpg.rf.169279318efd28f11e79e5a2f1f16262.jpg', '27_jpg.rf.cb27742e82df847f120acf9125b905df.jpg', '32439208_jpg.rf.9ee300f7094b7f46e3ff0877325bb0f1.jpg', '479_jpg.rf.87ab3db904dfbdb5df07faf92d924c4b.jpg', '161_jpg.rf.bda4acd97ca5a1de692ea5e8d973d16a.jpg', '376_jpg.rf.3e6fd2e4ac1365e48bf605d85136dcc7.jpg', '278_jpg.rf.691c1030ba5b1433998505684b747119.jpg', '32439280_jpg.rf.04ce5952f15fa177236626f44a3fb879.jpg', '9583662_jpg.rf.b0113bd56cd1183cdc376780ee592bfc.jpg', '32439223_jpg.rf.e65aa6e1060d36c1416bf9eb96a30298.jpg', '540_jpg.rf.3b26016b320e667901aaafc708af84c7.jpg', '507_jpg.rf.f04ae7c4ca73863965eb251b5db42224.jpg', '238_jpg.rf.fa539341f2418c99f76ae17f084cb949.jpg', '32439024_jpg.rf.6d32f82351612890600df4a2f71421a6.jpg', '519_jpg.rf.3e23e9fc25c20945ce5bd16a74e1c087.jpg', '437_jpg.rf.69ac8076a668e56fbdb50bbfe0f18abc.jpg', '291_jpg.rf.1cedf36faa8759dcf109277438b1f035.jpg', '24_jpg.rf.d6212496e2f1d2bd14c272c53347b03d.jpg', '9583875_jpg.rf.b6b2a878a6827f250f6374b00c7e1c5c.jpg', '32439050_jpg.rf.d337b0d1ad1754da41eb3f258906cd87.jpg', '214_jpg.rf.8e7e326f5aba12c90f1f7cef6925f981.jpg', '95_jpg.rf.f962cbbbd7dab9e13ea0596687fdd9e8.jpg', '598_jpg.rf.4d6321fb3fe502d5fd44d677266220fe.jpg', '9583681_jpg.rf.59d6d22c7aace24662a887788ba55755.jpg', '9583852_jpg.rf.af0cfa27dde1af9aa05c57380394756e.jpg', '267_jpg.rf.e2e7aeb3a6aad31c7554f29867d8a78b.jpg', '442_jpg.rf.0e5040f88a871b5da7dc119bf6d83432.jpg', '263_jpg.rf.4ff680884d0517b716a335e4f80c71ab.jpg', '9584048_jpg.rf.4983510abfa1ea07f1ee0cc0ffd3b28b.jpg', '315_jpg.rf.c86e7fe8d663b2eb942816fbded3247f.jpg', '248_jpg.rf.93e4f2f16252ef11308d6f58875e1c7c.jpg', '244_jpg.rf.803ebd1f709d0d2998bba25822037320.jpg', '567_jpg.rf.80c40461362ce76e133ffdb60bd6bbb2.jpg', '579_jpg.rf.5af8cb81c87022885f257469c441a43e.jpg', '32439216_jpg.rf.4f7dd01e887433906064898cb79986fc.jpg', '32439244_jpg.rf.e919c9c6c287b7474f451d5b5da9bf67.jpg', '9583696_jpg.rf.3f22db31095ba641c7b0b85eae377089.jpg', '382_jpg.rf.acf12c1fcfc4462c70bf391ab7011dda.jpg', '9583834_jpg.rf.d7a8a4fe64f67cd943fb79a95aeb2097.jpg', '91_jpg.rf.1f96693ec127fbe70578b379c89d068a.jpg', '38_jpg.rf.4473ddbcff6e1eab0c88d1b7858424ca.jpg', '32439183_jpg.rf.1adb04848b7d73c078ec7a2993c226ef.jpg', '386_jpg.rf.245b3f536fdbd4b1c8e3db1e31e8c2ea.jpg', '168_jpg.rf.2fab46bcf23b886c71a0deb22fb5290b.jpg', '132_jpg.rf.d1294c7b44e221c52ae30d99c02694c4.jpg', '32439284_jpg.rf.2d5d796e6bb8b8b75d0b170f5eb07bab.jpg', '543_jpg.rf.fd7bb89b45a5f1f7a846537a8e1490bd.jpg', '532_jpg.rf.6dfed34c4de90f32f62d1fa0e6fffcc9.jpg', '384_jpg.rf.1bda8143f1a58fb0495c98a36aaac83a.jpg', '9583707_jpg.rf.b486cdb08722fe1c0a4e8e86d231c13f.jpg', '389_jpg.rf.50b1be3b24086f08d56fb80924a61994.jpg', '202_jpg.rf.de402885721efc0fa840f2c35a328b66.jpg', '113_jpg.rf.4c1251eae86266552c82f2301316a16a.jpg', '159_jpg.rf.5673a4ebcc879296c7bfb42ac4b26e76.jpg', '264_jpg.rf.0426245ecfe056194a041c0d2acaec14.jpg', '588_jpg.rf.a8ba84890cc34e59dd5c07bd0ba4f1f2.jpg', '432_jpg.rf.757f9b21ae4edd1c91ea86333d740e32.jpg', '147_jpg.rf.3957eb63a1fd1d70c86c7344a73aadb8.jpg', '413_jpg.rf.b0662c3da984db7ecb759013028299b7.jpg', '106_jpg.rf.beb054b07cab1250208eeeb2e0aacbcb.jpg', '357_jpg.rf.fe1b1abd1250a0161c914c245cb69127.jpg', '443_jpg.rf.011fbee03f4b3ac4eaeee12fd07f2abc.jpg', '9583851_jpg.rf.daf29404d10109f10421ab786ac4ef17.jpg', '9583861_jpg.rf.d348f3d4758e328a0ccd077e492a7141.jpg', '573_jpg.rf.aa6db5d116d46e62ce5bc41546756550.jpg', '32438982_jpg.rf.89f95f8501f19a8561dd140e374a0bba.jpg', '141_jpg.rf.712b303fbf69ac0b3e0a7d0a4c225719.jpg', '32439212_jpg.rf.5080def3eb81aaab7ec4689e55350bcf.jpg', '32439172_jpg.rf.2947fbf0608323832a53f8cc8a871f29.jpg', '134_jpg.rf.6afb1028114d1ea6f40ee95f885c4822.jpg', '12_jpg.rf.0e7a28d8131d035d3a85aa925c765c7b.jpg', '201_jpg.rf.0cedc8d51b8725f649c575c8e21097af.jpg', '574_jpg.rf.4ae9bc4f1a4d1ac1f310cf1601e59b6f.jpg', '244_jpg.rf.c289fad137600a82f8f5938ef12e2530.jpg', '264_jpg.rf.277788fcd90e25d12cca606a836bad95.jpg', '9584008_jpg.rf.facfea2e75d90fd7544234f12c1c626e.jpg', '542_jpg.rf.c55157802d0f1a0b3eef4875be978e19.jpg', '435_jpg.rf.9b9f2ea65b6e34419547aae9e656ef53.jpg', '9583702_jpg.rf.bc33dc29cbb658aa1c3379622145e2ab.jpg', '366_jpg.rf.6f7067ea37bc1da82752569d9e098ff9.jpg', '9584013_jpg.rf.662efb5e402c8afa3c89b24c8fbdf765.jpg', '167_jpg.rf.756b583198c278ec29fce59322a006c2.jpg', '32439055_jpg.rf.b0b415f0ddffacce77d38e76199fd986.jpg', '511_jpg.rf.08da7e86495f80303bea4a6e7c0531bb.jpg', '9583727_jpg.rf.be5a9a76a00708922c7b8a16b36828ad.jpg', '70_jpg.rf.f448b3b27735778c4ff59f01a45ed532.jpg', '203_jpg.rf.b48e3ff563a0ad0b63083949bdc58658.jpg', '418_jpg.rf.a0a12983acd1f1c51cb5791afc8f023f.jpg', '457_jpg.rf.5895ec8ef6a2314f7c587ba4797dc072.jpg', '228_jpg.rf.08ab21085c44b19afca9718a619365a2.jpg', '9583824_jpg.rf.ef2704e94ab05205cbf1ef903372caf3.jpg', '20_jpg.rf.2fd7fa6ee0d5e9925ac5f37430b78a6e.jpg', '542_jpg.rf.c134a2870ab2158484928abe886c7708.jpg', '32439056_jpg.rf.dd550ab2ca3e45cd8174403e78d39b99.jpg', '479_jpg.rf.939370bd76a2e8a06871c61aa9e5c535.jpg', '144_jpg.rf.037c8846b6b7cf11d1e94ace3e3b666f.jpg', '172_jpg.rf.a834139a64876735362f7035135f9e48.jpg', '555_jpg.rf.1905d204d551cbd180a4168c2ca2d2ed.jpg', '32439151_jpg.rf.9525e1a4bc04328cf43da142b88614dd.jpg', '589_jpg.rf.9ce9266b0250657fb2e9c1625370f779.jpg', '13_jpg.rf.e90e9edb74c74e274019a11d92dc3e29.jpg', '9583865_jpg.rf.da6abf926a20e9ace4947bc3d84ae075.jpg', '63_jpg.rf.0c4c1efe3e9f43348267641454889cb4.jpg', '32439000_jpg.rf.12e7486da21a33924473544d5ad65238.jpg', '32439298_jpg.rf.6f347f34e497ca6907547937ddcb329b.jpg', '553_jpg.rf.28456cba0f22fcd59605ff863a408b37.jpg', '269_jpg.rf.4206de3798592222e21fd5ae2124a622.jpg', '434_jpg.rf.497f02fdc37973f69d9724a837d4671d.jpg', '72_jpg.rf.845bf41f30db72c535f03dd697ad6093.jpg', '412_jpg.rf.19e81043d4f405a56026f6b64e309b4b.jpg', '9583746_jpg.rf.8efcf2b555bda0658c8f74acaf5e0448.jpg', '9584028_jpg.rf.d9015a24ac76613200a4619906dc1fd1.jpg', '288_jpg.rf.bfdae8e78941a2a3b92efa3621fe4207.jpg', '32439127_jpg.rf.b2caab917bb4e220fd49d7fd8dda334b.jpg', '9583692_jpg.rf.35931d256e9857937185cf2e3e7e7cb0.jpg', '9583891_jpg.rf.dae1d54aaaa9e52c34f15aa2e43d9448.jpg', '32439176_jpg.rf.bad92c741da5c094aa70a74f8d0f8d87.jpg', '399_jpg.rf.ebc28e4c754adc0062ddecd96b22c62a.jpg', '598_jpg.rf.ea49986f10d72ee13e9fcb24ac6de5d1.jpg', '9584012_jpg.rf.e19acf539514ca15ba7745795256bd52.jpg', '9584033_jpg.rf.0c8e9979cd520fd538afb075cda578bc.jpg', '282_jpg.rf.c405ca021db2394c8732ee26ef39b0b6.jpg', '32439075_jpg.rf.3b756f5a8b1b842ab7f3edce9e2de590.jpg', '9583632_jpg.rf.9b71ced3d1c2d3a648f2ad593b145d75.jpg', '368_jpg.rf.ab6e6abbd3ac46b198660f886c65bb9a.jpg', '8_jpg.rf.ad4d3edfba833c7036969a15ada9c36d.jpg', '32438998_jpg.rf.23107e1d1dbd19e47da1b49c45ea8b9b.jpg', '_annotations.coco.json', '9583799_jpg.rf.d095953af8ed3a9120b1a90fb3294f7c.jpg', '121_jpg.rf.ac48d9d96d7843bb72e3a7648400347a.jpg', '171_jpg.rf.5562eea2adea4be167293d824dafb384.jpg', '9583864_jpg.rf.d731d7c5343e6acdeebe9ba9c50a2287.jpg', '586_jpg.rf.8310805f888de6a57493df680f443409.jpg', '9583835_jpg.rf.af772cd71b87aa458bfed2148f5a8584.jpg', '32439241_jpg.rf.65093495c192a733bc005e2b7c57055f.jpg', '227_jpg.rf.d572251d9212ad4a226e43368fb174c7.jpg', '9583616_jpg.rf.2caa8ccccdbac8395d96d88806e289c4.jpg', '197_jpg.rf.68558aaac1c778409c6c69df4dae4a7e.jpg', '9583750_jpg.rf.f3da69d38204d39683de8e753b8f6179.jpg', '293_jpg.rf.cee3706268176c564513f0415caab191.jpg', '191_jpg.rf.a814796d94dad6a82a269e3f4da3fd92.jpg', '521_jpg.rf.826e6cab910e4e0d4df05e99cbb82f94.jpg', '32439054_jpg.rf.5c758342eccadd793cc60e8f3db7af1b.jpg', '9583954_jpg.rf.64891d9b8f8ce4d533e2393d6fa87bf6.jpg', '445_jpg.rf.afb6d2935648bcaa03fb02885ee37a03.jpg', '476_jpg.rf.0998094cecac3f45ffab6ca64da8be96.jpg', '400_jpg.rf.5a0501d6463b932066b6ce8dfc1ae26b.jpg', '9584032_jpg.rf.224fb4c56ed5e145d383c7eb2a1416b0.jpg', '455_jpg.rf.9bc1172cd1e87c06287a0bd77f874e27.jpg', '125_jpg.rf.d2d127ea7d39ecd393546a116cdfc781.jpg', '9583850_jpg.rf.8036e7726eadc842b521b9855f7d7d08.jpg', '164_jpg.rf.0bc58982c5463aebc085f3b3a1e4830c.jpg', '82_jpg.rf.f7d4f12c18ecd785f9f676dd699f58be.jpg', '32439087_jpg.rf.1275113e42438ace5c1c4a2dd007b9a3.jpg', '148_jpg.rf.c90479848b5b48933c250729c0933340.jpg', '32439222_jpg.rf.ee2bca77dac4c97bdd61e0f8d23c710a.jpg', '32439053_jpg.rf.c8f36322b93dce0fc2dfe36675cb4e54.jpg', '409_jpg.rf.acfcff740c481658d83304fa5c2c482a.jpg', '9583695_jpg.rf.e04d2377f29df585615126a06b61ec62.jpg', '9583894_jpg.rf.1c88382c594a18ff6113cfbc32a69021.jpg', '9583983_jpg.rf.dce37ee0980b585170339fe82a6d9542.jpg', '34_jpg.rf.e46bcd3c795be6e45978b1e3eabd3595.jpg', '200_jpg.rf.645e331ea58a6b5e70b0ea03d390aa50.jpg', '229_jpg.rf.3e69533f8d7fd93d7e3ddc8ae163b68a.jpg', '271_jpg.rf.17993ce6a02b0957abeed0e1dc4ee870.jpg', '9583714_jpg.rf.5d03209b722ea12fd2fa42862dd1c6fd.jpg', '130_jpg.rf.1a8be9cf6ff44cacf70b6a8e1b99fe7b.jpg', '9583614_jpg.rf.390d9efcacd81772aa8b8f7edfe7f75a.jpg', '9584052_jpg.rf.d6f2524a401cb3327e96da4231fbfaf8.jpg', '402_jpg.rf.4de7605914f1e6cf26aa1abcab6429c9.jpg', '9583831_jpg.rf.3e00b18e91ec7edec80691fe54da2459.jpg', '32439148_jpg.rf.05307ee7879361e840140e77c46d9c62.jpg', '9584016_jpg.rf.53b5d8b60fa22a889b6f80aeeed97bb3.jpg', '32438999_jpg.rf.8dfeb5114fa1459d72c8636ad74ddb20.jpg', '454_jpg.rf.ebd1d820718d74387b0214231b9e0828.jpg', '9583802_jpg.rf.6bfab16af32fa26cc18608a2a375e480.jpg', '206_jpg.rf.f01ca82570f2de7ebf0ac7f10dd4c95c.jpg', '277_jpg.rf.d74af14e2a7f09166043bdd9d21aa7b2.jpg', '32439204_jpg.rf.15d2f5111ad94748270b422b5a6053d1.jpg', '9583874_jpg.rf.9b5a1c86ebb338bf29fe110997ed4034.jpg', '9583691_jpg.rf.9199d361777f7fa156050be9aec605fc.jpg', '125_jpg.rf.c37e6f352d28e02bbd3ab03333a0fb36.jpg', '32439018_jpg.rf.f2c1c570b1b1cb25f8cbf4321c6469bb.jpg', '329_jpg.rf.fc17c3d285a95a61e6ccf86d117f0304.jpg', '9583584_jpg.rf.e389290bd1a0772d702487faec12b105.jpg', '32439159_jpg.rf.666203640bdfdad65960c4926dbc28dd.jpg', '32438964_jpg.rf.b5c5ff29f256c6b154053510db9442d9.jpg', '9583781_jpg.rf.ca5835484e62f71f13d7d72048913fac.jpg', '9583636_jpg.rf.a52d05a059f54a751c4e4bef3645a78b.jpg', '86_jpg.rf.9ba65fc8fcb240dfca9927a672697311.jpg', '32438959_jpg.rf.88103a28400d9aa71b9e032957dba151.jpg', '195_jpg.rf.83ea8c0e6a8822ec3892f73cce78b3ab.jpg', '253_jpg.rf.ec0e627dd1242758f000510868635498.jpg', '60_jpg.rf.b7c08d8e66c466b00bbc04ab10696af6.jpg', '9583920_jpg.rf.9eae3b4a844c79a73c9c142c9cb75288.jpg', '9583992_jpg.rf.fe95666598e94e1bd3fbd4828f08ca99.jpg', '9583928_jpg.rf.98e9fafe7fd1802cfebaec0e52dcc830.jpg', '81_jpg.rf.44e697fcaeee4b560f7ca53851863928.jpg', '9583621_jpg.rf.b03150c29a58b39741099641d25a3ed8.jpg', '270_jpg.rf.9324be5c4b7cff44ee7f8d70c5ac6b7b.jpg', '123_jpg.rf.8b31a9d0d5440f5ca0346f8b994e3c55.jpg', '32439200_jpg.rf.58f5fa26d896ed246658cafd50986f02.jpg', '255_jpg.rf.4091b5e94d96d5a03795d238526104c0.jpg', '68_jpg.rf.971b20fb62d05e57d32179a4c36724fb.jpg', '32439239_jpg.rf.98e9c0882b9ef6a7c402c45b84674a41.jpg', '9583977_jpg.rf.9238e56bcff7ad2ba012f747acf4d633.jpg', '47_jpg.rf.fb606889e3788c9f63e2860748c9f47e.jpg', '9583909_jpg.rf.794a451a2b5f8b011d8eca2d7c10b62f.jpg', '423_jpg.rf.6c8ad8977e2bfad03752ad60a7ed479f.jpg', '518_jpg.rf.296fe3a7e8e0ac09665a73dc916b51e1.jpg', '32439197_jpg.rf.abf7fb207b6a396bf0e702866d15f025.jpg', '141_jpg.rf.1452c008481c1ffcb32ac54433cf47e4.jpg', '32439108_jpg.rf.e69f3f66f21f94982ac029cd939c491b.jpg', '144_jpg.rf.070ff2c5ded53620280ff9870c0237fc.jpg', '69_jpg.rf.deeb067d8712720007332397dd1f6300.jpg', '32438977_jpg.rf.9285ce3b65b639eb1508e767358dc007.jpg', '9583915_jpg.rf.1ec8ef8b38a783abce9426ab508e509a.jpg', '295_jpg.rf.7afd30cb8230e6c799b0db77a82178b2.jpg', '509_jpg.rf.9d8d93033592716e21894914cf8a260d.jpg', '9584039_jpg.rf.d15e97f6c5ba6216efae91bc255d1d19.jpg', '9583777_jpg.rf.a3bf0e52f7732a995374d8a1195d91fa.jpg', '229_jpg.rf.8cd648c418d2e4df136d24470e98c72f.jpg', '266_jpg.rf.74151a886a44d4a6affda967629ffe6e.jpg', '262_jpg.rf.c0582c6adb063d963209179463328b6f.jpg', '274_jpg.rf.c2fb9378d2f3e3a8a215f9c379cecb76.jpg', '9584049_jpg.rf.d895eb2caf66672de9d69282bf8715dc.jpg', '32439196_jpg.rf.282cf608797021404ec13b1268e851fe.jpg', '9583889_jpg.rf.232d91b1753ab433b1ab1ad54238f25e.jpg', '358_jpg.rf.6664ede306d9e822880abc0e86adb07c.jpg', '43_jpg.rf.a3f5a13507373359889bbcc3b0dca89d.jpg', '32439141_jpg.rf.9f8319ed3000a081ce536348510b9263.jpg', '595_jpg.rf.77db3044026c85482250569c4f365d89.jpg', '320_jpg.rf.be750b6ffa5bc23d62c9479c0c60f323.jpg', '354_jpg.rf.0d7466a3a542f93df918672d00401f75.jpg', '32439094_jpg.rf.cee2a06c2c9838393d83142f9d3ad17e.jpg', '9583827_jpg.rf.0b4ab9e054c3929117469c5d92c09277.jpg', '495_jpg.rf.a4bf0d56a45d1193c6fe0cc8f14b7bd2.jpg', '9583708_jpg.rf.fb680bfca6d37072386a31f751a39949.jpg', '32439081_jpg.rf.408385c92cd200aaecdba6d9f5f488ef.jpg', '9583677_jpg.rf.dce7a2c1eaf05ca7a617b84b59ca8cce.jpg', '541_jpg.rf.3b72e5de372bca234ce6b333d9e1a180.jpg', '9583963_jpg.rf.0024921161cae6dee2fc798f4151f5ef.jpg', '254_jpg.rf.edcb7f65148ac0f83285d52016dab1da.jpg', '58_jpg.rf.f0f53d0f663e768bda27a34fe5c57cd6.jpg', '149_jpg.rf.2b350bfd43ff3302f7a6cee3ef1cdff8.jpg', '217_jpg.rf.7f45cc77abda03bfe901bc76792ee001.jpg', '596_jpg.rf.1a7fe38fcdd1a55a7ca5404c40361b25.jpg', '481_jpg.rf.95f719bc1e2b1c22a958998d91157658.jpg', '9583886_jpg.rf.e0dcb840959f1c75a25d0feb8ecd835f.jpg', '32439161_jpg.rf.e6c20b755ebc53424b55eab5819800e4.jpg', '9583916_jpg.rf.368ff6060e39aeef37ae933af21be6b4.jpg', '32439097_jpg.rf.9d2c5f4657c06f90b3d341433e580935.jpg', '292_jpg.rf.5bcfd001fb7013c9cfba1f8c203d8fb8.jpg', '346_jpg.rf.65666e9947a26cb9d892f446d698bbca.jpg', '9583883_jpg.rf.5140348b335785b530c73a1105b2ecd8.jpg', '9583858_jpg.rf.95c5df5be7150094de462c19ed987527.jpg', '9583946_jpg.rf.3bca088995ae7f7c602d34c029b295e8.jpg', '202_jpg.rf.664570ed376babf1737244b36ede3c82.jpg', '470_jpg.rf.28f5ef71465229cf45ae5b986b4313e3.jpg', '9583653_jpg.rf.12d162d8d1cdc8777427b61adcc38f60.jpg', '480_jpg.rf.45e64073bfa127e6f72284c4afe74622.jpg', '580_jpg.rf.d8495125729e9510bc25865d3f8702c2.jpg', '106_jpg.rf.c19c04b1f2041aa4e56c9799319a3af0.jpg', '32439296_jpg.rf.3c09219ec7c6dc13ce8b1ac851a6e52c.jpg', '9583839_jpg.rf.0e8316828f9f82f3e24692fcd5081eca.jpg', '32439229_jpg.rf.a19c0c3e505f486e3cf81d033babf8fc.jpg', '592_jpg.rf.ccc61907f14db03e893e1669867a6533.jpg', '341_jpg.rf.a5afa73c4284e7118ce1a7c7c6914357.jpg', '476_jpg.rf.f47c8c49b7fc02c83ae21121fdf8e35f.jpg', '9583780_jpg.rf.a6fb43d270516a2efeca5564aac5e3ed.jpg', '474_jpg.rf.a6faa96b2cfbd13a4c3d71fbad3a453d.jpg', '9583600_jpg.rf.764501e7abd4cd30d3505cc1f8694a11.jpg', '289_jpg.rf.bd227099abc313b57e8aa76c17d837bc.jpg', '100_jpg.rf.3563e64a053a73cd5e264315f4bcd829.jpg', '9583615_jpg.rf.dc64438cc781ca99a5799f0a8964cf2e.jpg', '5_jpg.rf.760f4fe51aaa826ddee9048f19099cc5.jpg', '12_jpg.rf.430849b202f087689e335030f6c9e0fa.jpg', '162_jpg.rf.f3495eb92c288ef819c1f0d882ba6650.jpg', '240_jpg.rf.793c6f72839b1ac876e065f28fb0f543.jpg', '9584058_jpg.rf.1411b1d56adfd9f6c201154a653ba148.jpg', '9583618_jpg.rf.f5fbea1b137d1d7531d321ead80980c8.jpg', '160_jpg.rf.9c6d7aab4f5c143b89f7dd02dd6e8518.jpg', '9583667_jpg.rf.3682f53f7aab5d480681621c3cf798e4.jpg', '183_jpg.rf.aa019dd09aa15e6f8e8e0b56e4764664.jpg', '118_jpg.rf.cdf87cb9faa0d8b80d9609cf110bb0ff.jpg', '32439261_jpg.rf.c3846960bcc7ca70d2158c759a904cf3.jpg', '9583732_jpg.rf.8b62428dc2fe95b0cec3257b3ef01261.jpg', '576_jpg.rf.5609ff8c7a6049922f7bde6ba7994524.jpg', '217_jpg.rf.874e20466765d524b02dbe2175f23894.jpg', '32439266_jpg.rf.24f47b9209e29a1ab095307227f10449.jpg', '9583613_jpg.rf.df1c5e1bb026d16d78a3f68f72e90758.jpg', '352_jpg.rf.134296a503854f234ef4e9435d034776.jpg', '9583796_jpg.rf.896e9a00a994058df6e2889dc5dfc391.jpg', '505_jpg.rf.789a94841176ef7ae9b69a645519a3ed.jpg', '424_jpg.rf.4dfe2a11898f8685c6e1007a0caff572.jpg', '9583898_jpg.rf.847d1d29b8c2bf79e5fc77aba3c41169.jpg', '9_jpg.rf.145cb64d48fe9daa3cbef8622f1217ed.jpg', '371_jpg.rf.910167d8b28fdc586bbb415554ccd9e5.jpg', '536_jpg.rf.6c61fc3059c636acdea00efae3c4763b.jpg', '32439035_jpg.rf.d7b2137c78c90bc8e3ba1eea2880b2ee.jpg', '9583773_jpg.rf.4d08062361b040799540ee1fa1648c1f.jpg', '78_jpg.rf.553a76e189259ad897b7b9c895269a1e.jpg', '497_jpg.rf.3b1780aaffbc1bc02ec42f97655b256c.jpg', '289_jpg.rf.beef770dee86a15d24ee4a5b7a3944b2.jpg', '591_jpg.rf.74ec1650550aa1c49a093df4b76b018b.jpg', '9583869_jpg.rf.83d5e133390f4aca75dfc88dcdfa098f.jpg', '79_jpg.rf.d9fe1de648ad59919d410b9d67c045fa.jpg', '525_jpg.rf.93453103a0b76d07efedd9bf458e0c08.jpg', '194_jpg.rf.5cae13adc833878ddd682d74a2efbd71.jpg', '413_jpg.rf.69ed324056966c48b84b463129a7f9ff.jpg', '110_jpg.rf.d1d6279fa3ad6acbb0d538f406d5b683.jpg', '32439304_jpg.rf.cc1a72fab1b8bd58e7376c92dc74860a.jpg', '32439238_jpg.rf.521e960929eb16b044b865729b26a544.jpg', '9583654_jpg.rf.9b16c8738ffe8888d9040da155a6bd86.jpg', '309_jpg.rf.ec21b1bd4fcc89a4cef0302c15e74732.jpg', '32439177_jpg.rf.e43f9b939cdf44467e12c8a4a4fd1792.jpg', '9583673_jpg.rf.3b8edf73a1f644b999e8b8f0ee09a8db.jpg', '583_jpg.rf.13757346f581b870a26265b3416a3c9c.jpg', '9583929_jpg.rf.ff4b2dca4de493ce7d3ff8eb3c7a926f.jpg', '444_jpg.rf.a96820cc5592c25452ea1fb9d8e65503.jpg', '489_jpg.rf.3b9dd7318d29878278c3e165b7808e9c.jpg', '9583797_jpg.rf.3be345f6a07098e11ebe590f24c85d07.jpg', '32439279_jpg.rf.acaa89eb39510367f745820012b789aa.jpg', '9583945_jpg.rf.18a7c88dc3888db4421ecd16b1f07af3.jpg', '32439187_jpg.rf.6cd539b5968cc3ef3b2200c7628646c9.jpg', '430_jpg.rf.5d85b0e96177dc5ae0996dfcbfff60d3.jpg', '32438989_jpg.rf.30efe901c55159003f32f352a2712e21.jpg', '363_jpg.rf.50460ea13d4ca653ee0c5f2b1b037b34.jpg', '9_jpg.rf.6ff5e371b0b50437d61de129065640c7.jpg', '257_jpg.rf.38daf089031ea93f35fde50e4e1f76b2.jpg', '297_jpg.rf.ddec7021e27201520652f6584e1149a2.jpg', '405_jpg.rf.d011d3853392f7973e34d3bf2b3e003b.jpg', '343_jpg.rf.3f4dae0f9b1c74b5ac337051b2a33b37.jpg', '128_jpg.rf.f3db134cd6354249619325604dc699ac.jpg', '391_jpg.rf.8f1dbe1879209d83da2d253e2d447a71.jpg', '32439059_jpg.rf.60be995e1a577d99fc79dfd7f919f2e1.jpg', '32439009_jpg.rf.36a09a7d6090e41ea48962f6c89ea08a.jpg', '32439178_jpg.rf.4b28385279797f68fdb4145d6b6b1c0a.jpg', '171_jpg.rf.e836c7c1869c7a58f1eee1146a18e279.jpg', '9583631_jpg.rf.14484b1cf2f3b01270a55ed59ba47205.jpg', '246_jpg.rf.64789b1700512f19deb4b82a75aa8134.jpg', '440_jpg.rf.18fe066431cfe7934edc273f851da3d2.jpg', '9583721_jpg.rf.8f4b6f647f2dbe2e23fef089b3c43d57.jpg', '279_jpg.rf.c3b9f246a11074e2678f4ddd7ab9f02f.jpg', '485_jpg.rf.7234635440e9a27e0f4e96cbc2cc2058.jpg', '173_jpg.rf.3e9b9bc3994dea10300de8066d13baa1.jpg', '32438956_jpg.rf.f1de99b498e6517ea66ea35479fc6a2a.jpg', '305_jpg.rf.39fd337bedceafa5f8b483a34826d624.jpg', '17_jpg.rf.69547ccf85e78cf6ef7458cf04607657.jpg', '9583607_jpg.rf.3ed227ba0e3325f8bc1e3c03cebb97ef.jpg', '32439308_jpg.rf.a1da51341cbfe04222590c7922b60284.jpg', '127_jpg.rf.418930eb228acb24214f2bf83e37259b.jpg', '395_jpg.rf.7bb5629981b79899f3b6b2aaec590ea4.jpg', '352_jpg.rf.f38a6c324ce13e4d7dc89001d368f6ee.jpg', '279_jpg.rf.cde69a9b9feff654af7860901d457fef.jpg', '32439103_jpg.rf.d2bacbeb01636f6769353e213f8f0950.jpg', '32439110_jpg.rf.baf15126d15b40a58d990ee38cb76ab5.jpg', '9583783_jpg.rf.92c86f632c17c5282c197dc469a0c87e.jpg', '492_jpg.rf.7fbd32ae055aac82effa3d8e75ea1aa0.jpg', '258_jpg.rf.bea39f6c0b8b9c639361f4350155aa20.jpg', '9583772_jpg.rf.f01446ea3d333d36c43eb813b6219b0d.jpg', '32439076_jpg.rf.58ee8491ed5d091e5d4ffcd6b9052b5d.jpg', '9583764_jpg.rf.f9b95768d7f09774cf87c0a59abccaf1.jpg', '9583599_jpg.rf.f19adc2c40345a30a667d74e85989891.jpg', '9583684_jpg.rf.69aa77806c06fcb970132114b80b20b8.jpg', '111_jpg.rf.76092fee9da08b18f69f29529418bdc7.jpg', '9584001_jpg.rf.493dfac23c8f76ba3450e7e5d4affdc3.jpg', '9583565_jpg.rf.45b68b5c42104392a7b3f7c5efdc502c.jpg', '197_jpg.rf.2617377d468792cc00472cdafb613f7e.jpg', '35_jpg.rf.d9362cb7a2a1013760d88aa11d7c56a1.jpg', '599_jpg.rf.b767a95e03a87dfa31c2f713981434ae.jpg', '9583568_jpg.rf.eb4fb63fa1d033a58378b8fd2f678599.jpg', '9583893_jpg.rf.a4ad3c2f68953581e766b4ab97837391.jpg', '9583630_jpg.rf.967594717bb15e6d76bcfda2f8a10ef2.jpg', '58_jpg.rf.b954861aeeb1c6088af9e75d94a87e77.jpg', '67_jpg.rf.fe888450cf68852c080efab6c90bcb7b.jpg', '234_jpg.rf.789ea2f387ca0f3144aafc2487773f0b.jpg', '9583878_jpg.rf.b68962db63a73d213dba672187cf6fe8.jpg', '243_jpg.rf.911c9dc05872c9759e873f6fd9b924b9.jpg', '32439232_jpg.rf.c75baaf28957d29f498839b5dcd5e858.jpg', '143_jpg.rf.20e3985ee5e9851b5b62d75c987ea25b.jpg', '32439092_jpg.rf.be72466612b449d1e30c687559d495ba.jpg', '97_jpg.rf.c9108fb1268aea9988bb964e4678fa05.jpg', '286_jpg.rf.cf08efa9621fad55514bf6cb0fde36b5.jpg', '46_jpg.rf.5db08c52e7a5d70a156849a42ab2103a.jpg', '378_jpg.rf.4bf2fbde397038d1dc78ac8946342550.jpg', '549_jpg.rf.e8a767029582190bf624615d5ca7dd5a.jpg', '32439265_jpg.rf.e6e1c80acf1b7f66578ddb4a683069d7.jpg', '9583627_jpg.rf.86bcdc2dca56e1e1d74ff6ae6405ca8b.jpg', '32439166_jpg.rf.e9deda40935c62fccb4b8bd5b8c435a0.jpg', '539_jpg.rf.50546142f5e13067af89659544d11e52.jpg', '246_jpg.rf.0486317fff26937bca86edc6545c56d7.jpg', '3_jpg.rf.50f40cbeb13aa2993432ae91ca9c8983.jpg', '9583837_jpg.rf.f60e5bca280f849a7af91527f3271cb5.jpg', '584_jpg.rf.0542d4e43f083dc1717b123cb547d45b.jpg', '9583914_jpg.rf.82844b20bb1aae96d6f39cdcc26365e9.jpg', '523_jpg.rf.10f95b39e672be05b398954397933267.jpg', '438_jpg.rf.35025182054f746faf788ca679e53591.jpg', '9583765_jpg.rf.5c58508d842e68fe618ec4f9eb8e620e.jpg', '96_jpg.rf.2cb4cd47ad44a59794bd9843e053ab92.jpg', '9583873_jpg.rf.8319db84b18fef091ff29030f1fdb394.jpg', '280_jpg.rf.3c21394ce0fff17f5e63bc47a8599810.jpg', '336_jpg.rf.5dabd9e998e2baac5275a1c7215d2d30.jpg', '430_jpg.rf.8af2d05aac00b9bb88a73ea97f58008b.jpg', '32438958_jpg.rf.043ef6dfca36e0c924a0e31888cf5410.jpg', '404_jpg.rf.9c07d950795623ba77164b9198c5a1f0.jpg', '499_jpg.rf.054b1a71a5603e59bbeee70cb7c8620d.jpg', '32439167_jpg.rf.714bf9a3c170c7f14e5996d237513a24.jpg', '119_jpg.rf.3d861f994688e953102fbf7ccbac5136.jpg', '32439192_jpg.rf.b14d5c5e23f94d89696a6e81effc846f.jpg', '459_jpg.rf.67e5d4c260bd3683db797c62a1228282.jpg', '420_jpg.rf.2191cadcace67780f6566ffc7fac3411.jpg', '9583666_jpg.rf.c57bf63b693357f5c6e80989d796fc16.jpg', '19_jpg.rf.2ad85ac29802ff325dc24ac9ec23f4f0.jpg', '553_jpg.rf.054aa4df8ca8d64efe72f0d214606747.jpg', '294_jpg.rf.2a20204f3d5a1815fc28e33c35826944.jpg', '9583701_jpg.rf.da8cb248445e65047d665445aedc6007.jpg', '32439174_jpg.rf.77034c31f7e644457e5c3205e1335aad.jpg', '340_jpg.rf.db327dd9b773b985ab4dfba76e47e07a.jpg', '9583862_jpg.rf.c7ffe75a3f652e4f130e5695e0c63412.jpg', '32439138_jpg.rf.ec0e56ed30aaf5dba8d81bd6a2eb825a.jpg', '209_jpg.rf.29f5af33626a70d7d23be18045818077.jpg', '211_jpg.rf.f5a825d683da1a138b734c378f857b56.jpg', '333_jpg.rf.0262b5ac7f3daa45db7632c22713b076.jpg', '9583767_jpg.rf.b43430dd5b236af7b1374f627648269a.jpg', '308_jpg.rf.6f5a5672fe5f3b143ee602f44d358eb5.jpg', '471_jpg.rf.37e5f8a0cb6c4413ce5bd115814ed0ab.jpg', '9583906_jpg.rf.170bcad0c357837e5b04f4ea571f986a.jpg', '426_jpg.rf.e46ffd819130c8090551325ae92e1e02.jpg', '9584025_jpg.rf.fac95696a51f932f2d50d11bf8a5f49d.jpg', '219_jpg.rf.5ec0fe7fed104a3eeef9869ffc441e4f.jpg', '9584035_jpg.rf.630e25f510d29cb9f4441102f18d9cca.jpg', '557_jpg.rf.f942fe10ac64355f1be35af10f7921eb.jpg', '500_jpg.rf.a226bc59185d6fd71f58efb3eea6f98b.jpg', '131_jpg.rf.dca13272e1e369178b0e511f1b73165a.jpg', '590_jpg.rf.739ba1eea61ce34470bfa4d3b149417b.jpg', '158_jpg.rf.8064e570ffbebfe950e1276388c54289.jpg', '9583895_jpg.rf.efb320144892e88919a0c5bc503948cc.jpg', '9583745_jpg.rf.0806fe9b7d73a94abf2222b989f02f5a.jpg', '216_jpg.rf.c0f06465330b015e34b73495e8f65143.jpg', '9583678_jpg.rf.19890ed2fd0a3503555d4d8361687a1a.jpg', '260_jpg.rf.7a11e3ad245ec47dc326beee1882cd03.jpg', '63_jpg.rf.0a663b42e7e29c847b194930dbd442d5.jpg', '236_jpg.rf.5da49fb0f513ca3faa7c38b046e837d4.jpg', '9583860_jpg.rf.6a4190c22da42eae486b44ebfbd763c8.jpg', '32439310_jpg.rf.3b3041c20695ad8c759ad8155dd8473a.jpg', '277_jpg.rf.45275d3b97404c90b4c40964ba3dc163.jpg', '388_jpg.rf.be702f73665bfa534cf6c7db8f36dc6b.jpg', '32439199_jpg.rf.bc0544d6671e0d76c3c96118cfda1063.jpg', '9583819_jpg.rf.00aaa689305d43c8a0ce799ec673cf28.jpg', '38_jpg.rf.e4c2018abbb68e8484784f69994aec20.jpg', '9583645_jpg.rf.0a537b3c8035bbd731464a1fc3ef55bf.jpg', '306_jpg.rf.960962950d3e34584c5ef2c395d43738.jpg', '275_jpg.rf.13f9e859684927cdba7975431ad8ad54.jpg', '221_jpg.rf.a5e5c239e0dd5cf53fdb7b59061fc936.jpg', '267_jpg.rf.7d09bf7072a35118d75f818c7de0e87b.jpg', '364_jpg.rf.0e26c2369510e76bf9f2076ee09e0cea.jpg', '32439020_jpg.rf.bb62024fc8c08b9c6664a567ef63a6aa.jpg', '34_jpg.rf.a08b53b1aa641f59fbdd78ec03650762.jpg', '287_jpg.rf.a11f0735c3208f6873466b093e783e27.jpg', '9583961_jpg.rf.b12e5176b5e4f46a7faf279be965bf8d.jpg', '9583659_jpg.rf.1f3dfdeb4fb28ea10afbd7338be4acb2.jpg', '9583776_jpg.rf.aa09b63363672528fd10ba209c325e39.jpg', '9583970_jpg.rf.528757a81be109ae7f829b2e17ef35dd.jpg', '396_jpg.rf.4d69b4e48bb080a1b8f0de6f6050392b.jpg', '9583571_jpg.rf.92e1f36e37f1e40a72dc6c59c8ff2f56.jpg', '9583605_jpg.rf.b3eec11eefd5530f1bf3d8e44cdc8b76.jpg', '9583937_jpg.rf.8c43ecd6d1c2d4922fcca2179f2f8275.jpg', '32439012_jpg.rf.57514c5af1f32ed6d535c9414ec9b6d8.jpg', '187_jpg.rf.b1f7f61decaa72e7b92ea92d686578ca.jpg', '467_jpg.rf.65fe5e301c891e5fa96af35281b479cf.jpg', '302_jpg.rf.985c72f0ac611f61a5a5f05ead534cf0.jpg', '208_jpg.rf.ef18f05b49fadd493d1635a035ad2cb9.jpg', '32439037_jpg.rf.a2479db1a4d9bcd37b8f41d6a0f59521.jpg', '557_jpg.rf.469328ab3d0d96a24aca533531d0df9f.jpg', '32439083_jpg.rf.93bfb1e7f3429d5336f9a63a1d2e90bc.jpg', '294_jpg.rf.54386a425501016ddf5225f8a0cf7df2.jpg', '247_jpg.rf.1b7c39726da90d24c8e46693fdc202e0.jpg', '9583635_jpg.rf.df7fb8a6869281b6cb3c1446f7849fd3.jpg', '9583581_jpg.rf.509df5b76573db3c0d99896d723ce432.jpg', '9583958_jpg.rf.0a4e6b39073ddf53abc5da85c361eb2b.jpg', '32438973_jpg.rf.00ac4f4e970afc051036dd0a74bb7589.jpg', '198_jpg.rf.3d8873fb34bc895e74eee08642201237.jpg', '310_jpg.rf.24443561252aa09da41b18a8e5fd0725.jpg', '9583719_jpg.rf.d3a8189de07d301d261c8d7c1ed7a311.jpg', '576_jpg.rf.7f598d4e916e89e1d84347fabeb85dae.jpg', '32439246_jpg.rf.ac10c54e52a3b2ac4845aae1094118fd.jpg', '9583952_jpg.rf.e54a712c29761bc1668d27dac86ad6f6.jpg', '274_jpg.rf.aa20d9d870e3d663a31a51f8f46f2487.jpg', '9584010_jpg.rf.32534c1418badd4d3bf259a6e0064658.jpg', '322_jpg.rf.0c8ef2eb84224bbc881845492d22b74c.jpg', '9583715_jpg.rf.d605907be2a562d6690442632d24b5cc.jpg', '32438994_jpg.rf.a8a96eb09276b9864c19df2ea778155e.jpg', '9583790_jpg.rf.fd54c02e7bc749425581372d057166ec.jpg', '429_jpg.rf.506a6f466f6a35c0cc75aff2c6365584.jpg', '422_jpg.rf.3981e82d9c3857fae2d6c106ad92d49e.jpg', '148_jpg.rf.bd9d3004bc548f4757e9a797dacbdc88.jpg', '9583815_jpg.rf.80487ff2bdc0979bc8d5e59e829d024a.jpg', '193_jpg.rf.5fe40d3e6924d221a795ccecada3c895.jpg', '544_jpg.rf.b3ecbbc3b409c04fbe6747527f62c9f6.jpg', '224_jpg.rf.53c8cc56d56b433bb46e23723bc0236e.jpg', '502_jpg.rf.1a88c0c415adccbd3d21c20287e4f492.jpg', '32439253_jpg.rf.4653078924e0caf4fe1f4c1c75dc0452.jpg', '32439295_jpg.rf.3475bc85e3edb6d3b6f99cd65c57e230.jpg', '88_jpg.rf.452196162b880fc7ac29f92913b379fc.jpg', '65_jpg.rf.fc8cf55f7df6be789376e91a9cd7f7aa.jpg', '528_jpg.rf.29e1391d9180082127485a5e1f3b9819.jpg', '194_jpg.rf.ef3fd4cc2093f9fba54a39d5faaf1bba.jpg', '32439135_jpg.rf.28caba5e1a3403ae928ea6282179c633.jpg', '32439278_jpg.rf.6d641f4083651cfbaebd36e22479184f.jpg', '32439019_jpg.rf.1465f274131e8fd0e1d909b2657bee8d.jpg', '448_jpg.rf.0e22924aeb14794ee348e6b460218065.jpg', '181_jpg.rf.5c4b908b04c7f4f752d59d9b37425b2f.jpg', '137_jpg.rf.5d07bd425674883e4c71a26f1d62b5a7.jpg', '32439181_jpg.rf.885e2a607664518af8a6ad35084b4920.jpg', '9583979_jpg.rf.c0ab1608a35f3d62ea09b732be5d3501.jpg', '9583644_jpg.rf.177c3a58da6273edd96f8470c780c9a3.jpg', '32439286_jpg.rf.578774c120af116c9d263ff137374335.jpg', '368_jpg.rf.54dc09b0dfa2390295bdc6ba22db44c8.jpg', '9583879_jpg.rf.5bd9f87c715002c3fec14002a7969e0c.jpg', '251_jpg.rf.8945c71451f49bbb08ac14ee4f51d2c5.jpg', '473_jpg.rf.daf15322ecad1ddbe47aadebb8b1f889.jpg', '377_jpg.rf.f1656e6569938933b8574f85e476c231.jpg', '9583775_jpg.rf.9468ae6e75f69370f552d3dd8a9a0412.jpg', '17_jpg.rf.b9d6b5ec1a32510bbdb44fbd77d09003.jpg', '432_jpg.rf.4a9b8c125780f799bb784863c0c479ac.jpg', '9583623_jpg.rf.4a679ab124b1a944031e7f7a0eccb708.jpg', '98_jpg.rf.bab6071588b67ad4a0386df4b1662631.jpg', '9583611_jpg.rf.edd28f1e375bdf9aca655c6ae04c23ec.jpg', '488_jpg.rf.01adf0b6ae8e5b3887e9f36b13a5f56d.jpg', '241_jpg.rf.8ee79f578d87091e52b4b67777ad8a7e.jpg', '32439139_jpg.rf.15f8d5a4c321d0d42bd2eb977c12e91d.jpg', '9583675_jpg.rf.7ca3a1b818028c0794e581844904951c.jpg', '9583657_jpg.rf.1f65943709deab224969a12bd3a6645c.jpg', '32438966_jpg.rf.ebf5988baf224c6b79dc7fe45c2cda25.jpg', '36_jpg.rf.b8b6ad257c31209c9a0543fb119255c3.jpg', '360_jpg.rf.bad2a5b0a76c3f8fd892fc39beca40ba.jpg', '32439116_jpg.rf.1cc367b0c6fee7d7559c21cd76baae19.jpg', '460_jpg.rf.4c77c336a4d20db1cb4d096639f056a0.jpg', '32439311_jpg.rf.dc6ca8e96b4d611b3e0e7debc3ae6a0f.jpg', '472_jpg.rf.7fdaf512492157125af1a0146045a5a6.jpg', '32439302_jpg.rf.ebfa8d200c12581bd0658e534d000213.jpg', '257_jpg.rf.67795545decebd28bec9594b93c70f46.jpg', '387_jpg.rf.875033877d037125b689b4c6f3a0d333.jpg', '32439128_jpg.rf.0e56a22cc35cd34f0b4816d55d2cb63b.jpg', '466_jpg.rf.7497e1ce4be7e9a865063d43325bbb7f.jpg', '222_jpg.rf.a265286d5ef9eee661f4881b82f04fcc.jpg', '32439153_jpg.rf.088d34270dbad22323aa887fdd36a431.jpg', '9583751_jpg.rf.857ee6da38dc8b11ffaf3fadf73cfab3.jpg', '104_jpg.rf.1653c069b6baad49dea78da19d669371.jpg', '9583938_jpg.rf.2d6b11e36cdc51ef4030fdd18a842e2b.jpg', '501_jpg.rf.11d95901e90f4c41c719ed3275c9be04.jpg', '494_jpg.rf.1172c1b500ad587c01271d28d9deb6bf.jpg', '462_jpg.rf.164033bb1a5cc2db3973f5f7b3e4b72d.jpg', '548_jpg.rf.c650db6a3b55ed051e6984d198943b59.jpg', '9583694_jpg.rf.046459bb17ea17b27f91a87fa540b7ed.jpg', '241_jpg.rf.8fe2b79e8ef417a5384f5780efc561c1.jpg', '230_jpg.rf.40f2f691295d65a3ef8735d075bcde66.jpg', '213_jpg.rf.c37fba3dff39ce094d4551f72a9568a5.jpg', '215_jpg.rf.f0808157ead6309de0e6d83835ac1f34.jpg', '188_jpg.rf.6d3be328a5bb20135de57b878265e2be.jpg', '9584006_jpg.rf.02935ab0b19e9ca6b178706c90059fcb.jpg', '9583969_jpg.rf.cce8220250ab72b877bd1e48182a7f20.jpg', '596_jpg.rf.80a51ce5be3b8a091cd065dcf461c942.jpg', '454_jpg.rf.9e07c81c012533d95303cdcecce64d2e.jpg', '9583595_jpg.rf.5f03651d372af759021b9955ce609f32.jpg', '491_jpg.rf.1a27b62e66cec702eb5d444502eb7541.jpg', '278_jpg.rf.b0e73aa8ede8dc5495c79637357d3edc.jpg', '239_jpg.rf.64c5e7dc3b914870ac93e0073225b8e3.jpg', '32439227_jpg.rf.b9a906fe505f098592a9e7fbc68d11c5.jpg', '281_jpg.rf.581289b0c6902f49f2c1c57638830e11.jpg', '9583990_jpg.rf.cf510cd4a5e56afd5797dcefd6f408b9.jpg', '79_jpg.rf.cb118a688aa32e49346c3a303659299c.jpg', '372_jpg.rf.20c0a8ff83415238823502aa260f8b2e.jpg', '411_jpg.rf.b9523982686e9ee0c87ee62eed3a75c9.jpg', '427_jpg.rf.6ec924cf17fc64cd903cf83b1bcbe109.jpg', '103_jpg.rf.d753a3c73b24cbdb5e356b8f5c0c9637.jpg', '32439036_jpg.rf.ef2601481d7ebfa898bf0d9ca18440b4.jpg', '32439164_jpg.rf.20897b21a9134e6d947baa87e328c762.jpg', '529_jpg.rf.884096b1b6a062c7a5a80a099e6361aa.jpg', '32438980_jpg.rf.f9afdbd0e40595bf9d2a456c2dc3be5d.jpg', '9584031_jpg.rf.5c32d00b0b451eb74c117abf6017e52b.jpg', '271_jpg.rf.bea1dd964ab331e41436cc150175cccb.jpg', '9583887_jpg.rf.a16bf3f59ab6e1fd1038e3a270d8efa4.jpg', '32438992_jpg.rf.965f127adebcc47f841e6af3b454ca0f.jpg', '32439160_jpg.rf.0f6e974e7cf18d916a88b8a2bcc4995b.jpg', '483_jpg.rf.982306416abf815633e3d6b2b8c72821.jpg', '175_jpg.rf.0529cd2c46baecb38075bca0408126df.jpg', '9583574_jpg.rf.583f21b5a8600cafb64dc02a0f369529.jpg', '9583810_jpg.rf.4c22b605b260e77f7f19828caae32332.jpg', '150_jpg.rf.f6b64624a93e9704ee970bf60be5d5b8.jpg', '309_jpg.rf.fc955421285b8f566ada03e5c2997760.jpg', '32439306_jpg.rf.b62e86aa2dd39f5e36474ec16a1cfa62.jpg', '50_jpg.rf.27b8158b037d7520d75ea5d57eef6579.jpg', '32439095_jpg.rf.2e96e535a3ec4c1305cc5f62a4c09be2.jpg', '32439118_jpg.rf.b599de106e4320d93c6d21164abc5219.jpg', '551_jpg.rf.52bca15c4bd1b583af01ac0969f03101.jpg', '325_jpg.rf.8902bd5ae0036d52fb7c3fc05ac14e56.jpg', '258_jpg.rf.b0ec9870e4e828890c0038723124d1d9.jpg', '591_jpg.rf.83f8a04e1c81628fb29c313ab5f6e1d5.jpg', '311_jpg.rf.05b655e8fbe445b419a1cd3dcd539f61.jpg', '9583848_jpg.rf.b930efb8ab319e2b03f44a70c0e38fc9.jpg', '32439071_jpg.rf.a84a891bb715d66fab5614c98953d699.jpg', '396_jpg.rf.903ea79338040c619f8d1c2ac86270ef.jpg', '16_jpg.rf.aa1b0ac0a0be4088fc23585b9d231dd3.jpg', '97_jpg.rf.1a524d13ddb40c5996122e4ab44562bf.jpg', '32439145_jpg.rf.e9e0ac9eb045d9d3aec51eaa79e2370f.jpg', '412_jpg.rf.c3645c553f4b2fe73191e99416923f1b.jpg', '323_jpg.rf.a8dc6313a68facfda7d7a83dc562915e.jpg', '423_jpg.rf.ebd64d34700a959e6c63fd2880693c90.jpg', '498_jpg.rf.f7238e03025f900277e7711ffe212771.jpg', '560_jpg.rf.fd05f6144abfaab4501cf05a21d892f3.jpg', '136_jpg.rf.1a22930a39fecf159c0b151e714c37f7.jpg', '32439217_jpg.rf.dbd5c4f887dddb2dcf1a857d509ac2b8.jpg', '439_jpg.rf.6da54b3f32bb68e0ceaa0033d576c7db.jpg', '32439248_jpg.rf.075c6338c1c86eb3d89d4b9acac6b001.jpg', '146_jpg.rf.381b8ae9fafd8bfac4a8b22196e4bfd4.jpg', '48_jpg.rf.6a7c075c6f7f5e150fb5fe1b910c410a.jpg', '420_jpg.rf.6baaf217cd1810618d52b7482f1ab3c0.jpg', '32439084_jpg.rf.069feb8633f2f4378e0fc4d5162f2713.jpg', '239_jpg.rf.8b0cb2cf967ad1e6151ff7fd17913ba4.jpg', '9583931_jpg.rf.8d67551a43a512eb1c5e698970b6db8a.jpg', '283_jpg.rf.a5e4528f58187ec8fad7e5a451cecad4.jpg', '9583972_jpg.rf.e12868ef3e46c93cf6e903432463801e.jpg', '567_jpg.rf.7a41b5fd6e6af0f6ac157611e1c55a4a.jpg', '9583918_jpg.rf.0b190a4e392d38ae554fd116ef764dc5.jpg', '9583786_jpg.rf.2dee7bbfb082e8af82957bde172ace9b.jpg', '9583596_jpg.rf.a56610fe38ac661ae9167fe4ddf40bb9.jpg', '130_jpg.rf.47406877499d4dda8a5e0cdb4e17e301.jpg', '32439294_jpg.rf.44344bffbe6f4f95d2c8ff9fd04bffe6.jpg', '9583716_jpg.rf.ef695fd6a10d8886ec033dc4e70f7d8d.jpg', '9583682_jpg.rf.7cd6b6817a8a3742b97a6cab68dd9dfc.jpg', '72_jpg.rf.8eed8b664f3b192f8f82405c293e76cc.jpg', '111_jpg.rf.fb205acfea6b85c578d5714c1d170a74.jpg', '379_jpg.rf.e57ac01def23b0f0472ad4555b565625.jpg', '443_jpg.rf.85bf3331b535b3aa76fe453e069d7fb1.jpg', '142_jpg.rf.b23ba056da04e3c37c0faaa461b08e80.jpg', '9583877_jpg.rf.79d28b5c3593840304fadf35c2ab8d6c.jpg', '122_jpg.rf.0f9f5a4ffb4efbd3800844da4d448991.jpg', '9584060_jpg.rf.bb958d6aca6eb13af6baaafdc7653a28.jpg', '291_jpg.rf.6c49e9c3503bb87e436b66ab956160eb.jpg', '581_jpg.rf.f06e369cef8dbf5c5ab3b639a51a51c1.jpg', '32439025_jpg.rf.c55e9de445d114838dbfae60ce0ae1e3.jpg', '76_jpg.rf.5abeb91eda2281a17b1d5fd587646c41.jpg', '9584023_jpg.rf.3bbafdd9ca977a39e82885f343137465.jpg', '15_jpg.rf.b66acdea23922becc98a2379800b4fdc.jpg', '447_jpg.rf.8fa6a8b60a5612bfc3fec1c4f5c2d7be.jpg', '9584011_jpg.rf.142804fbfc360ff27137abc1da4c1c45.jpg', '76_jpg.rf.b9da8c4ef4204cc34c6dd6f9b22198e9.jpg', '473_jpg.rf.8fba03564aac0a189fa0801cae28f968.jpg', '32439099_jpg.rf.137695e17c14ba2aed91607a71fd78bc.jpg', '114_jpg.rf.c3b453bfe77f2fd465dca9b391d5be19.jpg', '9583572_jpg.rf.56e4aebac074f1343f1da26935173313.jpg', '4_jpg.rf.3723fb1beab35a95089c9bb656a973d1.jpg', '304_jpg.rf.b22067da4c3beaf9e57946a1b672badb.jpg', '135_jpg.rf.8436d3746ccd6eaa9be3b539083604be.jpg', '237_jpg.rf.aed24a264edfdb37c6d72752552ae46e.jpg', '9583759_jpg.rf.ab4d580ec60331979f31644719199964.jpg', '9583847_jpg.rf.b0c414948e7f6339f6548ab5c8ebf9e6.jpg', '124_jpg.rf.c575b96f39c92e8adc2f2d7c7246842b.jpg', '211_jpg.rf.d4bf3381c134e9c61b362e314b5ca60f.jpg', '9583867_jpg.rf.bda676a602bc79eeb57fecfa69662be2.jpg', '165_jpg.rf.8d665cd68ee1f0c4143b10f9dfdb7b89.jpg', '223_jpg.rf.d7ebb5614907b89ec1c39219925926c3.jpg', '9583854_jpg.rf.ac127f255bf26a0ad25287e9afe10941.jpg', '524_jpg.rf.a624910075461f0079be56732513590a.jpg', '32439255_jpg.rf.3d250ad4fc838d43ce37972fc71c8e2d.jpg', '185_jpg.rf.0be4216255fe795d6df6ea5f0d449e51.jpg', '9583975_jpg.rf.2028777bd34fdbd576b2520cdbf6cb7c.jpg', '32439230_jpg.rf.35ddfe4f5ec1859b0bb8750cb95a7d0b.jpg', '453_jpg.rf.5f5f0b6257e0fa93a5fabb6702d0c1bd.jpg', '221_jpg.rf.3d88502506aac47561464f6dcfcd950f.jpg', '157_jpg.rf.c27b2678d8d6b845cec319835661850c.jpg', '370_jpg.rf.54b6949637a667a53b9b4452896e508e.jpg', '514_jpg.rf.cdff8757fcc995b0f87645d143dfd42b.jpg', '285_jpg.rf.0cc82914bbbc5f3694761df2a10cb705.jpg', '9584056_jpg.rf.3ef162f38dbc9b09d4dbf1ff089fceb9.jpg', '32439029_jpg.rf.401981dad201a9f6932101c7b72a83ac.jpg', '9583648_jpg.rf.e28d9b0919715cc12e90c578bddbfeec.jpg', '188_jpg.rf.91ca314db215b5d4098d1e41ac298e9e.jpg', '39_jpg.rf.346068985ea43023e3b6247faacbe592.jpg', '90_jpg.rf.2dfba13866f6b05e0157d18fd4d4696f.jpg', '385_jpg.rf.c651c7191860c1b71f8a21857a94a378.jpg', '32438978_jpg.rf.4785598563c0ae66a50d73a9101b44b1.jpg', '32439213_jpg.rf.dfd989e3532d7ae32f0570e7d8286398.jpg', '506_jpg.rf.446d17b74ec02246f9868404ad89620f.jpg', '9583742_jpg.rf.dd636ec6ab38dbdc0a943480c09cd48a.jpg', '115_jpg.rf.23cd516a7f2375a46a5d81bb6bff1a83.jpg', '29_jpg.rf.481bfc2c606d9687da1189b1203e1219.jpg', '212_jpg.rf.8d54462d5ef37a2e0712fa2979b56f76.jpg', '7_jpg.rf.11bd26df129f6ebc7cba569c0fee3092.jpg', '32439093_jpg.rf.347eac40ad595c4106f0446bc9a14bea.jpg', '9583643_jpg.rf.295e30e3379c056cfa1aca42ba33fd20.jpg', '425_jpg.rf.bd9a541946924f5dc1d6f3189e77c28d.jpg', '32_jpg.rf.7177c97e32b28d4b647b74a4d21fae3a.jpg', '84_jpg.rf.49f7062c4c78e38e3ba2a13abdd00f8e.jpg', '233_jpg.rf.cdc416ae7b4f1c36b351e12638be6fb8.jpg', '303_jpg.rf.3d4489a95aa632f96d53ac9e05ccd908.jpg', '372_jpg.rf.c00050e146326b81a41f7dea87873024.jpg', '9583805_jpg.rf.acebae10cc00d680ca41889c3169dd54.jpg', '335_jpg.rf.c40e06c794a3374a1106159a884fc135.jpg', '137_jpg.rf.9821029ecaff15157d9cd488d5ea541a.jpg', '9583641_jpg.rf.494f25dddb2018be734e063dcba18901.jpg', '9583713_jpg.rf.4e437a056c9da91ce53c2809a3444d2e.jpg', '32439039_jpg.rf.db3b16fd7172b507bbd7c7681ecb38a0.jpg', '9583710_jpg.rf.f95742430d0a980226e25872067c483d.jpg', '9584005_jpg.rf.300986dbedf6dd182f204585b7b3ac45.jpg', '9584067_jpg.rf.71637d4f37e851095c5a0aed11d32349.jpg', '9583930_jpg.rf.64530d32d9fd531527f2a0d7703785bd.jpg', '9583617_jpg.rf.0954ce313fedfd494aedf29298905230.jpg', '21_jpg.rf.87e90c4d72bc0e393caec8b9f71a6608.jpg', '78_jpg.rf.1b3b9644daf2730bee119b9c6fda699d.jpg', '9583756_jpg.rf.d56630fc9759cfc0b917861aabb59e55.jpg', '463_jpg.rf.b8ee52cbb388bb5095890e28cfc151e8.jpg', '180_jpg.rf.1a524ddd90f59e1fc7e8a94ec009138b.jpg', '483_jpg.rf.ca393c39486660970a3be2a6010f0f05.jpg', '597_jpg.rf.fd0fec58447b15e09d44643c6247ad3f.jpg', '32439004_jpg.rf.04999d5f2a164415e29f6164f9db9d39.jpg', '311_jpg.rf.b4317489173a0f543a1ebd624017e8a5.jpg', '66_jpg.rf.5211d7e73a81094f5239258b9635be23.jpg', '32439101_jpg.rf.d6d6aed75bb00660c27cb604bbf9bff5.jpg', '32439124_jpg.rf.61bc28d1058370a0ee446e0a53b2e615.jpg', '118_jpg.rf.f8cc84c420ae45f377f2065fb2fd1537.jpg', '32439007_jpg.rf.dde0cbdd1dc2bc6deee913dc26fa0124.jpg', '334_jpg.rf.cb5d73770269833ea16189186d2f735f.jpg', '391_jpg.rf.40f9bf2fc90c07f0dfb3a67bcfb35cfe.jpg', '493_jpg.rf.7ddf147ef4ddc1bd10955b3b7b032974.jpg', '480_jpg.rf.5c6bd668efe26212bf76d1fef29ae3b9.jpg', '9584030_jpg.rf.e13d930ffd20d7eb99d821d4a9c476b3.jpg', '236_jpg.rf.466dfb46231028596a11eab8939ca054.jpg', '98_jpg.rf.e0688f4120522b62bff827c2d8614b49.jpg', '138_jpg.rf.78152ed4d17793579786fc8a7b0d71f6.jpg', '403_jpg.rf.f8557c0904731d8eace07f01bf651ce4.jpg', '9583987_jpg.rf.f11ac9cb99636453a7e97b1b72152bb0.jpg', '86_jpg.rf.d68dfbf5edc3ee04deeb4c13613a8295.jpg', '32438975_jpg.rf.a61c99e26f9ac968dbe7875dd0e61b7d.jpg', '242_jpg.rf.ac2618f7929b632ec2a9ce4ac28fe8af.jpg']\n",
            "Valid folder: ['32439048_jpg.rf.09b4ca7588f113a64aeffea50ad6ed76.jpg', '362_jpg.rf.9696352f82f36c994baae6eecedc808e.jpg', '276_jpg.rf.a33ea971ae76e1cfb57bc1160bd5004f.jpg', '9584057_jpg.rf.e70d081b59984458d1be2867494c30e0.jpg', '32439109_jpg.rf.f3e441c2fe2a703893fa69725fd9f9c7.jpg', '51_jpg.rf.4640dfa8e13cdb332f0c60660b16b7be.jpg', '48_jpg.rf.5481ed0a1e23c8adb05ce12cd45ef3a4.jpg', '538_jpg.rf.f82b7a85cffad2922f0b4fd5773a9354.jpg', '9584044_jpg.rf.fea5a21037ab044b13a16dcf5c2a254a.jpg', '155_jpg.rf.4e55456922585b760c0d0250e66b5158.jpg', '299_jpg.rf.1f74e72c5a3cac998e3b3fb28ae59ddd.jpg', '19_jpg.rf.400b5f4db826dd54779af01b10ac5317.jpg', '9583576_jpg.rf.d8642a49ef68165432413628879bf3f8.jpg', '226_jpg.rf.d7104a3d7793fc88463f318d978f0dd1.jpg', '594_jpg.rf.a14b58e75909946ed6d94226ab64ca55.jpg', '32439134_jpg.rf.0c69988c75d79bcfdf1274dee41b9444.jpg', '140_jpg.rf.6322830a9467417c6338ad12b6b3c5b1.jpg', '579_jpg.rf.8c1e0a8780bda7ec0eebff4f009640c0.jpg', '46_jpg.rf.2ea9aced6977928206a6724c909e9f2b.jpg', '444_jpg.rf.ef5f9e4a6fb95438271b7779371b6941.jpg', '75_jpg.rf.fecf64b4aabc1106a42710820a6fc046.jpg', '13_jpg.rf.ab3581f18a9ca0d595b92572a83e61b9.jpg', '89_jpg.rf.70ff12de2cf3820813df3f16c6a2ea49.jpg', '330_jpg.rf.9816a3c74c4dd17edde65ff78c43ec8c.jpg', '9583919_jpg.rf.226278dff8dd152daf89cf08987aeb69.jpg', '9583897_jpg.rf.1fd957e11a100a9051c1d079e30d9c84.jpg', '253_jpg.rf.32632d4efc36717a7811144d3c5799c9.jpg', '154_jpg.rf.58753dc297f06583fcd9092077ec0006.jpg', '555_jpg.rf.263ba950d887263fb148c989bae62ae5.jpg', '9583828_jpg.rf.05f343af8ed6e74ec7156c4c843272b8.jpg', '32439262_jpg.rf.37d5d364792c9a2dfa2db370b839093f.jpg', '32439022_jpg.rf.87f8f71d6361847c032bb4cdd27cfbc0.jpg', '9583991_jpg.rf.60f55d123f0d38d892250715afb5282e.jpg', '32439319_jpg.rf.60207ebdc99c0db42602802051b74a68.jpg', '207_jpg.rf.68ce800dc1f342bec938cab62ed937c3.jpg', '9583697_jpg.rf.d0b94d669b47560edb922b74e8ecf160.jpg', '534_jpg.rf.d9a8729915e0dd3c7197b7abc2d7db8a.jpg', '65_jpg.rf.a14d5af63a0556eeb740d7d0d8f617e2.jpg', '403_jpg.rf.cf19adc6e3742c3eabe4eb6b76c68696.jpg', '362_jpg.rf.b6bb4f33ccbe94b6706f90bc587832c1.jpg', '196_jpg.rf.41c3d59c183808ce742bc4dcb28daf88.jpg', '9583580_jpg.rf.728927e44bcd09cbd564108786cf40f2.jpg', '9583814_jpg.rf.735449ac06b9819ee6b9e6255b84baea.jpg', '32439041_jpg.rf.c4a07ad9c18e632da10c050820940b3e.jpg', '581_jpg.rf.e3da7e52d23eee31432ddba795c97d3a.jpg', '9583849_jpg.rf.c917480bbaaa58aceb2be3f17bb7aba0.jpg', '3_jpg.rf.ab526c3431f8667a1dad3b1fe30cf84c.jpg', '9583680_jpg.rf.1a43536657d6c2da0cea135a6c9982e3.jpg', '9583733_jpg.rf.2a8b1614854cf9881e9cfdc06274b2bd.jpg', '26_jpg.rf.117762c1b28f2bb0cabafc7e82d61363.jpg', '446_jpg.rf.93e2fb63e97f069105812b8dcd0dee09.jpg', '21_jpg.rf.f1239a1db7efa1ecb0b9921441800c21.jpg', '260_jpg.rf.f622c6c81f4c59660deeac396d2f4125.jpg', '32439088_jpg.rf.b7fe2b11e47a959b912a441f923080cf.jpg', '9583640_jpg.rf.bffd05641116190f602517f55c0f36b5.jpg', '595_jpg.rf.0ef3b5a6c3b779553b95971d7bbc7239.jpg', '9583821_jpg.rf.a8eb650129a35c67347a35db89778126.jpg', '151_jpg.rf.20df23e3c5b423b4d3a2d1e660090e81.jpg', '32439003_jpg.rf.402c11a49bd882c12c3675ca252fd6df.jpg', '9583857_jpg.rf.b7fc1dfbb659f6ee8848bb34a7c547c1.jpg', '488_jpg.rf.b1424a76fc33ee60106c41a075cf3338.jpg', '9583907_jpg.rf.7421ae70425296451bc692271d58d0e5.jpg', '401_jpg.rf.4eddb74792397c4098c2357c9b48fc2c.jpg', '9583735_jpg.rf.83682e4a527e687fb26f90c730d68321.jpg', '520_jpg.rf.a8f3a93dc3cebfecb8643ee8adae0ece.jpg', '446_jpg.rf.67b9e506600b8ac7c5bc7b6db5bc5735.jpg', '32439300_jpg.rf.b599662c53edf523917631e67d5c6f40.jpg', '22_jpg.rf.b231341e7aa328d9048bfc1b5dd7ff08.jpg', '156_jpg.rf.86635afa0db80b9c4d61d91e83d8d16a.jpg', '334_jpg.rf.04e4c76a95c7036fe411cea4a28c1112.jpg', '252_jpg.rf.4e79e7498f1b0a1035fca7da78b28e62.jpg', '310_jpg.rf.2e1f9b1bf3e43b3ae5b6b8b1fbe559ce.jpg', '365_jpg.rf.cca985288ccfa2addf3e61edb60e8f94.jpg', '32439309_jpg.rf.20eb7e6446885f50df7342b74398999d.jpg', '114_jpg.rf.7ec2d146fad6b6272c570adad306eaca.jpg', '32439085_jpg.rf.a8b281155231c80e2f5a3f0f46d90240.jpg', '357_jpg.rf.639cc7cf902d097108832d14b79392de.jpg', '551_jpg.rf.a1e663a6e944809b0549e09314cc4313.jpg', '87_jpg.rf.ab166447b49eaaeb17d93eb73ccca80e.jpg', '577_jpg.rf.d90c2c075e2b48a438ce824d852f0774.jpg', '74_jpg.rf.b896471a2edf0e786ca0f35af89a0ceb.jpg', '151_jpg.rf.6d44b5cafa1525577499881bd6547fe2.jpg', '32439186_jpg.rf.d44401edb758a5f260ab443f0f44499d.jpg', '578_jpg.rf.73e6f7c109d1c6c04ed469b9e1db4f00.jpg', '250_jpg.rf.12af44290b317dde68285a5bc570ebb7.jpg', '356_jpg.rf.ce6eda92537fd5f2af26020b9ccd537d.jpg', '9583836_jpg.rf.69d74216233c5364cf20c76bf25394f6.jpg', '32439273_jpg.rf.06632a5500e8745bb7428b5e6b3fba95.jpg', '32439299_jpg.rf.2d76549ec0394ad3ed13d99268b1d283.jpg', '9583947_jpg.rf.5e3d919c4c2e1f6d22a0e10522c4b8f4.jpg', '32438970_jpg.rf.ebb44ecb00fb5ccd57b4f219135bc840.jpg', '31_jpg.rf.ff483bbe537778282582b9483acd9a99.jpg', '324_jpg.rf.cd9ca78a84e698aeadf4c156a1a3af5c.jpg', '109_jpg.rf.7003cbc051dac74e81e7ab5d05de5c39.jpg', '77_jpg.rf.29cd372e16cd3589a9e2a9d77f143024.jpg', '32439049_jpg.rf.2acb11dfadbab4c5c737749971939f61.jpg', '32439140_jpg.rf.1edde1141b6e0b99473bf44a35d2d673.jpg', '9583754_jpg.rf.249deb9d9e53cb7ec24ce4e3b4fb00f9.jpg', '32439045_jpg.rf.758ed833cf99ceb6a911e9fd0a19f825.jpg', '572_jpg.rf.f1457ebcc8ce1659910ff40bf10c33b1.jpg', '223_jpg.rf.3618aee608fb5baa23bb01222360c8b1.jpg', '42_jpg.rf.70e4da2e1123958beffba38a1a9ae8b8.jpg', '9584019_jpg.rf.ab79ccde539bca5223bca507e42d513d.jpg', '458_jpg.rf.89845f916be1f22f5addc08b8046ecd2.jpg', '9583789_jpg.rf.8a44915ecb4234780c256a45f6154f73.jpg', '178_jpg.rf.e573e95c6e275cfa84a57d9329f87134.jpg', '32439272_jpg.rf.0a50132eb509dfdaebfa314e38c583bc.jpg', '61_jpg.rf.b171e377330ea7b8d1f56f2047fe763b.jpg', '83_jpg.rf.54c22d900ab8f19389b3eed250041df5.jpg', '405_jpg.rf.72cc3c33a9bba71d1ad3931547dda54e.jpg', '209_jpg.rf.18b3b6f3a3d010022b9580ce6496d41f.jpg', '9583668_jpg.rf.6ef1fe9c1387787ba1a1f2dc01e9e020.jpg', '507_jpg.rf.b3ce42fd34500b368a80a5cbfbd6c362.jpg', '465_jpg.rf.5edaf33b643c559fef31283291651fbd.jpg', '593_jpg.rf.cfeecf1340bfdfdb6ebe664f2d770866.jpg', '170_jpg.rf.ef9e6ebdf122d56e3581a7026a11506e.jpg', '505_jpg.rf.c60fab8f03fcc41531e0c2f4507221cf.jpg', '9583921_jpg.rf.8493a0b3f7117560787c86b2fa8c6692.jpg', '32439270_jpg.rf.a019962ed662a5342096fcd9ffc77840.jpg', '464_jpg.rf.eb23fadc73785431df53191829dbeabe.jpg', '337_jpg.rf.bbd91451618cfc083ff07082c4357e49.jpg', '25_jpg.rf.7173571dea8547282647032f9816e633.jpg', '32439290_jpg.rf.f148055dcdaeaa3d498864c4495d6049.jpg', '9584007_jpg.rf.f63fa579055f46b026e536bbcceaa9f3.jpg', '9583942_jpg.rf.8d5f1bfaa4bf0a0e4f9ee50642ea7ebb.jpg', '9583940_jpg.rf.8aff2104328a302562c6ca3120355468.jpg', '387_jpg.rf.3063f0c96f14366bcfc0c3562a7ab7c3.jpg', '9583637_jpg.rf.26840b677d5a25df570c6d720a6d0fd6.jpg', '_annotations.coco.json', '9583612_jpg.rf.7fb0a81429ebcf16a100e4c5421a3fb2.jpg', '32439051_jpg.rf.32c6a829606f41a4169957a613117a40.jpg', '32439067_jpg.rf.79dc1fb75bfe0d8d0ffa900f1bcfa41c.jpg', '321_jpg.rf.25f0b464d3f8fcc3285cf7a473575b9a.jpg', '252_jpg.rf.735f033cb99c55434ed189e3ae77e9f5.jpg', '9583624_jpg.rf.0dfc206d3ce92a135a58512381e2c9b7.jpg', '1_jpg.rf.227fb4169a348789cbb9bad395867264.jpg', '32438962_jpg.rf.c4ba6cd457b5aaddf9f6092039c1bbe8.jpg', '32439188_jpg.rf.4b850af80f7fff5c88c50b1aff0b9aa1.jpg', '9583809_jpg.rf.c11a87106627111472dc7c269bd6bdce.jpg', '587_jpg.rf.a6c0dfad5f9b54f86204f47bb4d69199.jpg', '32438967_jpg.rf.26ff86175fab2b3a81706ce9df8dcb15.jpg', '269_jpg.rf.abcaa714e214eb002d0714235f4d947e.jpg', '40_jpg.rf.b9fb2ff376af9520df69b1e75dff552f.jpg', '559_jpg.rf.e3aabba8d2c57dbd9c355404d9b9ea7d.jpg', '169_jpg.rf.d06f9e65708503aa6fef7150efa47605.jpg', '369_jpg.rf.09255ce2c9599f705e185f8492bc28b6.jpg', '9583579_jpg.rf.0ab039c98161de8440e6878421b644d7.jpg', '9583870_jpg.rf.79eb1845ef457ac73b2d52c04164404b.jpg', '348_jpg.rf.f9e8fb0d00dfa895c824e28acadc8f52.jpg', '558_jpg.rf.3db0a6e439223efff49c2a3cc6295442.jpg', '32439066_jpg.rf.023e54d61eb2866ca377c14ecc8f5f7f.jpg', '32439062_jpg.rf.0e96f39a7edd691d216f3dd6aedd3d8d.jpg', '32439228_jpg.rf.8c0a15800391248aa9b45f5551b5c8ce.jpg', '9583794_jpg.rf.4d84c7c4f394527764b496992334e32e.jpg', '449_jpg.rf.48bce933d2586ab56df009d9182cdae5.jpg', '179_jpg.rf.8fa67a57eed42d7e0650544d0a45ad0a.jpg', '32439235_jpg.rf.47c7b2149bb6fc4afc67d11914efd0ca.jpg', '195_jpg.rf.60fc8bb9f96f195ddafc3fa749c6a33a.jpg', '210_jpg.rf.4c90cecb18339843d47dccff06115df9.jpg', '502_jpg.rf.4928e5a997819d329743ada4f754b4ce.jpg', '9584037_jpg.rf.16976a37f920f7f93430ee7366e182c6.jpg', '126_jpg.rf.eb8612cb8d3dab1a82db6bd7566d890d.jpg', '164_jpg.rf.70f9919e072304db04bfd1c0b5b880bd.jpg', '9583610_jpg.rf.34eb05df5529ecd5879260a4ef614749.jpg', '512_jpg.rf.850e5845a7fcf77b481a4532961654a9.jpg', '379_jpg.rf.dedaca5cf7fc0a5d7100286f2c1c4e75.jpg', '54_jpg.rf.7d7008a27ac887193f4e2703ccf1ebc2.jpg', '9583563_jpg.rf.fae6bae27f2ffdbfdeb06365c01335af.jpg', '9583638_jpg.rf.e83ec81401435fa8df19f2adaa93b98a.jpg', '9583832_jpg.rf.1fd8a2c6d9f6c176f5c997f8525e07b0.jpg', '9584062_jpg.rf.666dd53cfd318babd3a904b774b6ad96.jpg', '32439115_jpg.rf.9cc2c51843cfe976160883d83717c972.jpg', '261_jpg.rf.f5dcd900ff3fae9da24d9b809920f9ab.jpg', '32438963_jpg.rf.5b54453f7dd13b9fdc652ff974ad0877.jpg', '9584055_jpg.rf.331866f506f35d8017303a59a32c2c25.jpg', '487_jpg.rf.3316d94818a36eed8d91204d4f0990e7.jpg', '465_jpg.rf.a7e210103b088875d37bddea0f2156f4.jpg', '52_jpg.rf.d55776b18940bd87cfd794a3b445b413.jpg', '77_jpg.rf.c7158e3e8499098bf3cdd265df6b6657.jpg', '32439142_jpg.rf.9f8936230457234df8f1743ba9dceb89.jpg', '220_jpg.rf.23c6676cb97bf6d2178f48edc32a282b.jpg', '333_jpg.rf.30acd4528aa3899aa5c4ff33b989a79d.jpg', '546_jpg.rf.47e41a91d7ea520b7f15b3cb1cd68e18.jpg', '365_jpg.rf.0b9c272a58a4512baf89bafdcbb33d64.jpg', '32439068_jpg.rf.871c03f9d57d57e75c500c4cbca7d81d.jpg', '232_jpg.rf.0472b27a87d3732590e095305929b90a.jpg', '32438968_jpg.rf.d9277cf95d85fd2235f12f1dfe080acf.jpg', '9583903_jpg.rf.98f0e7504e87fb9ac5f20c4e2feff530.jpg', '249_jpg.rf.c1c1a410e3396dcb59cae3a14929e55a.jpg', '143_jpg.rf.8f92d40dca8b47dc0c14022bcd824c4c.jpg', '32439281_jpg.rf.4ea19b63c09266892306cd73424cd351.jpg', '9583800_jpg.rf.ee8d52821ff4dcd0a989fb6c7da26276.jpg', '572_jpg.rf.6cabb2c2fa9ff76625593605aa760f8d.jpg', '312_jpg.rf.c56c68eea174f3a574c06defab4d8c91.jpg', '9583622_jpg.rf.dc3f450b882446de3b2be8e221aefa33.jpg', '2_jpg.rf.feed2dbf2d22be0565a25f3dec293ae9.jpg', '308_jpg.rf.fd37913030af47513864419893305675.jpg', '9583997_jpg.rf.5b0e4c4a4a09ab5d3bea0a0c0353557a.jpg', '566_jpg.rf.22b1280414cd4b55407cf7f43c3f67f6.jpg', '402_jpg.rf.6324adad8fa1a57a2612263b541253ec.jpg', '32439005_jpg.rf.c4e92473519c2f0dfd623b79892a942f.jpg', '9583892_jpg.rf.423c1c3ae5fa59c33826c74c7b49daa9.jpg', '9583722_jpg.rf.0a895ec5dd610519951893af00ab47a2.jpg', '9583562_jpg.rf.95095ca9daafa554561a37247abecc86.jpg', '32439132_jpg.rf.fa69dd0fed96f0db0e598e9424c54db1.jpg', '9583843_jpg.rf.0957b98586fa6da44296d897cd975878.jpg', '284_jpg.rf.057e13d54af2f8b621430b0dde101f18.jpg', '50_jpg.rf.d32866b961b9a3da4ceb5c2e66c57bce.jpg']\n"
          ]
        }
      ]
    },
    {
      "cell_type": "code",
      "source": [
        "!ls /content/aperi-1\n"
      ],
      "metadata": {
        "colab": {
          "base_uri": "https://localhost:8080/"
        },
        "id": "qbkjtt5r8NPA",
        "outputId": "13bfd7d2-0ad5-46d2-b6a3-f00a87f37d97"
      },
      "execution_count": null,
      "outputs": [
        {
          "output_type": "stream",
          "name": "stdout",
          "text": [
            "README.dataset.txt  README.roboflow.txt  train\tvalid\n"
          ]
        }
      ]
    },
    {
      "cell_type": "code",
      "source": [
        "!find /content/aperi-1 -name \"*.json\"\n"
      ],
      "metadata": {
        "id": "eqawxvTj8NQs",
        "colab": {
          "base_uri": "https://localhost:8080/"
        },
        "outputId": "6687e072-90f5-4d5c-e49f-f8713f057688"
      },
      "execution_count": null,
      "outputs": [
        {
          "output_type": "stream",
          "name": "stdout",
          "text": [
            "/content/aperi-1/train/_annotations.coco.json\n",
            "/content/aperi-1/valid/_annotations.coco.json\n"
          ]
        }
      ]
    },
    {
      "cell_type": "code",
      "source": [
        "!ls /content/aperi-1/train\n",
        "!ls /content/aperi-1/valid\n"
      ],
      "metadata": {
        "colab": {
          "base_uri": "https://localhost:8080/"
        },
        "id": "b7j6tNmV8NUP",
        "outputId": "1a4830fb-bf30-4993-f0a2-16bdf94ac470",
        "collapsed": true
      },
      "execution_count": null,
      "outputs": [
        {
          "output_type": "stream",
          "name": "stdout",
          "text": [
            "100_jpg.rf.34e54dff0f77c9f6e5685b037353fd46.jpg\n",
            "100_jpg.rf.3563e64a053a73cd5e264315f4bcd829.jpg\n",
            "101_jpg.rf.34cfb18c3b156a642b2695659cf58d0d.jpg\n",
            "101_jpg.rf.845d3e8914bce0d40f36ab701158e097.jpg\n",
            "102_jpg.rf.94ab5b6bf26990c2f403501ebe8678f3.jpg\n",
            "102_jpg.rf.c6259a85048ed827157564ea6ee54203.jpg\n",
            "103_jpg.rf.149f2727bfd27e0968455e1851e1df79.jpg\n",
            "103_jpg.rf.d753a3c73b24cbdb5e356b8f5c0c9637.jpg\n",
            "104_jpg.rf.1653c069b6baad49dea78da19d669371.jpg\n",
            "104_jpg.rf.e6c4fe34e3e4e1185d309360b62b4afd.jpg\n",
            "105_jpg.rf.4ad93806cefa150a4a8bb14477688c11.jpg\n",
            "105_jpg.rf.70293e8b7526414b040da078d43c6a2a.jpg\n",
            "106_jpg.rf.beb054b07cab1250208eeeb2e0aacbcb.jpg\n",
            "106_jpg.rf.c19c04b1f2041aa4e56c9799319a3af0.jpg\n",
            "107_jpg.rf.c9d9ca069947360deb611a86bb9ebd90.jpg\n",
            "107_jpg.rf.ef2219d0c4bfae1f24d452dc06333c80.jpg\n",
            "108_jpg.rf.5c0b06af9210560d69501d3c3d8b4ccc.jpg\n",
            "108_jpg.rf.a31453aff3c622d9e64857fd81194d15.jpg\n",
            "109_jpg.rf.b56c818a7a26626e779c53cc0d807963.jpg\n",
            "10_jpg.rf.5731b676f8d8316fb52d07556d152666.jpg\n",
            "10_jpg.rf.9c8ceb1ee52f133cde733f970e4b4127.jpg\n",
            "110_jpg.rf.1dbea879292c07759156574707ffb689.jpg\n",
            "110_jpg.rf.d1d6279fa3ad6acbb0d538f406d5b683.jpg\n",
            "111_jpg.rf.76092fee9da08b18f69f29529418bdc7.jpg\n",
            "111_jpg.rf.fb205acfea6b85c578d5714c1d170a74.jpg\n",
            "112_jpg.rf.4b1ebdc54e7ed0d99751353b46b699b1.jpg\n",
            "112_jpg.rf.6e6835a5c605ff5675b44bd57ec2058b.jpg\n",
            "113_jpg.rf.4c1251eae86266552c82f2301316a16a.jpg\n",
            "113_jpg.rf.b95e1bf49411877f5c5a858c36e91b50.jpg\n",
            "114_jpg.rf.c3b453bfe77f2fd465dca9b391d5be19.jpg\n",
            "115_jpg.rf.23cd516a7f2375a46a5d81bb6bff1a83.jpg\n",
            "115_jpg.rf.9a344a4fd9c9c10bd01a43abf997d11a.jpg\n",
            "116_jpg.rf.8adf9663f0c7dbf825e92f87895984ad.jpg\n",
            "116_jpg.rf.e4f6e9733483642d8981d710b5f0cca9.jpg\n",
            "117_jpg.rf.3e979c3d59ea50906d0eabfb125e8df6.jpg\n",
            "117_jpg.rf.ec4603583fb777a3b4865763bfc295e8.jpg\n",
            "118_jpg.rf.cdf87cb9faa0d8b80d9609cf110bb0ff.jpg\n",
            "118_jpg.rf.f8cc84c420ae45f377f2065fb2fd1537.jpg\n",
            "119_jpg.rf.3d861f994688e953102fbf7ccbac5136.jpg\n",
            "119_jpg.rf.62602455b18fb4d651a9ce08203ecc1a.jpg\n",
            "11_jpg.rf.56c2713d71766a92dd78349246f8e27d.jpg\n",
            "11_jpg.rf.dfd1a12425f43df7f86301c18fd622b7.jpg\n",
            "120_jpg.rf.3f7d6b4d7ca725ce88cc6ef9a4a4d726.jpg\n",
            "120_jpg.rf.8e32655a35b25e7417b84a0b4fd21f42.jpg\n",
            "121_jpg.rf.ac48d9d96d7843bb72e3a7648400347a.jpg\n",
            "121_jpg.rf.f61f3ddec5674b7bf9f74c457351dbfc.jpg\n",
            "122_jpg.rf.0f9f5a4ffb4efbd3800844da4d448991.jpg\n",
            "122_jpg.rf.9438e595187aeef95d215643b4c5cb27.jpg\n",
            "123_jpg.rf.4a50a53acbc0c34ff2e6f68685a62275.jpg\n",
            "123_jpg.rf.8b31a9d0d5440f5ca0346f8b994e3c55.jpg\n",
            "124_jpg.rf.1fef00035c686fb1757c30b0e23886a5.jpg\n",
            "124_jpg.rf.c575b96f39c92e8adc2f2d7c7246842b.jpg\n",
            "125_jpg.rf.c37e6f352d28e02bbd3ab03333a0fb36.jpg\n",
            "125_jpg.rf.d2d127ea7d39ecd393546a116cdfc781.jpg\n",
            "126_jpg.rf.9de68ab0c2aea98b1fb011489f91aa25.jpg\n",
            "127_jpg.rf.418930eb228acb24214f2bf83e37259b.jpg\n",
            "127_jpg.rf.a93a39bafc9a43b76f53f9a0f6b3575a.jpg\n",
            "128_jpg.rf.9c6dcf79e258855aa93eded3057c37af.jpg\n",
            "128_jpg.rf.f3db134cd6354249619325604dc699ac.jpg\n",
            "129_jpg.rf.0e0ffc829bbfc89957ca9d1aae169726.jpg\n",
            "129_jpg.rf.2d2b87299e6f002bd6f7e49dc7edb615.jpg\n",
            "12_jpg.rf.0e7a28d8131d035d3a85aa925c765c7b.jpg\n",
            "12_jpg.rf.430849b202f087689e335030f6c9e0fa.jpg\n",
            "130_jpg.rf.1a8be9cf6ff44cacf70b6a8e1b99fe7b.jpg\n",
            "130_jpg.rf.47406877499d4dda8a5e0cdb4e17e301.jpg\n",
            "131_jpg.rf.60d4049f16d1193335c81b879d7b2d6b.jpg\n",
            "131_jpg.rf.dca13272e1e369178b0e511f1b73165a.jpg\n",
            "132_jpg.rf.adb145064bac8138ca9408da5b6d46cc.jpg\n",
            "132_jpg.rf.d1294c7b44e221c52ae30d99c02694c4.jpg\n",
            "133_jpg.rf.27ce0a9a23cc60fabb7a7b7edeef3e18.jpg\n",
            "133_jpg.rf.3ec6b9fc0a02cfcaca59f8de72caffce.jpg\n",
            "134_jpg.rf.59ac368596233a2661d4181fb971de0f.jpg\n",
            "134_jpg.rf.6afb1028114d1ea6f40ee95f885c4822.jpg\n",
            "135_jpg.rf.8436d3746ccd6eaa9be3b539083604be.jpg\n",
            "135_jpg.rf.bff92b8537d59f64a6df26554418a67e.jpg\n",
            "136_jpg.rf.1a22930a39fecf159c0b151e714c37f7.jpg\n",
            "136_jpg.rf.8af0a8b0d972cdf6a69f85cb7bf2dcdb.jpg\n",
            "137_jpg.rf.5d07bd425674883e4c71a26f1d62b5a7.jpg\n",
            "137_jpg.rf.9821029ecaff15157d9cd488d5ea541a.jpg\n",
            "138_jpg.rf.5b232168b5c53387b1055c7ec53b18bc.jpg\n",
            "138_jpg.rf.78152ed4d17793579786fc8a7b0d71f6.jpg\n",
            "139_jpg.rf.3bde4f750d2f39fc65383ee89921eaa6.jpg\n",
            "139_jpg.rf.3d4f129ef43d0b131a33d63654eeec06.jpg\n",
            "13_jpg.rf.e90e9edb74c74e274019a11d92dc3e29.jpg\n",
            "140_jpg.rf.7338f73e10c234684d6a6fb2c78cabc8.jpg\n",
            "141_jpg.rf.1452c008481c1ffcb32ac54433cf47e4.jpg\n",
            "141_jpg.rf.712b303fbf69ac0b3e0a7d0a4c225719.jpg\n",
            "142_jpg.rf.9c8da585d52b0d4e2976f265f5e582ac.jpg\n",
            "142_jpg.rf.b23ba056da04e3c37c0faaa461b08e80.jpg\n",
            "143_jpg.rf.20e3985ee5e9851b5b62d75c987ea25b.jpg\n",
            "144_jpg.rf.037c8846b6b7cf11d1e94ace3e3b666f.jpg\n",
            "144_jpg.rf.070ff2c5ded53620280ff9870c0237fc.jpg\n",
            "145_jpg.rf.29a9b364b920a930bf729cd835119676.jpg\n",
            "145_jpg.rf.51dd54f82da3eeec0f4d6ad03ed17a92.jpg\n",
            "146_jpg.rf.381b8ae9fafd8bfac4a8b22196e4bfd4.jpg\n",
            "146_jpg.rf.4e11d16dfaace13c1bee7244c1fcb4ab.jpg\n",
            "147_jpg.rf.3957eb63a1fd1d70c86c7344a73aadb8.jpg\n",
            "147_jpg.rf.ab47a9249e74a557740e9d8d04c421f2.jpg\n",
            "148_jpg.rf.bd9d3004bc548f4757e9a797dacbdc88.jpg\n",
            "148_jpg.rf.c90479848b5b48933c250729c0933340.jpg\n",
            "149_jpg.rf.2b350bfd43ff3302f7a6cee3ef1cdff8.jpg\n",
            "149_jpg.rf.74b43314993a341c1af73aca12e23d9b.jpg\n",
            "14_jpg.rf.b5cb6aadb56caaebb68229cd3a6df62c.jpg\n",
            "14_jpg.rf.f904f37696b067efb1ef566f7755a2d0.jpg\n",
            "150_jpg.rf.dd8c7f7eff7d33d72dd5ad806ee8c857.jpg\n",
            "150_jpg.rf.f6b64624a93e9704ee970bf60be5d5b8.jpg\n",
            "152_jpg.rf.22bec1e8f43136e63ba70714b79d4d1f.jpg\n",
            "152_jpg.rf.6d2e0da87c2b52ace9f1ceffac620fc3.jpg\n",
            "153_jpg.rf.46bfd4e8e8f0c32deb6ac8ae48cc4ef6.jpg\n",
            "153_jpg.rf.7e00416af1c9d948cb6dbdc89e8470cf.jpg\n",
            "154_jpg.rf.aacc851c775a0374e8f37d12c23e95da.jpg\n",
            "155_jpg.rf.3f1af6c04da31d1aeba42e8c5f121417.jpg\n",
            "156_jpg.rf.0e10f94502514a46344056b1b9201005.jpg\n",
            "157_jpg.rf.c27b2678d8d6b845cec319835661850c.jpg\n",
            "157_jpg.rf.d7ee4a2d2c5df95c703c1be637ffc391.jpg\n",
            "158_jpg.rf.2d1e724162c3d3ab05960a0bffbac353.jpg\n",
            "158_jpg.rf.8064e570ffbebfe950e1276388c54289.jpg\n",
            "159_jpg.rf.2d57ca31342aabcf266aba4b9fecb476.jpg\n",
            "159_jpg.rf.5673a4ebcc879296c7bfb42ac4b26e76.jpg\n",
            "15_jpg.rf.7484bfb89c8ab9dff2f39372b13897c1.jpg\n",
            "15_jpg.rf.b66acdea23922becc98a2379800b4fdc.jpg\n",
            "160_jpg.rf.9c6d7aab4f5c143b89f7dd02dd6e8518.jpg\n",
            "160_jpg.rf.b66b3c8ddd4f6372389462d29d80304a.jpg\n",
            "161_jpg.rf.bda4acd97ca5a1de692ea5e8d973d16a.jpg\n",
            "161_jpg.rf.ebafe5e4bfff9eac2cb2b65dedb2315d.jpg\n",
            "162_jpg.rf.ee7d357890dc1b871a1f81b64ec354fd.jpg\n",
            "162_jpg.rf.f3495eb92c288ef819c1f0d882ba6650.jpg\n",
            "163_jpg.rf.2a16de31c48cf2bbbd299901890a6d34.jpg\n",
            "163_jpg.rf.4e844e0dcbb2b0a4f54d1c99628f9188.jpg\n",
            "164_jpg.rf.0bc58982c5463aebc085f3b3a1e4830c.jpg\n",
            "165_jpg.rf.1782e3f412a046e3556379beb4a944eb.jpg\n",
            "165_jpg.rf.8d665cd68ee1f0c4143b10f9dfdb7b89.jpg\n",
            "166_jpg.rf.7dc06281b32f68d7a25bf4748b2b94c6.jpg\n",
            "166_jpg.rf.7febb35a78b55a1bcceb47d29d60cdd7.jpg\n",
            "167_jpg.rf.5fca37d80f0bb57f1d075a0ae7e918ff.jpg\n",
            "167_jpg.rf.756b583198c278ec29fce59322a006c2.jpg\n",
            "168_jpg.rf.03308792b7b9cee5aa639d3ba2c10445.jpg\n",
            "168_jpg.rf.2fab46bcf23b886c71a0deb22fb5290b.jpg\n",
            "169_jpg.rf.0135f0d5b2800940770d77fce8dcf634.jpg\n",
            "16_jpg.rf.7afb4f8414352e8d0e91ad2497ca6005.jpg\n",
            "16_jpg.rf.aa1b0ac0a0be4088fc23585b9d231dd3.jpg\n",
            "170_jpg.rf.5e18fc2fa5436c6ca91ca6b10df38f69.jpg\n",
            "171_jpg.rf.5562eea2adea4be167293d824dafb384.jpg\n",
            "171_jpg.rf.e836c7c1869c7a58f1eee1146a18e279.jpg\n",
            "172_jpg.rf.a834139a64876735362f7035135f9e48.jpg\n",
            "172_jpg.rf.dc2fedcc52643bccc9e624a8506ff98d.jpg\n",
            "173_jpg.rf.3e9b9bc3994dea10300de8066d13baa1.jpg\n",
            "173_jpg.rf.7f638db4e5a389699daf2e88dc0bdfc8.jpg\n",
            "174_jpg.rf.14064a270c3a0fb15dad8b5b3d86f5d7.jpg\n",
            "174_jpg.rf.ed3200001ba38acb037c469ea2605b79.jpg\n",
            "175_jpg.rf.0529cd2c46baecb38075bca0408126df.jpg\n",
            "175_jpg.rf.e10d623b434788a8141d541c76c32a73.jpg\n",
            "176_jpg.rf.4eceb9ad3546bf78f3bd20a42f7319c8.jpg\n",
            "176_jpg.rf.b015606d0cecbfe44c746363dff02b69.jpg\n",
            "177_jpg.rf.24d7ee7869ec4b54fe8cc80360c33b44.jpg\n",
            "177_jpg.rf.64513a53cf62a46a7efe072d25acee20.jpg\n",
            "178_jpg.rf.9abd913ea07065085ab1096dec26074f.jpg\n",
            "179_jpg.rf.a028fe1d9e549f9df5330c9fcc111906.jpg\n",
            "17_jpg.rf.69547ccf85e78cf6ef7458cf04607657.jpg\n",
            "17_jpg.rf.b9d6b5ec1a32510bbdb44fbd77d09003.jpg\n",
            "180_jpg.rf.1a524ddd90f59e1fc7e8a94ec009138b.jpg\n",
            "180_jpg.rf.42404a44d11c63023a08ea06d43d2815.jpg\n",
            "181_jpg.rf.5c4b908b04c7f4f752d59d9b37425b2f.jpg\n",
            "181_jpg.rf.a92a2ba2b1fb22c8f47d765693aa5fad.jpg\n",
            "182_jpg.rf.2171ebff767099a39c624f3c98ad390a.jpg\n",
            "182_jpg.rf.97d80e8ed3a230b16c3c6a1aa7d79be6.jpg\n",
            "183_jpg.rf.228c5db1340bc2e685b85622ece4f5bb.jpg\n",
            "183_jpg.rf.aa019dd09aa15e6f8e8e0b56e4764664.jpg\n",
            "184_jpg.rf.93eb94c9347b968454defdc986416b34.jpg\n",
            "184_jpg.rf.c74ddaa90224cc1f4c44b0304473a291.jpg\n",
            "185_jpg.rf.0be4216255fe795d6df6ea5f0d449e51.jpg\n",
            "185_jpg.rf.5cb83d8cf2c3d785ef7c4ff6401e36e1.jpg\n",
            "186_jpg.rf.28f1cb58e259f8d6f2f6ba0b8a1ddbde.jpg\n",
            "186_jpg.rf.4c57f4d90551d3112cc98caacb245032.jpg\n",
            "187_jpg.rf.b1f7f61decaa72e7b92ea92d686578ca.jpg\n",
            "187_jpg.rf.fd8ad4b83b8a1aa5920686fbf720e02a.jpg\n",
            "188_jpg.rf.6d3be328a5bb20135de57b878265e2be.jpg\n",
            "188_jpg.rf.91ca314db215b5d4098d1e41ac298e9e.jpg\n",
            "189_jpg.rf.a77daa3c9c550fcf893ea9b45d9dc194.jpg\n",
            "189_jpg.rf.f8e9bdfed63fa4bfa1df3124cb965ec7.jpg\n",
            "18_jpg.rf.0a75979bad1e72b8708640b464c0774a.jpg\n",
            "18_jpg.rf.c671df4d94280c4ed32cebf25ca5bd2c.jpg\n",
            "190_jpg.rf.a5c8086a9955e50f07921bd5a23bd2c3.jpg\n",
            "190_jpg.rf.fa0acbcdb48d38900b1fa1ae3e5198a6.jpg\n",
            "191_jpg.rf.a814796d94dad6a82a269e3f4da3fd92.jpg\n",
            "191_jpg.rf.ba43b3a8aa6817666566d65d7544d953.jpg\n",
            "192_jpg.rf.31c10729b141cd0b5168b11bc97cd7f0.jpg\n",
            "192_jpg.rf.3fa189e0422c326166dead70d6712716.jpg\n",
            "193_jpg.rf.5fe40d3e6924d221a795ccecada3c895.jpg\n",
            "193_jpg.rf.d84b132a0a98cbede0d9366814415cf8.jpg\n",
            "194_jpg.rf.5cae13adc833878ddd682d74a2efbd71.jpg\n",
            "194_jpg.rf.ef3fd4cc2093f9fba54a39d5faaf1bba.jpg\n",
            "195_jpg.rf.83ea8c0e6a8822ec3892f73cce78b3ab.jpg\n",
            "196_jpg.rf.733005fc1bd70da8d8cf1683c9fba2ce.jpg\n",
            "197_jpg.rf.2617377d468792cc00472cdafb613f7e.jpg\n",
            "197_jpg.rf.68558aaac1c778409c6c69df4dae4a7e.jpg\n",
            "198_jpg.rf.3d8873fb34bc895e74eee08642201237.jpg\n",
            "198_jpg.rf.52513504d7fb67a25742997a07ca4079.jpg\n",
            "199_jpg.rf.1dabce6f3b2a17dd42cd79178b23110f.jpg\n",
            "199_jpg.rf.951535e8f6528cc99c7771b89c9b45b0.jpg\n",
            "19_jpg.rf.2ad85ac29802ff325dc24ac9ec23f4f0.jpg\n",
            "1_jpg.rf.0bc8d189ed448924a709e4e25c12e9d8.jpg\n",
            "200_jpg.rf.645e331ea58a6b5e70b0ea03d390aa50.jpg\n",
            "200_jpg.rf.674483196eeb6c30ba6d286d29fea02f.jpg\n",
            "201_jpg.rf.0cedc8d51b8725f649c575c8e21097af.jpg\n",
            "201_jpg.rf.ac08fc791768b693de04749c35a805be.jpg\n",
            "202_jpg.rf.664570ed376babf1737244b36ede3c82.jpg\n",
            "202_jpg.rf.de402885721efc0fa840f2c35a328b66.jpg\n",
            "203_jpg.rf.6a3cc52023608fc3039a8610e173d5b8.jpg\n",
            "203_jpg.rf.b48e3ff563a0ad0b63083949bdc58658.jpg\n",
            "204_jpg.rf.2a53a32b6360a657b5d4bb2121526a90.jpg\n",
            "204_jpg.rf.fdcdfe2505c6c7dab80e9e8dd811843e.jpg\n",
            "205_jpg.rf.917407567ac31cfd8c397844501d6ac6.jpg\n",
            "205_jpg.rf.b7eceea2119717525cfa18b444144b9c.jpg\n",
            "206_jpg.rf.ae06ce60af1c05f71ff4651a4a6e2d88.jpg\n",
            "206_jpg.rf.f01ca82570f2de7ebf0ac7f10dd4c95c.jpg\n",
            "207_jpg.rf.18b5dad2b88fc3c244cf24363a0bbd8c.jpg\n",
            "208_jpg.rf.1f7440384d7d07e2d1524ee5f58018f1.jpg\n",
            "208_jpg.rf.ef18f05b49fadd493d1635a035ad2cb9.jpg\n",
            "209_jpg.rf.29f5af33626a70d7d23be18045818077.jpg\n",
            "20_jpg.rf.2fd7fa6ee0d5e9925ac5f37430b78a6e.jpg\n",
            "20_jpg.rf.69bbbede16b9f7349753be8bdfc4e0c1.jpg\n",
            "210_jpg.rf.18cfa008657a71e852c6b23b87a21882.jpg\n",
            "211_jpg.rf.d4bf3381c134e9c61b362e314b5ca60f.jpg\n",
            "211_jpg.rf.f5a825d683da1a138b734c378f857b56.jpg\n",
            "212_jpg.rf.6748ea04879316cf91e4811c23df11a2.jpg\n",
            "212_jpg.rf.8d54462d5ef37a2e0712fa2979b56f76.jpg\n",
            "213_jpg.rf.8f83947d37aba694c6cd94b0c58f64db.jpg\n",
            "213_jpg.rf.c37fba3dff39ce094d4551f72a9568a5.jpg\n",
            "214_jpg.rf.82f5856d8e11f3cc2c392bf8eff50d59.jpg\n",
            "214_jpg.rf.8e7e326f5aba12c90f1f7cef6925f981.jpg\n",
            "215_jpg.rf.8a0b0deefcccaf259712aafddaced60a.jpg\n",
            "215_jpg.rf.f0808157ead6309de0e6d83835ac1f34.jpg\n",
            "216_jpg.rf.3e4cbb1374a823d5b971c35ed0ab2ce7.jpg\n",
            "216_jpg.rf.c0f06465330b015e34b73495e8f65143.jpg\n",
            "217_jpg.rf.7f45cc77abda03bfe901bc76792ee001.jpg\n",
            "217_jpg.rf.874e20466765d524b02dbe2175f23894.jpg\n",
            "218_jpg.rf.22a5c316cfb54d92661af4a6a58b8cab.jpg\n",
            "218_jpg.rf.8fdf254cb0aa6ad1372c5a882ad750de.jpg\n",
            "219_jpg.rf.098c1bcac9c5ddb46a2787c2fa24ebe6.jpg\n",
            "219_jpg.rf.5ec0fe7fed104a3eeef9869ffc441e4f.jpg\n",
            "21_jpg.rf.87e90c4d72bc0e393caec8b9f71a6608.jpg\n",
            "220_jpg.rf.b8737f177bb3949a394fe329f8fb65a9.jpg\n",
            "221_jpg.rf.3d88502506aac47561464f6dcfcd950f.jpg\n",
            "221_jpg.rf.a5e5c239e0dd5cf53fdb7b59061fc936.jpg\n",
            "222_jpg.rf.6a04a121f0d997abea3d6ab30bef3397.jpg\n",
            "222_jpg.rf.a265286d5ef9eee661f4881b82f04fcc.jpg\n",
            "223_jpg.rf.d7ebb5614907b89ec1c39219925926c3.jpg\n",
            "224_jpg.rf.53c8cc56d56b433bb46e23723bc0236e.jpg\n",
            "224_jpg.rf.faf4282dd376e85a6b6486f0a3a22206.jpg\n",
            "225_jpg.rf.7423baca41e708f4da49f427fa7cd156.jpg\n",
            "225_jpg.rf.f077805618cf6245209dd4d1a4e767aa.jpg\n",
            "226_jpg.rf.c043bd3493ffd5d1ab22dc6ba309a93c.jpg\n",
            "227_jpg.rf.711c35e7f6125b41261dd72c89a0eb58.jpg\n",
            "227_jpg.rf.d572251d9212ad4a226e43368fb174c7.jpg\n",
            "228_jpg.rf.08ab21085c44b19afca9718a619365a2.jpg\n",
            "228_jpg.rf.a3b383ac61c31f9a313d627a111276fb.jpg\n",
            "229_jpg.rf.3e69533f8d7fd93d7e3ddc8ae163b68a.jpg\n",
            "229_jpg.rf.8cd648c418d2e4df136d24470e98c72f.jpg\n",
            "22_jpg.rf.331d4d62113d8b29351330093f579cc7.jpg\n",
            "230_jpg.rf.28d35c63889bd6886781fb51b71fc6e0.jpg\n",
            "230_jpg.rf.40f2f691295d65a3ef8735d075bcde66.jpg\n",
            "231_jpg.rf.1ac8f56ac0cc2bcf943ca5a8972d56ff.jpg\n",
            "231_jpg.rf.23c93dba6065948cba9aaaea30141de0.jpg\n",
            "232_jpg.rf.831283375e34d9a28b3b703974742dfe.jpg\n",
            "233_jpg.rf.8e981fbd72fb2cebcba82f2ae0f39148.jpg\n",
            "233_jpg.rf.cdc416ae7b4f1c36b351e12638be6fb8.jpg\n",
            "234_jpg.rf.1f9ca56943980013c1738642fe26a4e6.jpg\n",
            "234_jpg.rf.789ea2f387ca0f3144aafc2487773f0b.jpg\n",
            "235_jpg.rf.ae3a3f65b9b69baea494c2ea533aa8a1.jpg\n",
            "235_jpg.rf.b3483b693f3ffd58beac0b639194bfb0.jpg\n",
            "236_jpg.rf.466dfb46231028596a11eab8939ca054.jpg\n",
            "236_jpg.rf.5da49fb0f513ca3faa7c38b046e837d4.jpg\n",
            "237_jpg.rf.aed24a264edfdb37c6d72752552ae46e.jpg\n",
            "237_jpg.rf.beeaea56b5b45b2408a82ad570a408c6.jpg\n",
            "238_jpg.rf.e8b1556d0b8d00e0dc975be955e2ccfd.jpg\n",
            "238_jpg.rf.fa539341f2418c99f76ae17f084cb949.jpg\n",
            "239_jpg.rf.64c5e7dc3b914870ac93e0073225b8e3.jpg\n",
            "239_jpg.rf.8b0cb2cf967ad1e6151ff7fd17913ba4.jpg\n",
            "23_jpg.rf.e21cfd4976f2bce41809129359458518.jpg\n",
            "23_jpg.rf.f8d07d26f77c0f09388abd033a8c8057.jpg\n",
            "240_jpg.rf.793c6f72839b1ac876e065f28fb0f543.jpg\n",
            "240_jpg.rf.97bd1c27438ea1b061ec2f025f8fa34e.jpg\n",
            "241_jpg.rf.8ee79f578d87091e52b4b67777ad8a7e.jpg\n",
            "241_jpg.rf.8fe2b79e8ef417a5384f5780efc561c1.jpg\n",
            "242_jpg.rf.3fff1148670f77fc3432c36671331a8a.jpg\n",
            "242_jpg.rf.ac2618f7929b632ec2a9ce4ac28fe8af.jpg\n",
            "243_jpg.rf.3ec7e39bb63079fd7928bf56e2ec2af3.jpg\n",
            "243_jpg.rf.911c9dc05872c9759e873f6fd9b924b9.jpg\n",
            "244_jpg.rf.803ebd1f709d0d2998bba25822037320.jpg\n",
            "244_jpg.rf.c289fad137600a82f8f5938ef12e2530.jpg\n",
            "245_jpg.rf.6210f3648959fbf834638bb9fe7baa66.jpg\n",
            "245_jpg.rf.9bd29d097f4386ad1ec66644136cc06b.jpg\n",
            "246_jpg.rf.0486317fff26937bca86edc6545c56d7.jpg\n",
            "246_jpg.rf.64789b1700512f19deb4b82a75aa8134.jpg\n",
            "247_jpg.rf.1b7c39726da90d24c8e46693fdc202e0.jpg\n",
            "247_jpg.rf.94f636d62009cca42ca45a63da0ff608.jpg\n",
            "248_jpg.rf.8ca22693eecdf68a61b9daf1751f17d7.jpg\n",
            "248_jpg.rf.93e4f2f16252ef11308d6f58875e1c7c.jpg\n",
            "249_jpg.rf.a8430d1c4c321da12ab50af092bcb084.jpg\n",
            "24_jpg.rf.d6212496e2f1d2bd14c272c53347b03d.jpg\n",
            "24_jpg.rf.f298e1d1a6b0f0b0b17822ff3f1efa81.jpg\n",
            "250_jpg.rf.ac7606f9785541b0be524774715eae18.jpg\n",
            "251_jpg.rf.295e978e6ba8e91324e6b13bc559ccbe.jpg\n",
            "251_jpg.rf.8945c71451f49bbb08ac14ee4f51d2c5.jpg\n",
            "253_jpg.rf.ec0e627dd1242758f000510868635498.jpg\n",
            "254_jpg.rf.edcb7f65148ac0f83285d52016dab1da.jpg\n",
            "254_jpg.rf.f9f6260c5058948f9870ee123e12b9af.jpg\n",
            "255_jpg.rf.4091b5e94d96d5a03795d238526104c0.jpg\n",
            "255_jpg.rf.49ac9fdc99d198c788f2834d9037c962.jpg\n",
            "256_jpg.rf.596830568c57618b8012859e28597931.jpg\n",
            "256_jpg.rf.b1feb3d307a477ea9433ad7b2ed2b708.jpg\n",
            "257_jpg.rf.38daf089031ea93f35fde50e4e1f76b2.jpg\n",
            "257_jpg.rf.67795545decebd28bec9594b93c70f46.jpg\n",
            "258_jpg.rf.b0ec9870e4e828890c0038723124d1d9.jpg\n",
            "258_jpg.rf.bea39f6c0b8b9c639361f4350155aa20.jpg\n",
            "259_jpg.rf.170407b7b01cada39c04827087e9ee93.jpg\n",
            "259_jpg.rf.c734221f7a06edcc507b33856054ceed.jpg\n",
            "25_jpg.rf.0d626341680273a782cb207ffa7ad132.jpg\n",
            "260_jpg.rf.7a11e3ad245ec47dc326beee1882cd03.jpg\n",
            "261_jpg.rf.1ac3fe5aca79e228284ccb5d65dc85f2.jpg\n",
            "262_jpg.rf.2907e2694a7004b4c6156e46b036660c.jpg\n",
            "262_jpg.rf.c0582c6adb063d963209179463328b6f.jpg\n",
            "263_jpg.rf.4ff680884d0517b716a335e4f80c71ab.jpg\n",
            "263_jpg.rf.f09135e0f337a9905ec182e857fdfa75.jpg\n",
            "264_jpg.rf.0426245ecfe056194a041c0d2acaec14.jpg\n",
            "264_jpg.rf.277788fcd90e25d12cca606a836bad95.jpg\n",
            "265_jpg.rf.a71813979621ceeb2fb2bc01e35b68fd.jpg\n",
            "265_jpg.rf.e42ddaa9a9627ee55b8778855a3c3d14.jpg\n",
            "266_jpg.rf.74151a886a44d4a6affda967629ffe6e.jpg\n",
            "266_jpg.rf.869ce1fe73b28d030847ef49cc70b8fb.jpg\n",
            "267_jpg.rf.7d09bf7072a35118d75f818c7de0e87b.jpg\n",
            "267_jpg.rf.e2e7aeb3a6aad31c7554f29867d8a78b.jpg\n",
            "268_jpg.rf.5c178485cf1b37e9e3788d5e2e35e6cc.jpg\n",
            "268_jpg.rf.efadb1ab91bb3b1e962b0538a1defa52.jpg\n",
            "269_jpg.rf.4206de3798592222e21fd5ae2124a622.jpg\n",
            "26_jpg.rf.2f68d770d27aaf0f6f509f167137dca5.jpg\n",
            "270_jpg.rf.9324be5c4b7cff44ee7f8d70c5ac6b7b.jpg\n",
            "270_jpg.rf.bf50bb34958627570bff210b37d88b56.jpg\n",
            "271_jpg.rf.17993ce6a02b0957abeed0e1dc4ee870.jpg\n",
            "271_jpg.rf.bea1dd964ab331e41436cc150175cccb.jpg\n",
            "272_jpg.rf.25cf94490916660060f70a6520a496be.jpg\n",
            "272_jpg.rf.3c3ee4b0eb24e91981f978ff52c71020.jpg\n",
            "273_jpg.rf.a00f6e5fcb250c45dad35a184c47ba75.jpg\n",
            "273_jpg.rf.d6b84bec97903433ecb7406aa9bca9a0.jpg\n",
            "274_jpg.rf.aa20d9d870e3d663a31a51f8f46f2487.jpg\n",
            "274_jpg.rf.c2fb9378d2f3e3a8a215f9c379cecb76.jpg\n",
            "275_jpg.rf.13f9e859684927cdba7975431ad8ad54.jpg\n",
            "275_jpg.rf.d5c614bad074f4e0c54a270467f5a817.jpg\n",
            "276_jpg.rf.2cc6523b7088d39fb90f408a3bc104bd.jpg\n",
            "277_jpg.rf.45275d3b97404c90b4c40964ba3dc163.jpg\n",
            "277_jpg.rf.d74af14e2a7f09166043bdd9d21aa7b2.jpg\n",
            "278_jpg.rf.691c1030ba5b1433998505684b747119.jpg\n",
            "278_jpg.rf.b0e73aa8ede8dc5495c79637357d3edc.jpg\n",
            "279_jpg.rf.c3b9f246a11074e2678f4ddd7ab9f02f.jpg\n",
            "279_jpg.rf.cde69a9b9feff654af7860901d457fef.jpg\n",
            "27_jpg.rf.cb27742e82df847f120acf9125b905df.jpg\n",
            "27_jpg.rf.cdfc5e59bf38264f3604dd62733f6656.jpg\n",
            "280_jpg.rf.3c21394ce0fff17f5e63bc47a8599810.jpg\n",
            "280_jpg.rf.d154b08a563982889d4d72998c6bbfda.jpg\n",
            "281_jpg.rf.581289b0c6902f49f2c1c57638830e11.jpg\n",
            "281_jpg.rf.5e3d08202050fa62a4354fdb2367350f.jpg\n",
            "282_jpg.rf.c405ca021db2394c8732ee26ef39b0b6.jpg\n",
            "282_jpg.rf.e69e29b11a0305da59f767516ef78703.jpg\n",
            "283_jpg.rf.91d4349d068e87f4c649fd58afa8330d.jpg\n",
            "283_jpg.rf.a5e4528f58187ec8fad7e5a451cecad4.jpg\n",
            "284_jpg.rf.35e35009a20e3809a39560ace91a7afd.jpg\n",
            "285_jpg.rf.0cc82914bbbc5f3694761df2a10cb705.jpg\n",
            "285_jpg.rf.c3bcb4db8987bef1cf86d4a57821710b.jpg\n",
            "286_jpg.rf.0ef94c9bcc9adab1dbb41678605dd8be.jpg\n",
            "286_jpg.rf.cf08efa9621fad55514bf6cb0fde36b5.jpg\n",
            "287_jpg.rf.70d7c6160c3a3eb890d64269f86b71d2.jpg\n",
            "287_jpg.rf.a11f0735c3208f6873466b093e783e27.jpg\n",
            "288_jpg.rf.688c79d516af28207ea47b31dc012ed1.jpg\n",
            "288_jpg.rf.bfdae8e78941a2a3b92efa3621fe4207.jpg\n",
            "289_jpg.rf.bd227099abc313b57e8aa76c17d837bc.jpg\n",
            "289_jpg.rf.beef770dee86a15d24ee4a5b7a3944b2.jpg\n",
            "28_jpg.rf.02f43916631ed122bd95500d2f26bb6b.jpg\n",
            "28_jpg.rf.883cd2971dcd8015c690750ff73d5b13.jpg\n",
            "290_jpg.rf.1e4672c2aa68e06e42d7d5b2abfd656c.jpg\n",
            "290_jpg.rf.70235e34dee791c87d0e79f4c0c80b5c.jpg\n",
            "291_jpg.rf.1cedf36faa8759dcf109277438b1f035.jpg\n",
            "291_jpg.rf.6c49e9c3503bb87e436b66ab956160eb.jpg\n",
            "292_jpg.rf.17a25ebef3e5ddac5f20a68739fc7466.jpg\n",
            "292_jpg.rf.5bcfd001fb7013c9cfba1f8c203d8fb8.jpg\n",
            "293_jpg.rf.cee3706268176c564513f0415caab191.jpg\n",
            "293_jpg.rf.f54dadf16a87d40eb7885d3cb16172cd.jpg\n",
            "294_jpg.rf.2a20204f3d5a1815fc28e33c35826944.jpg\n",
            "294_jpg.rf.54386a425501016ddf5225f8a0cf7df2.jpg\n",
            "295_jpg.rf.7afd30cb8230e6c799b0db77a82178b2.jpg\n",
            "295_jpg.rf.90f6b35ecff9852240b9ba21e0ffc918.jpg\n",
            "296_jpg.rf.5ad8da809dfa2b22dfabcf1f5f02249c.jpg\n",
            "296_jpg.rf.c12f1d260fe21de38756f1b94c7d1db0.jpg\n",
            "297_jpg.rf.ce2ca587c2f9db6b1beb487d8ed49777.jpg\n",
            "297_jpg.rf.ddec7021e27201520652f6584e1149a2.jpg\n",
            "298_jpg.rf.ea15e0fde32edf7ca869f81cb5d8be7b.jpg\n",
            "298_jpg.rf.ea93242773698c40a1e056b01eeee84e.jpg\n",
            "299_jpg.rf.0759f3e77d99526035dbce8e1de12f2f.jpg\n",
            "29_jpg.rf.481bfc2c606d9687da1189b1203e1219.jpg\n",
            "29_jpg.rf.e2040fe6d80bc4cb65dbcfb31e667a4e.jpg\n",
            "2_jpg.rf.3f685bd9db02ec24d6aa0d71f29087d1.jpg\n",
            "300_jpg.rf.40ce7cb7925df3149e569176310bfd24.jpg\n",
            "300_jpg.rf.f021098bb6a14770b31a6add17abc47c.jpg\n",
            "301_jpg.rf.abce41be0ce448d3cfa181bbde76c390.jpg\n",
            "301_jpg.rf.fbdcf50723fe6bd86da996aba132c574.jpg\n",
            "302_jpg.rf.60300d3bbfe4f099a94094e0939598d7.jpg\n",
            "302_jpg.rf.985c72f0ac611f61a5a5f05ead534cf0.jpg\n",
            "303_jpg.rf.3d4489a95aa632f96d53ac9e05ccd908.jpg\n",
            "303_jpg.rf.e1f8d749af290381e7807a4fe67313be.jpg\n",
            "304_jpg.rf.20f1daa076e987c69b77061d3751430f.jpg\n",
            "304_jpg.rf.b22067da4c3beaf9e57946a1b672badb.jpg\n",
            "305_jpg.rf.39fd337bedceafa5f8b483a34826d624.jpg\n",
            "305_jpg.rf.beaf64c088b59637bbf53845e4b24ced.jpg\n",
            "306_jpg.rf.734d0b68cf35fbc2029b71acab94a13f.jpg\n",
            "306_jpg.rf.960962950d3e34584c5ef2c395d43738.jpg\n",
            "307_jpg.rf.49e8b46388b10212bb80a533087bf7ce.jpg\n",
            "307_jpg.rf.d1e3360ae236eec338c0ef8c9b66dd63.jpg\n",
            "308_jpg.rf.6f5a5672fe5f3b143ee602f44d358eb5.jpg\n",
            "309_jpg.rf.ec21b1bd4fcc89a4cef0302c15e74732.jpg\n",
            "309_jpg.rf.fc955421285b8f566ada03e5c2997760.jpg\n",
            "30_jpg.rf.46f0a5197e64123065a50aecd4bfee7b.jpg\n",
            "30_jpg.rf.5cc011a418d0022688cff75408961ca3.jpg\n",
            "310_jpg.rf.24443561252aa09da41b18a8e5fd0725.jpg\n",
            "311_jpg.rf.05b655e8fbe445b419a1cd3dcd539f61.jpg\n",
            "311_jpg.rf.b4317489173a0f543a1ebd624017e8a5.jpg\n",
            "312_jpg.rf.741e1090f6e2e69d50c82f3cdf071ff1.jpg\n",
            "313_jpg.rf.62a1f1721feb452c355ed2bceb4d02d0.jpg\n",
            "313_jpg.rf.aa28c1552b481cfdad704a611c153713.jpg\n",
            "314_jpg.rf.222b84184b0fe0d92d22fbd4a68a204c.jpg\n",
            "314_jpg.rf.965838c8586e5be43dc2ea2be1641749.jpg\n",
            "315_jpg.rf.9480d1c713ed94ef4a06cdbe1b60736f.jpg\n",
            "315_jpg.rf.c86e7fe8d663b2eb942816fbded3247f.jpg\n",
            "316_jpg.rf.20cfcdef346f1cf26765786d01000f40.jpg\n",
            "316_jpg.rf.fc1c6eff7f4fd06fb53967af8bb66482.jpg\n",
            "317_jpg.rf.355209031fd1698913251c8634c5cc65.jpg\n",
            "317_jpg.rf.e25c92592fb2263038372890bde3d6e8.jpg\n",
            "318_jpg.rf.35d08a0dbf76accb17ab50b3a6f1f725.jpg\n",
            "318_jpg.rf.63ba09ea52e2c5ef7acd5cf07a33fa88.jpg\n",
            "319_jpg.rf.536b55c32af608bbe7d28a9e3d88b3a2.jpg\n",
            "319_jpg.rf.b9bf476b0f91177ed946f55eac48ae07.jpg\n",
            "31_jpg.rf.763a8dd5ab467eaca6693d8897ddb325.jpg\n",
            "320_jpg.rf.19fba69645bf3e53417114e9289856a9.jpg\n",
            "320_jpg.rf.be750b6ffa5bc23d62c9479c0c60f323.jpg\n",
            "321_jpg.rf.014753287b62e780c0297135a23b1d27.jpg\n",
            "322_jpg.rf.0c8ef2eb84224bbc881845492d22b74c.jpg\n",
            "322_jpg.rf.88430c3edc1264eb5ba3ace3268d6d0a.jpg\n",
            "323_jpg.rf.a8dc6313a68facfda7d7a83dc562915e.jpg\n",
            "323_jpg.rf.faf99db74bbd6ba7bd608b4fac84c7d0.jpg\n",
            "32438956_jpg.rf.f1de99b498e6517ea66ea35479fc6a2a.jpg\n",
            "32438957_jpg.rf.277b64ffce54609d56c2220f40e0efb9.jpg\n",
            "32438958_jpg.rf.043ef6dfca36e0c924a0e31888cf5410.jpg\n",
            "32438959_jpg.rf.88103a28400d9aa71b9e032957dba151.jpg\n",
            "32438960_jpg.rf.9127b496357038ce81a99650010f8b3f.jpg\n",
            "32438961_jpg.rf.5db8e9bb39ba98089f9c7e615c16f41a.jpg\n",
            "32438964_jpg.rf.b5c5ff29f256c6b154053510db9442d9.jpg\n",
            "32438965_jpg.rf.c9002fc3c8f77595296059e5290e4a5d.jpg\n",
            "32438966_jpg.rf.ebf5988baf224c6b79dc7fe45c2cda25.jpg\n",
            "32438969_jpg.rf.169279318efd28f11e79e5a2f1f16262.jpg\n",
            "32438971_jpg.rf.8a864a47b546b4ee81ae1627b90850e5.jpg\n",
            "32438972_jpg.rf.55af3e487f0019dc654f899adaa47320.jpg\n",
            "32438973_jpg.rf.00ac4f4e970afc051036dd0a74bb7589.jpg\n",
            "32438974_jpg.rf.99fcd701c33c88607e3b3c2373236e8c.jpg\n",
            "32438975_jpg.rf.a61c99e26f9ac968dbe7875dd0e61b7d.jpg\n",
            "32438976_jpg.rf.8354bb1b6625c7670c1f800f9fdd4143.jpg\n",
            "32438977_jpg.rf.9285ce3b65b639eb1508e767358dc007.jpg\n",
            "32438978_jpg.rf.4785598563c0ae66a50d73a9101b44b1.jpg\n",
            "32438979_jpg.rf.2b941c537c2a22b7390cecd3e62f81ff.jpg\n",
            "32438980_jpg.rf.f9afdbd0e40595bf9d2a456c2dc3be5d.jpg\n",
            "32438981_jpg.rf.dc2f1e9c6de3600fb5ceb36e3eed189e.jpg\n",
            "32438982_jpg.rf.89f95f8501f19a8561dd140e374a0bba.jpg\n",
            "32438983_jpg.rf.ec3877b656e6f5b93105a76d3bfae176.jpg\n",
            "32438984_jpg.rf.cf106e29977f5dc9b0397dc124d59ce8.jpg\n",
            "32438985_jpg.rf.c99fbe8386e5a1bb7d142de8f56f7317.jpg\n",
            "32438986_jpg.rf.4b9abb86cdab22acacb49bf2b8e6d3ff.jpg\n",
            "32438987_jpg.rf.e26fd93d39892dbaf00352207f43227c.jpg\n",
            "32438988_jpg.rf.42257ac6b68f9ae7b9e5b9219f580889.jpg\n",
            "32438989_jpg.rf.30efe901c55159003f32f352a2712e21.jpg\n",
            "32438990_jpg.rf.605454f815445c508686e508b0d2ba08.jpg\n",
            "32438991_jpg.rf.39f205022c9ebe3473e5640616ce281e.jpg\n",
            "32438992_jpg.rf.965f127adebcc47f841e6af3b454ca0f.jpg\n",
            "32438993_jpg.rf.33148398299013af684f1dee45927bf8.jpg\n",
            "32438994_jpg.rf.a8a96eb09276b9864c19df2ea778155e.jpg\n",
            "32438995_jpg.rf.b7e84c2a8048b5e968ab942f7a06b5be.jpg\n",
            "32438996_jpg.rf.bf3826635e494dc02e14d66db50369fe.jpg\n",
            "32438997_jpg.rf.bd0f6eb1c35097c3c86621d714856c2e.jpg\n",
            "32438998_jpg.rf.23107e1d1dbd19e47da1b49c45ea8b9b.jpg\n",
            "32438999_jpg.rf.8dfeb5114fa1459d72c8636ad74ddb20.jpg\n",
            "32439000_jpg.rf.12e7486da21a33924473544d5ad65238.jpg\n",
            "32439001_jpg.rf.728da5013e476cf60d70d82da9eb57fa.jpg\n",
            "32439002_jpg.rf.7255d52e0da0320baf404cb163ddd6c7.jpg\n",
            "32439004_jpg.rf.04999d5f2a164415e29f6164f9db9d39.jpg\n",
            "32439006_jpg.rf.2177d36a7c06f1493ace1d16f5608ad4.jpg\n",
            "32439007_jpg.rf.dde0cbdd1dc2bc6deee913dc26fa0124.jpg\n",
            "32439008_jpg.rf.cede4b3e4dab823eacbaa28fa8903b90.jpg\n",
            "32439009_jpg.rf.36a09a7d6090e41ea48962f6c89ea08a.jpg\n",
            "32439010_jpg.rf.f262e7d73ffcf89c3b1388659cb7bf7a.jpg\n",
            "32439011_jpg.rf.33111daa80e55bb1bec3a75eecb88394.jpg\n",
            "32439012_jpg.rf.57514c5af1f32ed6d535c9414ec9b6d8.jpg\n",
            "32439013_jpg.rf.cf5049e2d102fced1a594fd1dd91219a.jpg\n",
            "32439014_jpg.rf.01972291ce93e6c1e054ef2a507aec2a.jpg\n",
            "32439015_jpg.rf.39758a5ffcd6613aee57d083fa4f81b8.jpg\n",
            "32439016_jpg.rf.e0467e2dcc570606ddb5bdd1c840f5fc.jpg\n",
            "32439017_jpg.rf.3eef4c29a0229b7dcd688b2faccec619.jpg\n",
            "32439018_jpg.rf.f2c1c570b1b1cb25f8cbf4321c6469bb.jpg\n",
            "32439019_jpg.rf.1465f274131e8fd0e1d909b2657bee8d.jpg\n",
            "32439020_jpg.rf.bb62024fc8c08b9c6664a567ef63a6aa.jpg\n",
            "32439021_jpg.rf.b445b161dc2bfba6d792286f5e5a5649.jpg\n",
            "32439023_jpg.rf.24c6bece551ec75bf423efd487f25de7.jpg\n",
            "32439024_jpg.rf.6d32f82351612890600df4a2f71421a6.jpg\n",
            "32439025_jpg.rf.c55e9de445d114838dbfae60ce0ae1e3.jpg\n",
            "32439026_jpg.rf.ccc35e468d98254e424b325ce96f741a.jpg\n",
            "32439027_jpg.rf.4928473e86ad64a8fd8b8479697259ee.jpg\n",
            "32439028_jpg.rf.e433290491264594fb39dcf8999a6255.jpg\n",
            "32439029_jpg.rf.401981dad201a9f6932101c7b72a83ac.jpg\n",
            "32439030_jpg.rf.2fcd9c6d83db8ce1d67e1da8c36bcd46.jpg\n",
            "32439031_jpg.rf.fafde72aa32aa2d7ab842da150385b23.jpg\n",
            "32439032_jpg.rf.ce62781bbd3826f6eb58db87183a63bf.jpg\n",
            "32439033_jpg.rf.1008212bc88979cebfa02e1f07e7be79.jpg\n",
            "32439034_jpg.rf.ebf51efa87aae62e9a17198199091b70.jpg\n",
            "32439035_jpg.rf.d7b2137c78c90bc8e3ba1eea2880b2ee.jpg\n",
            "32439036_jpg.rf.ef2601481d7ebfa898bf0d9ca18440b4.jpg\n",
            "32439037_jpg.rf.a2479db1a4d9bcd37b8f41d6a0f59521.jpg\n",
            "32439038_jpg.rf.e5258d46dfa8a7a37741c5280f1e47dd.jpg\n",
            "32439039_jpg.rf.db3b16fd7172b507bbd7c7681ecb38a0.jpg\n",
            "32439040_jpg.rf.cd6ec363b317b957918fe525269f0151.jpg\n",
            "32439042_jpg.rf.bdaaa5138e822f106587a7954ca0a8c7.jpg\n",
            "32439043_jpg.rf.842fab69c4957517ea4f3fff623f8a66.jpg\n",
            "32439044_jpg.rf.afd681edda6cf1aee0dcd093d9f6e7c9.jpg\n",
            "32439046_jpg.rf.4da0c8a711e56e83181a3f32917abb9a.jpg\n",
            "32439047_jpg.rf.6d03742c9cb5a5d74d500154b0fd929d.jpg\n",
            "32439050_jpg.rf.d337b0d1ad1754da41eb3f258906cd87.jpg\n",
            "32439052_jpg.rf.9e0efa799f7cf67a75297f16563b46e4.jpg\n",
            "32439053_jpg.rf.c8f36322b93dce0fc2dfe36675cb4e54.jpg\n",
            "32439054_jpg.rf.5c758342eccadd793cc60e8f3db7af1b.jpg\n",
            "32439055_jpg.rf.b0b415f0ddffacce77d38e76199fd986.jpg\n",
            "32439056_jpg.rf.dd550ab2ca3e45cd8174403e78d39b99.jpg\n",
            "32439057_jpg.rf.b0f3cef863ebadf97a977f7e44680779.jpg\n",
            "32439058_jpg.rf.dcedac068eabc4043e29e21602456c4e.jpg\n",
            "32439059_jpg.rf.60be995e1a577d99fc79dfd7f919f2e1.jpg\n",
            "32439060_jpg.rf.c3ad5c73c0f65e17a3d73ff7c92e14b8.jpg\n",
            "32439061_jpg.rf.bed4f93ae3fc99def11ed13ea29a8b07.jpg\n",
            "32439063_jpg.rf.444e76a73dd593abf5e6b314d5dc7b72.jpg\n",
            "32439064_jpg.rf.3f667625458696d309ae6143ec09cb44.jpg\n",
            "32439065_jpg.rf.d1969093b06838dd10d53339c26ca8c2.jpg\n",
            "32439069_jpg.rf.b423538b2d1bbb33e4a38447d7fd88de.jpg\n",
            "32439070_jpg.rf.752c5aa04e250949a9269b4e3dbb0ae4.jpg\n",
            "32439071_jpg.rf.a84a891bb715d66fab5614c98953d699.jpg\n",
            "32439072_jpg.rf.a47e8d5769cf0fcf34b2e5d5811c09af.jpg\n",
            "32439073_jpg.rf.a36dfd7c9d37f58ac761c59d8136be2d.jpg\n",
            "32439074_jpg.rf.8c2be842db5c0a6bf1449256332c940a.jpg\n",
            "32439075_jpg.rf.3b756f5a8b1b842ab7f3edce9e2de590.jpg\n",
            "32439076_jpg.rf.58ee8491ed5d091e5d4ffcd6b9052b5d.jpg\n",
            "32439077_jpg.rf.57f8059424b0fa2438c2a8ea0635b895.jpg\n",
            "32439078_jpg.rf.61938056f33ff621dc9dd311a1bf2cd6.jpg\n",
            "32439079_jpg.rf.7ce755b91e8c46d26f4562bdb7d01bab.jpg\n",
            "32439080_jpg.rf.bb245bc3c82ecd58efb423601d732662.jpg\n",
            "32439081_jpg.rf.408385c92cd200aaecdba6d9f5f488ef.jpg\n",
            "32439082_jpg.rf.0deebc7f5c11a18ec4972841d86f369f.jpg\n",
            "32439083_jpg.rf.93bfb1e7f3429d5336f9a63a1d2e90bc.jpg\n",
            "32439084_jpg.rf.069feb8633f2f4378e0fc4d5162f2713.jpg\n",
            "32439086_jpg.rf.2062922d43fff7083eef5245c09e5166.jpg\n",
            "32439087_jpg.rf.1275113e42438ace5c1c4a2dd007b9a3.jpg\n",
            "32439089_jpg.rf.c75838e2479eb0bb1409b47b7f995704.jpg\n",
            "32439090_jpg.rf.2cdc61c61e4b3c45f2562bbb00c22887.jpg\n",
            "32439091_jpg.rf.94c60091390c93c12f6e54be09776007.jpg\n",
            "32439092_jpg.rf.be72466612b449d1e30c687559d495ba.jpg\n",
            "32439093_jpg.rf.347eac40ad595c4106f0446bc9a14bea.jpg\n",
            "32439094_jpg.rf.cee2a06c2c9838393d83142f9d3ad17e.jpg\n",
            "32439095_jpg.rf.2e96e535a3ec4c1305cc5f62a4c09be2.jpg\n",
            "32439096_jpg.rf.28cfb90e3ba144ff5ccf22f45b1b6a26.jpg\n",
            "32439097_jpg.rf.9d2c5f4657c06f90b3d341433e580935.jpg\n",
            "32439098_jpg.rf.a15dcc6bbfba524e62bd097c1a5f25f1.jpg\n",
            "32439099_jpg.rf.137695e17c14ba2aed91607a71fd78bc.jpg\n",
            "32439100_jpg.rf.56cac3caf5acbf55017c7230fe6783af.jpg\n",
            "32439101_jpg.rf.d6d6aed75bb00660c27cb604bbf9bff5.jpg\n",
            "32439102_jpg.rf.dc60c6aa3cb26690939bf625f63d3745.jpg\n",
            "32439103_jpg.rf.d2bacbeb01636f6769353e213f8f0950.jpg\n",
            "32439104_jpg.rf.7c4d04a73e56426d043041f255626525.jpg\n",
            "32439105_jpg.rf.7c22b3c93215a0b97af7ab5ef52da6f6.jpg\n",
            "32439106_jpg.rf.25a67a5f75d332fe6f254b9d127c0daf.jpg\n",
            "32439107_jpg.rf.81bf02fc4c7268e02ad16f2b49dd6a62.jpg\n",
            "32439108_jpg.rf.e69f3f66f21f94982ac029cd939c491b.jpg\n",
            "32439110_jpg.rf.baf15126d15b40a58d990ee38cb76ab5.jpg\n",
            "32439111_jpg.rf.8ecd065a0c1f7acc7af5abaf7a83bf5d.jpg\n",
            "32439112_jpg.rf.ee326d126c016ec01343bf0eb8974f71.jpg\n",
            "32439113_jpg.rf.67787f384879a75bc0dc99d6d1ebed59.jpg\n",
            "32439114_jpg.rf.d257f65c91fb447db04f522108154922.jpg\n",
            "32439116_jpg.rf.1cc367b0c6fee7d7559c21cd76baae19.jpg\n",
            "32439117_jpg.rf.1793554b8cb03baeba338ebaf10fb890.jpg\n",
            "32439118_jpg.rf.b599de106e4320d93c6d21164abc5219.jpg\n",
            "32439119_jpg.rf.9506b6d386501f15c8b7dae389fc8e09.jpg\n",
            "32439120_jpg.rf.2e26fa803d73152702780df98b746746.jpg\n",
            "32439121_jpg.rf.3aaaa89dcdad47bfd80e304e905788ca.jpg\n",
            "32439122_jpg.rf.f6f7fd240447641f760713751aa9adc6.jpg\n",
            "32439123_jpg.rf.d7be9f493a3cd6564919d3808c71cde3.jpg\n",
            "32439124_jpg.rf.61bc28d1058370a0ee446e0a53b2e615.jpg\n",
            "32439125_jpg.rf.3b0a656d245ee42d5a503a20833329f5.jpg\n",
            "32439126_jpg.rf.23ad42f8d8d73b2796af0154cb1eaa4d.jpg\n",
            "32439127_jpg.rf.b2caab917bb4e220fd49d7fd8dda334b.jpg\n",
            "32439128_jpg.rf.0e56a22cc35cd34f0b4816d55d2cb63b.jpg\n",
            "32439129_jpg.rf.8e2c027c8ceb3eeb3ca1ae364f16e8f0.jpg\n",
            "32439130_jpg.rf.1f4f634b63a4fd4edee0caa37e98437d.jpg\n",
            "32439131_jpg.rf.fc5a2e8f960ec25cb86a9fa397298db7.jpg\n",
            "32439133_jpg.rf.d886cf740765647c4b02b6ff68897623.jpg\n",
            "32439135_jpg.rf.28caba5e1a3403ae928ea6282179c633.jpg\n",
            "32439136_jpg.rf.6e8f8187e723bab383641aef16e0feff.jpg\n",
            "32439137_jpg.rf.d44012d49046fd08b2d7a2d971ea308c.jpg\n",
            "32439138_jpg.rf.ec0e56ed30aaf5dba8d81bd6a2eb825a.jpg\n",
            "32439139_jpg.rf.15f8d5a4c321d0d42bd2eb977c12e91d.jpg\n",
            "32439141_jpg.rf.9f8319ed3000a081ce536348510b9263.jpg\n",
            "32439143_jpg.rf.671d5c9ea47bc6e7956b7264a9084aa6.jpg\n",
            "32439144_jpg.rf.753296cb6a9e2600ae99384ffb640d62.jpg\n",
            "32439145_jpg.rf.e9e0ac9eb045d9d3aec51eaa79e2370f.jpg\n",
            "32439146_jpg.rf.b1371f6e395b416bd5d39dec43c69b37.jpg\n",
            "32439147_jpg.rf.c18c735c8ed69d70215b93ce16e8588c.jpg\n",
            "32439148_jpg.rf.05307ee7879361e840140e77c46d9c62.jpg\n",
            "32439149_jpg.rf.310e00243cf0e40d7fd445b8f2ae9b22.jpg\n",
            "32439150_jpg.rf.7e5176768f30da5835767c10bd5ccc54.jpg\n",
            "32439151_jpg.rf.9525e1a4bc04328cf43da142b88614dd.jpg\n",
            "32439152_jpg.rf.eceaee972bd1017222d3365e21099ed4.jpg\n",
            "32439153_jpg.rf.088d34270dbad22323aa887fdd36a431.jpg\n",
            "32439154_jpg.rf.00cc5f6a7acdb6813524e031f58f1e9b.jpg\n",
            "32439155_jpg.rf.36422043099ccd9d24cd1c2864b91fae.jpg\n",
            "32439156_jpg.rf.bd1c9169206a5b77cb0393b794154903.jpg\n",
            "32439157_jpg.rf.0f42c1382eac862989dead5818837657.jpg\n",
            "32439158_jpg.rf.ef37126af8deac4fb26e5681837e0b37.jpg\n",
            "32439159_jpg.rf.666203640bdfdad65960c4926dbc28dd.jpg\n",
            "32439160_jpg.rf.0f6e974e7cf18d916a88b8a2bcc4995b.jpg\n",
            "32439161_jpg.rf.e6c20b755ebc53424b55eab5819800e4.jpg\n",
            "32439162_jpg.rf.85d4670576409a61f49fdd00238f77f3.jpg\n",
            "32439163_jpg.rf.6faab53d6d9d9395385b1599348924ad.jpg\n",
            "32439164_jpg.rf.20897b21a9134e6d947baa87e328c762.jpg\n",
            "32439165_jpg.rf.2cf67c558c0da77c6f81102b7549d59d.jpg\n",
            "32439166_jpg.rf.e9deda40935c62fccb4b8bd5b8c435a0.jpg\n",
            "32439167_jpg.rf.714bf9a3c170c7f14e5996d237513a24.jpg\n",
            "32439168_jpg.rf.bfb434239edff175dc82d940a55250b6.jpg\n",
            "32439169_jpg.rf.ebdd190ae27c793e0cc5e501cd289036.jpg\n",
            "32439170_jpg.rf.e4f3e8f6dc8ad29423e6f6f52328ccab.jpg\n",
            "32439171_jpg.rf.5b199a9e0dd890978521f8c65b08bb73.jpg\n",
            "32439172_jpg.rf.2947fbf0608323832a53f8cc8a871f29.jpg\n",
            "32439173_jpg.rf.485b78fb61a9057032773b55a46736f9.jpg\n",
            "32439174_jpg.rf.77034c31f7e644457e5c3205e1335aad.jpg\n",
            "32439175_jpg.rf.776a77345c5ded5c8375f714286edda6.jpg\n",
            "32439176_jpg.rf.bad92c741da5c094aa70a74f8d0f8d87.jpg\n",
            "32439177_jpg.rf.e43f9b939cdf44467e12c8a4a4fd1792.jpg\n",
            "32439178_jpg.rf.4b28385279797f68fdb4145d6b6b1c0a.jpg\n",
            "32439179_jpg.rf.8f2cc0a79557f91746f8cb202cf4838d.jpg\n",
            "32439180_jpg.rf.64103e069ae0ccf95e339e6394f6a2b1.jpg\n",
            "32439181_jpg.rf.885e2a607664518af8a6ad35084b4920.jpg\n",
            "32439182_jpg.rf.a9f6560a8b20f724c24cc37be01179ce.jpg\n",
            "32439183_jpg.rf.1adb04848b7d73c078ec7a2993c226ef.jpg\n",
            "32439184_jpg.rf.0b6fe02bc5301a3d375f7912e9fbc5d1.jpg\n",
            "32439185_jpg.rf.3244f38c58fe4da7d6a4df1f388497f1.jpg\n",
            "32439187_jpg.rf.6cd539b5968cc3ef3b2200c7628646c9.jpg\n",
            "32439189_jpg.rf.03ea49eb8e2d600e83d14f91ebd2a3f5.jpg\n",
            "32439190_jpg.rf.621f203aebb076226bd7ddf17e210072.jpg\n",
            "32439191_jpg.rf.442703af2190ba3a238c9513fab82e72.jpg\n",
            "32439192_jpg.rf.b14d5c5e23f94d89696a6e81effc846f.jpg\n",
            "32439193_jpg.rf.14c45b755d18cdf58162a7aeedf1cf61.jpg\n",
            "32439194_jpg.rf.ae0d3f9cd3ab6bd15bc5c604621c3a4a.jpg\n",
            "32439195_jpg.rf.17ad9e705dbb01fa5acbc3f6b26f8e47.jpg\n",
            "32439196_jpg.rf.282cf608797021404ec13b1268e851fe.jpg\n",
            "32439197_jpg.rf.abf7fb207b6a396bf0e702866d15f025.jpg\n",
            "32439198_jpg.rf.cf515bc6eae7fd9694c10f6bc3af9b3b.jpg\n",
            "32439199_jpg.rf.bc0544d6671e0d76c3c96118cfda1063.jpg\n",
            "32439200_jpg.rf.58f5fa26d896ed246658cafd50986f02.jpg\n",
            "32439201_jpg.rf.85dc6eb8f26fe4a64f1396ff30c0e5e0.jpg\n",
            "32439202_jpg.rf.a26599514ec9e41a518c635c84549622.jpg\n",
            "32439203_jpg.rf.c725e2e066274494123a43489f9993c9.jpg\n",
            "32439204_jpg.rf.15d2f5111ad94748270b422b5a6053d1.jpg\n",
            "32439205_jpg.rf.06e870e0ca284c48119f471e0e75f282.jpg\n",
            "32439206_jpg.rf.855f2e02343e646f9e6e064eccb02fbc.jpg\n",
            "32439207_jpg.rf.27095fe41290a085276c23a50449fa44.jpg\n",
            "32439208_jpg.rf.9ee300f7094b7f46e3ff0877325bb0f1.jpg\n",
            "32439209_jpg.rf.6cf08614bc8f9f164a1baae586afd4c2.jpg\n",
            "32439210_jpg.rf.0b40815777fcc3bf8f33dcb83a1f9536.jpg\n",
            "32439211_jpg.rf.392e4d37bb771ac1b78b22f93d2529ad.jpg\n",
            "32439212_jpg.rf.5080def3eb81aaab7ec4689e55350bcf.jpg\n",
            "32439213_jpg.rf.dfd989e3532d7ae32f0570e7d8286398.jpg\n",
            "32439214_jpg.rf.2fd92be6896faa91da888e2e09a1e37e.jpg\n",
            "32439215_jpg.rf.0484b812d171e04b5fad5a105f2e780a.jpg\n",
            "32439216_jpg.rf.4f7dd01e887433906064898cb79986fc.jpg\n",
            "32439217_jpg.rf.dbd5c4f887dddb2dcf1a857d509ac2b8.jpg\n",
            "32439218_jpg.rf.cde77ed0ec70a124e4f040f469fb0d8d.jpg\n",
            "32439219_jpg.rf.50c5af658958a795ba7e69ea2b2843d0.jpg\n",
            "32439220_jpg.rf.d63b5506119e4d22ab975a4b69169ac5.jpg\n",
            "32439221_jpg.rf.c2bdeebe4ca70bac2e386aa048351abe.jpg\n",
            "32439222_jpg.rf.ee2bca77dac4c97bdd61e0f8d23c710a.jpg\n",
            "32439223_jpg.rf.e65aa6e1060d36c1416bf9eb96a30298.jpg\n",
            "32439224_jpg.rf.f38aecae422046c03687d78c89f25383.jpg\n",
            "32439225_jpg.rf.73a7d075102770eb59553bdf6f1cdd6c.jpg\n",
            "32439226_jpg.rf.bcd10a0c1f925456544f99d6f36cc47d.jpg\n",
            "32439227_jpg.rf.b9a906fe505f098592a9e7fbc68d11c5.jpg\n",
            "32439229_jpg.rf.a19c0c3e505f486e3cf81d033babf8fc.jpg\n",
            "32439230_jpg.rf.35ddfe4f5ec1859b0bb8750cb95a7d0b.jpg\n",
            "32439231_jpg.rf.ea04abe1946920eb054b702a1ad5d414.jpg\n",
            "32439232_jpg.rf.c75baaf28957d29f498839b5dcd5e858.jpg\n",
            "32439233_jpg.rf.19b4b8e89651c4376e67fd605dd530f7.jpg\n",
            "32439234_jpg.rf.ff4890e3623e0e519b125bf61859fd31.jpg\n",
            "32439236_jpg.rf.67b258c5d0c627c5853d4decbaf6ec85.jpg\n",
            "32439237_jpg.rf.f5475f2d897f096e2c17be7074e23413.jpg\n",
            "32439238_jpg.rf.521e960929eb16b044b865729b26a544.jpg\n",
            "32439239_jpg.rf.98e9c0882b9ef6a7c402c45b84674a41.jpg\n",
            "32439240_jpg.rf.9f76cc33801336389039f37b6e69476e.jpg\n",
            "32439241_jpg.rf.65093495c192a733bc005e2b7c57055f.jpg\n",
            "32439242_jpg.rf.00ea38f6679c975f0d115e02aadad2d8.jpg\n",
            "32439243_jpg.rf.360993c6422274f4ce7bc9bccafb61a7.jpg\n",
            "32439244_jpg.rf.e919c9c6c287b7474f451d5b5da9bf67.jpg\n",
            "32439245_jpg.rf.0d4ebc13189e042e53c0b7bd09b0e25d.jpg\n",
            "32439246_jpg.rf.ac10c54e52a3b2ac4845aae1094118fd.jpg\n",
            "32439247_jpg.rf.2e9e86d471da12f156263ab2b6a82264.jpg\n",
            "32439248_jpg.rf.075c6338c1c86eb3d89d4b9acac6b001.jpg\n",
            "32439249_jpg.rf.b170d3f72b83af9595e50d14c9e1a28a.jpg\n",
            "32439250_jpg.rf.f5105b67656026838e3aa739238fafc4.jpg\n",
            "32439251_jpg.rf.d638d1844e4db2cf955836a0744dc691.jpg\n",
            "32439252_jpg.rf.bfaf09cfe40eeb71f9978cecfc0bdee7.jpg\n",
            "32439253_jpg.rf.4653078924e0caf4fe1f4c1c75dc0452.jpg\n",
            "32439254_jpg.rf.cc10a63966674ed53e7dd984afa0d970.jpg\n",
            "32439255_jpg.rf.3d250ad4fc838d43ce37972fc71c8e2d.jpg\n",
            "32439256_jpg.rf.79a0340d81f99b7e7aa6899cdfd4ae4d.jpg\n",
            "32439257_jpg.rf.084565f589ee46776b922307c31b0fad.jpg\n",
            "32439258_jpg.rf.97b04efcdbdad722fc43e5e4e2a9dbac.jpg\n",
            "32439259_jpg.rf.78188491ae3daea928ee7bc38a0a9f85.jpg\n",
            "32439260_jpg.rf.df727178b29e57ee0f7a0a69b1fe4ddd.jpg\n",
            "32439261_jpg.rf.c3846960bcc7ca70d2158c759a904cf3.jpg\n",
            "32439263_jpg.rf.c03e31c99163f221812acb38137eb624.jpg\n",
            "32439264_jpg.rf.4b87cb916a605e37e7c294354ccd396b.jpg\n",
            "32439265_jpg.rf.e6e1c80acf1b7f66578ddb4a683069d7.jpg\n",
            "32439266_jpg.rf.24f47b9209e29a1ab095307227f10449.jpg\n",
            "32439267_jpg.rf.0b1528d7f11bc88ef93a9bd8c51955e3.jpg\n",
            "32439268_jpg.rf.34ca82559ffb3e2a0ad2188979f6d6a8.jpg\n",
            "32439269_jpg.rf.9b12f95d089cddb0f2810d4dd84aa3c5.jpg\n",
            "32439271_jpg.rf.f6e1353b04a85c85c5f09fd1365f7553.jpg\n",
            "32439274_jpg.rf.a7a4025af4317efc46dae88631b86bfd.jpg\n",
            "32439275_jpg.rf.0476f35db295446816a04974e075ec8e.jpg\n",
            "32439276_jpg.rf.0242fc9437b381c04d8b9023713f5eb9.jpg\n",
            "32439277_jpg.rf.c4aaa675cf58fbc90dc9e3cee754deed.jpg\n",
            "32439278_jpg.rf.6d641f4083651cfbaebd36e22479184f.jpg\n",
            "32439279_jpg.rf.acaa89eb39510367f745820012b789aa.jpg\n",
            "32439280_jpg.rf.04ce5952f15fa177236626f44a3fb879.jpg\n",
            "32439282_jpg.rf.b9d04099dd69aa4510317eace9ca8ee1.jpg\n",
            "32439283_jpg.rf.2fab9c3c2c02feaac22917dc1677e574.jpg\n",
            "32439284_jpg.rf.2d5d796e6bb8b8b75d0b170f5eb07bab.jpg\n",
            "32439285_jpg.rf.9d44ae9e1366af3c8c21bd53d2f1b7da.jpg\n",
            "32439286_jpg.rf.578774c120af116c9d263ff137374335.jpg\n",
            "32439287_jpg.rf.e2cf4861b7e9df55d3a32291ac58fa53.jpg\n",
            "32439288_jpg.rf.4f5acf76bb0d2134122b96de74d50516.jpg\n",
            "32439289_jpg.rf.3d6e9412ee9777398c73c1005d97a3af.jpg\n",
            "32439291_jpg.rf.544bdb56353b89aa93fbdbdf0f5723b2.jpg\n",
            "32439292_jpg.rf.01a4e019e63119ec136441912a41d5a6.jpg\n",
            "32439293_jpg.rf.09adf3bec143cf9b2faad16455016188.jpg\n",
            "32439294_jpg.rf.44344bffbe6f4f95d2c8ff9fd04bffe6.jpg\n",
            "32439295_jpg.rf.3475bc85e3edb6d3b6f99cd65c57e230.jpg\n",
            "32439296_jpg.rf.3c09219ec7c6dc13ce8b1ac851a6e52c.jpg\n",
            "32439297_jpg.rf.db24a2ba9da52d4bd42a4afb63211b31.jpg\n",
            "32439298_jpg.rf.6f347f34e497ca6907547937ddcb329b.jpg\n",
            "32439301_jpg.rf.3bd47a13249829292fcb6a004ba9a497.jpg\n",
            "32439302_jpg.rf.ebfa8d200c12581bd0658e534d000213.jpg\n",
            "32439303_jpg.rf.445f351f745f7eb01b32a0ce66089da7.jpg\n",
            "32439304_jpg.rf.cc1a72fab1b8bd58e7376c92dc74860a.jpg\n",
            "32439305_jpg.rf.632b627a061c3567140358cbb0b50f83.jpg\n",
            "32439306_jpg.rf.b62e86aa2dd39f5e36474ec16a1cfa62.jpg\n",
            "32439307_jpg.rf.b3567d5fb0f92f86ed5c983c2bc9e844.jpg\n",
            "32439308_jpg.rf.a1da51341cbfe04222590c7922b60284.jpg\n",
            "32439310_jpg.rf.3b3041c20695ad8c759ad8155dd8473a.jpg\n",
            "32439311_jpg.rf.dc6ca8e96b4d611b3e0e7debc3ae6a0f.jpg\n",
            "32439312_jpg.rf.b69a7ec5792da9d1fa5ed2bd0fa1ecc4.jpg\n",
            "32439313_jpg.rf.8cb0af0ed9c40594ff3f2a52a48d3c55.jpg\n",
            "32439314_jpg.rf.3d26367dd9c30a8610277d4e3fdeab72.jpg\n",
            "32439315_jpg.rf.06a51fd6e968f3d7bdf4aa8ec2c53b5e.jpg\n",
            "32439316_jpg.rf.e080babe4e0de943a0113c2848a71c1c.jpg\n",
            "32439317_jpg.rf.88927c382c2cf7d3eb853e3be14115e1.jpg\n",
            "32439318_jpg.rf.e3574bc594b38c6ed5ce65161737799c.jpg\n",
            "32439320_jpg.rf.9e1721bee6a28f161fee47528d990676.jpg\n",
            "32439321_jpg.rf.5da26893230f4eb0ec31cf961732fef4.jpg\n",
            "32439322_jpg.rf.5f5dd7a0b6abc3361747bd661e81521e.jpg\n",
            "324_jpg.rf.6f0e1f1bfbee559398f9ca37e89e9389.jpg\n",
            "325_jpg.rf.5bdee70f7fcde8f234894ea8a225b879.jpg\n",
            "325_jpg.rf.8902bd5ae0036d52fb7c3fc05ac14e56.jpg\n",
            "326_jpg.rf.0cf1c8ba62c904d1f684a46cf4e5c783.jpg\n",
            "326_jpg.rf.5c72223d5949759623ed27300a122ec7.jpg\n",
            "327_jpg.rf.0618df04eec8e760fd7a5ab37d3e2d28.jpg\n",
            "327_jpg.rf.85c7907d6f8aeb49e7473ee0413dc6cc.jpg\n",
            "328_jpg.rf.0b1afab497cb90de24eba7570c09749f.jpg\n",
            "328_jpg.rf.79e1d25ecf47f0192fa5a1b23cf013a4.jpg\n",
            "329_jpg.rf.9770995c60b7427e0fdf5261db22e708.jpg\n",
            "329_jpg.rf.fc17c3d285a95a61e6ccf86d117f0304.jpg\n",
            "32_jpg.rf.7177c97e32b28d4b647b74a4d21fae3a.jpg\n",
            "32_jpg.rf.9f74ebd03fe339f93712da1a545153e5.jpg\n",
            "330_jpg.rf.f60948128100e2ffb37af76fd19ec7a2.jpg\n",
            "331_jpg.rf.14ce0822617e5c318add5407d75b717d.jpg\n",
            "331_jpg.rf.4b16b1a506f56e4000bb6441a86b7c92.jpg\n",
            "332_jpg.rf.3389880d35e59b89576cd98322ec197d.jpg\n",
            "332_jpg.rf.f2012cce98e8fe3d3e0b38559bca7ac8.jpg\n",
            "333_jpg.rf.0262b5ac7f3daa45db7632c22713b076.jpg\n",
            "334_jpg.rf.cb5d73770269833ea16189186d2f735f.jpg\n",
            "335_jpg.rf.c40e06c794a3374a1106159a884fc135.jpg\n",
            "335_jpg.rf.d6cb382e3773fc638288a275a86165d5.jpg\n",
            "336_jpg.rf.2047bdf284a45656bb7be66f268d7cde.jpg\n",
            "336_jpg.rf.5dabd9e998e2baac5275a1c7215d2d30.jpg\n",
            "337_jpg.rf.46b74923189951cdd4d4b741747c1395.jpg\n",
            "338_jpg.rf.624ef3f61e931318d261a7a3557ea73d.jpg\n",
            "338_jpg.rf.8667eb800782bfdf958cb710897a861b.jpg\n",
            "339_jpg.rf.50a30aa8124c9ebbd7efcae94e41460a.jpg\n",
            "339_jpg.rf.63c4f452aa1ef1eea46c87c9a1dadd13.jpg\n",
            "33_jpg.rf.129f7422a051c66eb7a6f68772fb0bcd.jpg\n",
            "33_jpg.rf.45bf4ee5dca34999a812d2af2a99bf51.jpg\n",
            "340_jpg.rf.506945e90380c34bf09cb336426cf492.jpg\n",
            "340_jpg.rf.db327dd9b773b985ab4dfba76e47e07a.jpg\n",
            "341_jpg.rf.8d1c4e0cf0c0fc18ca6994fdfe407b0b.jpg\n",
            "341_jpg.rf.a5afa73c4284e7118ce1a7c7c6914357.jpg\n",
            "342_jpg.rf.7e745170f91900e0b5c7ce3e11204e4a.jpg\n",
            "342_jpg.rf.e9692f149c0b53f240ad0d25d133e370.jpg\n",
            "343_jpg.rf.3f4dae0f9b1c74b5ac337051b2a33b37.jpg\n",
            "343_jpg.rf.662997847780d2f2f2436722e742c67c.jpg\n",
            "344_jpg.rf.08a0266371c763d4ea9d21b62c7d62d2.jpg\n",
            "344_jpg.rf.aba12bab9de1c6406f98adefb2518652.jpg\n",
            "345_jpg.rf.c3673a2e649f63cb3ba090ad47def9b0.jpg\n",
            "346_jpg.rf.65666e9947a26cb9d892f446d698bbca.jpg\n",
            "346_jpg.rf.b5ddb21c1c6deb0e45625b92bffb7eaa.jpg\n",
            "347_jpg.rf.2aed85c08e8ef5fea87ccda869d5f664.jpg\n",
            "347_jpg.rf.faa78f6de3e3008233560bb40c7f552b.jpg\n",
            "348_jpg.rf.cde8c934dff6c89562afc4133409949a.jpg\n",
            "349_jpg.rf.1992853feda0b00374faa2c35fac6c3a.jpg\n",
            "34_jpg.rf.a08b53b1aa641f59fbdd78ec03650762.jpg\n",
            "34_jpg.rf.e46bcd3c795be6e45978b1e3eabd3595.jpg\n",
            "350_jpg.rf.52cf9682219caf73fed3a8373f0f54bc.jpg\n",
            "350_jpg.rf.e984bb123a13199823958a19f86008f6.jpg\n",
            "351_jpg.rf.827c5765a35b8f9dc53cb314db529cab.jpg\n",
            "351_jpg.rf.86c37f9d192be41b5ca9acb24d7390f7.jpg\n",
            "352_jpg.rf.134296a503854f234ef4e9435d034776.jpg\n",
            "352_jpg.rf.f38a6c324ce13e4d7dc89001d368f6ee.jpg\n",
            "353_jpg.rf.811780b40cc81d5850d897f733718433.jpg\n",
            "353_jpg.rf.8cf86cbbda2220882c3d788a3bccbaa7.jpg\n",
            "354_jpg.rf.0d7466a3a542f93df918672d00401f75.jpg\n",
            "354_jpg.rf.d59668b382363fd0b6659e2ac28c8c78.jpg\n",
            "355_jpg.rf.43fd7a315c9698273787137db082b009.jpg\n",
            "355_jpg.rf.a32283c32ce090898b42bd44aee60004.jpg\n",
            "356_jpg.rf.e856ff557b3f85b3768d14967eebad36.jpg\n",
            "357_jpg.rf.fe1b1abd1250a0161c914c245cb69127.jpg\n",
            "358_jpg.rf.6664ede306d9e822880abc0e86adb07c.jpg\n",
            "358_jpg.rf.f1809e8155602f15668e7097698f6525.jpg\n",
            "359_jpg.rf.a5727af15e7d1f133a2a0f81c23b5765.jpg\n",
            "359_jpg.rf.b61e800e224e9644c2ce98c881ec877d.jpg\n",
            "35_jpg.rf.34075b1a08462b62ead0b99e950510a9.jpg\n",
            "35_jpg.rf.d9362cb7a2a1013760d88aa11d7c56a1.jpg\n",
            "360_jpg.rf.834f47e42cb1480c0b1365005ef0ea1a.jpg\n",
            "360_jpg.rf.bad2a5b0a76c3f8fd892fc39beca40ba.jpg\n",
            "361_jpg.rf.47a25d5b76713f059a9a8eeb50b3d75d.jpg\n",
            "361_jpg.rf.6aa31e8e7bda824df31f711dfde9e82f.jpg\n",
            "363_jpg.rf.28288495c9accf0e5a441d443269ff33.jpg\n",
            "363_jpg.rf.50460ea13d4ca653ee0c5f2b1b037b34.jpg\n",
            "364_jpg.rf.0e26c2369510e76bf9f2076ee09e0cea.jpg\n",
            "364_jpg.rf.a31aefbee8a0a4d91d30aefee4b54917.jpg\n",
            "366_jpg.rf.19cb029a5a692fcd5cf3550edcd6ba31.jpg\n",
            "366_jpg.rf.6f7067ea37bc1da82752569d9e098ff9.jpg\n",
            "367_jpg.rf.1b635c588020cc8f8015e3dfe9268ea1.jpg\n",
            "368_jpg.rf.54dc09b0dfa2390295bdc6ba22db44c8.jpg\n",
            "368_jpg.rf.ab6e6abbd3ac46b198660f886c65bb9a.jpg\n",
            "369_jpg.rf.c85e5ddc6e9cd35bd83b32a03a649508.jpg\n",
            "36_jpg.rf.b8b6ad257c31209c9a0543fb119255c3.jpg\n",
            "36_jpg.rf.b9cc3041bea03e8fa0b6bbc37f9b659c.jpg\n",
            "370_jpg.rf.54b6949637a667a53b9b4452896e508e.jpg\n",
            "370_jpg.rf.c5b0913cf208267171cf34a5bb563627.jpg\n",
            "371_jpg.rf.074af872098c2657089a0aa60d913729.jpg\n",
            "371_jpg.rf.910167d8b28fdc586bbb415554ccd9e5.jpg\n",
            "372_jpg.rf.20c0a8ff83415238823502aa260f8b2e.jpg\n",
            "372_jpg.rf.c00050e146326b81a41f7dea87873024.jpg\n",
            "373_jpg.rf.5a017a0292573e8f2fb0afc72deefb66.jpg\n",
            "373_jpg.rf.b6b86eab817b80facfb709463704bf53.jpg\n",
            "374_jpg.rf.54a33d2b3fba20202ef48479b19a1717.jpg\n",
            "374_jpg.rf.99ec8ba4292a25efae59baef4ad231e1.jpg\n",
            "375_jpg.rf.81032e82a5326f7e4d251115ccb6c236.jpg\n",
            "375_jpg.rf.abca0873372cac789d95e3139265089e.jpg\n",
            "376_jpg.rf.3e6fd2e4ac1365e48bf605d85136dcc7.jpg\n",
            "376_jpg.rf.c2c59b86af490ceead11ff36046a93c7.jpg\n",
            "377_jpg.rf.06c27577e72210021591632a983816e3.jpg\n",
            "377_jpg.rf.f1656e6569938933b8574f85e476c231.jpg\n",
            "378_jpg.rf.120b431454fd08347f450c3b9c7d0a3d.jpg\n",
            "378_jpg.rf.4bf2fbde397038d1dc78ac8946342550.jpg\n",
            "379_jpg.rf.e57ac01def23b0f0472ad4555b565625.jpg\n",
            "37_jpg.rf.1ef8685f0ba67225b03690f878973c08.jpg\n",
            "37_jpg.rf.52c894e0a37cdaf54833d43cd9ba4c9c.jpg\n",
            "380_jpg.rf.d17c4112166cc7998f12b1c00e32f5ca.jpg\n",
            "380_jpg.rf.f00a7c70c852b2ad378ff9d8ba70f8b3.jpg\n",
            "381_jpg.rf.4ecd0be365fe24d7c6e44aefd37137f3.jpg\n",
            "382_jpg.rf.05f1ec13436c4935f9f2ff3292495e88.jpg\n",
            "382_jpg.rf.acf12c1fcfc4462c70bf391ab7011dda.jpg\n",
            "383_jpg.rf.3f7ca55b800ccc23b73ba070ebcf271c.jpg\n",
            "383_jpg.rf.837da8abbda2dfd3f6f79ec2696bd98b.jpg\n",
            "384_jpg.rf.1bda8143f1a58fb0495c98a36aaac83a.jpg\n",
            "384_jpg.rf.96d58e8e353fff72eaff0406e330a87f.jpg\n",
            "385_jpg.rf.3f9a8c6064ad11d73b4f186493fd6c54.jpg\n",
            "385_jpg.rf.c651c7191860c1b71f8a21857a94a378.jpg\n",
            "386_jpg.rf.245b3f536fdbd4b1c8e3db1e31e8c2ea.jpg\n",
            "386_jpg.rf.3c7c2e6b9a6cc814813e276b0ffed6c5.jpg\n",
            "387_jpg.rf.875033877d037125b689b4c6f3a0d333.jpg\n",
            "388_jpg.rf.3c2f1fa8632023d61ab53ec6ecb5fc62.jpg\n",
            "388_jpg.rf.be702f73665bfa534cf6c7db8f36dc6b.jpg\n",
            "389_jpg.rf.33e3c72b3cf53249b452b9067195522f.jpg\n",
            "389_jpg.rf.50b1be3b24086f08d56fb80924a61994.jpg\n",
            "38_jpg.rf.4473ddbcff6e1eab0c88d1b7858424ca.jpg\n",
            "38_jpg.rf.e4c2018abbb68e8484784f69994aec20.jpg\n",
            "390_jpg.rf.1915b46d598fa24fe178fc45b0825f98.jpg\n",
            "390_jpg.rf.8906bc141faf037d486bbb600b894a19.jpg\n",
            "391_jpg.rf.40f9bf2fc90c07f0dfb3a67bcfb35cfe.jpg\n",
            "391_jpg.rf.8f1dbe1879209d83da2d253e2d447a71.jpg\n",
            "392_jpg.rf.819d19d03c88c99074b77aae746aa780.jpg\n",
            "392_jpg.rf.a642d9c36878a4c848bfa0b56ee1b7de.jpg\n",
            "393_jpg.rf.0294d4ee79ff25a67fe3c5060f15cce6.jpg\n",
            "393_jpg.rf.6d1e5c7747d0a69b5d4cc851055e7788.jpg\n",
            "394_jpg.rf.3e93a019f377497fdbe515fa481236c7.jpg\n",
            "394_jpg.rf.ceeba4afc3be2a808454ae1348a147c6.jpg\n",
            "395_jpg.rf.7bb5629981b79899f3b6b2aaec590ea4.jpg\n",
            "395_jpg.rf.df0bc840d7f07854530d1d9c5c5acb75.jpg\n",
            "396_jpg.rf.4d69b4e48bb080a1b8f0de6f6050392b.jpg\n",
            "396_jpg.rf.903ea79338040c619f8d1c2ac86270ef.jpg\n",
            "397_jpg.rf.303a43b412680e04d901dc25481242e8.jpg\n",
            "397_jpg.rf.4083283395eead660917cb224c19b9bf.jpg\n",
            "398_jpg.rf.a85cf42a32ee4d32700a48db52e07fb0.jpg\n",
            "399_jpg.rf.4605e5f3492733da8807de48436bcde2.jpg\n",
            "399_jpg.rf.ebc28e4c754adc0062ddecd96b22c62a.jpg\n",
            "39_jpg.rf.346068985ea43023e3b6247faacbe592.jpg\n",
            "39_jpg.rf.a3cec1f73405a087ca9217081bf65c58.jpg\n",
            "3_jpg.rf.50f40cbeb13aa2993432ae91ca9c8983.jpg\n",
            "400_jpg.rf.5a0501d6463b932066b6ce8dfc1ae26b.jpg\n",
            "400_jpg.rf.cc2b6db63129202b301f64859fcf9cd4.jpg\n",
            "401_jpg.rf.c3ba1eef42d955f210bbf9ce6a004201.jpg\n",
            "402_jpg.rf.4de7605914f1e6cf26aa1abcab6429c9.jpg\n",
            "403_jpg.rf.f8557c0904731d8eace07f01bf651ce4.jpg\n",
            "404_jpg.rf.1eda8da44daa17507ffffa29cdb51562.jpg\n",
            "404_jpg.rf.9c07d950795623ba77164b9198c5a1f0.jpg\n",
            "405_jpg.rf.d011d3853392f7973e34d3bf2b3e003b.jpg\n",
            "406_jpg.rf.5a56fc1a64eae2b1b5d068985b9ad3a9.jpg\n",
            "406_jpg.rf.c6f15d796f164f3b4b0e73b59beceb96.jpg\n",
            "407_jpg.rf.04f1673bdad9fb124d18c125f7aea1a1.jpg\n",
            "407_jpg.rf.2744926b1fd77537edbde0479b8bb8c3.jpg\n",
            "408_jpg.rf.8ac3ef1ef85982340772a544316ca939.jpg\n",
            "408_jpg.rf.a584f44528b972242ba1427f1eedde04.jpg\n",
            "409_jpg.rf.47800f180aea8a8c881604b528586fec.jpg\n",
            "409_jpg.rf.acfcff740c481658d83304fa5c2c482a.jpg\n",
            "40_jpg.rf.82a1b8a82d1aa76b669f5e7ca5d3998a.jpg\n",
            "410_jpg.rf.6228f4e4775976d0ae69995cd0c01540.jpg\n",
            "410_jpg.rf.a3ae51280e51e30091daf03774d8869b.jpg\n",
            "411_jpg.rf.8408df83035f8efcd29b6bf646f48a8d.jpg\n",
            "411_jpg.rf.b9523982686e9ee0c87ee62eed3a75c9.jpg\n",
            "412_jpg.rf.19e81043d4f405a56026f6b64e309b4b.jpg\n",
            "412_jpg.rf.c3645c553f4b2fe73191e99416923f1b.jpg\n",
            "413_jpg.rf.69ed324056966c48b84b463129a7f9ff.jpg\n",
            "413_jpg.rf.b0662c3da984db7ecb759013028299b7.jpg\n",
            "414_jpg.rf.1fa991b577479c21ed46e0427314d01b.jpg\n",
            "414_jpg.rf.7a8e30074b2857fd6e6c7a904c1130cf.jpg\n",
            "415_jpg.rf.4c4e35cc56d249e8a6542f135478c63b.jpg\n",
            "415_jpg.rf.c373977d3d079f65b98d0761081a29cc.jpg\n",
            "416_jpg.rf.5195874f0111608902c83116283ebecd.jpg\n",
            "416_jpg.rf.f44897b3c7973c1f841330f9a69a7694.jpg\n",
            "417_jpg.rf.3601e91d6e0a539e43e643ea76563317.jpg\n",
            "417_jpg.rf.ceef76a00e7e706c8c23d4b0b7097895.jpg\n",
            "418_jpg.rf.a0a12983acd1f1c51cb5791afc8f023f.jpg\n",
            "419_jpg.rf.b970b1b676fe5dbcdcfbf5be1dc9464d.jpg\n",
            "419_jpg.rf.ba1139cd590b418b0bf4ab8538fe747a.jpg\n",
            "41_jpg.rf.2e9b4f9e34c7ae5447f18fb9b0133eb8.jpg\n",
            "41_jpg.rf.40df4229e5eff49d4b45632be35dcfb4.jpg\n",
            "420_jpg.rf.2191cadcace67780f6566ffc7fac3411.jpg\n",
            "420_jpg.rf.6baaf217cd1810618d52b7482f1ab3c0.jpg\n",
            "421_jpg.rf.cee1a778c3eddee5e7f2e0690f117c04.jpg\n",
            "421_jpg.rf.fa6b07fbc8ae18c274a56506540acfe3.jpg\n",
            "422_jpg.rf.3981e82d9c3857fae2d6c106ad92d49e.jpg\n",
            "422_jpg.rf.53c98bed11156516ca0ebfcc825f758b.jpg\n",
            "423_jpg.rf.6c8ad8977e2bfad03752ad60a7ed479f.jpg\n",
            "423_jpg.rf.ebd64d34700a959e6c63fd2880693c90.jpg\n",
            "424_jpg.rf.10ce83908a5cac9cee5fe0c4eeab3ea5.jpg\n",
            "424_jpg.rf.4dfe2a11898f8685c6e1007a0caff572.jpg\n",
            "425_jpg.rf.8550a409b04d508df48891f56a4952cf.jpg\n",
            "425_jpg.rf.bd9a541946924f5dc1d6f3189e77c28d.jpg\n",
            "426_jpg.rf.35276e65bf5f21168338788aa751582c.jpg\n",
            "426_jpg.rf.e46ffd819130c8090551325ae92e1e02.jpg\n",
            "427_jpg.rf.6ec924cf17fc64cd903cf83b1bcbe109.jpg\n",
            "427_jpg.rf.79278226620f3569cd490492a50c49fc.jpg\n",
            "428_jpg.rf.8c5f2e690b535f85d7e45613b8eb76e8.jpg\n",
            "428_jpg.rf.921bfd52b122959e894c42f81283791a.jpg\n",
            "429_jpg.rf.506a6f466f6a35c0cc75aff2c6365584.jpg\n",
            "429_jpg.rf.678e471e8233b2375026ae8fdc20b227.jpg\n",
            "42_jpg.rf.8ad58c3f64feda43601d2a9b53f0a823.jpg\n",
            "430_jpg.rf.5d85b0e96177dc5ae0996dfcbfff60d3.jpg\n",
            "430_jpg.rf.8af2d05aac00b9bb88a73ea97f58008b.jpg\n",
            "431_jpg.rf.60a29272caa6af79520c3a9c5ece5a13.jpg\n",
            "431_jpg.rf.a0422cdd6036c9b2e98a70d149c886a7.jpg\n",
            "432_jpg.rf.4a9b8c125780f799bb784863c0c479ac.jpg\n",
            "432_jpg.rf.757f9b21ae4edd1c91ea86333d740e32.jpg\n",
            "433_jpg.rf.41fe93af4573a87d1d726200bb64e014.jpg\n",
            "433_jpg.rf.ee0e928353571fa924684dbbbc232094.jpg\n",
            "434_jpg.rf.497f02fdc37973f69d9724a837d4671d.jpg\n",
            "434_jpg.rf.858c14fa92c88d16ea2964368e0f136b.jpg\n",
            "435_jpg.rf.202cfe0a4f09f97e0970386d8f4eef54.jpg\n",
            "435_jpg.rf.9b9f2ea65b6e34419547aae9e656ef53.jpg\n",
            "436_jpg.rf.155b218d3c71ff6545233c834a16f78d.jpg\n",
            "437_jpg.rf.376e1cf07b96dc1f21985f14d04b1b29.jpg\n",
            "437_jpg.rf.69ac8076a668e56fbdb50bbfe0f18abc.jpg\n",
            "438_jpg.rf.35025182054f746faf788ca679e53591.jpg\n",
            "438_jpg.rf.cd09f049a61cc7768b87b93b69c3cebe.jpg\n",
            "439_jpg.rf.6da54b3f32bb68e0ceaa0033d576c7db.jpg\n",
            "439_jpg.rf.95ae48ad6367b263558f3d1076a4fc18.jpg\n",
            "43_jpg.rf.1f0032f5528403dbb109afedf0c8131b.jpg\n",
            "43_jpg.rf.a3f5a13507373359889bbcc3b0dca89d.jpg\n",
            "440_jpg.rf.18fe066431cfe7934edc273f851da3d2.jpg\n",
            "441_jpg.rf.f9e8473ad6436cacc134c59a49d67202.jpg\n",
            "442_jpg.rf.0e5040f88a871b5da7dc119bf6d83432.jpg\n",
            "442_jpg.rf.928c610b128e541379bd5dc134e6184d.jpg\n",
            "443_jpg.rf.011fbee03f4b3ac4eaeee12fd07f2abc.jpg\n",
            "443_jpg.rf.85bf3331b535b3aa76fe453e069d7fb1.jpg\n",
            "444_jpg.rf.a96820cc5592c25452ea1fb9d8e65503.jpg\n",
            "445_jpg.rf.afb6d2935648bcaa03fb02885ee37a03.jpg\n",
            "445_jpg.rf.f6d48e131bff0d64af149b723aa3084b.jpg\n",
            "447_jpg.rf.20828e709c41c968804b8b5391824870.jpg\n",
            "447_jpg.rf.8fa6a8b60a5612bfc3fec1c4f5c2d7be.jpg\n",
            "448_jpg.rf.0e22924aeb14794ee348e6b460218065.jpg\n",
            "448_jpg.rf.729b499d1da8394eaefeba5bbdfff447.jpg\n",
            "449_jpg.rf.e965ed352b11bd8ec8205b0cf06718e8.jpg\n",
            "44_jpg.rf.a5df19253074da267f56340027c21f19.jpg\n",
            "44_jpg.rf.ebb872e002d3bfacbfbeb2efca93c3c7.jpg\n",
            "450_jpg.rf.d72b4306bf56eea487ca9a4b2bbe9209.jpg\n",
            "450_jpg.rf.fafbc118eef448ac86a0cea3e4db5a83.jpg\n",
            "451_jpg.rf.12444aff6503d1778a07a63f3d1e4d70.jpg\n",
            "451_jpg.rf.b4f5ae21f3a92593598eddd21e9e10b6.jpg\n",
            "452_jpg.rf.12209f7edf7f900be2fbfbab03afabfa.jpg\n",
            "452_jpg.rf.d6e0550feae3094d2abfea85ad3914c7.jpg\n",
            "453_jpg.rf.3734a30666a5149bf357ccda29666cd6.jpg\n",
            "453_jpg.rf.5f5f0b6257e0fa93a5fabb6702d0c1bd.jpg\n",
            "454_jpg.rf.9e07c81c012533d95303cdcecce64d2e.jpg\n",
            "454_jpg.rf.ebd1d820718d74387b0214231b9e0828.jpg\n",
            "455_jpg.rf.8be20e1a8ad150f91122fb60e014e7c6.jpg\n",
            "455_jpg.rf.9bc1172cd1e87c06287a0bd77f874e27.jpg\n",
            "456_jpg.rf.8bbd15ee67312a72d0c27ab8f4923220.jpg\n",
            "456_jpg.rf.d9794820c511afe5c2d2b703eea315b3.jpg\n",
            "457_jpg.rf.067b85dfad7942bc54a9a1b4a7737e8f.jpg\n",
            "457_jpg.rf.5895ec8ef6a2314f7c587ba4797dc072.jpg\n",
            "458_jpg.rf.db6e89f2fc7bf8c449ce45b8da7624c4.jpg\n",
            "459_jpg.rf.12a6d222390eeaf656e6a0b58044a91a.jpg\n",
            "459_jpg.rf.67e5d4c260bd3683db797c62a1228282.jpg\n",
            "45_jpg.rf.0b7a3bebc201602b3413004abb4f3ef1.jpg\n",
            "45_jpg.rf.3d92efd18bba544738daf2dcc4c3ba0d.jpg\n",
            "460_jpg.rf.4c77c336a4d20db1cb4d096639f056a0.jpg\n",
            "460_jpg.rf.716722408bc10a6c1aded59d0c7d1577.jpg\n",
            "461_jpg.rf.47a88cfdffd02c31b50d05d807a4f925.jpg\n",
            "461_jpg.rf.dea9f60ab0d7ac62473f52bbd1327898.jpg\n",
            "462_jpg.rf.164033bb1a5cc2db3973f5f7b3e4b72d.jpg\n",
            "462_jpg.rf.5f122b83b8c44a95394a6009dcad99cc.jpg\n",
            "463_jpg.rf.b8ee52cbb388bb5095890e28cfc151e8.jpg\n",
            "463_jpg.rf.e87a34f6412f166bf9e3256036aedf70.jpg\n",
            "464_jpg.rf.6051a72c177ac21ab626c0602bf12f10.jpg\n",
            "466_jpg.rf.7497e1ce4be7e9a865063d43325bbb7f.jpg\n",
            "466_jpg.rf.b1e2115dbe6feb84faebc228033f8aab.jpg\n",
            "467_jpg.rf.65fe5e301c891e5fa96af35281b479cf.jpg\n",
            "467_jpg.rf.e4aa9197b9b4d882cd7e25c43a4b43fd.jpg\n",
            "468_jpg.rf.f6f5d1f7b00b8fb204de7a7b19c5d431.jpg\n",
            "468_jpg.rf.fc7bf02fb3803ebc7f5cec9c279c74e7.jpg\n",
            "469_jpg.rf.0b782b58d49db762073cfd6348e37067.jpg\n",
            "469_jpg.rf.94f1c1da936110c54cd8eb90cd891480.jpg\n",
            "46_jpg.rf.5db08c52e7a5d70a156849a42ab2103a.jpg\n",
            "470_jpg.rf.28f5ef71465229cf45ae5b986b4313e3.jpg\n",
            "470_jpg.rf.a77e34764a35339025810e02e246640a.jpg\n",
            "471_jpg.rf.37e5f8a0cb6c4413ce5bd115814ed0ab.jpg\n",
            "471_jpg.rf.5db9289b874a68cc8311bd090cd15801.jpg\n",
            "472_jpg.rf.7fdaf512492157125af1a0146045a5a6.jpg\n",
            "472_jpg.rf.cc436bc490209f2f11aef2a5cd37175b.jpg\n",
            "473_jpg.rf.8fba03564aac0a189fa0801cae28f968.jpg\n",
            "473_jpg.rf.daf15322ecad1ddbe47aadebb8b1f889.jpg\n",
            "474_jpg.rf.5dbba031208603f3f5cc96646ab50754.jpg\n",
            "474_jpg.rf.a6faa96b2cfbd13a4c3d71fbad3a453d.jpg\n",
            "475_jpg.rf.304ba336280f635daf6790dfb3328597.jpg\n",
            "475_jpg.rf.3e0d089ed5cac7b761d28ef3188fc5c0.jpg\n",
            "476_jpg.rf.0998094cecac3f45ffab6ca64da8be96.jpg\n",
            "476_jpg.rf.f47c8c49b7fc02c83ae21121fdf8e35f.jpg\n",
            "477_jpg.rf.20cb8bdbb17759f79c37281ca0526697.jpg\n",
            "478_jpg.rf.0c51cc6e893dcda6c303dd1fbf97a2f1.jpg\n",
            "478_jpg.rf.3668528b28fabcc7d8e8f1271d9b2f4a.jpg\n",
            "479_jpg.rf.87ab3db904dfbdb5df07faf92d924c4b.jpg\n",
            "479_jpg.rf.939370bd76a2e8a06871c61aa9e5c535.jpg\n",
            "47_jpg.rf.1cea94bca5e5acc45a9a0e87a325cd39.jpg\n",
            "47_jpg.rf.fb606889e3788c9f63e2860748c9f47e.jpg\n",
            "480_jpg.rf.45e64073bfa127e6f72284c4afe74622.jpg\n",
            "480_jpg.rf.5c6bd668efe26212bf76d1fef29ae3b9.jpg\n",
            "481_jpg.rf.1d0375d1cceee802b5865e0dd18b2409.jpg\n",
            "481_jpg.rf.95f719bc1e2b1c22a958998d91157658.jpg\n",
            "482_jpg.rf.1c8e1a071a5cba42706f3d2fcce2949e.jpg\n",
            "482_jpg.rf.1f4499863d0f2e9cb70967ba38018644.jpg\n",
            "483_jpg.rf.982306416abf815633e3d6b2b8c72821.jpg\n",
            "483_jpg.rf.ca393c39486660970a3be2a6010f0f05.jpg\n",
            "484_jpg.rf.13051c3ce0e5a592e112737758585a8a.jpg\n",
            "484_jpg.rf.645f13f478a8133f50b303b136fe7820.jpg\n",
            "485_jpg.rf.7234635440e9a27e0f4e96cbc2cc2058.jpg\n",
            "485_jpg.rf.e76ed22d6a8ed75b5202f637be2d3614.jpg\n",
            "486_jpg.rf.2c972259a473321512c3b57be294d755.jpg\n",
            "486_jpg.rf.2ec762166d3812a6cdaf6ea09f4cd3a5.jpg\n",
            "487_jpg.rf.2a5fec1b3ce9e8792479dc0efc9b26c4.jpg\n",
            "488_jpg.rf.01adf0b6ae8e5b3887e9f36b13a5f56d.jpg\n",
            "489_jpg.rf.3b9dd7318d29878278c3e165b7808e9c.jpg\n",
            "489_jpg.rf.7cea6562c08a275adb9726b0257a9d36.jpg\n",
            "48_jpg.rf.6a7c075c6f7f5e150fb5fe1b910c410a.jpg\n",
            "490_jpg.rf.60d21833f1e3cbf2846264702b7d94a7.jpg\n",
            "490_jpg.rf.a46778a65d2bd5a70afa2f09c668ce28.jpg\n",
            "491_jpg.rf.1a27b62e66cec702eb5d444502eb7541.jpg\n",
            "491_jpg.rf.e87be1d7a58d8af28f7816c16ff8a243.jpg\n",
            "492_jpg.rf.61aec76c0f77106572e84ca3867429f0.jpg\n",
            "492_jpg.rf.7fbd32ae055aac82effa3d8e75ea1aa0.jpg\n",
            "493_jpg.rf.27a3bf673232f69f1de96d1c38142ccf.jpg\n",
            "493_jpg.rf.7ddf147ef4ddc1bd10955b3b7b032974.jpg\n",
            "494_jpg.rf.1172c1b500ad587c01271d28d9deb6bf.jpg\n",
            "494_jpg.rf.1adc3ae7e2f1e8190ff68f840f2645b0.jpg\n",
            "495_jpg.rf.0bb515e5044837ecb3a1ab6f86f67e23.jpg\n",
            "495_jpg.rf.a4bf0d56a45d1193c6fe0cc8f14b7bd2.jpg\n",
            "496_jpg.rf.84e9747c215a0e63b6a36ec53240126a.jpg\n",
            "496_jpg.rf.fabd08d535486e4b03404ae6f909d4c4.jpg\n",
            "497_jpg.rf.3b1780aaffbc1bc02ec42f97655b256c.jpg\n",
            "497_jpg.rf.7dfd8db29feea809994be121edfae4de.jpg\n",
            "498_jpg.rf.db76ae1fa5c31b4b3b2f3be0a3c88225.jpg\n",
            "498_jpg.rf.f7238e03025f900277e7711ffe212771.jpg\n",
            "499_jpg.rf.054b1a71a5603e59bbeee70cb7c8620d.jpg\n",
            "499_jpg.rf.0694693cf54c5756ca58082a57a75fbb.jpg\n",
            "49_jpg.rf.85f987b4ca0a2f6ae26646b1fd243a8f.jpg\n",
            "49_jpg.rf.e6212d7edacff5ef5571ad9ac1cfa508.jpg\n",
            "4_jpg.rf.3723fb1beab35a95089c9bb656a973d1.jpg\n",
            "4_jpg.rf.64555e2c1adbe2d0e02ed71f954b8187.jpg\n",
            "500_jpg.rf.a226bc59185d6fd71f58efb3eea6f98b.jpg\n",
            "500_jpg.rf.e10ccb60af56cab257571a5c3d159d79.jpg\n",
            "501_jpg.rf.11d95901e90f4c41c719ed3275c9be04.jpg\n",
            "501_jpg.rf.3112f64d5d24ed5b5ca9e90411d79381.jpg\n",
            "502_jpg.rf.1a88c0c415adccbd3d21c20287e4f492.jpg\n",
            "503_jpg.rf.9e41e155038dda1f9b710ffea8fcee47.jpg\n",
            "503_jpg.rf.affaee45e44ed6aa6fd57af28d009fde.jpg\n",
            "504_jpg.rf.48f844d646bbb5dfc975a35f8ffaebf0.jpg\n",
            "504_jpg.rf.6a1ca4ef33e366ff94d2f23eba0baeb2.jpg\n",
            "505_jpg.rf.789a94841176ef7ae9b69a645519a3ed.jpg\n",
            "506_jpg.rf.446d17b74ec02246f9868404ad89620f.jpg\n",
            "506_jpg.rf.ef08f4b53b59fadb26d8d4bd1115ddbb.jpg\n",
            "507_jpg.rf.f04ae7c4ca73863965eb251b5db42224.jpg\n",
            "508_jpg.rf.28f6e3519c76572e023077566f60f0bb.jpg\n",
            "508_jpg.rf.4237821e98dd7889c33938c109c46ee7.jpg\n",
            "509_jpg.rf.9d8d93033592716e21894914cf8a260d.jpg\n",
            "509_jpg.rf.c0fc0abf73444648b36d4fb912f89023.jpg\n",
            "50_jpg.rf.27b8158b037d7520d75ea5d57eef6579.jpg\n",
            "510_jpg.rf.491fcca291de37ed36b9a6226f4e3631.jpg\n",
            "510_jpg.rf.7de3bf938373c14968ec65a51a77cf9b.jpg\n",
            "511_jpg.rf.08da7e86495f80303bea4a6e7c0531bb.jpg\n",
            "511_jpg.rf.7e1c286f34512885c104864b8490c7c1.jpg\n",
            "512_jpg.rf.8f6ba558d03745e63d27d3a0e285652b.jpg\n",
            "513_jpg.rf.00e5240c09636dbbca47dec15c305bd5.jpg\n",
            "514_jpg.rf.77be8b8a55a546865e2ab439576340f3.jpg\n",
            "514_jpg.rf.cdff8757fcc995b0f87645d143dfd42b.jpg\n",
            "515_jpg.rf.38a018713155c48a837493dc7180bd57.jpg\n",
            "515_jpg.rf.f5b35d451d4ae530d99b942ee415de6b.jpg\n",
            "516_jpg.rf.955d54e8bc6083a6b4128f3fc6e32142.jpg\n",
            "516_jpg.rf.da1b6851c28821843f283350001622db.jpg\n",
            "517_jpg.rf.1bf87e805e54dd5b50acb7ab7a4c3dc2.jpg\n",
            "517_jpg.rf.4b91396468be1024c4014f9faa21c605.jpg\n",
            "518_jpg.rf.296fe3a7e8e0ac09665a73dc916b51e1.jpg\n",
            "518_jpg.rf.ce6ccca5bf2307082ba576be16aa12b8.jpg\n",
            "519_jpg.rf.3e23e9fc25c20945ce5bd16a74e1c087.jpg\n",
            "519_jpg.rf.9eac6cbb0f18cb9631922e1e33b3b478.jpg\n",
            "51_jpg.rf.38d7cc19b13aeaba195320928f8f318b.jpg\n",
            "520_jpg.rf.b311469019176a327bdcc2c734c12b3c.jpg\n",
            "521_jpg.rf.826e6cab910e4e0d4df05e99cbb82f94.jpg\n",
            "521_jpg.rf.9ecb331b9545e884e2faaf29ff12a111.jpg\n",
            "522_jpg.rf.d6e33c813ecc418ae45ed5c9999db82d.jpg\n",
            "522_jpg.rf.fa43e87373335872213c81a165753394.jpg\n",
            "523_jpg.rf.10f95b39e672be05b398954397933267.jpg\n",
            "523_jpg.rf.d7ed8b08ddb0c63404923d55e5a822a9.jpg\n",
            "524_jpg.rf.1e0a7f25bf59073e113abf723100e67f.jpg\n",
            "524_jpg.rf.a624910075461f0079be56732513590a.jpg\n",
            "525_jpg.rf.0ffb709c0c9caaf8599feb06ce638a14.jpg\n",
            "525_jpg.rf.93453103a0b76d07efedd9bf458e0c08.jpg\n",
            "526_jpg.rf.9d517e4497ac43ad4484af6640554955.jpg\n",
            "526_jpg.rf.eb149a62aedbd34b72ad62f06b4820a3.jpg\n",
            "527_jpg.rf.6ad1aef9208b8f1bb15d6b0128f23f19.jpg\n",
            "527_jpg.rf.fa2f46ca7df5f57a92f097675ac67bfd.jpg\n",
            "528_jpg.rf.29e1391d9180082127485a5e1f3b9819.jpg\n",
            "528_jpg.rf.a3a54374a08085abd4333f34e8296b73.jpg\n",
            "529_jpg.rf.7c242a34f590ec41dca8a332cef733f7.jpg\n",
            "529_jpg.rf.884096b1b6a062c7a5a80a099e6361aa.jpg\n",
            "52_jpg.rf.5629717f440cdfe702ceb04048a08794.jpg\n",
            "530_jpg.rf.9699b4a7b872e3b0ab958417f850d219.jpg\n",
            "530_jpg.rf.9da725541394a7ec494ad98cbd8cb143.jpg\n",
            "531_jpg.rf.9bc2690033cf553c651174a3c88a6f3b.jpg\n",
            "531_jpg.rf.f8bb7eede2037fab59de09f8f053405d.jpg\n",
            "532_jpg.rf.6dfed34c4de90f32f62d1fa0e6fffcc9.jpg\n",
            "532_jpg.rf.97540c678e9f6ba8897ef8cc38ec1e44.jpg\n",
            "533_jpg.rf.869f8fd7c38c054545b8b805c7f730bb.jpg\n",
            "533_jpg.rf.f26947881db203c788ebd20c346de046.jpg\n",
            "534_jpg.rf.ea5017bead6e37ea53c5719bdc6fec9e.jpg\n",
            "535_jpg.rf.411c63d7bf20ff99aab45031af4857a4.jpg\n",
            "535_jpg.rf.5cfe802fae29188b9d6dc4b1d26dc861.jpg\n",
            "536_jpg.rf.6c61fc3059c636acdea00efae3c4763b.jpg\n",
            "536_jpg.rf.e104d8393af2909f6577de5d2b8fafff.jpg\n",
            "537_jpg.rf.2b4f15b595e6fc4a116b3421aabc48ee.jpg\n",
            "537_jpg.rf.689dd0071d3f9ef808bf48e389de1e0a.jpg\n",
            "538_jpg.rf.11cd594495d706d13651f61c61cc2594.jpg\n",
            "539_jpg.rf.50546142f5e13067af89659544d11e52.jpg\n",
            "539_jpg.rf.8287a457dfd2371f4400997b5f010a60.jpg\n",
            "53_jpg.rf.84bec03556fd7ea4e1f882c464537564.jpg\n",
            "53_jpg.rf.d9a86bb5d83e1c9b44337588a87f9073.jpg\n",
            "540_jpg.rf.3b26016b320e667901aaafc708af84c7.jpg\n",
            "540_jpg.rf.e574892a52592a112de057b41cd04e0d.jpg\n",
            "541_jpg.rf.3b72e5de372bca234ce6b333d9e1a180.jpg\n",
            "541_jpg.rf.58e6669c790d23570736f91f5ba21a70.jpg\n",
            "542_jpg.rf.c134a2870ab2158484928abe886c7708.jpg\n",
            "542_jpg.rf.c55157802d0f1a0b3eef4875be978e19.jpg\n",
            "543_jpg.rf.be0af5018db785f95897311254879578.jpg\n",
            "543_jpg.rf.fd7bb89b45a5f1f7a846537a8e1490bd.jpg\n",
            "544_jpg.rf.8cf86fce47f63e517ea022bbde574a4c.jpg\n",
            "544_jpg.rf.b3ecbbc3b409c04fbe6747527f62c9f6.jpg\n",
            "545_jpg.rf.749d4ce02407006ac29143075155ab57.jpg\n",
            "545_jpg.rf.c17477f5ea1b2f2ea90840205344830d.jpg\n",
            "546_jpg.rf.b601b03ab5d8c99dc62f8415fc3cb0dd.jpg\n",
            "547_jpg.rf.14de6bb82f717b7dac755a27cd6a6b87.jpg\n",
            "547_jpg.rf.27e7a6210da8102ed2da2509fca32318.jpg\n",
            "548_jpg.rf.8aa7992bbcb69be1fc803f02d15001d0.jpg\n",
            "548_jpg.rf.c650db6a3b55ed051e6984d198943b59.jpg\n",
            "549_jpg.rf.296b57a5e01d950a6edd01508307a309.jpg\n",
            "549_jpg.rf.e8a767029582190bf624615d5ca7dd5a.jpg\n",
            "54_jpg.rf.3458c4b1b79d1e8a4a63a154cb3e6518.jpg\n",
            "550_jpg.rf.46fc90caddc562775eb93f7b3c6a0f9a.jpg\n",
            "550_jpg.rf.d28a28db6bb955523acb943429524f41.jpg\n",
            "551_jpg.rf.52bca15c4bd1b583af01ac0969f03101.jpg\n",
            "552_jpg.rf.84267db84a5b4b5de9a98b0337bc3f31.jpg\n",
            "552_jpg.rf.8b1e2e4b1e2ffa0d61e5d8c7dc08da83.jpg\n",
            "553_jpg.rf.054aa4df8ca8d64efe72f0d214606747.jpg\n",
            "553_jpg.rf.28456cba0f22fcd59605ff863a408b37.jpg\n",
            "554_jpg.rf.1aa18802f95b996df646407e84ba5649.jpg\n",
            "554_jpg.rf.304c940122ff9aa49e37931304e787d7.jpg\n",
            "555_jpg.rf.1905d204d551cbd180a4168c2ca2d2ed.jpg\n",
            "556_jpg.rf.b2783f4ec66b6e7ed1054e15cf21aa2a.jpg\n",
            "556_jpg.rf.e3f4133e7ce6b8fb17af81e3f1349931.jpg\n",
            "557_jpg.rf.469328ab3d0d96a24aca533531d0df9f.jpg\n",
            "557_jpg.rf.f942fe10ac64355f1be35af10f7921eb.jpg\n",
            "558_jpg.rf.0588c984954c267e2c824abe38bb53f7.jpg\n",
            "559_jpg.rf.52570b4da310c7bb2b62524713ed4115.jpg\n",
            "55_jpg.rf.19fc26bb45842704330fc1aae16be844.jpg\n",
            "55_jpg.rf.de4f82aed78374b8347e34d7b629be76.jpg\n",
            "560_jpg.rf.f12e16de0cb12cced26eb16732c08aea.jpg\n",
            "560_jpg.rf.fd05f6144abfaab4501cf05a21d892f3.jpg\n",
            "561_jpg.rf.75830727d69c87650110449f08ec814c.jpg\n",
            "561_jpg.rf.ec2f8d3658c1119e8fb1531349860478.jpg\n",
            "562_jpg.rf.0a7f07f40bc7492ef48e3b82fcec7cb8.jpg\n",
            "562_jpg.rf.1af05796373bf4666c019bb3aab01e22.jpg\n",
            "563_jpg.rf.2f33a2c72f35e4b322e3d8c7bfaaf033.jpg\n",
            "563_jpg.rf.b96109012818fb26f07f34ed3cfbb59e.jpg\n",
            "564_jpg.rf.86f4ede9dc7ec9dd4a134f7e62e67c28.jpg\n",
            "564_jpg.rf.a08eeaa1a9dfa8328dce995707f9e0a9.jpg\n",
            "565_jpg.rf.378c6bdf0de9c797e37164adcdc899db.jpg\n",
            "565_jpg.rf.dd2f4b84a853afc3a4d0316fb84f9060.jpg\n",
            "566_jpg.rf.49d276eff9bf2b13758156a9d3d1a584.jpg\n",
            "567_jpg.rf.7a41b5fd6e6af0f6ac157611e1c55a4a.jpg\n",
            "567_jpg.rf.80c40461362ce76e133ffdb60bd6bbb2.jpg\n",
            "568_jpg.rf.5849c11e51ed51b3307cc19968448cea.jpg\n",
            "568_jpg.rf.ee481d4c89b454376ef76196a7827433.jpg\n",
            "569_jpg.rf.3196e8fac7f900d91700f80f408583cf.jpg\n",
            "569_jpg.rf.cb4c8528e9ebf6e6ad796a9d821a31e1.jpg\n",
            "56_jpg.rf.34e70ae849308c5bdeaf79311332bc84.jpg\n",
            "56_jpg.rf.864f4f2f9c50e721e2f9fb6658fb49a0.jpg\n",
            "570_jpg.rf.8d2a97ee31ca02e3b0d13bc2117af49c.jpg\n",
            "570_jpg.rf.c73f51ea657217fd26dce2cdfd5f1157.jpg\n",
            "571_jpg.rf.05300cd7b97f8d0d7a4cdef474483386.jpg\n",
            "571_jpg.rf.aeb129e9679177c308c6b3c244d8e74f.jpg\n",
            "573_jpg.rf.aa6db5d116d46e62ce5bc41546756550.jpg\n",
            "573_jpg.rf.d6af8a43df9b6f51dc670d721631caca.jpg\n",
            "574_jpg.rf.1252f3584ada21e87678a1ea23573a79.jpg\n",
            "574_jpg.rf.4ae9bc4f1a4d1ac1f310cf1601e59b6f.jpg\n",
            "575_jpg.rf.62d13e829872884f77a7951441fb4ed4.jpg\n",
            "575_jpg.rf.cca7060bf82cbe028d86ccb2330c472c.jpg\n",
            "576_jpg.rf.5609ff8c7a6049922f7bde6ba7994524.jpg\n",
            "576_jpg.rf.7f598d4e916e89e1d84347fabeb85dae.jpg\n",
            "577_jpg.rf.6203538ccdee7348031492fb19dcd1f3.jpg\n",
            "578_jpg.rf.fa5ca64cc3550ad8369242c01f7004e4.jpg\n",
            "579_jpg.rf.5af8cb81c87022885f257469c441a43e.jpg\n",
            "57_jpg.rf.11bdfdc94993d79b77379288b26380f5.jpg\n",
            "57_jpg.rf.1ea8b68928b726dd6c2e838f79a7a2c8.jpg\n",
            "580_jpg.rf.3ac2e329459ff5ac0d69aa6a6192736b.jpg\n",
            "580_jpg.rf.d8495125729e9510bc25865d3f8702c2.jpg\n",
            "581_jpg.rf.f06e369cef8dbf5c5ab3b639a51a51c1.jpg\n",
            "582_jpg.rf.027d258c0b82ec347d5b179bd32cc408.jpg\n",
            "582_jpg.rf.462c55ba954f76feb3b6a50125cf54f9.jpg\n",
            "583_jpg.rf.13757346f581b870a26265b3416a3c9c.jpg\n",
            "583_jpg.rf.e50d8f98f89caa8e49901132d0048a63.jpg\n",
            "584_jpg.rf.0542d4e43f083dc1717b123cb547d45b.jpg\n",
            "584_jpg.rf.c3ecfd9729a911428b3c0430a550072e.jpg\n",
            "585_jpg.rf.0165cb5ebbc4573c154a154fc58f372a.jpg\n",
            "585_jpg.rf.d99e6fe2e95e2f7e476a9040844fbacd.jpg\n",
            "586_jpg.rf.8310805f888de6a57493df680f443409.jpg\n",
            "586_jpg.rf.bf29e6afde3590af841bb5ba46353009.jpg\n",
            "587_jpg.rf.62288a7510e6a17b6c5d147d71cfc72a.jpg\n",
            "588_jpg.rf.a36b0a9a820104fe74986917cef7dad5.jpg\n",
            "588_jpg.rf.a8ba84890cc34e59dd5c07bd0ba4f1f2.jpg\n",
            "589_jpg.rf.9ce9266b0250657fb2e9c1625370f779.jpg\n",
            "589_jpg.rf.af7e6443a91734b44a5712ae834f85a4.jpg\n",
            "58_jpg.rf.b954861aeeb1c6088af9e75d94a87e77.jpg\n",
            "58_jpg.rf.f0f53d0f663e768bda27a34fe5c57cd6.jpg\n",
            "590_jpg.rf.5adf9797969ef08e642d83d350e01dcd.jpg\n",
            "590_jpg.rf.739ba1eea61ce34470bfa4d3b149417b.jpg\n",
            "591_jpg.rf.74ec1650550aa1c49a093df4b76b018b.jpg\n",
            "591_jpg.rf.83f8a04e1c81628fb29c313ab5f6e1d5.jpg\n",
            "592_jpg.rf.c1c959ce1cc11ac597ab87de0525a889.jpg\n",
            "592_jpg.rf.ccc61907f14db03e893e1669867a6533.jpg\n",
            "593_jpg.rf.db3760e645522099faf22360c87477df.jpg\n",
            "594_jpg.rf.d76e40cdd97bc6eeb5ac1a9e09ea339e.jpg\n",
            "595_jpg.rf.77db3044026c85482250569c4f365d89.jpg\n",
            "596_jpg.rf.1a7fe38fcdd1a55a7ca5404c40361b25.jpg\n",
            "596_jpg.rf.80a51ce5be3b8a091cd065dcf461c942.jpg\n",
            "597_jpg.rf.2380c72d1b32c9902cff2698015ede87.jpg\n",
            "597_jpg.rf.fd0fec58447b15e09d44643c6247ad3f.jpg\n",
            "598_jpg.rf.4d6321fb3fe502d5fd44d677266220fe.jpg\n",
            "598_jpg.rf.ea49986f10d72ee13e9fcb24ac6de5d1.jpg\n",
            "599_jpg.rf.2201594d46349339de9417bcac857eb9.jpg\n",
            "599_jpg.rf.b767a95e03a87dfa31c2f713981434ae.jpg\n",
            "59_jpg.rf.7b5ffa8a77fb14e3f905f759edcd4663.jpg\n",
            "59_jpg.rf.a0c740c9cd7f2c7acb98e6b6b151d3c6.jpg\n",
            "5_jpg.rf.760f4fe51aaa826ddee9048f19099cc5.jpg\n",
            "5_jpg.rf.f7d88ab11b71c58df013a862d1caa198.jpg\n",
            "600_jpg.rf.acb50cb9175aaf0daf7431e8957db370.jpg\n",
            "600_jpg.rf.dd69d27e7266c92d3c7da2c9ffc5157c.jpg\n",
            "60_jpg.rf.9d462f2aa657f4ae0229ef71471b9c96.jpg\n",
            "60_jpg.rf.b7c08d8e66c466b00bbc04ab10696af6.jpg\n",
            "61_jpg.rf.ccd4433cc8859181ad5fc11b725d01e4.jpg\n",
            "62_jpg.rf.4e0be2a2cd4c98fff52f1183139b4584.jpg\n",
            "62_jpg.rf.55cd95446bc3d0cd55f87a0da0c5e527.jpg\n",
            "63_jpg.rf.0a663b42e7e29c847b194930dbd442d5.jpg\n",
            "63_jpg.rf.0c4c1efe3e9f43348267641454889cb4.jpg\n",
            "64_jpg.rf.84f0e86d1b1ae31114691fb28ce16044.jpg\n",
            "64_jpg.rf.9e7d169bd48b7f6665cd9117e5c2a395.jpg\n",
            "65_jpg.rf.fc8cf55f7df6be789376e91a9cd7f7aa.jpg\n",
            "66_jpg.rf.5211d7e73a81094f5239258b9635be23.jpg\n",
            "66_jpg.rf.54ab96d4895d5ceed6a626dc3546fcbb.jpg\n",
            "67_jpg.rf.e2ce3d818f76c2ffa4738503993e8ea0.jpg\n",
            "67_jpg.rf.fe888450cf68852c080efab6c90bcb7b.jpg\n",
            "68_jpg.rf.971b20fb62d05e57d32179a4c36724fb.jpg\n",
            "68_jpg.rf.b5eb782393853e9ffc0b9351f6332b96.jpg\n",
            "69_jpg.rf.1ef536417bf8bdfc7719b32b532fd9b8.jpg\n",
            "69_jpg.rf.deeb067d8712720007332397dd1f6300.jpg\n",
            "6_jpg.rf.906e4083bfb8774d79a18f4cb839cc36.jpg\n",
            "6_jpg.rf.c9b53972ab99027842566d90947d0ab2.jpg\n",
            "70_jpg.rf.5487dc90cc1a5b1dc5ba1fad686c9fc4.jpg\n",
            "70_jpg.rf.f448b3b27735778c4ff59f01a45ed532.jpg\n",
            "71_jpg.rf.64601976f65b5411c3ea9f661924536d.jpg\n",
            "71_jpg.rf.a123c52676c74fe8f00109df487bbe66.jpg\n",
            "72_jpg.rf.845bf41f30db72c535f03dd697ad6093.jpg\n",
            "72_jpg.rf.8eed8b664f3b192f8f82405c293e76cc.jpg\n",
            "73_jpg.rf.1f0cef8a44ff74a7e508921590cdf423.jpg\n",
            "73_jpg.rf.5ab69edbdc986808aab59109959d542c.jpg\n",
            "74_jpg.rf.6c46f9494ae7c65104fe8aa178eb7a61.jpg\n",
            "75_jpg.rf.745dd358080c4e220712fd1d1a628706.jpg\n",
            "76_jpg.rf.5abeb91eda2281a17b1d5fd587646c41.jpg\n",
            "76_jpg.rf.b9da8c4ef4204cc34c6dd6f9b22198e9.jpg\n",
            "78_jpg.rf.1b3b9644daf2730bee119b9c6fda699d.jpg\n",
            "78_jpg.rf.553a76e189259ad897b7b9c895269a1e.jpg\n",
            "79_jpg.rf.cb118a688aa32e49346c3a303659299c.jpg\n",
            "79_jpg.rf.d9fe1de648ad59919d410b9d67c045fa.jpg\n",
            "7_jpg.rf.11bd26df129f6ebc7cba569c0fee3092.jpg\n",
            "7_jpg.rf.6a4ff2dab01e86cb7c7a16667752e80d.jpg\n",
            "80_jpg.rf.6f9ef389de71b1ea80e9f6ea31131065.jpg\n",
            "80_jpg.rf.d640f0259a6e8bbfb41c221c3a226b7e.jpg\n",
            "81_jpg.rf.44e697fcaeee4b560f7ca53851863928.jpg\n",
            "81_jpg.rf.b316e0c4554e1576abb115667532dac6.jpg\n",
            "82_jpg.rf.1e50a909ceb1b3d82e03f520368bf563.jpg\n",
            "82_jpg.rf.f7d4f12c18ecd785f9f676dd699f58be.jpg\n",
            "83_jpg.rf.5e0ff9adb25182383ba1f23f4644372a.jpg\n",
            "84_jpg.rf.49f7062c4c78e38e3ba2a13abdd00f8e.jpg\n",
            "84_jpg.rf.688b8203bab87f161aad84ee4ed05388.jpg\n",
            "85_jpg.rf.11f437a72cfa0ba446381193907f5d6c.jpg\n",
            "85_jpg.rf.f5bf6e4184f538718dcaa40292bdccc5.jpg\n",
            "86_jpg.rf.9ba65fc8fcb240dfca9927a672697311.jpg\n",
            "86_jpg.rf.d68dfbf5edc3ee04deeb4c13613a8295.jpg\n",
            "87_jpg.rf.b011d02729dd65e7a0d2a73b0af47bb5.jpg\n",
            "88_jpg.rf.3f2441f1305e897a3ba7286620c4f1eb.jpg\n",
            "88_jpg.rf.452196162b880fc7ac29f92913b379fc.jpg\n",
            "89_jpg.rf.2a074a0984c782ccc5a2b520c0e2cb23.jpg\n",
            "8_jpg.rf.ad4d3edfba833c7036969a15ada9c36d.jpg\n",
            "8_jpg.rf.c9f646e3a7241c95ee86466e49aa2f24.jpg\n",
            "90_jpg.rf.17c9e7c9fc8dcbf7f8436f8181565b17.jpg\n",
            "90_jpg.rf.2dfba13866f6b05e0157d18fd4d4696f.jpg\n",
            "91_jpg.rf.1f96693ec127fbe70578b379c89d068a.jpg\n",
            "91_jpg.rf.92c7ee66848c0b70c4e80cdc63325759.jpg\n",
            "92_jpg.rf.b7725b343f728810f9d69b1ad1b73eb6.jpg\n",
            "92_jpg.rf.db985cbc14b5e6f89fba439d1377d0d9.jpg\n",
            "93_jpg.rf.2a0cb572b255cd0f423498be73ba2720.jpg\n",
            "93_jpg.rf.f7a22a8a6b5ef2411cf1ba4cecca1fa9.jpg\n",
            "94_jpg.rf.6e3ccafe2aafb470ae3f95ec704c1821.jpg\n",
            "94_jpg.rf.ddab20212ae20faa26fe2f3e95fa013e.jpg\n",
            "9583561_jpg.rf.aea6b8f6cd191094484fef841c2d89ff.jpg\n",
            "9583564_jpg.rf.171f4f96d02162d09d736c0090feb8c6.jpg\n",
            "9583565_jpg.rf.45b68b5c42104392a7b3f7c5efdc502c.jpg\n",
            "9583566_jpg.rf.429a21afe2355834e118677f1b588355.jpg\n",
            "9583567_jpg.rf.970ec98237f3785e950331baf0349a39.jpg\n",
            "9583568_jpg.rf.eb4fb63fa1d033a58378b8fd2f678599.jpg\n",
            "9583569_jpg.rf.69787288f7acdc7c41b3b8e594984bca.jpg\n",
            "9583570_jpg.rf.8d87da985db97cace0afbf390ea993b8.jpg\n",
            "9583571_jpg.rf.92e1f36e37f1e40a72dc6c59c8ff2f56.jpg\n",
            "9583572_jpg.rf.56e4aebac074f1343f1da26935173313.jpg\n",
            "9583573_jpg.rf.e3bb7feae17c0e6e62d7c0afc58be090.jpg\n",
            "9583574_jpg.rf.583f21b5a8600cafb64dc02a0f369529.jpg\n",
            "9583575_jpg.rf.a3e200ffbb5230692b15be8910dcbace.jpg\n",
            "9583577_jpg.rf.14dd24343934fc97d876ac7b1b0a9335.jpg\n",
            "9583578_jpg.rf.edf300cda58f045bb056e0e5d68a15e8.jpg\n",
            "9583581_jpg.rf.509df5b76573db3c0d99896d723ce432.jpg\n",
            "9583582_jpg.rf.13231121167a0b7a0a2aae353a72c888.jpg\n",
            "9583583_jpg.rf.58b93e8e3fb22348c26b204e95f17dd6.jpg\n",
            "9583584_jpg.rf.e389290bd1a0772d702487faec12b105.jpg\n",
            "9583585_jpg.rf.cb13b0f2698976f5480b40e354046339.jpg\n",
            "9583586_jpg.rf.4d876660e6006e6363ad56451464f614.jpg\n",
            "9583587_jpg.rf.d47fed6424da61ade5df415ae433431c.jpg\n",
            "9583588_jpg.rf.6bbca92f832472b065ea5fca42d4e21a.jpg\n",
            "9583589_jpg.rf.2adbcd8490dfa997ba2252afb34629cd.jpg\n",
            "9583590_jpg.rf.e2d1d53b64e03638103186f3e0a939f7.jpg\n",
            "9583591_jpg.rf.7823ef7c28f1ce8f05e72120585ba699.jpg\n",
            "9583592_jpg.rf.ae3645fe1e3706afc9f4217b3a0c3b04.jpg\n",
            "9583593_jpg.rf.c75a62dbbf05ed4dd16d5600ecd684b2.jpg\n",
            "9583594_jpg.rf.9e5ee734c3b42f70205d009c977ca8d8.jpg\n",
            "9583595_jpg.rf.5f03651d372af759021b9955ce609f32.jpg\n",
            "9583596_jpg.rf.a56610fe38ac661ae9167fe4ddf40bb9.jpg\n",
            "9583597_jpg.rf.3b97a6bebb3e0b5cbfd17a359cb09468.jpg\n",
            "9583598_jpg.rf.42e92e3810c7971052826298a6f22f01.jpg\n",
            "9583599_jpg.rf.f19adc2c40345a30a667d74e85989891.jpg\n",
            "9583600_jpg.rf.764501e7abd4cd30d3505cc1f8694a11.jpg\n",
            "9583601_jpg.rf.39bb792cceb2b03775786f1212d5d256.jpg\n",
            "9583602_jpg.rf.666ddfdcb9778f23c0ef54f199b3541e.jpg\n",
            "9583603_jpg.rf.53627b5068f5ed2308dbd7495a41577e.jpg\n",
            "9583604_jpg.rf.3c01c36d1d6bd0038084e4724c921ed8.jpg\n",
            "9583605_jpg.rf.b3eec11eefd5530f1bf3d8e44cdc8b76.jpg\n",
            "9583606_jpg.rf.2fc44c14ba9f9b54511a6a59dda84972.jpg\n",
            "9583607_jpg.rf.3ed227ba0e3325f8bc1e3c03cebb97ef.jpg\n",
            "9583608_jpg.rf.d40b033420dc89a7a4b9dda76bfad2b8.jpg\n",
            "9583609_jpg.rf.73afa4222e9da6b9d840be45fc7c4fa7.jpg\n",
            "9583611_jpg.rf.edd28f1e375bdf9aca655c6ae04c23ec.jpg\n",
            "9583613_jpg.rf.df1c5e1bb026d16d78a3f68f72e90758.jpg\n",
            "9583614_jpg.rf.390d9efcacd81772aa8b8f7edfe7f75a.jpg\n",
            "9583615_jpg.rf.dc64438cc781ca99a5799f0a8964cf2e.jpg\n",
            "9583616_jpg.rf.2caa8ccccdbac8395d96d88806e289c4.jpg\n",
            "9583617_jpg.rf.0954ce313fedfd494aedf29298905230.jpg\n",
            "9583618_jpg.rf.f5fbea1b137d1d7531d321ead80980c8.jpg\n",
            "9583619_jpg.rf.3c8c8bb6a380b33906640bb4c8afcdb9.jpg\n",
            "9583620_jpg.rf.1fbbe4874e0c46042661e975fad326f1.jpg\n",
            "9583621_jpg.rf.b03150c29a58b39741099641d25a3ed8.jpg\n",
            "9583623_jpg.rf.4a679ab124b1a944031e7f7a0eccb708.jpg\n",
            "9583625_jpg.rf.8aaf97713e9143332632349812399359.jpg\n",
            "9583626_jpg.rf.f5d7228cbc695503650828ae3cbf5967.jpg\n",
            "9583627_jpg.rf.86bcdc2dca56e1e1d74ff6ae6405ca8b.jpg\n",
            "9583628_jpg.rf.1c336acf175be379f3f8e67efb77827b.jpg\n",
            "9583629_jpg.rf.2a75ffdc7d8c8030becc9b21ac7061dc.jpg\n",
            "9583630_jpg.rf.967594717bb15e6d76bcfda2f8a10ef2.jpg\n",
            "9583631_jpg.rf.14484b1cf2f3b01270a55ed59ba47205.jpg\n",
            "9583632_jpg.rf.9b71ced3d1c2d3a648f2ad593b145d75.jpg\n",
            "9583633_jpg.rf.e11123fb28aaadb58555d74d4cc6ee33.jpg\n",
            "9583634_jpg.rf.fcc40ab7276890500829c63b52541190.jpg\n",
            "9583635_jpg.rf.df7fb8a6869281b6cb3c1446f7849fd3.jpg\n",
            "9583636_jpg.rf.a52d05a059f54a751c4e4bef3645a78b.jpg\n",
            "9583639_jpg.rf.4711259aca888e5fd91478e161c5585c.jpg\n",
            "9583641_jpg.rf.494f25dddb2018be734e063dcba18901.jpg\n",
            "9583642_jpg.rf.3c420ac0330f89f65ce2bc6b2fbcaf3d.jpg\n",
            "9583643_jpg.rf.295e30e3379c056cfa1aca42ba33fd20.jpg\n",
            "9583644_jpg.rf.177c3a58da6273edd96f8470c780c9a3.jpg\n",
            "9583645_jpg.rf.0a537b3c8035bbd731464a1fc3ef55bf.jpg\n",
            "9583646_jpg.rf.7767825e7308603c1dbb8f68db69e504.jpg\n",
            "9583647_jpg.rf.7feaf2cff3b27d4ab966d2cbe64e547c.jpg\n",
            "9583648_jpg.rf.e28d9b0919715cc12e90c578bddbfeec.jpg\n",
            "9583649_jpg.rf.ee0b9bf81ecabac2b467c513acc46d9b.jpg\n",
            "9583650_jpg.rf.9fd03b8dbd9e1063e34642416b0e66e6.jpg\n",
            "9583651_jpg.rf.f38c34388140ef9935a2a71d5667a300.jpg\n",
            "9583652_jpg.rf.bebd93bb266b64f3a4343a16ee1405a0.jpg\n",
            "9583653_jpg.rf.12d162d8d1cdc8777427b61adcc38f60.jpg\n",
            "9583654_jpg.rf.9b16c8738ffe8888d9040da155a6bd86.jpg\n",
            "9583655_jpg.rf.408b54ba680185c4b9a7b6922b299705.jpg\n",
            "9583656_jpg.rf.48b92b0a01d1ec305afc27ce3fdd9a77.jpg\n",
            "9583657_jpg.rf.1f65943709deab224969a12bd3a6645c.jpg\n",
            "9583658_jpg.rf.271824b079302f3f027f311a28c55686.jpg\n",
            "9583659_jpg.rf.1f3dfdeb4fb28ea10afbd7338be4acb2.jpg\n",
            "9583660_jpg.rf.cd497e20527b80da94a7b28a1900b27d.jpg\n",
            "9583661_jpg.rf.2ef03fb005c4077f5c81c4118d9b50ef.jpg\n",
            "9583662_jpg.rf.b0113bd56cd1183cdc376780ee592bfc.jpg\n",
            "9583663_jpg.rf.07aacca7f2d441b3d9b76e1e6ea6d7ff.jpg\n",
            "9583664_jpg.rf.6489bdcb01d50ca0462aec0c17504a0c.jpg\n",
            "9583665_jpg.rf.9d5127e2ab99f267d846929137275b13.jpg\n",
            "9583666_jpg.rf.c57bf63b693357f5c6e80989d796fc16.jpg\n",
            "9583667_jpg.rf.3682f53f7aab5d480681621c3cf798e4.jpg\n",
            "9583669_jpg.rf.110780991a8211b6bd83d63ba19c4c4a.jpg\n",
            "9583670_jpg.rf.7d8852bdfc6a0915d82ad5e2f2029aa2.jpg\n",
            "9583671_jpg.rf.eb500ff2fdca37ac4e4b364d99daf6bc.jpg\n",
            "9583672_jpg.rf.6cc87954b51869af2906c17fac8ea6c1.jpg\n",
            "9583673_jpg.rf.3b8edf73a1f644b999e8b8f0ee09a8db.jpg\n",
            "9583674_jpg.rf.30bad871d678631dad67c8ec51abb365.jpg\n",
            "9583675_jpg.rf.7ca3a1b818028c0794e581844904951c.jpg\n",
            "9583676_jpg.rf.7fd29d32c50360854c916530e7f7ceb8.jpg\n",
            "9583677_jpg.rf.dce7a2c1eaf05ca7a617b84b59ca8cce.jpg\n",
            "9583678_jpg.rf.19890ed2fd0a3503555d4d8361687a1a.jpg\n",
            "9583679_jpg.rf.41f368d2fca6c5f1507ad5e5fd3565da.jpg\n",
            "9583681_jpg.rf.59d6d22c7aace24662a887788ba55755.jpg\n",
            "9583682_jpg.rf.7cd6b6817a8a3742b97a6cab68dd9dfc.jpg\n",
            "9583683_jpg.rf.b9c1512aa2fd2a375be889ee515edf8f.jpg\n",
            "9583684_jpg.rf.69aa77806c06fcb970132114b80b20b8.jpg\n",
            "9583685_jpg.rf.a2129faddb02d805ae06f6820631118b.jpg\n",
            "9583686_jpg.rf.a703140ac87e02b3cbca33203619c64f.jpg\n",
            "9583687_jpg.rf.2017245bdb21d5599aba9ff66ba0faec.jpg\n",
            "9583688_jpg.rf.a56bddf946f0a45ffe263c6a58071d57.jpg\n",
            "9583689_jpg.rf.93ddae2fb96c7734451973c49d4eb4f2.jpg\n",
            "9583690_jpg.rf.3909ce3de82e3c261a8b1186783755d2.jpg\n",
            "9583691_jpg.rf.9199d361777f7fa156050be9aec605fc.jpg\n",
            "9583692_jpg.rf.35931d256e9857937185cf2e3e7e7cb0.jpg\n",
            "9583693_jpg.rf.9b304a1010fd65c12b63d84706cd3be5.jpg\n",
            "9583694_jpg.rf.046459bb17ea17b27f91a87fa540b7ed.jpg\n",
            "9583695_jpg.rf.e04d2377f29df585615126a06b61ec62.jpg\n",
            "9583696_jpg.rf.3f22db31095ba641c7b0b85eae377089.jpg\n",
            "9583698_jpg.rf.557b5d4a2d4a3a9bc4274428a5cb3e17.jpg\n",
            "9583699_jpg.rf.cb2c1980c89b6dead72a0e12b0adf8c4.jpg\n",
            "9583700_jpg.rf.a2fdef37167698eb6804fd5a3c7eaa0b.jpg\n",
            "9583701_jpg.rf.da8cb248445e65047d665445aedc6007.jpg\n",
            "9583702_jpg.rf.bc33dc29cbb658aa1c3379622145e2ab.jpg\n",
            "9583703_jpg.rf.86b1d4373f305b75b84f414d8d4fa9c3.jpg\n",
            "9583704_jpg.rf.61e1a8dba12108a3ac3b2ccf926939c8.jpg\n",
            "9583705_jpg.rf.0753c27e24666baef48ea986f1792fc3.jpg\n",
            "9583706_jpg.rf.398f421410a435539122293b86b92251.jpg\n",
            "9583707_jpg.rf.b486cdb08722fe1c0a4e8e86d231c13f.jpg\n",
            "9583708_jpg.rf.fb680bfca6d37072386a31f751a39949.jpg\n",
            "9583709_jpg.rf.062ee8cba15a4fd1e33395f38e2cb04b.jpg\n",
            "9583710_jpg.rf.f95742430d0a980226e25872067c483d.jpg\n",
            "9583711_jpg.rf.106b4962bcf2578b6c8e9c35a48552b6.jpg\n",
            "9583712_jpg.rf.94fd064ed7ecf80ac892330d8e8e4bcb.jpg\n",
            "9583713_jpg.rf.4e437a056c9da91ce53c2809a3444d2e.jpg\n",
            "9583714_jpg.rf.5d03209b722ea12fd2fa42862dd1c6fd.jpg\n",
            "9583715_jpg.rf.d605907be2a562d6690442632d24b5cc.jpg\n",
            "9583716_jpg.rf.ef695fd6a10d8886ec033dc4e70f7d8d.jpg\n",
            "9583717_jpg.rf.fd9aba786d783c3f87a28e8cac7ba2a7.jpg\n",
            "9583718_jpg.rf.7c73871a99774a5819c053c00bdd3a40.jpg\n",
            "9583719_jpg.rf.d3a8189de07d301d261c8d7c1ed7a311.jpg\n",
            "9583720_jpg.rf.d5c5d095bd28446543d2cd02497a73e7.jpg\n",
            "9583721_jpg.rf.8f4b6f647f2dbe2e23fef089b3c43d57.jpg\n",
            "9583723_jpg.rf.598dad0fb68730a58945445616be4d96.jpg\n",
            "9583724_jpg.rf.08ef24a8bf137167730d401ec3d4ed7a.jpg\n",
            "9583725_jpg.rf.5f32cf41a9c1a6b2cfe7d1d027e5559f.jpg\n",
            "9583726_jpg.rf.6eae9e3ca0cecd9167a2d43225a2785a.jpg\n",
            "9583727_jpg.rf.be5a9a76a00708922c7b8a16b36828ad.jpg\n",
            "9583728_jpg.rf.d268da743576d1f442a853d71b01b0ea.jpg\n",
            "9583729_jpg.rf.95e6d3678d5e9629c519ca6e2ffef37f.jpg\n",
            "9583730_jpg.rf.8d64a0727290468bb7316335b0736ffc.jpg\n",
            "9583731_jpg.rf.11cc6488912f51750dea6c36ff3d7983.jpg\n",
            "9583732_jpg.rf.8b62428dc2fe95b0cec3257b3ef01261.jpg\n",
            "9583734_jpg.rf.9989c588d9067006ef616f6e9cbfdd1a.jpg\n",
            "9583736_jpg.rf.930f561d037ddbdbe7e5678b2beccfcb.jpg\n",
            "9583737_jpg.rf.f82e363185c89de928bd95c9cf2211d0.jpg\n",
            "9583738_jpg.rf.c743b58b62687989eebfcf96006f92e0.jpg\n",
            "9583739_jpg.rf.595e359bd5f2e3cea71ee47bb0c86129.jpg\n",
            "9583740_jpg.rf.a986f473036cf554fa11d6de3bcc4bc1.jpg\n",
            "9583741_jpg.rf.535ef4309c42aeb8bf19ecb7c8358ba1.jpg\n",
            "9583742_jpg.rf.dd636ec6ab38dbdc0a943480c09cd48a.jpg\n",
            "9583743_jpg.rf.4cde0579f161feb13aa60b7ab4f6f17d.jpg\n",
            "9583744_jpg.rf.f7ade6d2139c748d5e5d450073ea25d3.jpg\n",
            "9583745_jpg.rf.0806fe9b7d73a94abf2222b989f02f5a.jpg\n",
            "9583746_jpg.rf.8efcf2b555bda0658c8f74acaf5e0448.jpg\n",
            "9583747_jpg.rf.83dc252aac1bce2e4687115facb65d93.jpg\n",
            "9583748_jpg.rf.2cb391950f5bdd8a6a6668649da8ae55.jpg\n",
            "9583749_jpg.rf.6f6b97a9ecc11cd00e1b55d871f41f97.jpg\n",
            "9583750_jpg.rf.f3da69d38204d39683de8e753b8f6179.jpg\n",
            "9583751_jpg.rf.857ee6da38dc8b11ffaf3fadf73cfab3.jpg\n",
            "9583752_jpg.rf.c54d1a7cf45cf9ea63bf7088b7bc63db.jpg\n",
            "9583753_jpg.rf.207e4bfb2e9d286a1b0f8307a927aba0.jpg\n",
            "9583755_jpg.rf.e8964a489bdeed19f7159be0b5029bd8.jpg\n",
            "9583756_jpg.rf.d56630fc9759cfc0b917861aabb59e55.jpg\n",
            "9583757_jpg.rf.263b76a518762ed247a9ba5a5fa85e2c.jpg\n",
            "9583758_jpg.rf.b7a258b5f35a3d53468bb7c0d9d7e696.jpg\n",
            "9583759_jpg.rf.ab4d580ec60331979f31644719199964.jpg\n",
            "9583760_jpg.rf.cbc2c501eeda25d06b0d3d9acad39ca4.jpg\n",
            "9583761_jpg.rf.f38b2fb03627dfd8bd9470907e1008aa.jpg\n",
            "9583762_jpg.rf.3442ac9b3eb18a38374990c4d61b30f9.jpg\n",
            "9583763_jpg.rf.c429199f2b9e1be6f7bc7669354d89ae.jpg\n",
            "9583764_jpg.rf.f9b95768d7f09774cf87c0a59abccaf1.jpg\n",
            "9583765_jpg.rf.5c58508d842e68fe618ec4f9eb8e620e.jpg\n",
            "9583766_jpg.rf.660bf645ef3166e1e9f37dffee796cbf.jpg\n",
            "9583767_jpg.rf.b43430dd5b236af7b1374f627648269a.jpg\n",
            "9583768_jpg.rf.5b5de8116eadc2499246e6564f474925.jpg\n",
            "9583769_jpg.rf.a296a3731921170ddddf58b32058ff8e.jpg\n",
            "9583770_jpg.rf.f8c396e8f0c78d4f640d001a4728ae7d.jpg\n",
            "9583771_jpg.rf.c377e052555f7de10055b6fbc1c70572.jpg\n",
            "9583772_jpg.rf.f01446ea3d333d36c43eb813b6219b0d.jpg\n",
            "9583773_jpg.rf.4d08062361b040799540ee1fa1648c1f.jpg\n",
            "9583774_jpg.rf.d941b68f10128ba042fc1e1aa4ce2918.jpg\n",
            "9583775_jpg.rf.9468ae6e75f69370f552d3dd8a9a0412.jpg\n",
            "9583776_jpg.rf.aa09b63363672528fd10ba209c325e39.jpg\n",
            "9583777_jpg.rf.a3bf0e52f7732a995374d8a1195d91fa.jpg\n",
            "9583778_jpg.rf.b9c14509edb0bf53b801a1e8284fc243.jpg\n",
            "9583779_jpg.rf.1a1a8fc7d473a73037cc54ad152145ff.jpg\n",
            "9583780_jpg.rf.a6fb43d270516a2efeca5564aac5e3ed.jpg\n",
            "9583781_jpg.rf.ca5835484e62f71f13d7d72048913fac.jpg\n",
            "9583782_jpg.rf.fc30b2bfa94bd0911cc9889805311ffa.jpg\n",
            "9583783_jpg.rf.92c86f632c17c5282c197dc469a0c87e.jpg\n",
            "9583784_jpg.rf.7aea1d85f122f003a9796a69357997cb.jpg\n",
            "9583785_jpg.rf.f87248871ff53707021e1e71bc1cc412.jpg\n",
            "9583786_jpg.rf.2dee7bbfb082e8af82957bde172ace9b.jpg\n",
            "9583787_jpg.rf.bb77d0edfa4d3f113aa36e1e21ef4408.jpg\n",
            "9583788_jpg.rf.aa1d2ff926f89cea2d4ae5f15370fd80.jpg\n",
            "9583790_jpg.rf.fd54c02e7bc749425581372d057166ec.jpg\n",
            "9583791_jpg.rf.1861bc2ff4ee34856c19a3ed4c00582e.jpg\n",
            "9583792_jpg.rf.46de7e2811634516038ad9803e8d807d.jpg\n",
            "9583793_jpg.rf.d3ceacd2e8aa7f21a8d1e14c56325c9e.jpg\n",
            "9583795_jpg.rf.41d32a19d6a27a289cff924482619479.jpg\n",
            "9583796_jpg.rf.896e9a00a994058df6e2889dc5dfc391.jpg\n",
            "9583797_jpg.rf.3be345f6a07098e11ebe590f24c85d07.jpg\n",
            "9583798_jpg.rf.1e7f3d90a19dfe9a9a3b326b9292fe77.jpg\n",
            "9583799_jpg.rf.d095953af8ed3a9120b1a90fb3294f7c.jpg\n",
            "9583801_jpg.rf.b4a65d4ab6b16d093311f134113f4655.jpg\n",
            "9583802_jpg.rf.6bfab16af32fa26cc18608a2a375e480.jpg\n",
            "9583803_jpg.rf.bd157b6e4ce9d08d2bfe635e32cfcec8.jpg\n",
            "9583804_jpg.rf.bd5957fff3ef78ffffac5c5ab60c74fb.jpg\n",
            "9583805_jpg.rf.acebae10cc00d680ca41889c3169dd54.jpg\n",
            "9583806_jpg.rf.299413df83af20b8bb19cf3c9dea2940.jpg\n",
            "9583807_jpg.rf.f42c8eae39457b15669a8470dbc3721c.jpg\n",
            "9583808_jpg.rf.da65197848c716e9d69abe3e1f88ea2d.jpg\n",
            "9583810_jpg.rf.4c22b605b260e77f7f19828caae32332.jpg\n",
            "9583811_jpg.rf.d82c56824a67e0ec0661a10d2d25a784.jpg\n",
            "9583812_jpg.rf.129dac3dae3bae81d15ce02d38417c29.jpg\n",
            "9583813_jpg.rf.741c56f5c7daf0210e6716bd91f459f4.jpg\n",
            "9583815_jpg.rf.80487ff2bdc0979bc8d5e59e829d024a.jpg\n",
            "9583816_jpg.rf.23f2f518bf89c4c75aa343a7e6de05b6.jpg\n",
            "9583817_jpg.rf.cce76400ae91fa22c767c3208994de3a.jpg\n",
            "9583818_jpg.rf.79bc11ebb872921ee1b327962dc538a1.jpg\n",
            "9583819_jpg.rf.00aaa689305d43c8a0ce799ec673cf28.jpg\n",
            "9583820_jpg.rf.e05c3aa08a412f78736868386f3f548a.jpg\n",
            "9583822_jpg.rf.d42acacbd983dcc8c9a289803080d992.jpg\n",
            "9583823_jpg.rf.a053b215a70c421559436eaa8c739e7b.jpg\n",
            "9583824_jpg.rf.ef2704e94ab05205cbf1ef903372caf3.jpg\n",
            "9583825_jpg.rf.305a37dbdbb19f1b55f0ccb55241b448.jpg\n",
            "9583826_jpg.rf.53ec6f2da3e241ed7354c2c7a596f20a.jpg\n",
            "9583827_jpg.rf.0b4ab9e054c3929117469c5d92c09277.jpg\n",
            "9583829_jpg.rf.974b3891a9128e7cfe670910aaf9920e.jpg\n",
            "9583830_jpg.rf.9c48d04211ce64429a53fe63fb5dae05.jpg\n",
            "9583831_jpg.rf.3e00b18e91ec7edec80691fe54da2459.jpg\n",
            "9583833_jpg.rf.81a11104ecba44ffd4f24e275a75af16.jpg\n",
            "9583834_jpg.rf.d7a8a4fe64f67cd943fb79a95aeb2097.jpg\n",
            "9583835_jpg.rf.af772cd71b87aa458bfed2148f5a8584.jpg\n",
            "9583837_jpg.rf.f60e5bca280f849a7af91527f3271cb5.jpg\n",
            "9583838_jpg.rf.53f9dfd9f8c006c00f0ee7b1aa4d93fe.jpg\n",
            "9583839_jpg.rf.0e8316828f9f82f3e24692fcd5081eca.jpg\n",
            "9583840_jpg.rf.4f8eb1820d2370a486a8be532f7375dc.jpg\n",
            "9583841_jpg.rf.f8d87030920606c3787556a6995e88cc.jpg\n",
            "9583842_jpg.rf.29600cf034e252b1f9d1375b6086d8aa.jpg\n",
            "9583844_jpg.rf.f1e87a545600d2cc593bdf94df283aa8.jpg\n",
            "9583845_jpg.rf.b6ddc4fdb4aecce51676efd786d49c69.jpg\n",
            "9583846_jpg.rf.34c33582f6e68a51000a69dfa10a92b7.jpg\n",
            "9583847_jpg.rf.b0c414948e7f6339f6548ab5c8ebf9e6.jpg\n",
            "9583848_jpg.rf.b930efb8ab319e2b03f44a70c0e38fc9.jpg\n",
            "9583850_jpg.rf.8036e7726eadc842b521b9855f7d7d08.jpg\n",
            "9583851_jpg.rf.daf29404d10109f10421ab786ac4ef17.jpg\n",
            "9583852_jpg.rf.af0cfa27dde1af9aa05c57380394756e.jpg\n",
            "9583853_jpg.rf.fc91b93cf66ca4c94a5165441ccd274c.jpg\n",
            "9583854_jpg.rf.ac127f255bf26a0ad25287e9afe10941.jpg\n",
            "9583855_jpg.rf.807da20d344bcf5856740aa86d283aa8.jpg\n",
            "9583856_jpg.rf.f191dff5d1c6da952b3cd6485825906e.jpg\n",
            "9583858_jpg.rf.95c5df5be7150094de462c19ed987527.jpg\n",
            "9583859_jpg.rf.8595a6bb8620fd73a9939ed87c5b153d.jpg\n",
            "9583860_jpg.rf.6a4190c22da42eae486b44ebfbd763c8.jpg\n",
            "9583861_jpg.rf.d348f3d4758e328a0ccd077e492a7141.jpg\n",
            "9583862_jpg.rf.c7ffe75a3f652e4f130e5695e0c63412.jpg\n",
            "9583863_jpg.rf.6215670778bc1c98ea0491513565eaec.jpg\n",
            "9583864_jpg.rf.d731d7c5343e6acdeebe9ba9c50a2287.jpg\n",
            "9583865_jpg.rf.da6abf926a20e9ace4947bc3d84ae075.jpg\n",
            "9583866_jpg.rf.9af1db540e1eae186a9c07ec39e75ec0.jpg\n",
            "9583867_jpg.rf.bda676a602bc79eeb57fecfa69662be2.jpg\n",
            "9583868_jpg.rf.f9c11443fb681ed72b7adf92aa36a92d.jpg\n",
            "9583869_jpg.rf.83d5e133390f4aca75dfc88dcdfa098f.jpg\n",
            "9583871_jpg.rf.2e46569394b9a3fa064d57a8f37d118a.jpg\n",
            "9583872_jpg.rf.c4540492d93f8aacccd9e310f75cc9b9.jpg\n",
            "9583873_jpg.rf.8319db84b18fef091ff29030f1fdb394.jpg\n",
            "9583874_jpg.rf.9b5a1c86ebb338bf29fe110997ed4034.jpg\n",
            "9583875_jpg.rf.b6b2a878a6827f250f6374b00c7e1c5c.jpg\n",
            "9583876_jpg.rf.16772972d5fc4039156dfbf154440f72.jpg\n",
            "9583877_jpg.rf.79d28b5c3593840304fadf35c2ab8d6c.jpg\n",
            "9583878_jpg.rf.b68962db63a73d213dba672187cf6fe8.jpg\n",
            "9583879_jpg.rf.5bd9f87c715002c3fec14002a7969e0c.jpg\n",
            "9583880_jpg.rf.8424f33e79fa9dbabd7010b65be8ad3f.jpg\n",
            "9583881_jpg.rf.1e8a708c78f04cabced645614de27bae.jpg\n",
            "9583882_jpg.rf.79e8edb17ceb254cfa03bbeb47e78386.jpg\n",
            "9583883_jpg.rf.5140348b335785b530c73a1105b2ecd8.jpg\n",
            "9583884_jpg.rf.ca06fba4f9e30c52b2e9816ed89be769.jpg\n",
            "9583885_jpg.rf.1e92bc3278e3892ae3d603c62b760e29.jpg\n",
            "9583886_jpg.rf.e0dcb840959f1c75a25d0feb8ecd835f.jpg\n",
            "9583887_jpg.rf.a16bf3f59ab6e1fd1038e3a270d8efa4.jpg\n",
            "9583888_jpg.rf.873566884c3c2738692a202daddd8e37.jpg\n",
            "9583889_jpg.rf.232d91b1753ab433b1ab1ad54238f25e.jpg\n",
            "9583890_jpg.rf.e94ef574caf27d4fc04b5f360f0e8d10.jpg\n",
            "9583891_jpg.rf.dae1d54aaaa9e52c34f15aa2e43d9448.jpg\n",
            "9583893_jpg.rf.a4ad3c2f68953581e766b4ab97837391.jpg\n",
            "9583894_jpg.rf.1c88382c594a18ff6113cfbc32a69021.jpg\n",
            "9583895_jpg.rf.efb320144892e88919a0c5bc503948cc.jpg\n",
            "9583896_jpg.rf.574b384c475074c45d69625205725102.jpg\n",
            "9583898_jpg.rf.847d1d29b8c2bf79e5fc77aba3c41169.jpg\n",
            "9583899_jpg.rf.93250f1a7107003bdf0f442234c0d522.jpg\n",
            "9583900_jpg.rf.19825c6a1bf96f7fdfffa1bb1102cc4e.jpg\n",
            "9583901_jpg.rf.bf08fb3b9f749a060445a96ec94401ec.jpg\n",
            "9583902_jpg.rf.dcab02b3ad0a4035f961516b89de18a5.jpg\n",
            "9583904_jpg.rf.abb78fd54a8b1e3ef0d95c5fe8d78e10.jpg\n",
            "9583905_jpg.rf.726df9fed4314e88d1b502c90541ce72.jpg\n",
            "9583906_jpg.rf.170bcad0c357837e5b04f4ea571f986a.jpg\n",
            "9583908_jpg.rf.ccac53b01a42e5cd979ef5fcca829684.jpg\n",
            "9583909_jpg.rf.794a451a2b5f8b011d8eca2d7c10b62f.jpg\n",
            "9583910_jpg.rf.661d4478cdd9ffba244f571fd7119cec.jpg\n",
            "9583911_jpg.rf.17408971b977ed60ec5f90cc891df6a3.jpg\n",
            "9583912_jpg.rf.dd3a0dba56747ae56fa6060f368314ee.jpg\n",
            "9583913_jpg.rf.643fd6eab7781564de8ef742381ef6b8.jpg\n",
            "9583914_jpg.rf.82844b20bb1aae96d6f39cdcc26365e9.jpg\n",
            "9583915_jpg.rf.1ec8ef8b38a783abce9426ab508e509a.jpg\n",
            "9583916_jpg.rf.368ff6060e39aeef37ae933af21be6b4.jpg\n",
            "9583917_jpg.rf.7201ddb8fb681e57a88fb2dd7d9cf763.jpg\n",
            "9583918_jpg.rf.0b190a4e392d38ae554fd116ef764dc5.jpg\n",
            "9583920_jpg.rf.9eae3b4a844c79a73c9c142c9cb75288.jpg\n",
            "9583922_jpg.rf.3f7fa831c12d960001fa6ad3c4bf0eb6.jpg\n",
            "9583923_jpg.rf.e977c63dc91e2b42cd91409ce270b95b.jpg\n",
            "9583924_jpg.rf.abc22a310125dc4bfde83d26b6685987.jpg\n",
            "9583925_jpg.rf.66554a89c7fb8ae464f35b031ce65535.jpg\n",
            "9583926_jpg.rf.799639f36eaad416abc0769224426db7.jpg\n",
            "9583927_jpg.rf.3fc1abf8f149b5690a800eb1954c3f04.jpg\n",
            "9583928_jpg.rf.98e9fafe7fd1802cfebaec0e52dcc830.jpg\n",
            "9583929_jpg.rf.ff4b2dca4de493ce7d3ff8eb3c7a926f.jpg\n",
            "9583930_jpg.rf.64530d32d9fd531527f2a0d7703785bd.jpg\n",
            "9583931_jpg.rf.8d67551a43a512eb1c5e698970b6db8a.jpg\n",
            "9583932_jpg.rf.f2f3983b1e518a169b22d533ddfc4485.jpg\n",
            "9583933_jpg.rf.385028ecce35f9f2ac05add3c377c0c9.jpg\n",
            "9583934_jpg.rf.9bef72738bda3f657e890490c52708f1.jpg\n",
            "9583935_jpg.rf.2bb4993671cf9a6d1a38a35d08a62405.jpg\n",
            "9583936_jpg.rf.0dad9e11276744074d0e923888b396bf.jpg\n",
            "9583937_jpg.rf.8c43ecd6d1c2d4922fcca2179f2f8275.jpg\n",
            "9583938_jpg.rf.2d6b11e36cdc51ef4030fdd18a842e2b.jpg\n",
            "9583939_jpg.rf.3dbd17b827b332b7c3f6a503653cafdf.jpg\n",
            "9583941_jpg.rf.618b1380c67a6d0483e6e1e57d1f6232.jpg\n",
            "9583943_jpg.rf.c44838a5afa35c29984a521cc77d4e91.jpg\n",
            "9583944_jpg.rf.5819a21dfa53e074b9a09aba448f7787.jpg\n",
            "9583945_jpg.rf.18a7c88dc3888db4421ecd16b1f07af3.jpg\n",
            "9583946_jpg.rf.3bca088995ae7f7c602d34c029b295e8.jpg\n",
            "9583948_jpg.rf.d3efc390d200584ea1a38ca11d4a5f81.jpg\n",
            "9583949_jpg.rf.7015c3b99419997088e2f47dcd97d2c8.jpg\n",
            "9583950_jpg.rf.e030219e11b7ce441aa81a0770c9ce69.jpg\n",
            "9583951_jpg.rf.3ed477ad1282d1bc29454608dd268952.jpg\n",
            "9583952_jpg.rf.e54a712c29761bc1668d27dac86ad6f6.jpg\n",
            "9583953_jpg.rf.06ffdeb3f8f1bbfd4d7c17b668cb5642.jpg\n",
            "9583954_jpg.rf.64891d9b8f8ce4d533e2393d6fa87bf6.jpg\n",
            "9583955_jpg.rf.8f6ff48b00d5599c0e122b87abea6a63.jpg\n",
            "9583956_jpg.rf.49590ac1199dadfcb30171b2d50ebc39.jpg\n",
            "9583957_jpg.rf.791bf8f5ede4523459ba5387fe1f4e8c.jpg\n",
            "9583958_jpg.rf.0a4e6b39073ddf53abc5da85c361eb2b.jpg\n",
            "9583959_jpg.rf.0dbc9d0c8858e62ed7b5fa30f1de3767.jpg\n",
            "9583960_jpg.rf.8413038df215bb0c1f93fabe057136a0.jpg\n",
            "9583961_jpg.rf.b12e5176b5e4f46a7faf279be965bf8d.jpg\n",
            "9583962_jpg.rf.79a1f5e8b677f64da15010a055a6102f.jpg\n",
            "9583963_jpg.rf.0024921161cae6dee2fc798f4151f5ef.jpg\n",
            "9583964_jpg.rf.c5c6a05d3243113addb2f7a699443187.jpg\n",
            "9583965_jpg.rf.1c19963306132b33b3e29531ce375b9c.jpg\n",
            "9583966_jpg.rf.f41e558b6af7bb79f69b8a83982afd9a.jpg\n",
            "9583967_jpg.rf.b67497a992f7484711e0b71631118c68.jpg\n",
            "9583968_jpg.rf.2c2a9bb2b50c4b185ae414503e4f183f.jpg\n",
            "9583969_jpg.rf.cce8220250ab72b877bd1e48182a7f20.jpg\n",
            "9583970_jpg.rf.528757a81be109ae7f829b2e17ef35dd.jpg\n",
            "9583971_jpg.rf.9cc6d678e0f6dc120a031e7b21a38d3c.jpg\n",
            "9583972_jpg.rf.e12868ef3e46c93cf6e903432463801e.jpg\n",
            "9583973_jpg.rf.1f8b6ab01e6c945be9c568a059f1cfdd.jpg\n",
            "9583974_jpg.rf.1acc1694b7d6e2e1e163732890a78926.jpg\n",
            "9583975_jpg.rf.2028777bd34fdbd576b2520cdbf6cb7c.jpg\n",
            "9583976_jpg.rf.3a16c884b9af5891c202c91b2e5c5d69.jpg\n",
            "9583977_jpg.rf.9238e56bcff7ad2ba012f747acf4d633.jpg\n",
            "9583978_jpg.rf.9e3ffd531189269b0129b47e5a7f4659.jpg\n",
            "9583979_jpg.rf.c0ab1608a35f3d62ea09b732be5d3501.jpg\n",
            "9583980_jpg.rf.460c531a9215d65e35eba7b32065ecab.jpg\n",
            "9583981_jpg.rf.e4016f18a442958b053ab7cea42033a2.jpg\n",
            "9583982_jpg.rf.9ecb49f884ebbdfba956b132bea223e8.jpg\n",
            "9583983_jpg.rf.dce37ee0980b585170339fe82a6d9542.jpg\n",
            "9583984_jpg.rf.c6f1039bc97f5ecfc149fe288dbf7b1f.jpg\n",
            "9583985_jpg.rf.ea7f93c6bb4f877f9368ee17d35ba9e8.jpg\n",
            "9583986_jpg.rf.376eeded21c6ab19b7ad36c6a10c77dc.jpg\n",
            "9583987_jpg.rf.f11ac9cb99636453a7e97b1b72152bb0.jpg\n",
            "9583988_jpg.rf.7b329463b3f5899caea2d997fdd2fc7a.jpg\n",
            "9583989_jpg.rf.b2e36d16dd34a0b88365cf1039c888b0.jpg\n",
            "9583990_jpg.rf.cf510cd4a5e56afd5797dcefd6f408b9.jpg\n",
            "9583992_jpg.rf.fe95666598e94e1bd3fbd4828f08ca99.jpg\n",
            "9583993_jpg.rf.d8c81375ab1b7960197d5349436a4710.jpg\n",
            "9583994_jpg.rf.d41532788e8a5f62cfad43dda8775a68.jpg\n",
            "9583995_jpg.rf.f8e9f203827dd0cd405eedecd175560a.jpg\n",
            "9583996_jpg.rf.02e8539f36b2d30f2eadbc7caad8a028.jpg\n",
            "9583998_jpg.rf.83d58eb029fde55009429ec3576c1c9f.jpg\n",
            "9583999_jpg.rf.ae98097e4db67e7c0a228bed9647d58e.jpg\n",
            "9584000_jpg.rf.fcf2abb02f20f1ed3898491ae7a41468.jpg\n",
            "9584001_jpg.rf.493dfac23c8f76ba3450e7e5d4affdc3.jpg\n",
            "9584002_jpg.rf.e1ca25320fdacc944aaf267a4cdff91a.jpg\n",
            "9584003_jpg.rf.56c7f9cc37ea2b6fe7866a24ad17735b.jpg\n",
            "9584004_jpg.rf.23644869515126a9c59c78a5b3691f2b.jpg\n",
            "9584005_jpg.rf.300986dbedf6dd182f204585b7b3ac45.jpg\n",
            "9584006_jpg.rf.02935ab0b19e9ca6b178706c90059fcb.jpg\n",
            "9584008_jpg.rf.facfea2e75d90fd7544234f12c1c626e.jpg\n",
            "9584009_jpg.rf.8d148fb86eaaa045401c2be20b82b54d.jpg\n",
            "9584010_jpg.rf.32534c1418badd4d3bf259a6e0064658.jpg\n",
            "9584011_jpg.rf.142804fbfc360ff27137abc1da4c1c45.jpg\n",
            "9584012_jpg.rf.e19acf539514ca15ba7745795256bd52.jpg\n",
            "9584013_jpg.rf.662efb5e402c8afa3c89b24c8fbdf765.jpg\n",
            "9584014_jpg.rf.0f90aa605446f65b3f95b21c88830016.jpg\n",
            "9584015_jpg.rf.01e89e25f0a3a67a72ada0bcc5f5a978.jpg\n",
            "9584016_jpg.rf.53b5d8b60fa22a889b6f80aeeed97bb3.jpg\n",
            "9584017_jpg.rf.556592299254f13c815dbe87da3e3ed7.jpg\n",
            "9584018_jpg.rf.32ae3903b4aac7b6dc19c86cca1a1e85.jpg\n",
            "9584020_jpg.rf.b97a7a17326e512d60abe985cd91ae89.jpg\n",
            "9584021_jpg.rf.8bcc05fd9990ef1576bfb026ae395d4a.jpg\n",
            "9584022_jpg.rf.bab9f570d0a58fca50b49144bbafae1c.jpg\n",
            "9584023_jpg.rf.3bbafdd9ca977a39e82885f343137465.jpg\n",
            "9584024_jpg.rf.5ab317ac9bff25609d7205e0d10afdbe.jpg\n",
            "9584025_jpg.rf.fac95696a51f932f2d50d11bf8a5f49d.jpg\n",
            "9584026_jpg.rf.6fe830ef1fad82c6a1af8700d691a328.jpg\n",
            "9584027_jpg.rf.eb6876d3451c65e49f3991c5dfe85296.jpg\n",
            "9584028_jpg.rf.d9015a24ac76613200a4619906dc1fd1.jpg\n",
            "9584029_jpg.rf.347fa3d093806d65e5ab1478d939eeb4.jpg\n",
            "9584030_jpg.rf.e13d930ffd20d7eb99d821d4a9c476b3.jpg\n",
            "9584031_jpg.rf.5c32d00b0b451eb74c117abf6017e52b.jpg\n",
            "9584032_jpg.rf.224fb4c56ed5e145d383c7eb2a1416b0.jpg\n",
            "9584033_jpg.rf.0c8e9979cd520fd538afb075cda578bc.jpg\n",
            "9584034_jpg.rf.1dc692c1507e874f29f522b33552dbac.jpg\n",
            "9584035_jpg.rf.630e25f510d29cb9f4441102f18d9cca.jpg\n",
            "9584036_jpg.rf.35cdc294642ca25a74d733fa08e7edb8.jpg\n",
            "9584038_jpg.rf.cc5ce0c22cbcb6fc5869c8cd2ec9a316.jpg\n",
            "9584039_jpg.rf.d15e97f6c5ba6216efae91bc255d1d19.jpg\n",
            "9584040_jpg.rf.ed32218f1c1d4b709fbafbbf0b8da175.jpg\n",
            "9584041_jpg.rf.5fc0765156bd48fdd4f80a7ceac97828.jpg\n",
            "9584042_jpg.rf.f31792acfbf16f70911f1c1d23b67f38.jpg\n",
            "9584043_jpg.rf.b8f785e33d267eac6cb7c893047cb21f.jpg\n",
            "9584045_jpg.rf.a1d768d822eb8fa68480b88e50b2822f.jpg\n",
            "9584046_jpg.rf.e66150078b2a85ff439947f357e797f7.jpg\n",
            "9584047_jpg.rf.757a8fe0fc80ed263e75593dc7ace9ca.jpg\n",
            "9584048_jpg.rf.4983510abfa1ea07f1ee0cc0ffd3b28b.jpg\n",
            "9584049_jpg.rf.d895eb2caf66672de9d69282bf8715dc.jpg\n",
            "9584050_jpg.rf.4a78a1a88f84cdc4b8141d4c82063151.jpg\n",
            "9584051_jpg.rf.55948171161c93086b7711bdfe4afcf1.jpg\n",
            "9584052_jpg.rf.d6f2524a401cb3327e96da4231fbfaf8.jpg\n",
            "9584053_jpg.rf.4ace9e75ce5bd36769f5491ec9d118f2.jpg\n",
            "9584054_jpg.rf.aed100756023e0cadcf7b119cc9258c5.jpg\n",
            "9584056_jpg.rf.3ef162f38dbc9b09d4dbf1ff089fceb9.jpg\n",
            "9584058_jpg.rf.1411b1d56adfd9f6c201154a653ba148.jpg\n",
            "9584059_jpg.rf.6f641d47cbedaff0530989d456722dca.jpg\n",
            "9584060_jpg.rf.bb958d6aca6eb13af6baaafdc7653a28.jpg\n",
            "9584061_jpg.rf.ba2e9a8783b7ccdc58229a1914434168.jpg\n",
            "9584063_jpg.rf.e8ad27be4ebe4bc775795238eb73ed8d.jpg\n",
            "9584064_jpg.rf.cf03cfc46924fc324a2530c31b63ec15.jpg\n",
            "9584065_jpg.rf.fddb1903df3af2039523265a8af5a341.jpg\n",
            "9584066_jpg.rf.8f9e5101e9f7a080ed94d65566ac41cb.jpg\n",
            "9584067_jpg.rf.71637d4f37e851095c5a0aed11d32349.jpg\n",
            "9584068_jpg.rf.8d8a5ca59a8ebe7ea3151b79f3a7da9e.jpg\n",
            "9584069_jpg.rf.36806f77cc7fd4836cf6f4491b93b6be.jpg\n",
            "9584070_jpg.rf.c3c9d8ba86f60d83a03563bdce98880f.jpg\n",
            "9584071_jpg.rf.783d91ffc7545cff3be2e363343d1179.jpg\n",
            "95_jpg.rf.8d8b6c77c991b8ffd7a58111387023bc.jpg\n",
            "95_jpg.rf.f962cbbbd7dab9e13ea0596687fdd9e8.jpg\n",
            "96_jpg.rf.02520f1ef1a1b28d7cc4399b12098f5b.jpg\n",
            "96_jpg.rf.2cb4cd47ad44a59794bd9843e053ab92.jpg\n",
            "97_jpg.rf.1a524d13ddb40c5996122e4ab44562bf.jpg\n",
            "97_jpg.rf.c9108fb1268aea9988bb964e4678fa05.jpg\n",
            "98_jpg.rf.bab6071588b67ad4a0386df4b1662631.jpg\n",
            "98_jpg.rf.e0688f4120522b62bff827c2d8614b49.jpg\n",
            "99_jpg.rf.21a21358cd231803b4f315b43c1cff46.jpg\n",
            "99_jpg.rf.67b9a59dd2686c2c284a675cc6dfa6f4.jpg\n",
            "9_jpg.rf.145cb64d48fe9daa3cbef8622f1217ed.jpg\n",
            "9_jpg.rf.6ff5e371b0b50437d61de129065640c7.jpg\n",
            "_annotations.coco.json\n",
            "109_jpg.rf.7003cbc051dac74e81e7ab5d05de5c39.jpg\n",
            "114_jpg.rf.7ec2d146fad6b6272c570adad306eaca.jpg\n",
            "126_jpg.rf.eb8612cb8d3dab1a82db6bd7566d890d.jpg\n",
            "13_jpg.rf.ab3581f18a9ca0d595b92572a83e61b9.jpg\n",
            "140_jpg.rf.6322830a9467417c6338ad12b6b3c5b1.jpg\n",
            "143_jpg.rf.8f92d40dca8b47dc0c14022bcd824c4c.jpg\n",
            "151_jpg.rf.20df23e3c5b423b4d3a2d1e660090e81.jpg\n",
            "151_jpg.rf.6d44b5cafa1525577499881bd6547fe2.jpg\n",
            "154_jpg.rf.58753dc297f06583fcd9092077ec0006.jpg\n",
            "155_jpg.rf.4e55456922585b760c0d0250e66b5158.jpg\n",
            "156_jpg.rf.86635afa0db80b9c4d61d91e83d8d16a.jpg\n",
            "164_jpg.rf.70f9919e072304db04bfd1c0b5b880bd.jpg\n",
            "169_jpg.rf.d06f9e65708503aa6fef7150efa47605.jpg\n",
            "170_jpg.rf.ef9e6ebdf122d56e3581a7026a11506e.jpg\n",
            "178_jpg.rf.e573e95c6e275cfa84a57d9329f87134.jpg\n",
            "179_jpg.rf.8fa67a57eed42d7e0650544d0a45ad0a.jpg\n",
            "195_jpg.rf.60fc8bb9f96f195ddafc3fa749c6a33a.jpg\n",
            "196_jpg.rf.41c3d59c183808ce742bc4dcb28daf88.jpg\n",
            "19_jpg.rf.400b5f4db826dd54779af01b10ac5317.jpg\n",
            "1_jpg.rf.227fb4169a348789cbb9bad395867264.jpg\n",
            "207_jpg.rf.68ce800dc1f342bec938cab62ed937c3.jpg\n",
            "209_jpg.rf.18b3b6f3a3d010022b9580ce6496d41f.jpg\n",
            "210_jpg.rf.4c90cecb18339843d47dccff06115df9.jpg\n",
            "21_jpg.rf.f1239a1db7efa1ecb0b9921441800c21.jpg\n",
            "220_jpg.rf.23c6676cb97bf6d2178f48edc32a282b.jpg\n",
            "223_jpg.rf.3618aee608fb5baa23bb01222360c8b1.jpg\n",
            "226_jpg.rf.d7104a3d7793fc88463f318d978f0dd1.jpg\n",
            "22_jpg.rf.b231341e7aa328d9048bfc1b5dd7ff08.jpg\n",
            "232_jpg.rf.0472b27a87d3732590e095305929b90a.jpg\n",
            "249_jpg.rf.c1c1a410e3396dcb59cae3a14929e55a.jpg\n",
            "250_jpg.rf.12af44290b317dde68285a5bc570ebb7.jpg\n",
            "252_jpg.rf.4e79e7498f1b0a1035fca7da78b28e62.jpg\n",
            "252_jpg.rf.735f033cb99c55434ed189e3ae77e9f5.jpg\n",
            "253_jpg.rf.32632d4efc36717a7811144d3c5799c9.jpg\n",
            "25_jpg.rf.7173571dea8547282647032f9816e633.jpg\n",
            "260_jpg.rf.f622c6c81f4c59660deeac396d2f4125.jpg\n",
            "261_jpg.rf.f5dcd900ff3fae9da24d9b809920f9ab.jpg\n",
            "269_jpg.rf.abcaa714e214eb002d0714235f4d947e.jpg\n",
            "26_jpg.rf.117762c1b28f2bb0cabafc7e82d61363.jpg\n",
            "276_jpg.rf.a33ea971ae76e1cfb57bc1160bd5004f.jpg\n",
            "284_jpg.rf.057e13d54af2f8b621430b0dde101f18.jpg\n",
            "299_jpg.rf.1f74e72c5a3cac998e3b3fb28ae59ddd.jpg\n",
            "2_jpg.rf.feed2dbf2d22be0565a25f3dec293ae9.jpg\n",
            "308_jpg.rf.fd37913030af47513864419893305675.jpg\n",
            "310_jpg.rf.2e1f9b1bf3e43b3ae5b6b8b1fbe559ce.jpg\n",
            "312_jpg.rf.c56c68eea174f3a574c06defab4d8c91.jpg\n",
            "31_jpg.rf.ff483bbe537778282582b9483acd9a99.jpg\n",
            "321_jpg.rf.25f0b464d3f8fcc3285cf7a473575b9a.jpg\n",
            "32438962_jpg.rf.c4ba6cd457b5aaddf9f6092039c1bbe8.jpg\n",
            "32438963_jpg.rf.5b54453f7dd13b9fdc652ff974ad0877.jpg\n",
            "32438967_jpg.rf.26ff86175fab2b3a81706ce9df8dcb15.jpg\n",
            "32438968_jpg.rf.d9277cf95d85fd2235f12f1dfe080acf.jpg\n",
            "32438970_jpg.rf.ebb44ecb00fb5ccd57b4f219135bc840.jpg\n",
            "32439003_jpg.rf.402c11a49bd882c12c3675ca252fd6df.jpg\n",
            "32439005_jpg.rf.c4e92473519c2f0dfd623b79892a942f.jpg\n",
            "32439022_jpg.rf.87f8f71d6361847c032bb4cdd27cfbc0.jpg\n",
            "32439041_jpg.rf.c4a07ad9c18e632da10c050820940b3e.jpg\n",
            "32439045_jpg.rf.758ed833cf99ceb6a911e9fd0a19f825.jpg\n",
            "32439048_jpg.rf.09b4ca7588f113a64aeffea50ad6ed76.jpg\n",
            "32439049_jpg.rf.2acb11dfadbab4c5c737749971939f61.jpg\n",
            "32439051_jpg.rf.32c6a829606f41a4169957a613117a40.jpg\n",
            "32439062_jpg.rf.0e96f39a7edd691d216f3dd6aedd3d8d.jpg\n",
            "32439066_jpg.rf.023e54d61eb2866ca377c14ecc8f5f7f.jpg\n",
            "32439067_jpg.rf.79dc1fb75bfe0d8d0ffa900f1bcfa41c.jpg\n",
            "32439068_jpg.rf.871c03f9d57d57e75c500c4cbca7d81d.jpg\n",
            "32439085_jpg.rf.a8b281155231c80e2f5a3f0f46d90240.jpg\n",
            "32439088_jpg.rf.b7fe2b11e47a959b912a441f923080cf.jpg\n",
            "32439109_jpg.rf.f3e441c2fe2a703893fa69725fd9f9c7.jpg\n",
            "32439115_jpg.rf.9cc2c51843cfe976160883d83717c972.jpg\n",
            "32439132_jpg.rf.fa69dd0fed96f0db0e598e9424c54db1.jpg\n",
            "32439134_jpg.rf.0c69988c75d79bcfdf1274dee41b9444.jpg\n",
            "32439140_jpg.rf.1edde1141b6e0b99473bf44a35d2d673.jpg\n",
            "32439142_jpg.rf.9f8936230457234df8f1743ba9dceb89.jpg\n",
            "32439186_jpg.rf.d44401edb758a5f260ab443f0f44499d.jpg\n",
            "32439188_jpg.rf.4b850af80f7fff5c88c50b1aff0b9aa1.jpg\n",
            "32439228_jpg.rf.8c0a15800391248aa9b45f5551b5c8ce.jpg\n",
            "32439235_jpg.rf.47c7b2149bb6fc4afc67d11914efd0ca.jpg\n",
            "32439262_jpg.rf.37d5d364792c9a2dfa2db370b839093f.jpg\n",
            "32439270_jpg.rf.a019962ed662a5342096fcd9ffc77840.jpg\n",
            "32439272_jpg.rf.0a50132eb509dfdaebfa314e38c583bc.jpg\n",
            "32439273_jpg.rf.06632a5500e8745bb7428b5e6b3fba95.jpg\n",
            "32439281_jpg.rf.4ea19b63c09266892306cd73424cd351.jpg\n",
            "32439290_jpg.rf.f148055dcdaeaa3d498864c4495d6049.jpg\n",
            "32439299_jpg.rf.2d76549ec0394ad3ed13d99268b1d283.jpg\n",
            "32439300_jpg.rf.b599662c53edf523917631e67d5c6f40.jpg\n",
            "32439309_jpg.rf.20eb7e6446885f50df7342b74398999d.jpg\n",
            "32439319_jpg.rf.60207ebdc99c0db42602802051b74a68.jpg\n",
            "324_jpg.rf.cd9ca78a84e698aeadf4c156a1a3af5c.jpg\n",
            "330_jpg.rf.9816a3c74c4dd17edde65ff78c43ec8c.jpg\n",
            "333_jpg.rf.30acd4528aa3899aa5c4ff33b989a79d.jpg\n",
            "334_jpg.rf.04e4c76a95c7036fe411cea4a28c1112.jpg\n",
            "337_jpg.rf.bbd91451618cfc083ff07082c4357e49.jpg\n",
            "348_jpg.rf.f9e8fb0d00dfa895c824e28acadc8f52.jpg\n",
            "356_jpg.rf.ce6eda92537fd5f2af26020b9ccd537d.jpg\n",
            "357_jpg.rf.639cc7cf902d097108832d14b79392de.jpg\n",
            "362_jpg.rf.9696352f82f36c994baae6eecedc808e.jpg\n",
            "362_jpg.rf.b6bb4f33ccbe94b6706f90bc587832c1.jpg\n",
            "365_jpg.rf.0b9c272a58a4512baf89bafdcbb33d64.jpg\n",
            "365_jpg.rf.cca985288ccfa2addf3e61edb60e8f94.jpg\n",
            "369_jpg.rf.09255ce2c9599f705e185f8492bc28b6.jpg\n",
            "379_jpg.rf.dedaca5cf7fc0a5d7100286f2c1c4e75.jpg\n",
            "387_jpg.rf.3063f0c96f14366bcfc0c3562a7ab7c3.jpg\n",
            "3_jpg.rf.ab526c3431f8667a1dad3b1fe30cf84c.jpg\n",
            "401_jpg.rf.4eddb74792397c4098c2357c9b48fc2c.jpg\n",
            "402_jpg.rf.6324adad8fa1a57a2612263b541253ec.jpg\n",
            "403_jpg.rf.cf19adc6e3742c3eabe4eb6b76c68696.jpg\n",
            "405_jpg.rf.72cc3c33a9bba71d1ad3931547dda54e.jpg\n",
            "40_jpg.rf.b9fb2ff376af9520df69b1e75dff552f.jpg\n",
            "42_jpg.rf.70e4da2e1123958beffba38a1a9ae8b8.jpg\n",
            "444_jpg.rf.ef5f9e4a6fb95438271b7779371b6941.jpg\n",
            "446_jpg.rf.67b9e506600b8ac7c5bc7b6db5bc5735.jpg\n",
            "446_jpg.rf.93e2fb63e97f069105812b8dcd0dee09.jpg\n",
            "449_jpg.rf.48bce933d2586ab56df009d9182cdae5.jpg\n",
            "458_jpg.rf.89845f916be1f22f5addc08b8046ecd2.jpg\n",
            "464_jpg.rf.eb23fadc73785431df53191829dbeabe.jpg\n",
            "465_jpg.rf.5edaf33b643c559fef31283291651fbd.jpg\n",
            "465_jpg.rf.a7e210103b088875d37bddea0f2156f4.jpg\n",
            "46_jpg.rf.2ea9aced6977928206a6724c909e9f2b.jpg\n",
            "487_jpg.rf.3316d94818a36eed8d91204d4f0990e7.jpg\n",
            "488_jpg.rf.b1424a76fc33ee60106c41a075cf3338.jpg\n",
            "48_jpg.rf.5481ed0a1e23c8adb05ce12cd45ef3a4.jpg\n",
            "502_jpg.rf.4928e5a997819d329743ada4f754b4ce.jpg\n",
            "505_jpg.rf.c60fab8f03fcc41531e0c2f4507221cf.jpg\n",
            "507_jpg.rf.b3ce42fd34500b368a80a5cbfbd6c362.jpg\n",
            "50_jpg.rf.d32866b961b9a3da4ceb5c2e66c57bce.jpg\n",
            "512_jpg.rf.850e5845a7fcf77b481a4532961654a9.jpg\n",
            "51_jpg.rf.4640dfa8e13cdb332f0c60660b16b7be.jpg\n",
            "520_jpg.rf.a8f3a93dc3cebfecb8643ee8adae0ece.jpg\n",
            "52_jpg.rf.d55776b18940bd87cfd794a3b445b413.jpg\n",
            "534_jpg.rf.d9a8729915e0dd3c7197b7abc2d7db8a.jpg\n",
            "538_jpg.rf.f82b7a85cffad2922f0b4fd5773a9354.jpg\n",
            "546_jpg.rf.47e41a91d7ea520b7f15b3cb1cd68e18.jpg\n",
            "54_jpg.rf.7d7008a27ac887193f4e2703ccf1ebc2.jpg\n",
            "551_jpg.rf.a1e663a6e944809b0549e09314cc4313.jpg\n",
            "555_jpg.rf.263ba950d887263fb148c989bae62ae5.jpg\n",
            "558_jpg.rf.3db0a6e439223efff49c2a3cc6295442.jpg\n",
            "559_jpg.rf.e3aabba8d2c57dbd9c355404d9b9ea7d.jpg\n",
            "566_jpg.rf.22b1280414cd4b55407cf7f43c3f67f6.jpg\n",
            "572_jpg.rf.6cabb2c2fa9ff76625593605aa760f8d.jpg\n",
            "572_jpg.rf.f1457ebcc8ce1659910ff40bf10c33b1.jpg\n",
            "577_jpg.rf.d90c2c075e2b48a438ce824d852f0774.jpg\n",
            "578_jpg.rf.73e6f7c109d1c6c04ed469b9e1db4f00.jpg\n",
            "579_jpg.rf.8c1e0a8780bda7ec0eebff4f009640c0.jpg\n",
            "581_jpg.rf.e3da7e52d23eee31432ddba795c97d3a.jpg\n",
            "587_jpg.rf.a6c0dfad5f9b54f86204f47bb4d69199.jpg\n",
            "593_jpg.rf.cfeecf1340bfdfdb6ebe664f2d770866.jpg\n",
            "594_jpg.rf.a14b58e75909946ed6d94226ab64ca55.jpg\n",
            "595_jpg.rf.0ef3b5a6c3b779553b95971d7bbc7239.jpg\n",
            "61_jpg.rf.b171e377330ea7b8d1f56f2047fe763b.jpg\n",
            "65_jpg.rf.a14d5af63a0556eeb740d7d0d8f617e2.jpg\n",
            "74_jpg.rf.b896471a2edf0e786ca0f35af89a0ceb.jpg\n",
            "75_jpg.rf.fecf64b4aabc1106a42710820a6fc046.jpg\n",
            "77_jpg.rf.29cd372e16cd3589a9e2a9d77f143024.jpg\n",
            "77_jpg.rf.c7158e3e8499098bf3cdd265df6b6657.jpg\n",
            "83_jpg.rf.54c22d900ab8f19389b3eed250041df5.jpg\n",
            "87_jpg.rf.ab166447b49eaaeb17d93eb73ccca80e.jpg\n",
            "89_jpg.rf.70ff12de2cf3820813df3f16c6a2ea49.jpg\n",
            "9583562_jpg.rf.95095ca9daafa554561a37247abecc86.jpg\n",
            "9583563_jpg.rf.fae6bae27f2ffdbfdeb06365c01335af.jpg\n",
            "9583576_jpg.rf.d8642a49ef68165432413628879bf3f8.jpg\n",
            "9583579_jpg.rf.0ab039c98161de8440e6878421b644d7.jpg\n",
            "9583580_jpg.rf.728927e44bcd09cbd564108786cf40f2.jpg\n",
            "9583610_jpg.rf.34eb05df5529ecd5879260a4ef614749.jpg\n",
            "9583612_jpg.rf.7fb0a81429ebcf16a100e4c5421a3fb2.jpg\n",
            "9583622_jpg.rf.dc3f450b882446de3b2be8e221aefa33.jpg\n",
            "9583624_jpg.rf.0dfc206d3ce92a135a58512381e2c9b7.jpg\n",
            "9583637_jpg.rf.26840b677d5a25df570c6d720a6d0fd6.jpg\n",
            "9583638_jpg.rf.e83ec81401435fa8df19f2adaa93b98a.jpg\n",
            "9583640_jpg.rf.bffd05641116190f602517f55c0f36b5.jpg\n",
            "9583668_jpg.rf.6ef1fe9c1387787ba1a1f2dc01e9e020.jpg\n",
            "9583680_jpg.rf.1a43536657d6c2da0cea135a6c9982e3.jpg\n",
            "9583697_jpg.rf.d0b94d669b47560edb922b74e8ecf160.jpg\n",
            "9583722_jpg.rf.0a895ec5dd610519951893af00ab47a2.jpg\n",
            "9583733_jpg.rf.2a8b1614854cf9881e9cfdc06274b2bd.jpg\n",
            "9583735_jpg.rf.83682e4a527e687fb26f90c730d68321.jpg\n",
            "9583754_jpg.rf.249deb9d9e53cb7ec24ce4e3b4fb00f9.jpg\n",
            "9583789_jpg.rf.8a44915ecb4234780c256a45f6154f73.jpg\n",
            "9583794_jpg.rf.4d84c7c4f394527764b496992334e32e.jpg\n",
            "9583800_jpg.rf.ee8d52821ff4dcd0a989fb6c7da26276.jpg\n",
            "9583809_jpg.rf.c11a87106627111472dc7c269bd6bdce.jpg\n",
            "9583814_jpg.rf.735449ac06b9819ee6b9e6255b84baea.jpg\n",
            "9583821_jpg.rf.a8eb650129a35c67347a35db89778126.jpg\n",
            "9583828_jpg.rf.05f343af8ed6e74ec7156c4c843272b8.jpg\n",
            "9583832_jpg.rf.1fd8a2c6d9f6c176f5c997f8525e07b0.jpg\n",
            "9583836_jpg.rf.69d74216233c5364cf20c76bf25394f6.jpg\n",
            "9583843_jpg.rf.0957b98586fa6da44296d897cd975878.jpg\n",
            "9583849_jpg.rf.c917480bbaaa58aceb2be3f17bb7aba0.jpg\n",
            "9583857_jpg.rf.b7fc1dfbb659f6ee8848bb34a7c547c1.jpg\n",
            "9583870_jpg.rf.79eb1845ef457ac73b2d52c04164404b.jpg\n",
            "9583892_jpg.rf.423c1c3ae5fa59c33826c74c7b49daa9.jpg\n",
            "9583897_jpg.rf.1fd957e11a100a9051c1d079e30d9c84.jpg\n",
            "9583903_jpg.rf.98f0e7504e87fb9ac5f20c4e2feff530.jpg\n",
            "9583907_jpg.rf.7421ae70425296451bc692271d58d0e5.jpg\n",
            "9583919_jpg.rf.226278dff8dd152daf89cf08987aeb69.jpg\n",
            "9583921_jpg.rf.8493a0b3f7117560787c86b2fa8c6692.jpg\n",
            "9583940_jpg.rf.8aff2104328a302562c6ca3120355468.jpg\n",
            "9583942_jpg.rf.8d5f1bfaa4bf0a0e4f9ee50642ea7ebb.jpg\n",
            "9583947_jpg.rf.5e3d919c4c2e1f6d22a0e10522c4b8f4.jpg\n",
            "9583991_jpg.rf.60f55d123f0d38d892250715afb5282e.jpg\n",
            "9583997_jpg.rf.5b0e4c4a4a09ab5d3bea0a0c0353557a.jpg\n",
            "9584007_jpg.rf.f63fa579055f46b026e536bbcceaa9f3.jpg\n",
            "9584019_jpg.rf.ab79ccde539bca5223bca507e42d513d.jpg\n",
            "9584037_jpg.rf.16976a37f920f7f93430ee7366e182c6.jpg\n",
            "9584044_jpg.rf.fea5a21037ab044b13a16dcf5c2a254a.jpg\n",
            "9584055_jpg.rf.331866f506f35d8017303a59a32c2c25.jpg\n",
            "9584057_jpg.rf.e70d081b59984458d1be2867494c30e0.jpg\n",
            "9584062_jpg.rf.666dd53cfd318babd3a904b774b6ad96.jpg\n",
            "_annotations.coco.json\n"
          ]
        }
      ]
    },
    {
      "cell_type": "markdown",
      "source": [
        "#json file convert into the mask"
      ],
      "metadata": {
        "id": "s_euWkQD3iBw"
      }
    },
    {
      "cell_type": "code",
      "source": [
        "import os\n",
        "import json\n",
        "import numpy as np\n",
        "from pycocotools.coco import COCO\n",
        "from pycocotools import mask as maskUtils\n",
        "from PIL import Image\n",
        "\n",
        "def coco_to_masks(coco_json_path, images_dir, masks_dir):\n",
        "    os.makedirs(masks_dir, exist_ok=True)\n",
        "\n",
        "    coco = COCO(coco_json_path)\n",
        "    img_ids = coco.getImgIds()\n",
        "\n",
        "    for img_id in img_ids:\n",
        "        img_info = coco.loadImgs(img_id)[0]\n",
        "        img_name = img_info['file_name']\n",
        "        width, height = img_info['width'], img_info['height']\n",
        "\n",
        "        # Initialize mask image (height x width) with background 0\n",
        "        mask = np.zeros((height, width), dtype=np.uint8)\n",
        "\n",
        "        ann_ids = coco.getAnnIds(imgIds=img_id)\n",
        "        anns = coco.loadAnns(ann_ids)\n",
        "\n",
        "        for ann in anns:\n",
        "            class_id = ann['category_id']  # You may want to map category IDs if needed\n",
        "            seg = ann['segmentation']\n",
        "\n",
        "            if type(seg) == list:\n",
        "                # Polygon\n",
        "                rles = maskUtils.frPyObjects(seg, height, width)\n",
        "                rle = maskUtils.merge(rles)\n",
        "            elif type(seg['counts']) == list:\n",
        "                # Uncompressed RLE\n",
        "                rle = maskUtils.frPyObjects(seg, height, width)\n",
        "            else:\n",
        "                # RLE\n",
        "                rle = seg\n",
        "\n",
        "            m = maskUtils.decode(rle)\n",
        "            mask[m == 1] = class_id\n",
        "\n",
        "        # Save mask as PNG\n",
        "        mask_img = Image.fromarray(mask)\n",
        "        mask_filename = os.path.splitext(img_name)[0] + '.png'\n",
        "        mask_img.save(os.path.join(masks_dir, mask_filename))\n",
        "\n",
        "    print(\"Mask images saved to\", masks_dir)\n"
      ],
      "metadata": {
        "id": "vnXKUuvk7GnF"
      },
      "execution_count": null,
      "outputs": []
    },
    {
      "cell_type": "code",
      "source": [
        "#generate the train_mask\n",
        "coco_json_path = \"/content/aperi-1/train/_annotations.coco.json\"\n",
        "images_dir = \"/content/aperi-1/train\"\n",
        "masks_dir = \"/content/aperi-1/train_masks\"\n",
        "\n",
        "coco_to_masks(coco_json_path, images_dir, masks_dir)\n"
      ],
      "metadata": {
        "colab": {
          "base_uri": "https://localhost:8080/"
        },
        "id": "NNYuKece7KzR",
        "outputId": "84b89a1b-eefd-4dcf-8543-9041111492f1"
      },
      "execution_count": null,
      "outputs": [
        {
          "output_type": "stream",
          "name": "stdout",
          "text": [
            "loading annotations into memory...\n",
            "Done (t=0.28s)\n",
            "creating index...\n",
            "index created!\n",
            "Mask images saved to /content/aperi-1/train_masks\n"
          ]
        }
      ]
    },
    {
      "cell_type": "code",
      "source": [
        "#generate the valid_mask\n",
        "coco_json_path = \"/content/aperi-1/valid/_annotations.coco.json\"\n",
        "images_dir = \"/content/aperi-1/valid\"\n",
        "masks_dir = \"/content/aperi-1/valid_masks\"\n",
        "\n",
        "coco_to_masks(coco_json_path, images_dir, masks_dir)\n"
      ],
      "metadata": {
        "colab": {
          "base_uri": "https://localhost:8080/"
        },
        "id": "SbUibDh_7mD7",
        "outputId": "f2cfa4af-d757-4ac2-ed9e-db370bb5a5e1"
      },
      "execution_count": null,
      "outputs": [
        {
          "output_type": "stream",
          "name": "stdout",
          "text": [
            "loading annotations into memory...\n",
            "Done (t=0.03s)\n",
            "creating index...\n",
            "index created!\n",
            "Mask images saved to /content/aperi-1/valid_masks\n"
          ]
        }
      ]
    },
    {
      "cell_type": "markdown",
      "source": [
        "#"
      ],
      "metadata": {
        "id": "vJVGsPh08MIv"
      }
    },
    {
      "cell_type": "code",
      "source": [
        "import os\n",
        "\n",
        "image_dir = \"/content/aperi-1/train\"\n",
        "mask_dir = \"/content/aperi-1/train_masks\"  # assuming masks are here too\n",
        "\n",
        "# List image and mask files\n",
        "image_files = sorted([f for f in os.listdir(image_dir) if f.endswith('.jpg')])\n",
        "mask_files = sorted([f for f in os.listdir(mask_dir) if f.endswith('.png')])\n",
        "\n",
        "print(\"Images:\", image_files[:5])\n",
        "print(\"Masks:\", mask_files[:5])\n"
      ],
      "metadata": {
        "colab": {
          "base_uri": "https://localhost:8080/"
        },
        "id": "MF1cpesn6hc-",
        "outputId": "8eef34ef-68f6-4fc3-d5d8-6e872e9331a5"
      },
      "execution_count": null,
      "outputs": [
        {
          "output_type": "stream",
          "name": "stdout",
          "text": [
            "Images: ['100_jpg.rf.34e54dff0f77c9f6e5685b037353fd46.jpg', '100_jpg.rf.3563e64a053a73cd5e264315f4bcd829.jpg', '101_jpg.rf.34cfb18c3b156a642b2695659cf58d0d.jpg', '101_jpg.rf.845d3e8914bce0d40f36ab701158e097.jpg', '102_jpg.rf.94ab5b6bf26990c2f403501ebe8678f3.jpg']\n",
            "Masks: ['100_jpg.rf.34e54dff0f77c9f6e5685b037353fd46.png', '100_jpg.rf.3563e64a053a73cd5e264315f4bcd829.png', '101_jpg.rf.34cfb18c3b156a642b2695659cf58d0d.png', '101_jpg.rf.845d3e8914bce0d40f36ab701158e097.png', '102_jpg.rf.94ab5b6bf26990c2f403501ebe8678f3.png']\n"
          ]
        }
      ]
    },
    {
      "cell_type": "code",
      "source": [
        "import os\n",
        "\n",
        "image_dir = '/content/aperi-1/train'\n",
        "mask_dir = '/content/aperi-1/train_masks'\n",
        "\n",
        "images = sorted(os.listdir(image_dir))\n",
        "masks = sorted(os.listdir(mask_dir))\n",
        "\n",
        "print(f\"Number of images: {len(images)}\")\n",
        "print(f\"Number of masks: {len(masks)}\")\n"
      ],
      "metadata": {
        "colab": {
          "base_uri": "https://localhost:8080/"
        },
        "id": "iuZKwPn1-Qyq",
        "outputId": "31659a67-d82e-4d1b-ca56-0987b84995cc"
      },
      "execution_count": null,
      "outputs": [
        {
          "output_type": "stream",
          "name": "stdout",
          "text": [
            "Number of images: 1861\n",
            "Number of masks: 1860\n"
          ]
        }
      ]
    },
    {
      "cell_type": "code",
      "source": [
        "# to check which images does not have the mask\n",
        "import os\n",
        "\n",
        "image_dir = '/content/aperi-1/train'\n",
        "mask_dir = '/content/aperi-1/train_masks'\n",
        "\n",
        "images = sorted(os.listdir(image_dir))\n",
        "masks = sorted(os.listdir(mask_dir))\n",
        "\n",
        "image_basenames = set(os.path.splitext(f)[0] for f in images)\n",
        "mask_basenames = set(os.path.splitext(f)[0] for f in masks)\n",
        "\n",
        "missing_masks = image_basenames - mask_basenames\n",
        "print(\"Images missing masks:\", missing_masks)\n"
      ],
      "metadata": {
        "colab": {
          "base_uri": "https://localhost:8080/"
        },
        "id": "ddWYmrJf-csx",
        "outputId": "19e04ad4-ba45-4bf1-99a9-006328589318"
      },
      "execution_count": null,
      "outputs": [
        {
          "output_type": "stream",
          "name": "stdout",
          "text": [
            "Images missing masks: {'_annotations.coco'}\n"
          ]
        }
      ]
    },
    {
      "cell_type": "code",
      "source": [
        "#Remove or move the _annotations.coco file from the masks folder\n",
        "!rm /content/aperi-1/train_masks/_annotations.coco\n"
      ],
      "metadata": {
        "colab": {
          "base_uri": "https://localhost:8080/"
        },
        "id": "sXyfN8BC-zoo",
        "outputId": "d79baa37-0353-415e-fb0b-e19a8e126314"
      },
      "execution_count": null,
      "outputs": [
        {
          "output_type": "stream",
          "name": "stdout",
          "text": [
            "rm: cannot remove '/content/aperi-1/train_masks/_annotations.coco': No such file or directory\n"
          ]
        }
      ]
    },
    {
      "cell_type": "code",
      "source": [
        "# after removing or replacing another place dataset checking\n",
        "import os\n",
        "\n",
        "image_dir = '/content/aperi-1/train'\n",
        "mask_dir = '/content/aperi-1/train_masks'\n",
        "\n",
        "images = sorted(os.listdir(image_dir))\n",
        "masks = sorted(os.listdir(mask_dir))\n",
        "\n",
        "image_basenames = set(os.path.splitext(f)[0] for f in images)\n",
        "mask_basenames = set(os.path.splitext(f)[0] for f in masks)\n",
        "\n",
        "missing_masks = image_basenames - mask_basenames\n",
        "print(\"Images missing masks:\", missing_masks)"
      ],
      "metadata": {
        "colab": {
          "base_uri": "https://localhost:8080/"
        },
        "id": "A0AEbhF--zrI",
        "outputId": "dee412e3-5095-4878-faee-a19df1d70418"
      },
      "execution_count": null,
      "outputs": [
        {
          "output_type": "stream",
          "name": "stdout",
          "text": [
            "Images missing masks: {'_annotations.coco'}\n"
          ]
        }
      ]
    },
    {
      "cell_type": "code",
      "source": [
        "#After removing checking the length of train and train_masks are equal\n",
        "import os\n",
        "\n",
        "image_dir = '/content/aperi-1/train'\n",
        "mask_dir = '/content/aperi-1/train_masks'\n",
        "\n",
        "images = [f for f in os.listdir(image_dir) if f.lower().endswith(('.png', '.jpg', '.jpeg'))]\n",
        "masks = [f for f in os.listdir(mask_dir) if f.lower().endswith(('.png', '.jpg', '.jpeg'))]\n",
        "\n",
        "print(f\"Number of images: {len(images)}\")\n",
        "print(f\"Number of masks: {len(masks)}\")\n",
        "\n",
        "missing_masks = set(images) - set(masks)\n",
        "if missing_masks:\n",
        "    print(f\"Images missing masks: {missing_masks}\")\n",
        "else:\n",
        "    print(\"All images have corresponding masks!\")\n"
      ],
      "metadata": {
        "colab": {
          "base_uri": "https://localhost:8080/"
        },
        "id": "n9sKMli8-zun",
        "outputId": "7c89b6ab-6895-40d5-c240-48ab11933502"
      },
      "execution_count": null,
      "outputs": [
        {
          "output_type": "stream",
          "name": "stdout",
          "text": [
            "Number of images: 1860\n",
            "Number of masks: 1860\n",
            "Images missing masks: {'32439314_jpg.rf.3d26367dd9c30a8610277d4e3fdeab72.jpg', '366_jpg.rf.19cb029a5a692fcd5cf3550edcd6ba31.jpg', '389_jpg.rf.50b1be3b24086f08d56fb80924a61994.jpg', '9583938_jpg.rf.2d6b11e36cdc51ef4030fdd18a842e2b.jpg', '32439103_jpg.rf.d2bacbeb01636f6769353e213f8f0950.jpg', '482_jpg.rf.1f4499863d0f2e9cb70967ba38018644.jpg', '237_jpg.rf.beeaea56b5b45b2408a82ad570a408c6.jpg', '9583759_jpg.rf.ab4d580ec60331979f31644719199964.jpg', '18_jpg.rf.c671df4d94280c4ed32cebf25ca5bd2c.jpg', '320_jpg.rf.19fba69645bf3e53417114e9289856a9.jpg', '32439082_jpg.rf.0deebc7f5c11a18ec4972841d86f369f.jpg', '487_jpg.rf.2a5fec1b3ce9e8792479dc0efc9b26c4.jpg', '101_jpg.rf.845d3e8914bce0d40f36ab701158e097.jpg', '32439017_jpg.rf.3eef4c29a0229b7dcd688b2faccec619.jpg', '56_jpg.rf.34e70ae849308c5bdeaf79311332bc84.jpg', '306_jpg.rf.960962950d3e34584c5ef2c395d43738.jpg', '493_jpg.rf.27a3bf673232f69f1de96d1c38142ccf.jpg', '9583618_jpg.rf.f5fbea1b137d1d7531d321ead80980c8.jpg', '32439283_jpg.rf.2fab9c3c2c02feaac22917dc1677e574.jpg', '486_jpg.rf.2c972259a473321512c3b57be294d755.jpg', '9583886_jpg.rf.e0dcb840959f1c75a25d0feb8ecd835f.jpg', '9583695_jpg.rf.e04d2377f29df585615126a06b61ec62.jpg', '32439019_jpg.rf.1465f274131e8fd0e1d909b2657bee8d.jpg', '411_jpg.rf.8408df83035f8efcd29b6bf646f48a8d.jpg', '109_jpg.rf.b56c818a7a26626e779c53cc0d807963.jpg', '9584045_jpg.rf.a1d768d822eb8fa68480b88e50b2822f.jpg', '9583881_jpg.rf.1e8a708c78f04cabced645614de27bae.jpg', '457_jpg.rf.5895ec8ef6a2314f7c587ba4797dc072.jpg', '543_jpg.rf.be0af5018db785f95897311254879578.jpg', '350_jpg.rf.e984bb123a13199823958a19f86008f6.jpg', '405_jpg.rf.d011d3853392f7973e34d3bf2b3e003b.jpg', '371_jpg.rf.910167d8b28fdc586bbb415554ccd9e5.jpg', '32439294_jpg.rf.44344bffbe6f4f95d2c8ff9fd04bffe6.jpg', '9584061_jpg.rf.ba2e9a8783b7ccdc58229a1914434168.jpg', '420_jpg.rf.2191cadcace67780f6566ffc7fac3411.jpg', '32439182_jpg.rf.a9f6560a8b20f724c24cc37be01179ce.jpg', '298_jpg.rf.ea93242773698c40a1e056b01eeee84e.jpg', '429_jpg.rf.678e471e8233b2375026ae8fdc20b227.jpg', '32439160_jpg.rf.0f6e974e7cf18d916a88b8a2bcc4995b.jpg', '32438976_jpg.rf.8354bb1b6625c7670c1f800f9fdd4143.jpg', '374_jpg.rf.99ec8ba4292a25efae59baef4ad231e1.jpg', '32439099_jpg.rf.137695e17c14ba2aed91607a71fd78bc.jpg', '344_jpg.rf.aba12bab9de1c6406f98adefb2518652.jpg', '575_jpg.rf.cca7060bf82cbe028d86ccb2330c472c.jpg', '32439137_jpg.rf.d44012d49046fd08b2d7a2d971ea308c.jpg', '32439081_jpg.rf.408385c92cd200aaecdba6d9f5f488ef.jpg', '421_jpg.rf.fa6b07fbc8ae18c274a56506540acfe3.jpg', '438_jpg.rf.35025182054f746faf788ca679e53591.jpg', '9583621_jpg.rf.b03150c29a58b39741099641d25a3ed8.jpg', '32439157_jpg.rf.0f42c1382eac862989dead5818837657.jpg', '32439090_jpg.rf.2cdc61c61e4b3c45f2562bbb00c22887.jpg', '9583598_jpg.rf.42e92e3810c7971052826298a6f22f01.jpg', '9583606_jpg.rf.2fc44c14ba9f9b54511a6a59dda84972.jpg', '414_jpg.rf.1fa991b577479c21ed46e0427314d01b.jpg', '596_jpg.rf.80a51ce5be3b8a091cd065dcf461c942.jpg', '173_jpg.rf.3e9b9bc3994dea10300de8066d13baa1.jpg', '32439030_jpg.rf.2fcd9c6d83db8ce1d67e1da8c36bcd46.jpg', '496_jpg.rf.fabd08d535486e4b03404ae6f909d4c4.jpg', '38_jpg.rf.4473ddbcff6e1eab0c88d1b7858424ca.jpg', '9583869_jpg.rf.83d5e133390f4aca75dfc88dcdfa098f.jpg', '9583812_jpg.rf.129dac3dae3bae81d15ce02d38417c29.jpg', '9584015_jpg.rf.01e89e25f0a3a67a72ada0bcc5f5a978.jpg', '9583939_jpg.rf.3dbd17b827b332b7c3f6a503653cafdf.jpg', '136_jpg.rf.1a22930a39fecf159c0b151e714c37f7.jpg', '439_jpg.rf.95ae48ad6367b263558f3d1076a4fc18.jpg', '205_jpg.rf.b7eceea2119717525cfa18b444144b9c.jpg', '9583911_jpg.rf.17408971b977ed60ec5f90cc891df6a3.jpg', '112_jpg.rf.4b1ebdc54e7ed0d99751353b46b699b1.jpg', '9583752_jpg.rf.c54d1a7cf45cf9ea63bf7088b7bc63db.jpg', '32439244_jpg.rf.e919c9c6c287b7474f451d5b5da9bf67.jpg', '9583592_jpg.rf.ae3645fe1e3706afc9f4217b3a0c3b04.jpg', '32439034_jpg.rf.ebf51efa87aae62e9a17198199091b70.jpg', '501_jpg.rf.3112f64d5d24ed5b5ca9e90411d79381.jpg', '9583650_jpg.rf.9fd03b8dbd9e1063e34642416b0e66e6.jpg', '9583820_jpg.rf.e05c3aa08a412f78736868386f3f548a.jpg', '9584026_jpg.rf.6fe830ef1fad82c6a1af8700d691a328.jpg', '32_jpg.rf.9f74ebd03fe339f93712da1a545153e5.jpg', '9583834_jpg.rf.d7a8a4fe64f67cd943fb79a95aeb2097.jpg', '81_jpg.rf.b316e0c4554e1576abb115667532dac6.jpg', '5_jpg.rf.f7d88ab11b71c58df013a862d1caa198.jpg', '389_jpg.rf.33e3c72b3cf53249b452b9067195522f.jpg', '445_jpg.rf.afb6d2935648bcaa03fb02885ee37a03.jpg', '9583707_jpg.rf.b486cdb08722fe1c0a4e8e86d231c13f.jpg', '534_jpg.rf.ea5017bead6e37ea53c5719bdc6fec9e.jpg', '32438966_jpg.rf.ebf5988baf224c6b79dc7fe45c2cda25.jpg', '293_jpg.rf.cee3706268176c564513f0415caab191.jpg', '9583973_jpg.rf.1f8b6ab01e6c945be9c568a059f1cfdd.jpg', '236_jpg.rf.466dfb46231028596a11eab8939ca054.jpg', '32439014_jpg.rf.01972291ce93e6c1e054ef2a507aec2a.jpg', '283_jpg.rf.a5e4528f58187ec8fad7e5a451cecad4.jpg', '42_jpg.rf.8ad58c3f64feda43601d2a9b53f0a823.jpg', '32439150_jpg.rf.7e5176768f30da5835767c10bd5ccc54.jpg', '152_jpg.rf.22bec1e8f43136e63ba70714b79d4d1f.jpg', '230_jpg.rf.28d35c63889bd6886781fb51b71fc6e0.jpg', '32439193_jpg.rf.14c45b755d18cdf58162a7aeedf1cf61.jpg', '388_jpg.rf.be702f73665bfa534cf6c7db8f36dc6b.jpg', '32439243_jpg.rf.360993c6422274f4ce7bc9bccafb61a7.jpg', '377_jpg.rf.f1656e6569938933b8574f85e476c231.jpg', '32439086_jpg.rf.2062922d43fff7083eef5245c09e5166.jpg', '391_jpg.rf.40f9bf2fc90c07f0dfb3a67bcfb35cfe.jpg', '503_jpg.rf.affaee45e44ed6aa6fd57af28d009fde.jpg', '282_jpg.rf.c405ca021db2394c8732ee26ef39b0b6.jpg', '576_jpg.rf.7f598d4e916e89e1d84347fabeb85dae.jpg', '32439168_jpg.rf.bfb434239edff175dc82d940a55250b6.jpg', '152_jpg.rf.6d2e0da87c2b52ace9f1ceffac620fc3.jpg', '524_jpg.rf.a624910075461f0079be56732513590a.jpg', '185_jpg.rf.5cb83d8cf2c3d785ef7c4ff6401e36e1.jpg', '32439318_jpg.rf.e3574bc594b38c6ed5ce65161737799c.jpg', '32_jpg.rf.7177c97e32b28d4b647b74a4d21fae3a.jpg', '32439237_jpg.rf.f5475f2d897f096e2c17be7074e23413.jpg', '415_jpg.rf.4c4e35cc56d249e8a6542f135478c63b.jpg', '32439018_jpg.rf.f2c1c570b1b1cb25f8cbf4321c6469bb.jpg', '9583844_jpg.rf.f1e87a545600d2cc593bdf94df283aa8.jpg', '423_jpg.rf.ebd64d34700a959e6c63fd2880693c90.jpg', '9583623_jpg.rf.4a679ab124b1a944031e7f7a0eccb708.jpg', '283_jpg.rf.91d4349d068e87f4c649fd58afa8330d.jpg', '481_jpg.rf.95f719bc1e2b1c22a958998d91157658.jpg', '9584003_jpg.rf.56c7f9cc37ea2b6fe7866a24ad17735b.jpg', '12_jpg.rf.430849b202f087689e335030f6c9e0fa.jpg', '32439259_jpg.rf.78188491ae3daea928ee7bc38a0a9f85.jpg', '159_jpg.rf.2d57ca31342aabcf266aba4b9fecb476.jpg', '9583811_jpg.rf.d82c56824a67e0ec0661a10d2d25a784.jpg', '106_jpg.rf.beb054b07cab1250208eeeb2e0aacbcb.jpg', '193_jpg.rf.5fe40d3e6924d221a795ccecada3c895.jpg', '9583569_jpg.rf.69787288f7acdc7c41b3b8e594984bca.jpg', '15_jpg.rf.7484bfb89c8ab9dff2f39372b13897c1.jpg', '9583590_jpg.rf.e2d1d53b64e03638103186f3e0a939f7.jpg', '32439148_jpg.rf.05307ee7879361e840140e77c46d9c62.jpg', '478_jpg.rf.0c51cc6e893dcda6c303dd1fbf97a2f1.jpg', '9583815_jpg.rf.80487ff2bdc0979bc8d5e59e829d024a.jpg', '164_jpg.rf.0bc58982c5463aebc085f3b3a1e4830c.jpg', '517_jpg.rf.1bf87e805e54dd5b50acb7ab7a4c3dc2.jpg', '9584047_jpg.rf.757a8fe0fc80ed263e75593dc7ace9ca.jpg', '355_jpg.rf.43fd7a315c9698273787137db082b009.jpg', '521_jpg.rf.826e6cab910e4e0d4df05e99cbb82f94.jpg', '337_jpg.rf.46b74923189951cdd4d4b741747c1395.jpg', '255_jpg.rf.49ac9fdc99d198c788f2834d9037c962.jpg', '32439079_jpg.rf.7ce755b91e8c46d26f4562bdb7d01bab.jpg', '9583979_jpg.rf.c0ab1608a35f3d62ea09b732be5d3501.jpg', '32439029_jpg.rf.401981dad201a9f6932101c7b72a83ac.jpg', '327_jpg.rf.85c7907d6f8aeb49e7473ee0413dc6cc.jpg', '32439143_jpg.rf.671d5c9ea47bc6e7956b7264a9084aa6.jpg', '278_jpg.rf.b0e73aa8ede8dc5495c79637357d3edc.jpg', '284_jpg.rf.35e35009a20e3809a39560ace91a7afd.jpg', '9583725_jpg.rf.5f32cf41a9c1a6b2cfe7d1d027e5559f.jpg', '452_jpg.rf.d6e0550feae3094d2abfea85ad3914c7.jpg', '9583652_jpg.rf.bebd93bb266b64f3a4343a16ee1405a0.jpg', '263_jpg.rf.f09135e0f337a9905ec182e857fdfa75.jpg', '32439307_jpg.rf.b3567d5fb0f92f86ed5c983c2bc9e844.jpg', '363_jpg.rf.50460ea13d4ca653ee0c5f2b1b037b34.jpg', '32439011_jpg.rf.33111daa80e55bb1bec3a75eecb88394.jpg', '9583641_jpg.rf.494f25dddb2018be734e063dcba18901.jpg', '32439286_jpg.rf.578774c120af116c9d263ff137374335.jpg', '570_jpg.rf.c73f51ea657217fd26dce2cdfd5f1157.jpg', '91_jpg.rf.92c7ee66848c0b70c4e80cdc63325759.jpg', '32439246_jpg.rf.ac10c54e52a3b2ac4845aae1094118fd.jpg', '32439184_jpg.rf.0b6fe02bc5301a3d375f7912e9fbc5d1.jpg', '9583801_jpg.rf.b4a65d4ab6b16d093311f134113f4655.jpg', '9583658_jpg.rf.271824b079302f3f027f311a28c55686.jpg', '542_jpg.rf.c55157802d0f1a0b3eef4875be978e19.jpg', '32439024_jpg.rf.6d32f82351612890600df4a2f71421a6.jpg', '516_jpg.rf.955d54e8bc6083a6b4128f3fc6e32142.jpg', '32438996_jpg.rf.bf3826635e494dc02e14d66db50369fe.jpg', '216_jpg.rf.c0f06465330b015e34b73495e8f65143.jpg', '445_jpg.rf.f6d48e131bff0d64af149b723aa3084b.jpg', '32439026_jpg.rf.ccc35e468d98254e424b325ce96f741a.jpg', '32439217_jpg.rf.dbd5c4f887dddb2dcf1a857d509ac2b8.jpg', '9584031_jpg.rf.5c32d00b0b451eb74c117abf6017e52b.jpg', '550_jpg.rf.d28a28db6bb955523acb943429524f41.jpg', '343_jpg.rf.3f4dae0f9b1c74b5ac337051b2a33b37.jpg', '32439242_jpg.rf.00ea38f6679c975f0d115e02aadad2d8.jpg', '128_jpg.rf.f3db134cd6354249619325604dc699ac.jpg', '97_jpg.rf.c9108fb1268aea9988bb964e4678fa05.jpg', '276_jpg.rf.2cc6523b7088d39fb90f408a3bc104bd.jpg', '399_jpg.rf.ebc28e4c754adc0062ddecd96b22c62a.jpg', '9583787_jpg.rf.bb77d0edfa4d3f113aa36e1e21ef4408.jpg', '359_jpg.rf.b61e800e224e9644c2ce98c881ec877d.jpg', '507_jpg.rf.f04ae7c4ca73863965eb251b5db42224.jpg', '576_jpg.rf.5609ff8c7a6049922f7bde6ba7994524.jpg', '9583765_jpg.rf.5c58508d842e68fe618ec4f9eb8e620e.jpg', '9583698_jpg.rf.557b5d4a2d4a3a9bc4274428a5cb3e17.jpg', '9583918_jpg.rf.0b190a4e392d38ae554fd116ef764dc5.jpg', '600_jpg.rf.dd69d27e7266c92d3c7da2c9ffc5157c.jpg', '9583823_jpg.rf.a053b215a70c421559436eaa8c739e7b.jpg', '561_jpg.rf.ec2f8d3658c1119e8fb1531349860478.jpg', '32438997_jpg.rf.bd0f6eb1c35097c3c86621d714856c2e.jpg', '16_jpg.rf.7afb4f8414352e8d0e91ad2497ca6005.jpg', '336_jpg.rf.2047bdf284a45656bb7be66f268d7cde.jpg', '294_jpg.rf.2a20204f3d5a1815fc28e33c35826944.jpg', '279_jpg.rf.c3b9f246a11074e2678f4ddd7ab9f02f.jpg', '585_jpg.rf.0165cb5ebbc4573c154a154fc58f372a.jpg', '134_jpg.rf.59ac368596233a2661d4181fb971de0f.jpg', '427_jpg.rf.6ec924cf17fc64cd903cf83b1bcbe109.jpg', '556_jpg.rf.b2783f4ec66b6e7ed1054e15cf21aa2a.jpg', '32439151_jpg.rf.9525e1a4bc04328cf43da142b88614dd.jpg', '14_jpg.rf.b5cb6aadb56caaebb68229cd3a6df62c.jpg', '448_jpg.rf.729b499d1da8394eaefeba5bbdfff447.jpg', '456_jpg.rf.d9794820c511afe5c2d2b703eea315b3.jpg', '310_jpg.rf.24443561252aa09da41b18a8e5fd0725.jpg', '32439266_jpg.rf.24f47b9209e29a1ab095307227f10449.jpg', '32439075_jpg.rf.3b756f5a8b1b842ab7f3edce9e2de590.jpg', '32439255_jpg.rf.3d250ad4fc838d43ce37972fc71c8e2d.jpg', '9583684_jpg.rf.69aa77806c06fcb970132114b80b20b8.jpg', '341_jpg.rf.8d1c4e0cf0c0fc18ca6994fdfe407b0b.jpg', '9583924_jpg.rf.abc22a310125dc4bfde83d26b6685987.jpg', '334_jpg.rf.cb5d73770269833ea16189186d2f735f.jpg', '480_jpg.rf.45e64073bfa127e6f72284c4afe74622.jpg', '183_jpg.rf.228c5db1340bc2e685b85622ece4f5bb.jpg', '543_jpg.rf.fd7bb89b45a5f1f7a846537a8e1490bd.jpg', '32438957_jpg.rf.277b64ffce54609d56c2220f40e0efb9.jpg', '267_jpg.rf.e2e7aeb3a6aad31c7554f29867d8a78b.jpg', '588_jpg.rf.a36b0a9a820104fe74986917cef7dad5.jpg', '488_jpg.rf.01adf0b6ae8e5b3887e9f36b13a5f56d.jpg', '281_jpg.rf.5e3d08202050fa62a4354fdb2367350f.jpg', '32438991_jpg.rf.39f205022c9ebe3473e5640616ce281e.jpg', '32439176_jpg.rf.bad92c741da5c094aa70a74f8d0f8d87.jpg', '147_jpg.rf.ab47a9249e74a557740e9d8d04c421f2.jpg', '349_jpg.rf.1992853feda0b00374faa2c35fac6c3a.jpg', '13_jpg.rf.e90e9edb74c74e274019a11d92dc3e29.jpg', '309_jpg.rf.ec21b1bd4fcc89a4cef0302c15e74732.jpg', '528_jpg.rf.29e1391d9180082127485a5e1f3b9819.jpg', '9583676_jpg.rf.7fd29d32c50360854c916530e7f7ceb8.jpg', '428_jpg.rf.921bfd52b122959e894c42f81283791a.jpg', '9583819_jpg.rf.00aaa689305d43c8a0ce799ec673cf28.jpg', '9583620_jpg.rf.1fbbe4874e0c46042661e975fad326f1.jpg', '100_jpg.rf.34e54dff0f77c9f6e5685b037353fd46.jpg', '240_jpg.rf.793c6f72839b1ac876e065f28fb0f543.jpg', '9583986_jpg.rf.376eeded21c6ab19b7ad36c6a10c77dc.jpg', '290_jpg.rf.1e4672c2aa68e06e42d7d5b2abfd656c.jpg', '388_jpg.rf.3c2f1fa8632023d61ab53ec6ecb5fc62.jpg', '9583667_jpg.rf.3682f53f7aab5d480681621c3cf798e4.jpg', '472_jpg.rf.7fdaf512492157125af1a0146045a5a6.jpg', '323_jpg.rf.faf99db74bbd6ba7bd608b4fac84c7d0.jpg', '589_jpg.rf.af7e6443a91734b44a5712ae834f85a4.jpg', '60_jpg.rf.9d462f2aa657f4ae0229ef71471b9c96.jpg', '413_jpg.rf.69ed324056966c48b84b463129a7f9ff.jpg', '360_jpg.rf.bad2a5b0a76c3f8fd892fc39beca40ba.jpg', '9583644_jpg.rf.177c3a58da6273edd96f8470c780c9a3.jpg', '438_jpg.rf.cd09f049a61cc7768b87b93b69c3cebe.jpg', '559_jpg.rf.52570b4da310c7bb2b62524713ed4115.jpg', '9583708_jpg.rf.fb680bfca6d37072386a31f751a39949.jpg', '9583978_jpg.rf.9e3ffd531189269b0129b47e5a7f4659.jpg', '483_jpg.rf.982306416abf815633e3d6b2b8c72821.jpg', '9583816_jpg.rf.23f2f518bf89c4c75aa343a7e6de05b6.jpg', '45_jpg.rf.3d92efd18bba544738daf2dcc4c3ba0d.jpg', '288_jpg.rf.bfdae8e78941a2a3b92efa3621fe4207.jpg', '125_jpg.rf.c37e6f352d28e02bbd3ab03333a0fb36.jpg', '32439220_jpg.rf.d63b5506119e4d22ab975a4b69169ac5.jpg', '9583683_jpg.rf.b9c1512aa2fd2a375be889ee515edf8f.jpg', '32439297_jpg.rf.db24a2ba9da52d4bd42a4afb63211b31.jpg', '66_jpg.rf.54ab96d4895d5ceed6a626dc3546fcbb.jpg', '9583879_jpg.rf.5bd9f87c715002c3fec14002a7969e0c.jpg', '9583699_jpg.rf.cb2c1980c89b6dead72a0e12b0adf8c4.jpg', '9583669_jpg.rf.110780991a8211b6bd83d63ba19c4c4a.jpg', '180_jpg.rf.42404a44d11c63023a08ea06d43d2815.jpg', '74_jpg.rf.6c46f9494ae7c65104fe8aa178eb7a61.jpg', '485_jpg.rf.7234635440e9a27e0f4e96cbc2cc2058.jpg', '364_jpg.rf.a31aefbee8a0a4d91d30aefee4b54917.jpg', '460_jpg.rf.4c77c336a4d20db1cb4d096639f056a0.jpg', '9584050_jpg.rf.4a78a1a88f84cdc4b8141d4c82063151.jpg', '400_jpg.rf.5a0501d6463b932066b6ce8dfc1ae26b.jpg', '320_jpg.rf.be750b6ffa5bc23d62c9479c0c60f323.jpg', '202_jpg.rf.de402885721efc0fa840f2c35a328b66.jpg', '32439257_jpg.rf.084565f589ee46776b922307c31b0fad.jpg', '9583705_jpg.rf.0753c27e24666baef48ea986f1792fc3.jpg', '417_jpg.rf.3601e91d6e0a539e43e643ea76563317.jpg', '9583578_jpg.rf.edf300cda58f045bb056e0e5d68a15e8.jpg', '331_jpg.rf.4b16b1a506f56e4000bb6441a86b7c92.jpg', '9583884_jpg.rf.ca06fba4f9e30c52b2e9816ed89be769.jpg', '9583651_jpg.rf.f38c34388140ef9935a2a71d5667a300.jpg', '32439260_jpg.rf.df727178b29e57ee0f7a0a69b1fe4ddd.jpg', '9584004_jpg.rf.23644869515126a9c59c78a5b3691f2b.jpg', '23_jpg.rf.e21cfd4976f2bce41809129359458518.jpg', '532_jpg.rf.97540c678e9f6ba8897ef8cc38ec1e44.jpg', '99_jpg.rf.21a21358cd231803b4f315b43c1cff46.jpg', '32439089_jpg.rf.c75838e2479eb0bb1409b47b7f995704.jpg', '9583760_jpg.rf.cbc2c501eeda25d06b0d3d9acad39ca4.jpg', '58_jpg.rf.f0f53d0f663e768bda27a34fe5c57cd6.jpg', '32438956_jpg.rf.f1de99b498e6517ea66ea35479fc6a2a.jpg', '9583861_jpg.rf.d348f3d4758e328a0ccd077e492a7141.jpg', '9583854_jpg.rf.ac127f255bf26a0ad25287e9afe10941.jpg', '9583898_jpg.rf.847d1d29b8c2bf79e5fc77aba3c41169.jpg', '9583882_jpg.rf.79e8edb17ceb254cfa03bbeb47e78386.jpg', '224_jpg.rf.faf4282dd376e85a6b6486f0a3a22206.jpg', '9583661_jpg.rf.2ef03fb005c4077f5c81c4118d9b50ef.jpg', '329_jpg.rf.9770995c60b7427e0fdf5261db22e708.jpg', '579_jpg.rf.5af8cb81c87022885f257469c441a43e.jpg', '9584032_jpg.rf.224fb4c56ed5e145d383c7eb2a1416b0.jpg', '9584066_jpg.rf.8f9e5101e9f7a080ed94d65566ac41cb.jpg', '32439170_jpg.rf.e4f3e8f6dc8ad29423e6f6f52328ccab.jpg', '291_jpg.rf.6c49e9c3503bb87e436b66ab956160eb.jpg', '316_jpg.rf.20cfcdef346f1cf26765786d01000f40.jpg', '243_jpg.rf.911c9dc05872c9759e873f6fd9b924b9.jpg', '32438981_jpg.rf.dc2f1e9c6de3600fb5ceb36e3eed189e.jpg', '32439111_jpg.rf.8ecd065a0c1f7acc7af5abaf7a83bf5d.jpg', '9583885_jpg.rf.1e92bc3278e3892ae3d603c62b760e29.jpg', '32439013_jpg.rf.cf5049e2d102fced1a594fd1dd91219a.jpg', '117_jpg.rf.ec4603583fb777a3b4865763bfc295e8.jpg', '32439280_jpg.rf.04ce5952f15fa177236626f44a3fb879.jpg', '32439145_jpg.rf.e9e0ac9eb045d9d3aec51eaa79e2370f.jpg', '9583611_jpg.rf.edd28f1e375bdf9aca655c6ae04c23ec.jpg', '9584002_jpg.rf.e1ca25320fdacc944aaf267a4cdff91a.jpg', '395_jpg.rf.7bb5629981b79899f3b6b2aaec590ea4.jpg', '68_jpg.rf.b5eb782393853e9ffc0b9351f6332b96.jpg', '239_jpg.rf.8b0cb2cf967ad1e6151ff7fd17913ba4.jpg', '9584054_jpg.rf.aed100756023e0cadcf7b119cc9258c5.jpg', '474_jpg.rf.a6faa96b2cfbd13a4c3d71fbad3a453d.jpg', '9583905_jpg.rf.726df9fed4314e88d1b502c90541ce72.jpg', '32439084_jpg.rf.069feb8633f2f4378e0fc4d5162f2713.jpg', '9583871_jpg.rf.2e46569394b9a3fa064d57a8f37d118a.jpg', '122_jpg.rf.9438e595187aeef95d215643b4c5cb27.jpg', '215_jpg.rf.8a0b0deefcccaf259712aafddaced60a.jpg', '32439158_jpg.rf.ef37126af8deac4fb26e5681837e0b37.jpg', '536_jpg.rf.6c61fc3059c636acdea00efae3c4763b.jpg', '354_jpg.rf.0d7466a3a542f93df918672d00401f75.jpg', '288_jpg.rf.688c79d516af28207ea47b31dc012ed1.jpg', '9583867_jpg.rf.bda676a602bc79eeb57fecfa69662be2.jpg', '381_jpg.rf.4ecd0be365fe24d7c6e44aefd37137f3.jpg', '32439276_jpg.rf.0242fc9437b381c04d8b9023713f5eb9.jpg', '181_jpg.rf.5c4b908b04c7f4f752d59d9b37425b2f.jpg', '32439074_jpg.rf.8c2be842db5c0a6bf1449256332c940a.jpg', '9583929_jpg.rf.ff4b2dca4de493ce7d3ff8eb3c7a926f.jpg', '75_jpg.rf.745dd358080c4e220712fd1d1a628706.jpg', '63_jpg.rf.0a663b42e7e29c847b194930dbd442d5.jpg', '9583586_jpg.rf.4d876660e6006e6363ad56451464f614.jpg', '346_jpg.rf.65666e9947a26cb9d892f446d698bbca.jpg', '9584051_jpg.rf.55948171161c93086b7711bdfe4afcf1.jpg', '32439224_jpg.rf.f38aecae422046c03687d78c89f25383.jpg', '9583957_jpg.rf.791bf8f5ede4523459ba5387fe1f4e8c.jpg', '285_jpg.rf.c3bcb4db8987bef1cf86d4a57821710b.jpg', '141_jpg.rf.712b303fbf69ac0b3e0a7d0a4c225719.jpg', '565_jpg.rf.dd2f4b84a853afc3a4d0316fb84f9060.jpg', '9583934_jpg.rf.9bef72738bda3f657e890490c52708f1.jpg', '32439282_jpg.rf.b9d04099dd69aa4510317eace9ca8ee1.jpg', '510_jpg.rf.7de3bf938373c14968ec65a51a77cf9b.jpg', '9583766_jpg.rf.660bf645ef3166e1e9f37dffee796cbf.jpg', '49_jpg.rf.e6212d7edacff5ef5571ad9ac1cfa508.jpg', '32439101_jpg.rf.d6d6aed75bb00660c27cb604bbf9bff5.jpg', '469_jpg.rf.94f1c1da936110c54cd8eb90cd891480.jpg', '32439317_jpg.rf.88927c382c2cf7d3eb853e3be14115e1.jpg', '9583822_jpg.rf.d42acacbd983dcc8c9a289803080d992.jpg', '294_jpg.rf.54386a425501016ddf5225f8a0cf7df2.jpg', '373_jpg.rf.b6b86eab817b80facfb709463704bf53.jpg', '9583665_jpg.rf.9d5127e2ab99f267d846929137275b13.jpg', '182_jpg.rf.97d80e8ed3a230b16c3c6a1aa7d79be6.jpg', '9583664_jpg.rf.6489bdcb01d50ca0462aec0c17504a0c.jpg', '9583777_jpg.rf.a3bf0e52f7732a995374d8a1195d91fa.jpg', '9583824_jpg.rf.ef2704e94ab05205cbf1ef903372caf3.jpg', '279_jpg.rf.cde69a9b9feff654af7860901d457fef.jpg', '598_jpg.rf.ea49986f10d72ee13e9fcb24ac6de5d1.jpg', '402_jpg.rf.4de7605914f1e6cf26aa1abcab6429c9.jpg', '541_jpg.rf.3b72e5de372bca234ce6b333d9e1a180.jpg', '453_jpg.rf.3734a30666a5149bf357ccda29666cd6.jpg', '175_jpg.rf.e10d623b434788a8141d541c76c32a73.jpg', '20_jpg.rf.2fd7fa6ee0d5e9925ac5f37430b78a6e.jpg', '44_jpg.rf.a5df19253074da267f56340027c21f19.jpg', '122_jpg.rf.0f9f5a4ffb4efbd3800844da4d448991.jpg', '9583959_jpg.rf.0dbc9d0c8858e62ed7b5fa30f1de3767.jpg', '554_jpg.rf.1aa18802f95b996df646407e84ba5649.jpg', '32439316_jpg.rf.e080babe4e0de943a0113c2848a71c1c.jpg', '532_jpg.rf.6dfed34c4de90f32f62d1fa0e6fffcc9.jpg', '479_jpg.rf.87ab3db904dfbdb5df07faf92d924c4b.jpg', '32439093_jpg.rf.347eac40ad595c4106f0446bc9a14bea.jpg', '9584049_jpg.rf.d895eb2caf66672de9d69282bf8715dc.jpg', '124_jpg.rf.1fef00035c686fb1757c30b0e23886a5.jpg', '574_jpg.rf.4ae9bc4f1a4d1ac1f310cf1601e59b6f.jpg', '32439315_jpg.rf.06a51fd6e968f3d7bdf4aa8ec2c53b5e.jpg', '20_jpg.rf.69bbbede16b9f7349753be8bdfc4e0c1.jpg', '9583910_jpg.rf.661d4478cdd9ffba244f571fd7119cec.jpg', '474_jpg.rf.5dbba031208603f3f5cc96646ab50754.jpg', '94_jpg.rf.6e3ccafe2aafb470ae3f95ec704c1821.jpg', '549_jpg.rf.296b57a5e01d950a6edd01508307a309.jpg', '9583674_jpg.rf.30bad871d678631dad67c8ec51abb365.jpg', '41_jpg.rf.40df4229e5eff49d4b45632be35dcfb4.jpg', '9583936_jpg.rf.0dad9e11276744074d0e923888b396bf.jpg', '205_jpg.rf.917407567ac31cfd8c397844501d6ac6.jpg', '523_jpg.rf.10f95b39e672be05b398954397933267.jpg', '32439216_jpg.rf.4f7dd01e887433906064898cb79986fc.jpg', '9583922_jpg.rf.3f7fa831c12d960001fa6ad3c4bf0eb6.jpg', '9584065_jpg.rf.fddb1903df3af2039523265a8af5a341.jpg', '547_jpg.rf.27e7a6210da8102ed2da2509fca32318.jpg', '32439298_jpg.rf.6f347f34e497ca6907547937ddcb329b.jpg', '32439293_jpg.rf.09adf3bec143cf9b2faad16455016188.jpg', '208_jpg.rf.ef18f05b49fadd493d1635a035ad2cb9.jpg', '76_jpg.rf.5abeb91eda2281a17b1d5fd587646c41.jpg', '32439279_jpg.rf.acaa89eb39510367f745820012b789aa.jpg', '266_jpg.rf.869ce1fe73b28d030847ef49cc70b8fb.jpg', '92_jpg.rf.b7725b343f728810f9d69b1ad1b73eb6.jpg', '32439165_jpg.rf.2cf67c558c0da77c6f81102b7549d59d.jpg', '413_jpg.rf.b0662c3da984db7ecb759013028299b7.jpg', '171_jpg.rf.e836c7c1869c7a58f1eee1146a18e279.jpg', '9583570_jpg.rf.8d87da985db97cace0afbf390ea993b8.jpg', '9583901_jpg.rf.bf08fb3b9f749a060445a96ec94401ec.jpg', '32439199_jpg.rf.bc0544d6671e0d76c3c96118cfda1063.jpg', '9583566_jpg.rf.429a21afe2355834e118677f1b588355.jpg', '32439152_jpg.rf.eceaee972bd1017222d3365e21099ed4.jpg', '140_jpg.rf.7338f73e10c234684d6a6fb2c78cabc8.jpg', '581_jpg.rf.f06e369cef8dbf5c5ab3b639a51a51c1.jpg', '9583970_jpg.rf.528757a81be109ae7f829b2e17ef35dd.jpg', '375_jpg.rf.abca0873372cac789d95e3139265089e.jpg', '32439052_jpg.rf.9e0efa799f7cf67a75297f16563b46e4.jpg', '32439248_jpg.rf.075c6338c1c86eb3d89d4b9acac6b001.jpg', '188_jpg.rf.91ca314db215b5d4098d1e41ac298e9e.jpg', '182_jpg.rf.2171ebff767099a39c624f3c98ad390a.jpg', '407_jpg.rf.04f1673bdad9fb124d18c125f7aea1a1.jpg', '238_jpg.rf.e8b1556d0b8d00e0dc975be955e2ccfd.jpg', '31_jpg.rf.763a8dd5ab467eaca6693d8897ddb325.jpg', '9583974_jpg.rf.1acc1694b7d6e2e1e163732890a78926.jpg', '553_jpg.rf.28456cba0f22fcd59605ff863a408b37.jpg', '485_jpg.rf.e76ed22d6a8ed75b5202f637be2d3614.jpg', '328_jpg.rf.0b1afab497cb90de24eba7570c09749f.jpg', '32439229_jpg.rf.a19c0c3e505f486e3cf81d033babf8fc.jpg', '257_jpg.rf.67795545decebd28bec9594b93c70f46.jpg', '88_jpg.rf.3f2441f1305e897a3ba7286620c4f1eb.jpg', '429_jpg.rf.506a6f466f6a35c0cc75aff2c6365584.jpg', '32439206_jpg.rf.855f2e02343e646f9e6e064eccb02fbc.jpg', '32439050_jpg.rf.d337b0d1ad1754da41eb3f258906cd87.jpg', '418_jpg.rf.a0a12983acd1f1c51cb5791afc8f023f.jpg', '9583755_jpg.rf.e8964a489bdeed19f7159be0b5029bd8.jpg', '32439071_jpg.rf.a84a891bb715d66fab5614c98953d699.jpg', '516_jpg.rf.da1b6851c28821843f283350001622db.jpg', '254_jpg.rf.edcb7f65148ac0f83285d52016dab1da.jpg', '318_jpg.rf.35d08a0dbf76accb17ab50b3a6f1f725.jpg', '183_jpg.rf.aa019dd09aa15e6f8e8e0b56e4764664.jpg', '486_jpg.rf.2ec762166d3812a6cdaf6ea09f4cd3a5.jpg', '9584038_jpg.rf.cc5ce0c22cbcb6fc5869c8cd2ec9a316.jpg', '322_jpg.rf.88430c3edc1264eb5ba3ace3268d6d0a.jpg', '442_jpg.rf.928c610b128e541379bd5dc134e6184d.jpg', '32438992_jpg.rf.965f127adebcc47f841e6af3b454ca0f.jpg', '59_jpg.rf.a0c740c9cd7f2c7acb98e6b6b151d3c6.jpg', '556_jpg.rf.e3f4133e7ce6b8fb17af81e3f1349931.jpg', '9583967_jpg.rf.b67497a992f7484711e0b71631118c68.jpg', '32439119_jpg.rf.9506b6d386501f15c8b7dae389fc8e09.jpg', '9584027_jpg.rf.eb6876d3451c65e49f3991c5dfe85296.jpg', '32439202_jpg.rf.a26599514ec9e41a518c635c84549622.jpg', '506_jpg.rf.446d17b74ec02246f9868404ad89620f.jpg', '399_jpg.rf.4605e5f3492733da8807de48436bcde2.jpg', '9583768_jpg.rf.5b5de8116eadc2499246e6564f474925.jpg', '9583709_jpg.rf.062ee8cba15a4fd1e33395f38e2cb04b.jpg', '495_jpg.rf.0bb515e5044837ecb3a1ab6f86f67e23.jpg', '9583913_jpg.rf.643fd6eab7781564de8ef742381ef6b8.jpg', '412_jpg.rf.19e81043d4f405a56026f6b64e309b4b.jpg', '9583753_jpg.rf.207e4bfb2e9d286a1b0f8307a927aba0.jpg', '504_jpg.rf.6a1ca4ef33e366ff94d2f23eba0baeb2.jpg', '32439197_jpg.rf.abf7fb207b6a396bf0e702866d15f025.jpg', '32439001_jpg.rf.728da5013e476cf60d70d82da9eb57fa.jpg', '9583632_jpg.rf.9b71ced3d1c2d3a648f2ad593b145d75.jpg', '32439035_jpg.rf.d7b2137c78c90bc8e3ba1eea2880b2ee.jpg', '546_jpg.rf.b601b03ab5d8c99dc62f8415fc3cb0dd.jpg', '9584012_jpg.rf.e19acf539514ca15ba7745795256bd52.jpg', '32438984_jpg.rf.cf106e29977f5dc9b0397dc124d59ce8.jpg', '158_jpg.rf.8064e570ffbebfe950e1276388c54289.jpg', '9583714_jpg.rf.5d03209b722ea12fd2fa42862dd1c6fd.jpg', '32439303_jpg.rf.445f351f745f7eb01b32a0ce66089da7.jpg', '304_jpg.rf.b22067da4c3beaf9e57946a1b672badb.jpg', '9583791_jpg.rf.1861bc2ff4ee34856c19a3ed4c00582e.jpg', '9583774_jpg.rf.d941b68f10128ba042fc1e1aa4ce2918.jpg', '9583666_jpg.rf.c57bf63b693357f5c6e80989d796fc16.jpg', '555_jpg.rf.1905d204d551cbd180a4168c2ca2d2ed.jpg', '9584008_jpg.rf.facfea2e75d90fd7544234f12c1c626e.jpg', '32439031_jpg.rf.fafde72aa32aa2d7ab842da150385b23.jpg', '364_jpg.rf.0e26c2369510e76bf9f2076ee09e0cea.jpg', '9583642_jpg.rf.3c420ac0330f89f65ce2bc6b2fbcaf3d.jpg', '32439060_jpg.rf.c3ad5c73c0f65e17a3d73ff7c92e14b8.jpg', '139_jpg.rf.3bde4f750d2f39fc65383ee89921eaa6.jpg', '287_jpg.rf.a11f0735c3208f6873466b093e783e27.jpg', '9584009_jpg.rf.8d148fb86eaaa045401c2be20b82b54d.jpg', '408_jpg.rf.8ac3ef1ef85982340772a544316ca939.jpg', '9583567_jpg.rf.970ec98237f3785e950331baf0349a39.jpg', '192_jpg.rf.3fa189e0422c326166dead70d6712716.jpg', '9583603_jpg.rf.53627b5068f5ed2308dbd7495a41577e.jpg', '90_jpg.rf.17c9e7c9fc8dcbf7f8436f8181565b17.jpg', '32439027_jpg.rf.4928473e86ad64a8fd8b8479697259ee.jpg', '148_jpg.rf.bd9d3004bc548f4757e9a797dacbdc88.jpg', '24_jpg.rf.d6212496e2f1d2bd14c272c53347b03d.jpg', '113_jpg.rf.4c1251eae86266552c82f2301316a16a.jpg', '32439069_jpg.rf.b423538b2d1bbb33e4a38447d7fd88de.jpg', '32438998_jpg.rf.23107e1d1dbd19e47da1b49c45ea8b9b.jpg', '9583976_jpg.rf.3a16c884b9af5891c202c91b2e5c5d69.jpg', '32439104_jpg.rf.7c4d04a73e56426d043041f255626525.jpg', '393_jpg.rf.0294d4ee79ff25a67fe3c5060f15cce6.jpg', '102_jpg.rf.94ab5b6bf26990c2f403501ebe8678f3.jpg', '512_jpg.rf.8f6ba558d03745e63d27d3a0e285652b.jpg', '32439106_jpg.rf.25a67a5f75d332fe6f254b9d127c0daf.jpg', '11_jpg.rf.56c2713d71766a92dd78349246f8e27d.jpg', '472_jpg.rf.cc436bc490209f2f11aef2a5cd37175b.jpg', '32439192_jpg.rf.b14d5c5e23f94d89696a6e81effc846f.jpg', '522_jpg.rf.d6e33c813ecc418ae45ed5c9999db82d.jpg', '57_jpg.rf.11bdfdc94993d79b77379288b26380f5.jpg', '32439277_jpg.rf.c4aaa675cf58fbc90dc9e3cee754deed.jpg', '9583692_jpg.rf.35931d256e9857937185cf2e3e7e7cb0.jpg', '221_jpg.rf.a5e5c239e0dd5cf53fdb7b59061fc936.jpg', '32438978_jpg.rf.4785598563c0ae66a50d73a9101b44b1.jpg', '68_jpg.rf.971b20fb62d05e57d32179a4c36724fb.jpg', '9_jpg.rf.145cb64d48fe9daa3cbef8622f1217ed.jpg', '9583751_jpg.rf.857ee6da38dc8b11ffaf3fadf73cfab3.jpg', '9583734_jpg.rf.9989c588d9067006ef616f6e9cbfdd1a.jpg', '9583840_jpg.rf.4f8eb1820d2370a486a8be532f7375dc.jpg', '293_jpg.rf.f54dadf16a87d40eb7885d3cb16172cd.jpg', '32439097_jpg.rf.9d2c5f4657c06f90b3d341433e580935.jpg', '384_jpg.rf.1bda8143f1a58fb0495c98a36aaac83a.jpg', '595_jpg.rf.77db3044026c85482250569c4f365d89.jpg', '539_jpg.rf.8287a457dfd2371f4400997b5f010a60.jpg', '440_jpg.rf.18fe066431cfe7934edc273f851da3d2.jpg', '519_jpg.rf.9eac6cbb0f18cb9631922e1e33b3b478.jpg', '32439083_jpg.rf.93bfb1e7f3429d5336f9a63a1d2e90bc.jpg', '9583639_jpg.rf.4711259aca888e5fd91478e161c5585c.jpg', '533_jpg.rf.f26947881db203c788ebd20c346de046.jpg', '9583945_jpg.rf.18a7c88dc3888db4421ecd16b1f07af3.jpg', '9583575_jpg.rf.a3e200ffbb5230692b15be8910dcbace.jpg', '9583803_jpg.rf.bd157b6e4ce9d08d2bfe635e32cfcec8.jpg', '9583877_jpg.rf.79d28b5c3593840304fadf35c2ab8d6c.jpg', '584_jpg.rf.0542d4e43f083dc1717b123cb547d45b.jpg', '356_jpg.rf.e856ff557b3f85b3768d14967eebad36.jpg', '9583830_jpg.rf.9c48d04211ce64429a53fe63fb5dae05.jpg', '9583899_jpg.rf.93250f1a7107003bdf0f442234c0d522.jpg', '372_jpg.rf.c00050e146326b81a41f7dea87873024.jpg', '19_jpg.rf.2ad85ac29802ff325dc24ac9ec23f4f0.jpg', '9583746_jpg.rf.8efcf2b555bda0658c8f74acaf5e0448.jpg', '206_jpg.rf.f01ca82570f2de7ebf0ac7f10dd4c95c.jpg', '9583930_jpg.rf.64530d32d9fd531527f2a0d7703785bd.jpg', '466_jpg.rf.b1e2115dbe6feb84faebc228033f8aab.jpg', '9583933_jpg.rf.385028ecce35f9f2ac05add3c377c0c9.jpg', '9583985_jpg.rf.ea7f93c6bb4f877f9368ee17d35ba9e8.jpg', '573_jpg.rf.aa6db5d116d46e62ce5bc41546756550.jpg', '9583672_jpg.rf.6cc87954b51869af2906c17fac8ea6c1.jpg', '226_jpg.rf.c043bd3493ffd5d1ab22dc6ba309a93c.jpg', '566_jpg.rf.49d276eff9bf2b13758156a9d3d1a584.jpg', '32439179_jpg.rf.8f2cc0a79557f91746f8cb202cf4838d.jpg', '129_jpg.rf.0e0ffc829bbfc89957ca9d1aae169726.jpg', '9583949_jpg.rf.7015c3b99419997088e2f47dcd97d2c8.jpg', '9583715_jpg.rf.d605907be2a562d6690442632d24b5cc.jpg', '384_jpg.rf.96d58e8e353fff72eaff0406e330a87f.jpg', '17_jpg.rf.69547ccf85e78cf6ef7458cf04607657.jpg', '9583630_jpg.rf.967594717bb15e6d76bcfda2f8a10ef2.jpg', '9584064_jpg.rf.cf03cfc46924fc324a2530c31b63ec15.jpg', '369_jpg.rf.c85e5ddc6e9cd35bd83b32a03a649508.jpg', '32439032_jpg.rf.ce62781bbd3826f6eb58db87183a63bf.jpg', '62_jpg.rf.4e0be2a2cd4c98fff52f1183139b4584.jpg', '125_jpg.rf.d2d127ea7d39ecd393546a116cdfc781.jpg', '32439065_jpg.rf.d1969093b06838dd10d53339c26ca8c2.jpg', '178_jpg.rf.9abd913ea07065085ab1096dec26074f.jpg', '32439169_jpg.rf.ebdd190ae27c793e0cc5e501cd289036.jpg', '529_jpg.rf.7c242a34f590ec41dca8a332cef733f7.jpg', '275_jpg.rf.d5c614bad074f4e0c54a270467f5a817.jpg', '201_jpg.rf.ac08fc791768b693de04749c35a805be.jpg', '332_jpg.rf.f2012cce98e8fe3d3e0b38559bca7ac8.jpg', '9583693_jpg.rf.9b304a1010fd65c12b63d84706cd3be5.jpg', '287_jpg.rf.70d7c6160c3a3eb890d64269f86b71d2.jpg', '9584006_jpg.rf.02935ab0b19e9ca6b178706c90059fcb.jpg', '128_jpg.rf.9c6dcf79e258855aa93eded3057c37af.jpg', '197_jpg.rf.2617377d468792cc00472cdafb613f7e.jpg', '9583954_jpg.rf.64891d9b8f8ce4d533e2393d6fa87bf6.jpg', '24_jpg.rf.f298e1d1a6b0f0b0b17822ff3f1efa81.jpg', '119_jpg.rf.3d861f994688e953102fbf7ccbac5136.jpg', '401_jpg.rf.c3ba1eef42d955f210bbf9ce6a004201.jpg', '468_jpg.rf.f6f5d1f7b00b8fb204de7a7b19c5d431.jpg', '217_jpg.rf.874e20466765d524b02dbe2175f23894.jpg', '9583916_jpg.rf.368ff6060e39aeef37ae933af21be6b4.jpg', '168_jpg.rf.2fab46bcf23b886c71a0deb22fb5290b.jpg', '9583724_jpg.rf.08ef24a8bf137167730d401ec3d4ed7a.jpg', '32439072_jpg.rf.a47e8d5769cf0fcf34b2e5d5811c09af.jpg', '245_jpg.rf.9bd29d097f4386ad1ec66644136cc06b.jpg', '9583657_jpg.rf.1f65943709deab224969a12bd3a6645c.jpg', '9583706_jpg.rf.398f421410a435539122293b86b92251.jpg', '9583594_jpg.rf.9e5ee734c3b42f70205d009c977ca8d8.jpg', '341_jpg.rf.a5afa73c4284e7118ce1a7c7c6914357.jpg', '127_jpg.rf.a93a39bafc9a43b76f53f9a0f6b3575a.jpg', '32439177_jpg.rf.e43f9b939cdf44467e12c8a4a4fd1792.jpg', '9583721_jpg.rf.8f4b6f647f2dbe2e23fef089b3c43d57.jpg', '9583604_jpg.rf.3c01c36d1d6bd0038084e4724c921ed8.jpg', '327_jpg.rf.0618df04eec8e760fd7a5ab37d3e2d28.jpg', '340_jpg.rf.506945e90380c34bf09cb336426cf492.jpg', '9583888_jpg.rf.873566884c3c2738692a202daddd8e37.jpg', '219_jpg.rf.5ec0fe7fed104a3eeef9869ffc441e4f.jpg', '32438987_jpg.rf.e26fd93d39892dbaf00352207f43227c.jpg', '468_jpg.rf.fc7bf02fb3803ebc7f5cec9c279c74e7.jpg', '437_jpg.rf.69ac8076a668e56fbdb50bbfe0f18abc.jpg', '32439053_jpg.rf.c8f36322b93dce0fc2dfe36675cb4e54.jpg', '170_jpg.rf.5e18fc2fa5436c6ca91ca6b10df38f69.jpg', '32439207_jpg.rf.27095fe41290a085276c23a50449fa44.jpg', '9583574_jpg.rf.583f21b5a8600cafb64dc02a0f369529.jpg', '22_jpg.rf.331d4d62113d8b29351330093f579cc7.jpg', '32439194_jpg.rf.ae0d3f9cd3ab6bd15bc5c604621c3a4a.jpg', '134_jpg.rf.6afb1028114d1ea6f40ee95f885c4822.jpg', '116_jpg.rf.8adf9663f0c7dbf825e92f87895984ad.jpg', '129_jpg.rf.2d2b87299e6f002bd6f7e49dc7edb615.jpg', '531_jpg.rf.f8bb7eede2037fab59de09f8f053405d.jpg', '54_jpg.rf.3458c4b1b79d1e8a4a63a154cb3e6518.jpg', '120_jpg.rf.8e32655a35b25e7417b84a0b4fd21f42.jpg', '9_jpg.rf.6ff5e371b0b50437d61de129065640c7.jpg', '9583860_jpg.rf.6a4190c22da42eae486b44ebfbd763c8.jpg', '124_jpg.rf.c575b96f39c92e8adc2f2d7c7246842b.jpg', '16_jpg.rf.aa1b0ac0a0be4088fc23585b9d231dd3.jpg', '145_jpg.rf.29a9b364b920a930bf729cd835119676.jpg', '150_jpg.rf.f6b64624a93e9704ee970bf60be5d5b8.jpg', '600_jpg.rf.acb50cb9175aaf0daf7431e8957db370.jpg', '9584029_jpg.rf.347fa3d093806d65e5ab1478d939eeb4.jpg', '9583931_jpg.rf.8d67551a43a512eb1c5e698970b6db8a.jpg', '4_jpg.rf.3723fb1beab35a95089c9bb656a973d1.jpg', '9583825_jpg.rf.305a37dbdbb19f1b55f0ccb55241b448.jpg', '585_jpg.rf.d99e6fe2e95e2f7e476a9040844fbacd.jpg', '32439004_jpg.rf.04999d5f2a164415e29f6164f9db9d39.jpg', '222_jpg.rf.a265286d5ef9eee661f4881b82f04fcc.jpg', '92_jpg.rf.db985cbc14b5e6f89fba439d1377d0d9.jpg', '32439247_jpg.rf.2e9e86d471da12f156263ab2b6a82264.jpg', '9583980_jpg.rf.460c531a9215d65e35eba7b32065ecab.jpg', '32439254_jpg.rf.cc10a63966674ed53e7dd984afa0d970.jpg', '378_jpg.rf.120b431454fd08347f450c3b9c7d0a3d.jpg', '311_jpg.rf.05b655e8fbe445b419a1cd3dcd539f61.jpg', '204_jpg.rf.2a53a32b6360a657b5d4bb2121526a90.jpg', '442_jpg.rf.0e5040f88a871b5da7dc119bf6d83432.jpg', '9583826_jpg.rf.53ec6f2da3e241ed7354c2c7a596f20a.jpg', '81_jpg.rf.44e697fcaeee4b560f7ca53851863928.jpg', '32439253_jpg.rf.4653078924e0caf4fe1f4c1c75dc0452.jpg', '480_jpg.rf.5c6bd668efe26212bf76d1fef29ae3b9.jpg', '9583872_jpg.rf.c4540492d93f8aacccd9e310f75cc9b9.jpg', '32439313_jpg.rf.8cb0af0ed9c40594ff3f2a52a48d3c55.jpg', '328_jpg.rf.79e1d25ecf47f0192fa5a1b23cf013a4.jpg', '515_jpg.rf.f5b35d451d4ae530d99b942ee415de6b.jpg', '394_jpg.rf.3e93a019f377497fdbe515fa481236c7.jpg', '9584024_jpg.rf.5ab317ac9bff25609d7205e0d10afdbe.jpg', '107_jpg.rf.c9d9ca069947360deb611a86bb9ebd90.jpg', '32439265_jpg.rf.e6e1c80acf1b7f66578ddb4a683069d7.jpg', '25_jpg.rf.0d626341680273a782cb207ffa7ad132.jpg', '172_jpg.rf.a834139a64876735362f7035135f9e48.jpg', '317_jpg.rf.e25c92592fb2263038372890bde3d6e8.jpg', '90_jpg.rf.2dfba13866f6b05e0157d18fd4d4696f.jpg', '335_jpg.rf.d6cb382e3773fc638288a275a86165d5.jpg', '32439008_jpg.rf.cede4b3e4dab823eacbaa28fa8903b90.jpg', '32439036_jpg.rf.ef2601481d7ebfa898bf0d9ca18440b4.jpg', '9583912_jpg.rf.dd3a0dba56747ae56fa6060f368314ee.jpg', '302_jpg.rf.60300d3bbfe4f099a94094e0939598d7.jpg', '212_jpg.rf.6748ea04879316cf91e4811c23df11a2.jpg', '9583992_jpg.rf.fe95666598e94e1bd3fbd4828f08ca99.jpg', '60_jpg.rf.b7c08d8e66c466b00bbc04ab10696af6.jpg', '32439006_jpg.rf.2177d36a7c06f1493ace1d16f5608ad4.jpg', '340_jpg.rf.db327dd9b773b985ab4dfba76e47e07a.jpg', '32439118_jpg.rf.b599de106e4320d93c6d21164abc5219.jpg', '160_jpg.rf.b66b3c8ddd4f6372389462d29d80304a.jpg', '32439096_jpg.rf.28cfb90e3ba144ff5ccf22f45b1b6a26.jpg', '366_jpg.rf.6f7067ea37bc1da82752569d9e098ff9.jpg', '9583876_jpg.rf.16772972d5fc4039156dfbf154440f72.jpg', '32438995_jpg.rf.b7e84c2a8048b5e968ab942f7a06b5be.jpg', '9583784_jpg.rf.7aea1d85f122f003a9796a69357997cb.jpg', '9583961_jpg.rf.b12e5176b5e4f46a7faf279be965bf8d.jpg', '502_jpg.rf.1a88c0c415adccbd3d21c20287e4f492.jpg', '9583975_jpg.rf.2028777bd34fdbd576b2520cdbf6cb7c.jpg', '305_jpg.rf.beaf64c088b59637bbf53845e4b24ced.jpg', '32439114_jpg.rf.d257f65c91fb447db04f522108154922.jpg', '397_jpg.rf.303a43b412680e04d901dc25481242e8.jpg', '411_jpg.rf.b9523982686e9ee0c87ee62eed3a75c9.jpg', '285_jpg.rf.0cc82914bbbc5f3694761df2a10cb705.jpg', '9583955_jpg.rf.8f6ff48b00d5599c0e122b87abea6a63.jpg', '9583853_jpg.rf.fc91b93cf66ca4c94a5165441ccd274c.jpg', '98_jpg.rf.bab6071588b67ad4a0386df4b1662631.jpg', '9583690_jpg.rf.3909ce3de82e3c261a8b1186783755d2.jpg', '416_jpg.rf.f44897b3c7973c1f841330f9a69a7694.jpg', '82_jpg.rf.f7d4f12c18ecd785f9f676dd699f58be.jpg', '9584016_jpg.rf.53b5d8b60fa22a889b6f80aeeed97bb3.jpg', '32439056_jpg.rf.dd550ab2ca3e45cd8174403e78d39b99.jpg', '32439301_jpg.rf.3bd47a13249829292fcb6a004ba9a497.jpg', '9583977_jpg.rf.9238e56bcff7ad2ba012f747acf4d633.jpg', '9583950_jpg.rf.e030219e11b7ce441aa81a0770c9ce69.jpg', '27_jpg.rf.cdfc5e59bf38264f3604dd62733f6656.jpg', '9583893_jpg.rf.a4ad3c2f68953581e766b4ab97837391.jpg', '88_jpg.rf.452196162b880fc7ac29f92913b379fc.jpg', '426_jpg.rf.35276e65bf5f21168338788aa751582c.jpg', '32439245_jpg.rf.0d4ebc13189e042e53c0b7bd09b0e25d.jpg', '32439267_jpg.rf.0b1528d7f11bc88ef93a9bd8c51955e3.jpg', '116_jpg.rf.e4f6e9733483642d8981d710b5f0cca9.jpg', '315_jpg.rf.9480d1c713ed94ef4a06cdbe1b60736f.jpg', '9583741_jpg.rf.535ef4309c42aeb8bf19ecb7c8358ba1.jpg', '247_jpg.rf.1b7c39726da90d24c8e46693fdc202e0.jpg', '358_jpg.rf.f1809e8155602f15668e7097698f6525.jpg', '32439264_jpg.rf.4b87cb916a605e37e7c294354ccd396b.jpg', '9583581_jpg.rf.509df5b76573db3c0d99896d723ce432.jpg', '9583757_jpg.rf.263b76a518762ed247a9ba5a5fa85e2c.jpg', '9583688_jpg.rf.a56bddf946f0a45ffe263c6a58071d57.jpg', '298_jpg.rf.ea15e0fde32edf7ca869f81cb5d8be7b.jpg', '9583946_jpg.rf.3bca088995ae7f7c602d34c029b295e8.jpg', '549_jpg.rf.e8a767029582190bf624615d5ca7dd5a.jpg', '258_jpg.rf.bea39f6c0b8b9c639361f4350155aa20.jpg', '188_jpg.rf.6d3be328a5bb20135de57b878265e2be.jpg', '317_jpg.rf.355209031fd1698913251c8634c5cc65.jpg', '352_jpg.rf.134296a503854f234ef4e9435d034776.jpg', '246_jpg.rf.0486317fff26937bca86edc6545c56d7.jpg', '139_jpg.rf.3d4f129ef43d0b131a33d63654eeec06.jpg', '35_jpg.rf.34075b1a08462b62ead0b99e950510a9.jpg', '32439044_jpg.rf.afd681edda6cf1aee0dcd093d9f6e7c9.jpg', '490_jpg.rf.60d21833f1e3cbf2846264702b7d94a7.jpg', '493_jpg.rf.7ddf147ef4ddc1bd10955b3b7b032974.jpg', '482_jpg.rf.1c8e1a071a5cba42706f3d2fcce2949e.jpg', '272_jpg.rf.3c3ee4b0eb24e91981f978ff52c71020.jpg', '70_jpg.rf.f448b3b27735778c4ff59f01a45ed532.jpg', '189_jpg.rf.f8e9bdfed63fa4bfa1df3124cb965ec7.jpg', '145_jpg.rf.51dd54f82da3eeec0f4d6ad03ed17a92.jpg', '32439125_jpg.rf.3b0a656d245ee42d5a503a20833329f5.jpg', '32439080_jpg.rf.bb245bc3c82ecd58efb423601d732662.jpg', '207_jpg.rf.18b5dad2b88fc3c244cf24363a0bbd8c.jpg', '216_jpg.rf.3e4cbb1374a823d5b971c35ed0ab2ce7.jpg', '304_jpg.rf.20f1daa076e987c69b77061d3751430f.jpg', '268_jpg.rf.efadb1ab91bb3b1e962b0538a1defa52.jpg', '271_jpg.rf.17993ce6a02b0957abeed0e1dc4ee870.jpg', '561_jpg.rf.75830727d69c87650110449f08ec814c.jpg', '3_jpg.rf.50f40cbeb13aa2993432ae91ca9c8983.jpg', '9583633_jpg.rf.e11123fb28aaadb58555d74d4cc6ee33.jpg', '265_jpg.rf.e42ddaa9a9627ee55b8778855a3c3d14.jpg', '26_jpg.rf.2f68d770d27aaf0f6f509f167137dca5.jpg', '200_jpg.rf.674483196eeb6c30ba6d286d29fea02f.jpg', '142_jpg.rf.9c8da585d52b0d4e2976f265f5e582ac.jpg', '313_jpg.rf.62a1f1721feb452c355ed2bceb4d02d0.jpg', '463_jpg.rf.e87a34f6412f166bf9e3256036aedf70.jpg', '240_jpg.rf.97bd1c27438ea1b061ec2f025f8fa34e.jpg', '34_jpg.rf.e46bcd3c795be6e45978b1e3eabd3595.jpg', '530_jpg.rf.9699b4a7b872e3b0ab958417f850d219.jpg', '331_jpg.rf.14ce0822617e5c318add5407d75b717d.jpg', '222_jpg.rf.6a04a121f0d997abea3d6ab30bef3397.jpg', '229_jpg.rf.8cd648c418d2e4df136d24470e98c72f.jpg', '9583796_jpg.rf.896e9a00a994058df6e2889dc5dfc391.jpg', '32439208_jpg.rf.9ee300f7094b7f46e3ff0877325bb0f1.jpg', '425_jpg.rf.bd9a541946924f5dc1d6f3189e77c28d.jpg', '9583883_jpg.rf.5140348b335785b530c73a1105b2ecd8.jpg', '32439201_jpg.rf.85dc6eb8f26fe4a64f1396ff30c0e5e0.jpg', '234_jpg.rf.789ea2f387ca0f3144aafc2487773f0b.jpg', '286_jpg.rf.0ef94c9bcc9adab1dbb41678605dd8be.jpg', '308_jpg.rf.6f5a5672fe5f3b143ee602f44d358eb5.jpg', '464_jpg.rf.6051a72c177ac21ab626c0602bf12f10.jpg', '313_jpg.rf.aa28c1552b481cfdad704a611c153713.jpg', '314_jpg.rf.965838c8586e5be43dc2ea2be1641749.jpg', '85_jpg.rf.f5bf6e4184f538718dcaa40292bdccc5.jpg', '179_jpg.rf.a028fe1d9e549f9df5330c9fcc111906.jpg', '567_jpg.rf.7a41b5fd6e6af0f6ac157611e1c55a4a.jpg', '98_jpg.rf.e0688f4120522b62bff827c2d8614b49.jpg', '414_jpg.rf.7a8e30074b2857fd6e6c7a904c1130cf.jpg', '406_jpg.rf.5a56fc1a64eae2b1b5d068985b9ad3a9.jpg', '454_jpg.rf.ebd1d820718d74387b0214231b9e0828.jpg', '171_jpg.rf.5562eea2adea4be167293d824dafb384.jpg', '32439073_jpg.rf.a36dfd7c9d37f58ac761c59d8136be2d.jpg', '115_jpg.rf.9a344a4fd9c9c10bd01a43abf997d11a.jpg', '382_jpg.rf.05f1ec13436c4935f9f2ff3292495e88.jpg', '391_jpg.rf.8f1dbe1879209d83da2d253e2d447a71.jpg', '514_jpg.rf.cdff8757fcc995b0f87645d143dfd42b.jpg', '289_jpg.rf.bd227099abc313b57e8aa76c17d837bc.jpg', '9583625_jpg.rf.8aaf97713e9143332632349812399359.jpg', '443_jpg.rf.85bf3331b535b3aa76fe453e069d7fb1.jpg', '9583925_jpg.rf.66554a89c7fb8ae464f35b031ce65535.jpg', '9583817_jpg.rf.cce76400ae91fa22c767c3208994de3a.jpg', '9583850_jpg.rf.8036e7726eadc842b521b9855f7d7d08.jpg', '9583615_jpg.rf.dc64438cc781ca99a5799f0a8964cf2e.jpg', '192_jpg.rf.31c10729b141cd0b5168b11bc97cd7f0.jpg', '9583593_jpg.rf.c75a62dbbf05ed4dd16d5600ecd684b2.jpg', '9583966_jpg.rf.f41e558b6af7bb79f69b8a83982afd9a.jpg', '552_jpg.rf.8b1e2e4b1e2ffa0d61e5d8c7dc08da83.jpg', '9583837_jpg.rf.f60e5bca280f849a7af91527f3271cb5.jpg', '9583923_jpg.rf.e977c63dc91e2b42cd91409ce270b95b.jpg', '39_jpg.rf.346068985ea43023e3b6247faacbe592.jpg', '32439187_jpg.rf.6cd539b5968cc3ef3b2200c7628646c9.jpg', '9583990_jpg.rf.cf510cd4a5e56afd5797dcefd6f408b9.jpg', '233_jpg.rf.cdc416ae7b4f1c36b351e12638be6fb8.jpg', '290_jpg.rf.70235e34dee791c87d0e79f4c0c80b5c.jpg', '32439238_jpg.rf.521e960929eb16b044b865729b26a544.jpg', '103_jpg.rf.149f2727bfd27e0968455e1851e1df79.jpg', '511_jpg.rf.08da7e86495f80303bea4a6e7c0531bb.jpg', '9583780_jpg.rf.a6fb43d270516a2efeca5564aac5e3ed.jpg', '9583835_jpg.rf.af772cd71b87aa458bfed2148f5a8584.jpg', '295_jpg.rf.7afd30cb8230e6c799b0db77a82178b2.jpg', '95_jpg.rf.8d8b6c77c991b8ffd7a58111387023bc.jpg', '32439058_jpg.rf.dcedac068eabc4043e29e21602456c4e.jpg', '184_jpg.rf.93eb94c9347b968454defdc986416b34.jpg', '184_jpg.rf.c74ddaa90224cc1f4c44b0304473a291.jpg', '32439296_jpg.rf.3c09219ec7c6dc13ce8b1ac851a6e52c.jpg', '274_jpg.rf.aa20d9d870e3d663a31a51f8f46f2487.jpg', '149_jpg.rf.74b43314993a341c1af73aca12e23d9b.jpg', '339_jpg.rf.63c4f452aa1ef1eea46c87c9a1dadd13.jpg', '228_jpg.rf.08ab21085c44b19afca9718a619365a2.jpg', '580_jpg.rf.d8495125729e9510bc25865d3f8702c2.jpg', '18_jpg.rf.0a75979bad1e72b8708640b464c0774a.jpg', '433_jpg.rf.41fe93af4573a87d1d726200bb64e014.jpg', '557_jpg.rf.f942fe10ac64355f1be35af10f7921eb.jpg', '106_jpg.rf.c19c04b1f2041aa4e56c9799319a3af0.jpg', '540_jpg.rf.3b26016b320e667901aaafc708af84c7.jpg', '9584068_jpg.rf.8d8a5ca59a8ebe7ea3151b79f3a7da9e.jpg', '245_jpg.rf.6210f3648959fbf834638bb9fe7baa66.jpg', '9583679_jpg.rf.41f368d2fca6c5f1507ad5e5fd3565da.jpg', '9583781_jpg.rf.ca5835484e62f71f13d7d72048913fac.jpg', '32439285_jpg.rf.9d44ae9e1366af3c8c21bd53d2f1b7da.jpg', '499_jpg.rf.054b1a71a5603e59bbeee70cb7c8620d.jpg', '9583772_jpg.rf.f01446ea3d333d36c43eb813b6219b0d.jpg', '527_jpg.rf.6ad1aef9208b8f1bb15d6b0128f23f19.jpg', '64_jpg.rf.9e7d169bd48b7f6665cd9117e5c2a395.jpg', '9583969_jpg.rf.cce8220250ab72b877bd1e48182a7f20.jpg', '34_jpg.rf.a08b53b1aa641f59fbdd78ec03650762.jpg', '9583917_jpg.rf.7201ddb8fb681e57a88fb2dd7d9cf763.jpg', '32439214_jpg.rf.2fd92be6896faa91da888e2e09a1e37e.jpg', '148_jpg.rf.c90479848b5b48933c250729c0933340.jpg', '174_jpg.rf.ed3200001ba38acb037c469ea2605b79.jpg', '123_jpg.rf.4a50a53acbc0c34ff2e6f68685a62275.jpg', '571_jpg.rf.05300cd7b97f8d0d7a4cdef474483386.jpg', '161_jpg.rf.bda4acd97ca5a1de692ea5e8d973d16a.jpg', '9583573_jpg.rf.e3bb7feae17c0e6e62d7c0afc58be090.jpg', '9583712_jpg.rf.94fd064ed7ecf80ac892330d8e8e4bcb.jpg', '9583729_jpg.rf.95e6d3678d5e9629c519ca6e2ffef37f.jpg', '9583736_jpg.rf.930f561d037ddbdbe7e5678b2beccfcb.jpg', '32439076_jpg.rf.58ee8491ed5d091e5d4ffcd6b9052b5d.jpg', '583_jpg.rf.13757346f581b870a26265b3416a3c9c.jpg', '419_jpg.rf.ba1139cd590b418b0bf4ab8538fe747a.jpg', '326_jpg.rf.5c72223d5949759623ed27300a122ec7.jpg', '428_jpg.rf.8c5f2e690b535f85d7e45613b8eb76e8.jpg', '5_jpg.rf.760f4fe51aaa826ddee9048f19099cc5.jpg', '545_jpg.rf.c17477f5ea1b2f2ea90840205344830d.jpg', '72_jpg.rf.845bf41f30db72c535f03dd697ad6093.jpg', '475_jpg.rf.3e0d089ed5cac7b761d28ef3188fc5c0.jpg', '32438993_jpg.rf.33148398299013af684f1dee45927bf8.jpg', '6_jpg.rf.906e4083bfb8774d79a18f4cb839cc36.jpg', '596_jpg.rf.1a7fe38fcdd1a55a7ca5404c40361b25.jpg', '58_jpg.rf.b954861aeeb1c6088af9e75d94a87e77.jpg', '508_jpg.rf.4237821e98dd7889c33938c109c46ee7.jpg', '194_jpg.rf.ef3fd4cc2093f9fba54a39d5faaf1bba.jpg', '530_jpg.rf.9da725541394a7ec494ad98cbd8cb143.jpg', '500_jpg.rf.a226bc59185d6fd71f58efb3eea6f98b.jpg', '9583597_jpg.rf.3b97a6bebb3e0b5cbfd17a359cb09468.jpg', '266_jpg.rf.74151a886a44d4a6affda967629ffe6e.jpg', '575_jpg.rf.62d13e829872884f77a7951441fb4ed4.jpg', '243_jpg.rf.3ec7e39bb63079fd7928bf56e2ec2af3.jpg', '161_jpg.rf.ebafe5e4bfff9eac2cb2b65dedb2315d.jpg', '190_jpg.rf.fa0acbcdb48d38900b1fa1ae3e5198a6.jpg', '535_jpg.rf.5cfe802fae29188b9d6dc4b1d26dc861.jpg', '9584040_jpg.rf.ed32218f1c1d4b709fbafbbf0b8da175.jpg', '73_jpg.rf.1f0cef8a44ff74a7e508921590cdf423.jpg', '431_jpg.rf.60a29272caa6af79520c3a9c5ece5a13.jpg', '371_jpg.rf.074af872098c2657089a0aa60d913729.jpg', '504_jpg.rf.48f844d646bbb5dfc975a35f8ffaebf0.jpg', '67_jpg.rf.e2ce3d818f76c2ffa4738503993e8ea0.jpg', '599_jpg.rf.2201594d46349339de9417bcac857eb9.jpg', '267_jpg.rf.7d09bf7072a35118d75f818c7de0e87b.jpg', '509_jpg.rf.c0fc0abf73444648b36d4fb912f89023.jpg', '32439219_jpg.rf.50c5af658958a795ba7e69ea2b2843d0.jpg', '32439107_jpg.rf.81bf02fc4c7268e02ad16f2b49dd6a62.jpg', '165_jpg.rf.8d665cd68ee1f0c4143b10f9dfdb7b89.jpg', '32439251_jpg.rf.d638d1844e4db2cf955836a0744dc691.jpg', '363_jpg.rf.28288495c9accf0e5a441d443269ff33.jpg', '32439234_jpg.rf.ff4890e3623e0e519b125bf61859fd31.jpg', '172_jpg.rf.dc2fedcc52643bccc9e624a8506ff98d.jpg', '396_jpg.rf.4d69b4e48bb080a1b8f0de6f6050392b.jpg', '9583873_jpg.rf.8319db84b18fef091ff29030f1fdb394.jpg', '9584025_jpg.rf.fac95696a51f932f2d50d11bf8a5f49d.jpg', '9583902_jpg.rf.dcab02b3ad0a4035f961516b89de18a5.jpg', '78_jpg.rf.1b3b9644daf2730bee119b9c6fda699d.jpg', '86_jpg.rf.9ba65fc8fcb240dfca9927a672697311.jpg', '9583748_jpg.rf.2cb391950f5bdd8a6a6668649da8ae55.jpg', '483_jpg.rf.ca393c39486660970a3be2a6010f0f05.jpg', '473_jpg.rf.daf15322ecad1ddbe47aadebb8b1f889.jpg', '560_jpg.rf.f12e16de0cb12cced26eb16732c08aea.jpg', '32439055_jpg.rf.b0b415f0ddffacce77d38e76199fd986.jpg', '307_jpg.rf.d1e3360ae236eec338c0ef8c9b66dd63.jpg', '9583915_jpg.rf.1ec8ef8b38a783abce9426ab508e509a.jpg', '9583723_jpg.rf.598dad0fb68730a58945445616be4d96.jpg', '63_jpg.rf.0c4c1efe3e9f43348267641454889cb4.jpg', '137_jpg.rf.9821029ecaff15157d9cd488d5ea541a.jpg', '544_jpg.rf.b3ecbbc3b409c04fbe6747527f62c9f6.jpg', '32439284_jpg.rf.2d5d796e6bb8b8b75d0b170f5eb07bab.jpg', '9583904_jpg.rf.abb78fd54a8b1e3ef0d95c5fe8d78e10.jpg', '9583696_jpg.rf.3f22db31095ba641c7b0b85eae377089.jpg', '9583999_jpg.rf.ae98097e4db67e7c0a228bed9647d58e.jpg', '255_jpg.rf.4091b5e94d96d5a03795d238526104c0.jpg', '385_jpg.rf.c651c7191860c1b71f8a21857a94a378.jpg', '450_jpg.rf.fafbc118eef448ac86a0cea3e4db5a83.jpg', '32439218_jpg.rf.cde77ed0ec70a124e4f040f469fb0d8d.jpg', '32439133_jpg.rf.d886cf740765647c4b02b6ff68897623.jpg', '32439181_jpg.rf.885e2a607664518af8a6ad35084b4920.jpg', '32439057_jpg.rf.b0f3cef863ebadf97a977f7e44680779.jpg', '32439236_jpg.rf.67b258c5d0c627c5853d4decbaf6ec85.jpg', '9584035_jpg.rf.630e25f510d29cb9f4441102f18d9cca.jpg', '599_jpg.rf.b767a95e03a87dfa31c2f713981434ae.jpg', '32439078_jpg.rf.61938056f33ff621dc9dd311a1bf2cd6.jpg', '470_jpg.rf.a77e34764a35339025810e02e246640a.jpg', '191_jpg.rf.ba43b3a8aa6817666566d65d7544d953.jpg', '9583928_jpg.rf.98e9fafe7fd1802cfebaec0e52dcc830.jpg', '570_jpg.rf.8d2a97ee31ca02e3b0d13bc2117af49c.jpg', '143_jpg.rf.20e3985ee5e9851b5b62d75c987ea25b.jpg', '112_jpg.rf.6e6835a5c605ff5675b44bd57ec2058b.jpg', '32439156_jpg.rf.bd1c9169206a5b77cb0393b794154903.jpg', '2_jpg.rf.3f685bd9db02ec24d6aa0d71f29087d1.jpg', '548_jpg.rf.c650db6a3b55ed051e6984d198943b59.jpg', '9583989_jpg.rf.b2e36d16dd34a0b88365cf1039c888b0.jpg', '568_jpg.rf.ee481d4c89b454376ef76196a7827433.jpg', '32439320_jpg.rf.9e1721bee6a28f161fee47528d990676.jpg', '268_jpg.rf.5c178485cf1b37e9e3788d5e2e35e6cc.jpg', '9583988_jpg.rf.7b329463b3f5899caea2d997fdd2fc7a.jpg', '9583891_jpg.rf.dae1d54aaaa9e52c34f15aa2e43d9448.jpg', '105_jpg.rf.70293e8b7526414b040da078d43c6a2a.jpg', '416_jpg.rf.5195874f0111608902c83116283ebecd.jpg', '9583818_jpg.rf.79bc11ebb872921ee1b327962dc538a1.jpg', '538_jpg.rf.11cd594495d706d13651f61c61cc2594.jpg', '394_jpg.rf.ceeba4afc3be2a808454ae1348a147c6.jpg', '457_jpg.rf.067b85dfad7942bc54a9a1b4a7737e8f.jpg', '324_jpg.rf.6f0e1f1bfbee559398f9ca37e89e9389.jpg', '201_jpg.rf.0cedc8d51b8725f649c575c8e21097af.jpg', '523_jpg.rf.d7ed8b08ddb0c63404923d55e5a822a9.jpg', '9583965_jpg.rf.1c19963306132b33b3e29531ce375b9c.jpg', '206_jpg.rf.ae06ce60af1c05f71ff4651a4a6e2d88.jpg', '511_jpg.rf.7e1c286f34512885c104864b8490c7c1.jpg', '292_jpg.rf.17a25ebef3e5ddac5f20a68739fc7466.jpg', '584_jpg.rf.c3ecfd9729a911428b3c0430a550072e.jpg', '9583776_jpg.rf.aa09b63363672528fd10ba209c325e39.jpg', '501_jpg.rf.11d95901e90f4c41c719ed3275c9be04.jpg', '197_jpg.rf.68558aaac1c778409c6c69df4dae4a7e.jpg', '233_jpg.rf.8e981fbd72fb2cebcba82f2ae0f39148.jpg', '47_jpg.rf.fb606889e3788c9f63e2860748c9f47e.jpg', '32439222_jpg.rf.ee2bca77dac4c97bdd61e0f8d23c710a.jpg', '473_jpg.rf.8fba03564aac0a189fa0801cae28f968.jpg', '32439164_jpg.rf.20897b21a9134e6d947baa87e328c762.jpg', '67_jpg.rf.fe888450cf68852c080efab6c90bcb7b.jpg', '9583895_jpg.rf.efb320144892e88919a0c5bc503948cc.jpg', '168_jpg.rf.03308792b7b9cee5aa639d3ba2c10445.jpg', '173_jpg.rf.7f638db4e5a389699daf2e88dc0bdfc8.jpg', '270_jpg.rf.9324be5c4b7cff44ee7f8d70c5ac6b7b.jpg', '62_jpg.rf.55cd95446bc3d0cd55f87a0da0c5e527.jpg', '514_jpg.rf.77be8b8a55a546865e2ab439576340f3.jpg', '314_jpg.rf.222b84184b0fe0d92d22fbd4a68a204c.jpg', '390_jpg.rf.1915b46d598fa24fe178fc45b0825f98.jpg', '210_jpg.rf.18cfa008657a71e852c6b23b87a21882.jpg', '9583770_jpg.rf.f8c396e8f0c78d4f640d001a4728ae7d.jpg', '180_jpg.rf.1a524ddd90f59e1fc7e8a94ec009138b.jpg', '513_jpg.rf.00e5240c09636dbbca47dec15c305bd5.jpg', '9583738_jpg.rf.c743b58b62687989eebfcf96006f92e0.jpg', '9583718_jpg.rf.7c73871a99774a5819c053c00bdd3a40.jpg', '9583797_jpg.rf.3be345f6a07098e11ebe590f24c85d07.jpg', '238_jpg.rf.fa539341f2418c99f76ae17f084cb949.jpg', '9583703_jpg.rf.86b1d4373f305b75b84f414d8d4fa9c3.jpg', '424_jpg.rf.10ce83908a5cac9cee5fe0c4eeab3ea5.jpg', '223_jpg.rf.d7ebb5614907b89ec1c39219925926c3.jpg', '302_jpg.rf.985c72f0ac611f61a5a5f05ead534cf0.jpg', '99_jpg.rf.67b9a59dd2686c2c284a675cc6dfa6f4.jpg', '544_jpg.rf.8cf86fce47f63e517ea022bbde574a4c.jpg', '32439204_jpg.rf.15d2f5111ad94748270b422b5a6053d1.jpg', '9583577_jpg.rf.14dd24343934fc97d876ac7b1b0a9335.jpg', '417_jpg.rf.ceef76a00e7e706c8c23d4b0b7097895.jpg', '347_jpg.rf.faa78f6de3e3008233560bb40c7f552b.jpg', '32439155_jpg.rf.36422043099ccd9d24cd1c2864b91fae.jpg', '177_jpg.rf.24d7ee7869ec4b54fe8cc80360c33b44.jpg', '525_jpg.rf.93453103a0b76d07efedd9bf458e0c08.jpg', '343_jpg.rf.662997847780d2f2f2436722e742c67c.jpg', '131_jpg.rf.dca13272e1e369178b0e511f1b73165a.jpg', '264_jpg.rf.277788fcd90e25d12cca606a836bad95.jpg', '338_jpg.rf.624ef3f61e931318d261a7a3557ea73d.jpg', '9583730_jpg.rf.8d64a0727290468bb7316335b0736ffc.jpg', '79_jpg.rf.cb118a688aa32e49346c3a303659299c.jpg', '32439136_jpg.rf.6e8f8187e723bab383641aef16e0feff.jpg', '478_jpg.rf.3668528b28fabcc7d8e8f1271d9b2f4a.jpg', '397_jpg.rf.4083283395eead660917cb224c19b9bf.jpg', '9583710_jpg.rf.f95742430d0a980226e25872067c483d.jpg', '597_jpg.rf.2380c72d1b32c9902cff2698015ede87.jpg', '9583636_jpg.rf.a52d05a059f54a751c4e4bef3645a78b.jpg', '9583996_jpg.rf.02e8539f36b2d30f2eadbc7caad8a028.jpg', '319_jpg.rf.536b55c32af608bbe7d28a9e3d88b3a2.jpg', '9583889_jpg.rf.232d91b1753ab433b1ab1ad54238f25e.jpg', '232_jpg.rf.831283375e34d9a28b3b703974742dfe.jpg', '107_jpg.rf.ef2219d0c4bfae1f24d452dc06333c80.jpg', '573_jpg.rf.d6af8a43df9b6f51dc670d721631caca.jpg', '89_jpg.rf.2a074a0984c782ccc5a2b520c0e2cb23.jpg', '32438969_jpg.rf.169279318efd28f11e79e5a2f1f16262.jpg', '590_jpg.rf.5adf9797969ef08e642d83d350e01dcd.jpg', '32439128_jpg.rf.0e56a22cc35cd34f0b4816d55d2cb63b.jpg', '137_jpg.rf.5d07bd425674883e4c71a26f1d62b5a7.jpg', '32439302_jpg.rf.ebfa8d200c12581bd0658e534d000213.jpg', '64_jpg.rf.84f0e86d1b1ae31114691fb28ce16044.jpg', '9583890_jpg.rf.e94ef574caf27d4fc04b5f360f0e8d10.jpg', '499_jpg.rf.0694693cf54c5756ca58082a57a75fbb.jpg', '448_jpg.rf.0e22924aeb14794ee348e6b460218065.jpg', '32439231_jpg.rf.ea04abe1946920eb054b702a1ad5d414.jpg', '9583995_jpg.rf.f8e9f203827dd0cd405eedecd175560a.jpg', '9583711_jpg.rf.106b4962bcf2578b6c8e9c35a48552b6.jpg', '350_jpg.rf.52cf9682219caf73fed3a8373f0f54bc.jpg', '9583971_jpg.rf.9cc6d678e0f6dc120a031e7b21a38d3c.jpg', '229_jpg.rf.3e69533f8d7fd93d7e3ddc8ae163b68a.jpg', '335_jpg.rf.c40e06c794a3374a1106159a884fc135.jpg', '9583994_jpg.rf.d41532788e8a5f62cfad43dda8775a68.jpg', '9583691_jpg.rf.9199d361777f7fa156050be9aec605fc.jpg', '32439306_jpg.rf.b62e86aa2dd39f5e36474ec16a1cfa62.jpg', '32439046_jpg.rf.4da0c8a711e56e83181a3f32917abb9a.jpg', '96_jpg.rf.02520f1ef1a1b28d7cc4399b12098f5b.jpg', '430_jpg.rf.8af2d05aac00b9bb88a73ea97f58008b.jpg', '133_jpg.rf.3ec6b9fc0a02cfcaca59f8de72caffce.jpg', '368_jpg.rf.ab6e6abbd3ac46b198660f886c65bb9a.jpg', '131_jpg.rf.60d4049f16d1193335c81b879d7b2d6b.jpg', '560_jpg.rf.fd05f6144abfaab4501cf05a21d892f3.jpg', '9584071_jpg.rf.783d91ffc7545cff3be2e363343d1179.jpg', '32439110_jpg.rf.baf15126d15b40a58d990ee38cb76ab5.jpg', '246_jpg.rf.64789b1700512f19deb4b82a75aa8134.jpg', '32439221_jpg.rf.c2bdeebe4ca70bac2e386aa048351abe.jpg', '32438988_jpg.rf.42257ac6b68f9ae7b9e5b9219f580889.jpg', '9583613_jpg.rf.df1c5e1bb026d16d78a3f68f72e90758.jpg', '157_jpg.rf.c27b2678d8d6b845cec319835661850c.jpg', '489_jpg.rf.3b9dd7318d29878278c3e165b7808e9c.jpg', '32439292_jpg.rf.01a4e019e63119ec136441912a41d5a6.jpg', '9583943_jpg.rf.c44838a5afa35c29984a521cc77d4e91.jpg', '9584048_jpg.rf.4983510abfa1ea07f1ee0cc0ffd3b28b.jpg', '536_jpg.rf.e104d8393af2909f6577de5d2b8fafff.jpg', '9583758_jpg.rf.b7a258b5f35a3d53468bb7c0d9d7e696.jpg', '32439094_jpg.rf.cee2a06c2c9838393d83142f9d3ad17e.jpg', '351_jpg.rf.827c5765a35b8f9dc53cb314db529cab.jpg', '32439141_jpg.rf.9f8319ed3000a081ce536348510b9263.jpg', '449_jpg.rf.e965ed352b11bd8ec8205b0cf06718e8.jpg', '9583689_jpg.rf.93ddae2fb96c7734451973c49d4eb4f2.jpg', '484_jpg.rf.13051c3ce0e5a592e112737758585a8a.jpg', '32439147_jpg.rf.c18c735c8ed69d70215b93ce16e8588c.jpg', '9583728_jpg.rf.d268da743576d1f442a853d71b01b0ea.jpg', '10_jpg.rf.9c8ceb1ee52f133cde733f970e4b4127.jpg', '82_jpg.rf.1e50a909ceb1b3d82e03f520368bf563.jpg', '32439144_jpg.rf.753296cb6a9e2600ae99384ffb640d62.jpg', '9583617_jpg.rf.0954ce313fedfd494aedf29298905230.jpg', '32439250_jpg.rf.f5105b67656026838e3aa739238fafc4.jpg', '221_jpg.rf.3d88502506aac47561464f6dcfcd950f.jpg', '9583609_jpg.rf.73afa4222e9da6b9d840be45fc7c4fa7.jpg', '9584014_jpg.rf.0f90aa605446f65b3f95b21c88830016.jpg', '9583993_jpg.rf.d8c81375ab1b7960197d5349436a4710.jpg', '9583686_jpg.rf.a703140ac87e02b3cbca33203619c64f.jpg', '217_jpg.rf.7f45cc77abda03bfe901bc76792ee001.jpg', '32438974_jpg.rf.99fcd701c33c88607e3b3c2373236e8c.jpg', '9583717_jpg.rf.fd9aba786d783c3f87a28e8cac7ba2a7.jpg', '9583767_jpg.rf.b43430dd5b236af7b1374f627648269a.jpg', '299_jpg.rf.0759f3e77d99526035dbce8e1de12f2f.jpg', '248_jpg.rf.93e4f2f16252ef11308d6f58875e1c7c.jpg', '138_jpg.rf.5b232168b5c53387b1055c7ec53b18bc.jpg', '415_jpg.rf.c373977d3d079f65b98d0761081a29cc.jpg', '9584053_jpg.rf.4ace9e75ce5bd36769f5491ec9d118f2.jpg', '305_jpg.rf.39fd337bedceafa5f8b483a34826d624.jpg', '312_jpg.rf.741e1090f6e2e69d50c82f3cdf071ff1.jpg', '9584042_jpg.rf.f31792acfbf16f70911f1c1d23b67f38.jpg', '593_jpg.rf.db3760e645522099faf22360c87477df.jpg', '32438986_jpg.rf.4b9abb86cdab22acacb49bf2b8e6d3ff.jpg', '9584034_jpg.rf.1dc692c1507e874f29f522b33552dbac.jpg', '32439105_jpg.rf.7c22b3c93215a0b97af7ab5ef52da6f6.jpg', '198_jpg.rf.52513504d7fb67a25742997a07ca4079.jpg', '46_jpg.rf.5db08c52e7a5d70a156849a42ab2103a.jpg', '32439167_jpg.rf.714bf9a3c170c7f14e5996d237513a24.jpg', '32439054_jpg.rf.5c758342eccadd793cc60e8f3db7af1b.jpg', '333_jpg.rf.0262b5ac7f3daa45db7632c22713b076.jpg', '35_jpg.rf.d9362cb7a2a1013760d88aa11d7c56a1.jpg', '47_jpg.rf.1cea94bca5e5acc45a9a0e87a325cd39.jpg', '32439033_jpg.rf.1008212bc88979cebfa02e1f07e7be79.jpg', '467_jpg.rf.65fe5e301c891e5fa96af35281b479cf.jpg', '9583716_jpg.rf.ef695fd6a10d8886ec033dc4e70f7d8d.jpg', '93_jpg.rf.2a0cb572b255cd0f423498be73ba2720.jpg', '9583572_jpg.rf.56e4aebac074f1343f1da26935173313.jpg', '32439038_jpg.rf.e5258d46dfa8a7a37741c5280f1e47dd.jpg', '32439127_jpg.rf.b2caab917bb4e220fd49d7fd8dda334b.jpg', '9583587_jpg.rf.d47fed6424da61ade5df415ae433431c.jpg', '28_jpg.rf.883cd2971dcd8015c690750ff73d5b13.jpg', '500_jpg.rf.e10ccb60af56cab257571a5c3d159d79.jpg', '132_jpg.rf.adb145064bac8138ca9408da5b6d46cc.jpg', '84_jpg.rf.49f7062c4c78e38e3ba2a13abdd00f8e.jpg', '436_jpg.rf.155b218d3c71ff6545233c834a16f78d.jpg', '392_jpg.rf.819d19d03c88c99074b77aae746aa780.jpg', '296_jpg.rf.c12f1d260fe21de38756f1b94c7d1db0.jpg', '32439213_jpg.rf.dfd989e3532d7ae32f0570e7d8286398.jpg', '9583960_jpg.rf.8413038df215bb0c1f93fabe057136a0.jpg', '578_jpg.rf.fa5ca64cc3550ad8369242c01f7004e4.jpg', '108_jpg.rf.a31453aff3c622d9e64857fd81194d15.jpg', '32439102_jpg.rf.dc60c6aa3cb26690939bf625f63d3745.jpg', '505_jpg.rf.789a94841176ef7ae9b69a645519a3ed.jpg', '32439028_jpg.rf.e433290491264594fb39dcf8999a6255.jpg', '495_jpg.rf.a4bf0d56a45d1193c6fe0cc8f14b7bd2.jpg', '297_jpg.rf.ce2ca587c2f9db6b1beb487d8ed49777.jpg', '55_jpg.rf.de4f82aed78374b8347e34d7b629be76.jpg', '103_jpg.rf.d753a3c73b24cbdb5e356b8f5c0c9637.jpg', '97_jpg.rf.1a524d13ddb40c5996122e4ab44562bf.jpg', '29_jpg.rf.481bfc2c606d9687da1189b1203e1219.jpg', '32438971_jpg.rf.8a864a47b546b4ee81ae1627b90850e5.jpg', '9583596_jpg.rf.a56610fe38ac661ae9167fe4ddf40bb9.jpg', '419_jpg.rf.b970b1b676fe5dbcdcfbf5be1dc9464d.jpg', '209_jpg.rf.29f5af33626a70d7d23be18045818077.jpg', '32439239_jpg.rf.98e9c0882b9ef6a7c402c45b84674a41.jpg', '9583964_jpg.rf.c5c6a05d3243113addb2f7a699443187.jpg', '380_jpg.rf.f00a7c70c852b2ad378ff9d8ba70f8b3.jpg', '9583785_jpg.rf.f87248871ff53707021e1e71bc1cc412.jpg', '9584028_jpg.rf.d9015a24ac76613200a4619906dc1fd1.jpg', '141_jpg.rf.1452c008481c1ffcb32ac54433cf47e4.jpg', '348_jpg.rf.cde8c934dff6c89562afc4133409949a.jpg', '9583983_jpg.rf.dce37ee0980b585170339fe82a6d9542.jpg', '153_jpg.rf.46bfd4e8e8f0c32deb6ac8ae48cc4ef6.jpg', '564_jpg.rf.86f4ede9dc7ec9dd4a134f7e62e67c28.jpg', '9583719_jpg.rf.d3a8189de07d301d261c8d7c1ed7a311.jpg', '441_jpg.rf.f9e8473ad6436cacc134c59a49d67202.jpg', '239_jpg.rf.64c5e7dc3b914870ac93e0073225b8e3.jpg', '177_jpg.rf.64513a53cf62a46a7efe072d25acee20.jpg', '9583792_jpg.rf.46de7e2811634516038ad9803e8d807d.jpg', '518_jpg.rf.ce6ccca5bf2307082ba576be16aa12b8.jpg', '565_jpg.rf.378c6bdf0de9c797e37164adcdc899db.jpg', '32439059_jpg.rf.60be995e1a577d99fc79dfd7f919f2e1.jpg', '32439196_jpg.rf.282cf608797021404ec13b1268e851fe.jpg', '181_jpg.rf.a92a2ba2b1fb22c8f47d765693aa5fad.jpg', '330_jpg.rf.f60948128100e2ffb37af76fd19ec7a2.jpg', '9583827_jpg.rf.0b4ab9e054c3929117469c5d92c09277.jpg', '15_jpg.rf.b66acdea23922becc98a2379800b4fdc.jpg', '361_jpg.rf.6aa31e8e7bda824df31f711dfde9e82f.jpg', '32439269_jpg.rf.9b12f95d089cddb0f2810d4dd84aa3c5.jpg', '191_jpg.rf.a814796d94dad6a82a269e3f4da3fd92.jpg', '32439174_jpg.rf.77034c31f7e644457e5c3205e1335aad.jpg', '176_jpg.rf.4eceb9ad3546bf78f3bd20a42f7319c8.jpg', '76_jpg.rf.b9da8c4ef4204cc34c6dd6f9b22198e9.jpg', '342_jpg.rf.7e745170f91900e0b5c7ce3e11204e4a.jpg', '36_jpg.rf.b9cc3041bea03e8fa0b6bbc37f9b659c.jpg', '518_jpg.rf.296fe3a7e8e0ac09665a73dc916b51e1.jpg', '9583795_jpg.rf.41d32a19d6a27a289cff924482619479.jpg', '11_jpg.rf.dfd1a12425f43df7f86301c18fd622b7.jpg', '32439020_jpg.rf.bb62024fc8c08b9c6664a567ef63a6aa.jpg', '105_jpg.rf.4ad93806cefa150a4a8bb14477688c11.jpg', '9583671_jpg.rf.eb500ff2fdca37ac4e4b364d99daf6bc.jpg', '32439121_jpg.rf.3aaaa89dcdad47bfd80e304e905788ca.jpg', '9583863_jpg.rf.6215670778bc1c98ea0491513565eaec.jpg', '9583848_jpg.rf.b930efb8ab319e2b03f44a70c0e38fc9.jpg', '9583659_jpg.rf.1f3dfdeb4fb28ea10afbd7338be4acb2.jpg', '318_jpg.rf.63ba09ea52e2c5ef7acd5cf07a33fa88.jpg', '410_jpg.rf.6228f4e4775976d0ae69995cd0c01540.jpg', '9583769_jpg.rf.a296a3731921170ddddf58b32058ff8e.jpg', '9583782_jpg.rf.fc30b2bfa94bd0911cc9889805311ffa.jpg', '552_jpg.rf.84267db84a5b4b5de9a98b0337bc3f31.jpg', '9583583_jpg.rf.58b93e8e3fb22348c26b204e95f17dd6.jpg', '9584058_jpg.rf.1411b1d56adfd9f6c201154a653ba148.jpg', '329_jpg.rf.fc17c3d285a95a61e6ccf86d117f0304.jpg', '527_jpg.rf.fa2f46ca7df5f57a92f097675ac67bfd.jpg', '53_jpg.rf.d9a86bb5d83e1c9b44337588a87f9073.jpg', '9583981_jpg.rf.e4016f18a442958b053ab7cea42033a2.jpg', '32439271_jpg.rf.f6e1353b04a85c85c5f09fd1365f7553.jpg', '9583673_jpg.rf.3b8edf73a1f644b999e8b8f0ee09a8db.jpg', '32439077_jpg.rf.57f8059424b0fa2438c2a8ea0635b895.jpg', '315_jpg.rf.c86e7fe8d663b2eb942816fbded3247f.jpg', '32439322_jpg.rf.5f5dd7a0b6abc3361747bd661e81521e.jpg', '587_jpg.rf.62288a7510e6a17b6c5d147d71cfc72a.jpg', '9584069_jpg.rf.36806f77cc7fd4836cf6f4491b93b6be.jpg', '494_jpg.rf.1172c1b500ad587c01271d28d9deb6bf.jpg', '458_jpg.rf.db6e89f2fc7bf8c449ce45b8da7624c4.jpg', '32439232_jpg.rf.c75baaf28957d29f498839b5dcd5e858.jpg', '9583937_jpg.rf.8c43ecd6d1c2d4922fcca2179f2f8275.jpg', '159_jpg.rf.5673a4ebcc879296c7bfb42ac4b26e76.jpg', '390_jpg.rf.8906bc141faf037d486bbb600b894a19.jpg', '256_jpg.rf.b1feb3d307a477ea9433ad7b2ed2b708.jpg', '126_jpg.rf.9de68ab0c2aea98b1fb011489f91aa25.jpg', '32439025_jpg.rf.c55e9de445d114838dbfae60ce0ae1e3.jpg', '142_jpg.rf.b23ba056da04e3c37c0faaa461b08e80.jpg', '32439007_jpg.rf.dde0cbdd1dc2bc6deee913dc26fa0124.jpg', '32438982_jpg.rf.89f95f8501f19a8561dd140e374a0bba.jpg', '408_jpg.rf.a584f44528b972242ba1427f1eedde04.jpg', '32439312_jpg.rf.b69a7ec5792da9d1fa5ed2bd0fa1ecc4.jpg', '564_jpg.rf.a08eeaa1a9dfa8328dce995707f9e0a9.jpg', '203_jpg.rf.b48e3ff563a0ad0b63083949bdc58658.jpg', '541_jpg.rf.58e6669c790d23570736f91f5ba21a70.jpg', '9583855_jpg.rf.807da20d344bcf5856740aa86d283aa8.jpg', '479_jpg.rf.939370bd76a2e8a06871c61aa9e5c535.jpg', '563_jpg.rf.2f33a2c72f35e4b322e3d8c7bfaaf033.jpg', '32438989_jpg.rf.30efe901c55159003f32f352a2712e21.jpg', '56_jpg.rf.864f4f2f9c50e721e2f9fb6658fb49a0.jpg', '409_jpg.rf.47800f180aea8a8c881604b528586fec.jpg', '273_jpg.rf.a00f6e5fcb250c45dad35a184c47ba75.jpg', '533_jpg.rf.869f8fd7c38c054545b8b805c7f730bb.jpg', '9583831_jpg.rf.3e00b18e91ec7edec80691fe54da2459.jpg', '258_jpg.rf.b0ec9870e4e828890c0038723124d1d9.jpg', '244_jpg.rf.803ebd1f709d0d2998bba25822037320.jpg', '354_jpg.rf.d59668b382363fd0b6659e2ac28c8c78.jpg', '496_jpg.rf.84e9747c215a0e63b6a36ec53240126a.jpg', '272_jpg.rf.25cf94490916660060f70a6520a496be.jpg', '9583701_jpg.rf.da8cb248445e65047d665445aedc6007.jpg', '32439203_jpg.rf.c725e2e066274494123a43489f9993c9.jpg', '9584005_jpg.rf.300986dbedf6dd182f204585b7b3ac45.jpg', '32439223_jpg.rf.e65aa6e1060d36c1416bf9eb96a30298.jpg', '9583773_jpg.rf.4d08062361b040799540ee1fa1648c1f.jpg', '166_jpg.rf.7febb35a78b55a1bcceb47d29d60cdd7.jpg', '9583627_jpg.rf.86bcdc2dca56e1e1d74ff6ae6405ca8b.jpg', '37_jpg.rf.1ef8685f0ba67225b03690f878973c08.jpg', '406_jpg.rf.c6f15d796f164f3b4b0e73b59beceb96.jpg', '160_jpg.rf.9c6d7aab4f5c143b89f7dd02dd6e8518.jpg', '466_jpg.rf.7497e1ce4be7e9a865063d43325bbb7f.jpg', '104_jpg.rf.e6c4fe34e3e4e1185d309360b62b4afd.jpg', '568_jpg.rf.5849c11e51ed51b3307cc19968448cea.jpg', '40_jpg.rf.82a1b8a82d1aa76b669f5e7ca5d3998a.jpg', '434_jpg.rf.497f02fdc37973f69d9724a837d4671d.jpg', '537_jpg.rf.689dd0071d3f9ef808bf48e389de1e0a.jpg', '9583984_jpg.rf.c6f1039bc97f5ecfc149fe288dbf7b1f.jpg', '392_jpg.rf.a642d9c36878a4c848bfa0b56ee1b7de.jpg', '32439131_jpg.rf.fc5a2e8f960ec25cb86a9fa397298db7.jpg', '32439268_jpg.rf.34ca82559ffb3e2a0ad2188979f6d6a8.jpg', '242_jpg.rf.3fff1148670f77fc3432c36671331a8a.jpg', '224_jpg.rf.53c8cc56d56b433bb46e23723bc0236e.jpg', '347_jpg.rf.2aed85c08e8ef5fea87ccda869d5f664.jpg', '9583607_jpg.rf.3ed227ba0e3325f8bc1e3c03cebb97ef.jpg', '32439233_jpg.rf.19b4b8e89651c4376e67fd605dd530f7.jpg', '372_jpg.rf.20c0a8ff83415238823502aa260f8b2e.jpg', '43_jpg.rf.a3f5a13507373359889bbcc3b0dca89d.jpg', '32439112_jpg.rf.ee326d126c016ec01343bf0eb8974f71.jpg', '300_jpg.rf.f021098bb6a14770b31a6add17abc47c.jpg', '203_jpg.rf.6a3cc52023608fc3039a8610e173d5b8.jpg', '526_jpg.rf.9d517e4497ac43ad4484af6640554955.jpg', '32439095_jpg.rf.2e96e535a3ec4c1305cc5f62a4c09be2.jpg', '32439205_jpg.rf.06e870e0ca284c48119f471e0e75f282.jpg', '32439122_jpg.rf.f6f7fd240447641f760713751aa9adc6.jpg', '9584011_jpg.rf.142804fbfc360ff27137abc1da4c1c45.jpg', '9583588_jpg.rf.6bbca92f832472b065ea5fca42d4e21a.jpg', '548_jpg.rf.8aa7992bbcb69be1fc803f02d15001d0.jpg', '594_jpg.rf.d76e40cdd97bc6eeb5ac1a9e09ea339e.jpg', '32439161_jpg.rf.e6c20b755ebc53424b55eab5819800e4.jpg', '32439015_jpg.rf.39758a5ffcd6613aee57d083fa4f81b8.jpg', '162_jpg.rf.ee7d357890dc1b871a1f81b64ec354fd.jpg', '9583804_jpg.rf.bd5957fff3ef78ffffac5c5ab60c74fb.jpg', '432_jpg.rf.4a9b8c125780f799bb784863c0c479ac.jpg', '30_jpg.rf.5cc011a418d0022688cff75408961ca3.jpg', '358_jpg.rf.6664ede306d9e822880abc0e86adb07c.jpg', '32439172_jpg.rf.2947fbf0608323832a53f8cc8a871f29.jpg', '577_jpg.rf.6203538ccdee7348031492fb19dcd1f3.jpg', '123_jpg.rf.8b31a9d0d5440f5ca0346f8b994e3c55.jpg', '506_jpg.rf.ef08f4b53b59fadb26d8d4bd1115ddbb.jpg', '32439138_jpg.rf.ec0e56ed30aaf5dba8d81bd6a2eb825a.jpg', '424_jpg.rf.4dfe2a11898f8685c6e1007a0caff572.jpg', '387_jpg.rf.875033877d037125b689b4c6f3a0d333.jpg', '9583790_jpg.rf.fd54c02e7bc749425581372d057166ec.jpg', '9583619_jpg.rf.3c8c8bb6a380b33906640bb4c8afcdb9.jpg', '9583602_jpg.rf.666ddfdcb9778f23c0ef54f199b3541e.jpg', '235_jpg.rf.b3483b693f3ffd58beac0b639194bfb0.jpg', '154_jpg.rf.aacc851c775a0374e8f37d12c23e95da.jpg', '9583998_jpg.rf.83d58eb029fde55009429ec3576c1c9f.jpg', '9583953_jpg.rf.06ffdeb3f8f1bbfd4d7c17b668cb5642.jpg', '111_jpg.rf.76092fee9da08b18f69f29529418bdc7.jpg', '357_jpg.rf.fe1b1abd1250a0161c914c245cb69127.jpg', '353_jpg.rf.811780b40cc81d5850d897f733718433.jpg', '554_jpg.rf.304c940122ff9aa49e37931304e787d7.jpg', '9583727_jpg.rf.be5a9a76a00708922c7b8a16b36828ad.jpg', '80_jpg.rf.d640f0259a6e8bbfb41c221c3a226b7e.jpg', '9583865_jpg.rf.da6abf926a20e9ace4947bc3d84ae075.jpg', '9583628_jpg.rf.1c336acf175be379f3f8e67efb77827b.jpg', '32439198_jpg.rf.cf515bc6eae7fd9694c10f6bc3af9b3b.jpg', '9583764_jpg.rf.f9b95768d7f09774cf87c0a59abccaf1.jpg', '37_jpg.rf.52c894e0a37cdaf54833d43cd9ba4c9c.jpg', '251_jpg.rf.8945c71451f49bbb08ac14ee4f51d2c5.jpg', '32438965_jpg.rf.c9002fc3c8f77595296059e5290e4a5d.jpg', '403_jpg.rf.f8557c0904731d8eace07f01bf651ce4.jpg', '32439010_jpg.rf.f262e7d73ffcf89c3b1388659cb7bf7a.jpg', '522_jpg.rf.fa43e87373335872213c81a165753394.jpg', '120_jpg.rf.3f7d6b4d7ca725ce88cc6ef9a4a4d726.jpg', '9583685_jpg.rf.a2129faddb02d805ae06f6820631118b.jpg', '476_jpg.rf.f47c8c49b7fc02c83ae21121fdf8e35f.jpg', '33_jpg.rf.129f7422a051c66eb7a6f68772fb0bcd.jpg', '95_jpg.rf.f962cbbbd7dab9e13ea0596687fdd9e8.jpg', '9583694_jpg.rf.046459bb17ea17b27f91a87fa540b7ed.jpg', '9583702_jpg.rf.bc33dc29cbb658aa1c3379622145e2ab.jpg', '10_jpg.rf.5731b676f8d8316fb52d07556d152666.jpg', '32439063_jpg.rf.444e76a73dd593abf5e6b314d5dc7b72.jpg', '490_jpg.rf.a46778a65d2bd5a70afa2f09c668ce28.jpg', '9583788_jpg.rf.aa1d2ff926f89cea2d4ae5f15370fd80.jpg', '9583591_jpg.rf.7823ef7c28f1ce8f05e72120585ba699.jpg', '202_jpg.rf.664570ed376babf1737244b36ede3c82.jpg', '435_jpg.rf.9b9f2ea65b6e34419547aae9e656ef53.jpg', '9583799_jpg.rf.d095953af8ed3a9120b1a90fb3294f7c.jpg', '162_jpg.rf.f3495eb92c288ef819c1f0d882ba6650.jpg', '380_jpg.rf.d17c4112166cc7998f12b1c00e32f5ca.jpg', '9583743_jpg.rf.4cde0579f161feb13aa60b7ab4f6f17d.jpg', '213_jpg.rf.c37fba3dff39ce094d4551f72a9568a5.jpg', '32439308_jpg.rf.a1da51341cbfe04222590c7922b60284.jpg', '41_jpg.rf.2e9b4f9e34c7ae5447f18fb9b0133eb8.jpg', '590_jpg.rf.739ba1eea61ce34470bfa4d3b149417b.jpg', '33_jpg.rf.45bf4ee5dca34999a812d2af2a99bf51.jpg', '32439149_jpg.rf.310e00243cf0e40d7fd445b8f2ae9b22.jpg', '297_jpg.rf.ddec7021e27201520652f6584e1149a2.jpg', '157_jpg.rf.d7ee4a2d2c5df95c703c1be637ffc391.jpg', '454_jpg.rf.9e07c81c012533d95303cdcecce64d2e.jpg', '9583713_jpg.rf.4e437a056c9da91ce53c2809a3444d2e.jpg', '9583626_jpg.rf.f5d7228cbc695503650828ae3cbf5967.jpg', '1_jpg.rf.0bc8d189ed448924a709e4e25c12e9d8.jpg', '9583643_jpg.rf.295e30e3379c056cfa1aca42ba33fd20.jpg', '9583775_jpg.rf.9468ae6e75f69370f552d3dd8a9a0412.jpg', '296_jpg.rf.5ad8da809dfa2b22dfabcf1f5f02249c.jpg', '9583941_jpg.rf.618b1380c67a6d0483e6e1e57d1f6232.jpg', '32439016_jpg.rf.e0467e2dcc570606ddb5bdd1c840f5fc.jpg', '32439120_jpg.rf.2e26fa803d73152702780df98b746746.jpg', '262_jpg.rf.2907e2694a7004b4c6156e46b036660c.jpg', '9583778_jpg.rf.b9c14509edb0bf53b801a1e8284fc243.jpg', '489_jpg.rf.7cea6562c08a275adb9726b0257a9d36.jpg', '69_jpg.rf.deeb067d8712720007332397dd1f6300.jpg', '9583663_jpg.rf.07aacca7f2d441b3d9b76e1e6ea6d7ff.jpg', '9583805_jpg.rf.acebae10cc00d680ca41889c3169dd54.jpg', '114_jpg.rf.c3b453bfe77f2fd465dca9b391d5be19.jpg', '557_jpg.rf.469328ab3d0d96a24aca533531d0df9f.jpg', '236_jpg.rf.5da49fb0f513ca3faa7c38b046e837d4.jpg', '32439092_jpg.rf.be72466612b449d1e30c687559d495ba.jpg', '9583858_jpg.rf.95c5df5be7150094de462c19ed987527.jpg', '9583749_jpg.rf.6f6b97a9ecc11cd00e1b55d871f41f97.jpg', '563_jpg.rf.b96109012818fb26f07f34ed3cfbb59e.jpg', '9583564_jpg.rf.171f4f96d02162d09d736c0090feb8c6.jpg', '32439154_jpg.rf.00cc5f6a7acdb6813524e031f58f1e9b.jpg', '9583584_jpg.rf.e389290bd1a0772d702487faec12b105.jpg', '45_jpg.rf.0b7a3bebc201602b3413004abb4f3ef1.jpg', '9583908_jpg.rf.ccac53b01a42e5cd979ef5fcca829684.jpg', '32439190_jpg.rf.621f203aebb076226bd7ddf17e210072.jpg', '167_jpg.rf.756b583198c278ec29fce59322a006c2.jpg', '421_jpg.rf.cee1a778c3eddee5e7f2e0690f117c04.jpg', '156_jpg.rf.0e10f94502514a46344056b1b9201005.jpg', '269_jpg.rf.4206de3798592222e21fd5ae2124a622.jpg', '427_jpg.rf.79278226620f3569cd490492a50c49fc.jpg', '9583645_jpg.rf.0a537b3c8035bbd731464a1fc3ef55bf.jpg', '547_jpg.rf.14de6bb82f717b7dac755a27cd6a6b87.jpg', '4_jpg.rf.64555e2c1adbe2d0e02ed71f954b8187.jpg', '265_jpg.rf.a71813979621ceeb2fb2bc01e35b68fd.jpg', '241_jpg.rf.8ee79f578d87091e52b4b67777ad8a7e.jpg', '338_jpg.rf.8667eb800782bfdf958cb710897a861b.jpg', '71_jpg.rf.64601976f65b5411c3ea9f661924536d.jpg', '225_jpg.rf.f077805618cf6245209dd4d1a4e767aa.jpg', '281_jpg.rf.581289b0c6902f49f2c1c57638830e11.jpg', '9583681_jpg.rf.59d6d22c7aace24662a887788ba55755.jpg', '453_jpg.rf.5f5f0b6257e0fa93a5fabb6702d0c1bd.jpg', '110_jpg.rf.1dbea879292c07759156574707ffb689.jpg', '96_jpg.rf.2cb4cd47ad44a59794bd9843e053ab92.jpg', '9583845_jpg.rf.b6ddc4fdb4aecce51676efd786d49c69.jpg', '133_jpg.rf.27ce0a9a23cc60fabb7a7b7edeef3e18.jpg', '9583631_jpg.rf.14484b1cf2f3b01270a55ed59ba47205.jpg', '147_jpg.rf.3957eb63a1fd1d70c86c7344a73aadb8.jpg', '9583756_jpg.rf.d56630fc9759cfc0b917861aabb59e55.jpg', '86_jpg.rf.d68dfbf5edc3ee04deeb4c13613a8295.jpg', '9583829_jpg.rf.974b3891a9128e7cfe670910aaf9920e.jpg', '94_jpg.rf.ddab20212ae20faa26fe2f3e95fa013e.jpg', '591_jpg.rf.83f8a04e1c81628fb29c313ab5f6e1d5.jpg', '503_jpg.rf.9e41e155038dda1f9b710ffea8fcee47.jpg', '9583932_jpg.rf.f2f3983b1e518a169b22d533ddfc4485.jpg', '386_jpg.rf.245b3f536fdbd4b1c8e3db1e31e8c2ea.jpg', '306_jpg.rf.734d0b68cf35fbc2029b71acab94a13f.jpg', '32439252_jpg.rf.bfaf09cfe40eeb71f9978cecfc0bdee7.jpg', '231_jpg.rf.1ac8f56ac0cc2bcf943ca5a8972d56ff.jpg', '9583920_jpg.rf.9eae3b4a844c79a73c9c142c9cb75288.jpg', '9584041_jpg.rf.5fc0765156bd48fdd4f80a7ceac97828.jpg', '455_jpg.rf.8be20e1a8ad150f91122fb60e014e7c6.jpg', '9583582_jpg.rf.13231121167a0b7a0a2aae353a72c888.jpg', '36_jpg.rf.b8b6ad257c31209c9a0543fb119255c3.jpg', '32439256_jpg.rf.79a0340d81f99b7e7aa6899cdfd4ae4d.jpg', '32439287_jpg.rf.e2cf4861b7e9df55d3a32291ac58fa53.jpg', '83_jpg.rf.5e0ff9adb25182383ba1f23f4644372a.jpg', '9583737_jpg.rf.f82e363185c89de928bd95c9cf2211d0.jpg', '291_jpg.rf.1cedf36faa8759dcf109277438b1f035.jpg', '9583894_jpg.rf.1c88382c594a18ff6113cfbc32a69021.jpg', '598_jpg.rf.4d6321fb3fe502d5fd44d677266220fe.jpg', '32439209_jpg.rf.6cf08614bc8f9f164a1baae586afd4c2.jpg', '9583763_jpg.rf.c429199f2b9e1be6f7bc7669354d89ae.jpg', '70_jpg.rf.5487dc90cc1a5b1dc5ba1fad686c9fc4.jpg', '32439061_jpg.rf.bed4f93ae3fc99def11ed13ea29a8b07.jpg', '32439040_jpg.rf.cd6ec363b317b957918fe525269f0151.jpg', '498_jpg.rf.f7238e03025f900277e7711ffe212771.jpg', '32439116_jpg.rf.1cc367b0c6fee7d7559c21cd76baae19.jpg', '225_jpg.rf.7423baca41e708f4da49f427fa7cd156.jpg', '374_jpg.rf.54a33d2b3fba20202ef48479b19a1717.jpg', '9583771_jpg.rf.c377e052555f7de10055b6fbc1c70572.jpg', '9584021_jpg.rf.8bcc05fd9990ef1576bfb026ae395d4a.jpg', '9583987_jpg.rf.f11ac9cb99636453a7e97b1b72152bb0.jpg', '9584023_jpg.rf.3bbafdd9ca977a39e82885f343137465.jpg', '9584001_jpg.rf.493dfac23c8f76ba3450e7e5d4affdc3.jpg', '8_jpg.rf.c9f646e3a7241c95ee86466e49aa2f24.jpg', '289_jpg.rf.beef770dee86a15d24ee4a5b7a3944b2.jpg', '524_jpg.rf.1e0a7f25bf59073e113abf723100e67f.jpg', '247_jpg.rf.94f636d62009cca42ca45a63da0ff608.jpg', '9583762_jpg.rf.3442ac9b3eb18a38374990c4d61b30f9.jpg', '447_jpg.rf.8fa6a8b60a5612bfc3fec1c4f5c2d7be.jpg', '9583972_jpg.rf.e12868ef3e46c93cf6e903432463801e.jpg', '227_jpg.rf.d572251d9212ad4a226e43368fb174c7.jpg', '510_jpg.rf.491fcca291de37ed36b9a6226f4e3631.jpg', '9584017_jpg.rf.556592299254f13c815dbe87da3e3ed7.jpg', '57_jpg.rf.1ea8b68928b726dd6c2e838f79a7a2c8.jpg', '9584022_jpg.rf.bab9f570d0a58fca50b49144bbafae1c.jpg', '193_jpg.rf.d84b132a0a98cbede0d9366814415cf8.jpg', '263_jpg.rf.4ff680884d0517b716a335e4f80c71ab.jpg', '339_jpg.rf.50a30aa8124c9ebbd7efcae94e41460a.jpg', '32439288_jpg.rf.4f5acf76bb0d2134122b96de74d50516.jpg', '484_jpg.rf.645f13f478a8133f50b303b136fe7820.jpg', '9583810_jpg.rf.4c22b605b260e77f7f19828caae32332.jpg', '32439191_jpg.rf.442703af2190ba3a238c9513fab82e72.jpg', '32439274_jpg.rf.a7a4025af4317efc46dae88631b86bfd.jpg', '32439189_jpg.rf.03ea49eb8e2d600e83d14f91ebd2a3f5.jpg', '9584060_jpg.rf.bb958d6aca6eb13af6baaafdc7653a28.jpg', '9583839_jpg.rf.0e8316828f9f82f3e24692fcd5081eca.jpg', '32439064_jpg.rf.3f667625458696d309ae6143ec09cb44.jpg', '194_jpg.rf.5cae13adc833878ddd682d74a2efbd71.jpg', '9583646_jpg.rf.7767825e7308603c1dbb8f68db69e504.jpg', '9583731_jpg.rf.11cc6488912f51750dea6c36ff3d7983.jpg', '9583654_jpg.rf.9b16c8738ffe8888d9040da155a6bd86.jpg', '227_jpg.rf.711c35e7f6125b41261dd72c89a0eb58.jpg', '212_jpg.rf.8d54462d5ef37a2e0712fa2979b56f76.jpg', '494_jpg.rf.1adc3ae7e2f1e8190ff68f840f2645b0.jpg', '378_jpg.rf.4bf2fbde397038d1dc78ac8946342550.jpg', '562_jpg.rf.1af05796373bf4666c019bb3aab01e22.jpg', '336_jpg.rf.5dabd9e998e2baac5275a1c7215d2d30.jpg', '78_jpg.rf.553a76e189259ad897b7b9c895269a1e.jpg', '32439000_jpg.rf.12e7486da21a33924473544d5ad65238.jpg', '9583852_jpg.rf.af0cfa27dde1af9aa05c57380394756e.jpg', '9584020_jpg.rf.b97a7a17326e512d60abe985cd91ae89.jpg', '9583798_jpg.rf.1e7f3d90a19dfe9a9a3b326b9292fe77.jpg', '110_jpg.rf.d1d6279fa3ad6acbb0d538f406d5b683.jpg', '121_jpg.rf.ac48d9d96d7843bb72e3a7648400347a.jpg', '32439098_jpg.rf.a15dcc6bbfba524e62bd097c1a5f25f1.jpg', '462_jpg.rf.5f122b83b8c44a95394a6009dcad99cc.jpg', '187_jpg.rf.fd8ad4b83b8a1aa5920686fbf720e02a.jpg', '32438990_jpg.rf.605454f815445c508686e508b0d2ba08.jpg', '467_jpg.rf.e4aa9197b9b4d882cd7e25c43a4b43fd.jpg', '271_jpg.rf.bea1dd964ab331e41436cc150175cccb.jpg', '550_jpg.rf.46fc90caddc562775eb93f7b3c6a0f9a.jpg', '79_jpg.rf.d9fe1de648ad59919d410b9d67c045fa.jpg', '14_jpg.rf.f904f37696b067efb1ef566f7755a2d0.jpg', '73_jpg.rf.5ab69edbdc986808aab59109959d542c.jpg', '32439002_jpg.rf.7255d52e0da0320baf404cb163ddd6c7.jpg', '9583647_jpg.rf.7feaf2cff3b27d4ab966d2cbe64e547c.jpg', '153_jpg.rf.7e00416af1c9d948cb6dbdc89e8470cf.jpg', '32439183_jpg.rf.1adb04848b7d73c078ec7a2993c226ef.jpg', '9583720_jpg.rf.d5c5d095bd28446543d2cd02497a73e7.jpg', '9583608_jpg.rf.d40b033420dc89a7a4b9dda76bfad2b8.jpg', '273_jpg.rf.d6b84bec97903433ecb7406aa9bca9a0.jpg', '32438980_jpg.rf.f9afdbd0e40595bf9d2a456c2dc3be5d.jpg', '460_jpg.rf.716722408bc10a6c1aded59d0c7d1577.jpg', '32439124_jpg.rf.61bc28d1058370a0ee446e0a53b2e615.jpg', '582_jpg.rf.027d258c0b82ec347d5b179bd32cc408.jpg', '425_jpg.rf.8550a409b04d508df48891f56a4952cf.jpg', '163_jpg.rf.4e844e0dcbb2b0a4f54d1c99628f9188.jpg', '567_jpg.rf.80c40461362ce76e133ffdb60bd6bbb2.jpg', '9583629_jpg.rf.2a75ffdc7d8c8030becc9b21ac7061dc.jpg', '461_jpg.rf.47a88cfdffd02c31b50d05d807a4f925.jpg', '215_jpg.rf.f0808157ead6309de0e6d83835ac1f34.jpg', '32438960_jpg.rf.9127b496357038ce81a99650010f8b3f.jpg', '525_jpg.rf.0ffb709c0c9caaf8599feb06ce638a14.jpg', '386_jpg.rf.3c7c2e6b9a6cc814813e276b0ffed6c5.jpg', '9583662_jpg.rf.b0113bd56cd1183cdc376780ee592bfc.jpg', '9583568_jpg.rf.eb4fb63fa1d033a58378b8fd2f678599.jpg', '9584070_jpg.rf.c3c9d8ba86f60d83a03563bdce98880f.jpg', '520_jpg.rf.b311469019176a327bdcc2c734c12b3c.jpg', '50_jpg.rf.27b8158b037d7520d75ea5d57eef6579.jpg', '367_jpg.rf.1b635c588020cc8f8015e3dfe9268ea1.jpg', '345_jpg.rf.c3673a2e649f63cb3ba090ad47def9b0.jpg', '9583900_jpg.rf.19825c6a1bf96f7fdfffa1bb1102cc4e.jpg', '492_jpg.rf.61aec76c0f77106572e84ca3867429f0.jpg', '262_jpg.rf.c0582c6adb063d963209179463328b6f.jpg', '353_jpg.rf.8cf86cbbda2220882c3d788a3bccbaa7.jpg', '481_jpg.rf.1d0375d1cceee802b5865e0dd18b2409.jpg', '199_jpg.rf.1dabce6f3b2a17dd42cd79178b23110f.jpg', '509_jpg.rf.9d8d93033592716e21894914cf8a260d.jpg', '9584046_jpg.rf.e66150078b2a85ff439947f357e797f7.jpg', '43_jpg.rf.1f0032f5528403dbb109afedf0c8131b.jpg', '200_jpg.rf.645e331ea58a6b5e70b0ea03d390aa50.jpg', '274_jpg.rf.c2fb9378d2f3e3a8a215f9c379cecb76.jpg', '393_jpg.rf.6d1e5c7747d0a69b5d4cc851055e7788.jpg', '455_jpg.rf.9bc1172cd1e87c06287a0bd77f874e27.jpg', '32439178_jpg.rf.4b28385279797f68fdb4145d6b6b1c0a.jpg', '529_jpg.rf.884096b1b6a062c7a5a80a099e6361aa.jpg', '9583859_jpg.rf.8595a6bb8620fd73a9939ed87c5b153d.jpg', '9583926_jpg.rf.799639f36eaad416abc0769224426db7.jpg', '322_jpg.rf.0c8ef2eb84224bbc881845492d22b74c.jpg', '303_jpg.rf.3d4489a95aa632f96d53ac9e05ccd908.jpg', '519_jpg.rf.3e23e9fc25c20945ce5bd16a74e1c087.jpg', '9583704_jpg.rf.61e1a8dba12108a3ac3b2ccf926939c8.jpg', '9583887_jpg.rf.a16bf3f59ab6e1fd1038e3a270d8efa4.jpg', '257_jpg.rf.38daf089031ea93f35fde50e4e1f76b2.jpg', '376_jpg.rf.c2c59b86af490ceead11ff36046a93c7.jpg', '423_jpg.rf.6c8ad8977e2bfad03752ad60a7ed479f.jpg', '9583745_jpg.rf.0806fe9b7d73a94abf2222b989f02f5a.jpg', '241_jpg.rf.8fe2b79e8ef417a5384f5780efc561c1.jpg', '9583838_jpg.rf.53f9dfd9f8c006c00f0ee7b1aa4d93fe.jpg', '32439113_jpg.rf.67787f384879a75bc0dc99d6d1ebed59.jpg', '32439130_jpg.rf.1f4f634b63a4fd4edee0caa37e98437d.jpg', '163_jpg.rf.2a16de31c48cf2bbbd299901890a6d34.jpg', '9583747_jpg.rf.83dc252aac1bce2e4687115facb65d93.jpg', '32439126_jpg.rf.23ad42f8d8d73b2796af0154cb1eaa4d.jpg', '325_jpg.rf.8902bd5ae0036d52fb7c3fc05ac14e56.jpg', '9583675_jpg.rf.7ca3a1b818028c0794e581844904951c.jpg', '9583605_jpg.rf.b3eec11eefd5530f1bf3d8e44cdc8b76.jpg', '9584018_jpg.rf.32ae3903b4aac7b6dc19c86cca1a1e85.jpg', '9583963_jpg.rf.0024921161cae6dee2fc798f4151f5ef.jpg', '9583951_jpg.rf.3ed477ad1282d1bc29454608dd268952.jpg', '32439311_jpg.rf.dc6ca8e96b4d611b3e0e7debc3ae6a0f.jpg', '158_jpg.rf.2d1e724162c3d3ab05960a0bffbac353.jpg', '9583927_jpg.rf.3fc1abf8f149b5690a800eb1954c3f04.jpg', '32439023_jpg.rf.24c6bece551ec75bf423efd487f25de7.jpg', '39_jpg.rf.a3cec1f73405a087ca9217081bf65c58.jpg', '588_jpg.rf.a8ba84890cc34e59dd5c07bd0ba4f1f2.jpg', '260_jpg.rf.7a11e3ad245ec47dc326beee1882cd03.jpg', '589_jpg.rf.9ce9266b0250657fb2e9c1625370f779.jpg', '375_jpg.rf.81032e82a5326f7e4d251115ccb6c236.jpg', '138_jpg.rf.78152ed4d17793579786fc8a7b0d71f6.jpg', '32439021_jpg.rf.b445b161dc2bfba6d792286f5e5a5649.jpg', '295_jpg.rf.90f6b35ecff9852240b9ba21e0ffc918.jpg', '167_jpg.rf.5fca37d80f0bb57f1d075a0ae7e918ff.jpg', '121_jpg.rf.f61f3ddec5674b7bf9f74c457351dbfc.jpg', '199_jpg.rf.951535e8f6528cc99c7771b89c9b45b0.jpg', '9583677_jpg.rf.dce7a2c1eaf05ca7a617b84b59ca8cce.jpg', '32439129_jpg.rf.8e2c027c8ceb3eeb3ca1ae364f16e8f0.jpg', '48_jpg.rf.6a7c075c6f7f5e150fb5fe1b910c410a.jpg', '323_jpg.rf.a8dc6313a68facfda7d7a83dc562915e.jpg', '434_jpg.rf.858c14fa92c88d16ea2964368e0f136b.jpg', '211_jpg.rf.f5a825d683da1a138b734c378f857b56.jpg', '9583744_jpg.rf.f7ade6d2139c748d5e5d450073ea25d3.jpg', '9583616_jpg.rf.2caa8ccccdbac8395d96d88806e289c4.jpg', '44_jpg.rf.ebb872e002d3bfacbfbeb2efca93c3c7.jpg', '385_jpg.rf.3f9a8c6064ad11d73b4f186493fd6c54.jpg', '220_jpg.rf.b8737f177bb3949a394fe329f8fb65a9.jpg', '9584059_jpg.rf.6f641d47cbedaff0530989d456722dca.jpg', '9583740_jpg.rf.a986f473036cf554fa11d6de3bcc4bc1.jpg', '119_jpg.rf.62602455b18fb4d651a9ce08203ecc1a.jpg', '175_jpg.rf.0529cd2c46baecb38075bca0408126df.jpg', '30_jpg.rf.46f0a5197e64123065a50aecd4bfee7b.jpg', '9584039_jpg.rf.d15e97f6c5ba6216efae91bc255d1d19.jpg', '470_jpg.rf.28f5ef71465229cf45ae5b986b4313e3.jpg', '377_jpg.rf.06c27577e72210021591632a983816e3.jpg', '9584033_jpg.rf.0c8e9979cd520fd538afb075cda578bc.jpg', '9583565_jpg.rf.45b68b5c42104392a7b3f7c5efdc502c.jpg', '28_jpg.rf.02f43916631ed122bd95500d2f26bb6b.jpg', '592_jpg.rf.c1c959ce1cc11ac597ab87de0525a889.jpg', '361_jpg.rf.47a25d5b76713f059a9a8eeb50b3d75d.jpg', '9584067_jpg.rf.71637d4f37e851095c5a0aed11d32349.jpg', '55_jpg.rf.19fc26bb45842704330fc1aae16be844.jpg', '118_jpg.rf.f8cc84c420ae45f377f2065fb2fd1537.jpg', '9583732_jpg.rf.8b62428dc2fe95b0cec3257b3ef01261.jpg', '9583846_jpg.rf.34c33582f6e68a51000a69dfa10a92b7.jpg', '32439305_jpg.rf.632b627a061c3567140358cbb0b50f83.jpg', '32439249_jpg.rf.b170d3f72b83af9595e50d14c9e1a28a.jpg', '27_jpg.rf.cb27742e82df847f120acf9125b905df.jpg', '9583589_jpg.rf.2adbcd8490dfa997ba2252afb34629cd.jpg', '319_jpg.rf.b9bf476b0f91177ed946f55eac48ae07.jpg', '32439210_jpg.rf.0b40815777fcc3bf8f33dcb83a1f9536.jpg', '9583909_jpg.rf.794a451a2b5f8b011d8eca2d7c10b62f.jpg', '87_jpg.rf.b011d02729dd65e7a0d2a73b0af47bb5.jpg', '214_jpg.rf.82f5856d8e11f3cc2c392bf8eff50d59.jpg', '32439012_jpg.rf.57514c5af1f32ed6d535c9414ec9b6d8.jpg', '259_jpg.rf.c734221f7a06edcc507b33856054ceed.jpg', '32439162_jpg.rf.85d4670576409a61f49fdd00238f77f3.jpg', '32439042_jpg.rf.bdaaa5138e822f106587a7954ca0a8c7.jpg', '582_jpg.rf.462c55ba954f76feb3b6a50125cf54f9.jpg', '569_jpg.rf.cb4c8528e9ebf6e6ad796a9d821a31e1.jpg', '382_jpg.rf.acf12c1fcfc4462c70bf391ab7011dda.jpg', '165_jpg.rf.1782e3f412a046e3556379beb4a944eb.jpg', '439_jpg.rf.6da54b3f32bb68e0ceaa0033d576c7db.jpg', '32439258_jpg.rf.97b04efcdbdad722fc43e5e4e2a9dbac.jpg', '214_jpg.rf.8e7e326f5aba12c90f1f7cef6925f981.jpg', '553_jpg.rf.054aa4df8ca8d64efe72f0d214606747.jpg', '9583914_jpg.rf.82844b20bb1aae96d6f39cdcc26365e9.jpg', '9583601_jpg.rf.39bb792cceb2b03775786f1212d5d256.jpg', '422_jpg.rf.3981e82d9c3857fae2d6c106ad92d49e.jpg', '9583670_jpg.rf.7d8852bdfc6a0915d82ad5e2f2029aa2.jpg', '383_jpg.rf.3f7ca55b800ccc23b73ba070ebcf271c.jpg', '422_jpg.rf.53c98bed11156516ca0ebfcc825f758b.jpg', '539_jpg.rf.50546142f5e13067af89659544d11e52.jpg', '9583600_jpg.rf.764501e7abd4cd30d3505cc1f8694a11.jpg', '9583660_jpg.rf.cd497e20527b80da94a7b28a1900b27d.jpg', '144_jpg.rf.070ff2c5ded53620280ff9870c0237fc.jpg', '32439289_jpg.rf.3d6e9412ee9777398c73c1005d97a3af.jpg', '9583833_jpg.rf.81a11104ecba44ffd4f24e275a75af16.jpg', '254_jpg.rf.f9f6260c5058948f9870ee123e12b9af.jpg', '597_jpg.rf.fd0fec58447b15e09d44643c6247ad3f.jpg', '9583948_jpg.rf.d3efc390d200584ea1a38ca11d4a5f81.jpg', '311_jpg.rf.b4317489173a0f543a1ebd624017e8a5.jpg', '228_jpg.rf.a3b383ac61c31f9a313d627a111276fb.jpg', '461_jpg.rf.dea9f60ab0d7ac62473f52bbd1327898.jpg', '9584052_jpg.rf.d6f2524a401cb3327e96da4231fbfaf8.jpg', '459_jpg.rf.12a6d222390eeaf656e6a0b58044a91a.jpg', '12_jpg.rf.0e7a28d8131d035d3a85aa925c765c7b.jpg', '9583906_jpg.rf.170bcad0c357837e5b04f4ea571f986a.jpg', '32438994_jpg.rf.a8a96eb09276b9864c19df2ea778155e.jpg', '32439263_jpg.rf.c03e31c99163f221812acb38137eb624.jpg', '360_jpg.rf.834f47e42cb1480c0b1365005ef0ea1a.jpg', '9583656_jpg.rf.48b92b0a01d1ec305afc27ce3fdd9a77.jpg', '9583761_jpg.rf.f38b2fb03627dfd8bd9470907e1008aa.jpg', '456_jpg.rf.8bbd15ee67312a72d0c27ab8f4923220.jpg', '169_jpg.rf.0135f0d5b2800940770d77fce8dcf634.jpg', '100_jpg.rf.3563e64a053a73cd5e264315f4bcd829.jpg', '242_jpg.rf.ac2618f7929b632ec2a9ce4ac28fe8af.jpg', '49_jpg.rf.85f987b4ca0a2f6ae26646b1fd243a8f.jpg', '32438985_jpg.rf.c99fbe8386e5a1bb7d142de8f56f7317.jpg', '462_jpg.rf.164033bb1a5cc2db3973f5f7b3e4b72d.jpg', '332_jpg.rf.3389880d35e59b89576cd98322ec197d.jpg', '542_jpg.rf.c134a2870ab2158484928abe886c7708.jpg', '451_jpg.rf.b4f5ae21f3a92593598eddd21e9e10b6.jpg', '412_jpg.rf.c3645c553f4b2fe73191e99416923f1b.jpg', '32439226_jpg.rf.bcd10a0c1f925456544f99d6f36cc47d.jpg', '9583742_jpg.rf.dd636ec6ab38dbdc0a943480c09cd48a.jpg', '9583599_jpg.rf.f19adc2c40345a30a667d74e85989891.jpg', '270_jpg.rf.bf50bb34958627570bff210b37d88b56.jpg', '9584043_jpg.rf.b8f785e33d267eac6cb7c893047cb21f.jpg', '355_jpg.rf.a32283c32ce090898b42bd44aee60004.jpg', '469_jpg.rf.0b782b58d49db762073cfd6348e37067.jpg', '32439200_jpg.rf.58f5fa26d896ed246658cafd50986f02.jpg', '9583614_jpg.rf.390d9efcacd81772aa8b8f7edfe7f75a.jpg', '32439009_jpg.rf.36a09a7d6090e41ea48962f6c89ea08a.jpg', '9583595_jpg.rf.5f03651d372af759021b9955ce609f32.jpg', '198_jpg.rf.3d8873fb34bc895e74eee08642201237.jpg', '51_jpg.rf.38d7cc19b13aeaba195320928f8f318b.jpg', '32438973_jpg.rf.00ac4f4e970afc051036dd0a74bb7589.jpg', '32439195_jpg.rf.17ad9e705dbb01fa5acbc3f6b26f8e47.jpg', '23_jpg.rf.f8d07d26f77c0f09388abd033a8c8057.jpg', '426_jpg.rf.e46ffd819130c8090551325ae92e1e02.jpg', '368_jpg.rf.54dc09b0dfa2390295bdc6ba22db44c8.jpg', '17_jpg.rf.b9d6b5ec1a32510bbdb44fbd77d09003.jpg', '9583841_jpg.rf.f8d87030920606c3787556a6995e88cc.jpg', '189_jpg.rf.a77daa3c9c550fcf893ea9b45d9dc194.jpg', '430_jpg.rf.5d85b0e96177dc5ae0996dfcbfff60d3.jpg', '9583878_jpg.rf.b68962db63a73d213dba672187cf6fe8.jpg', '259_jpg.rf.170407b7b01cada39c04827087e9ee93.jpg', '307_jpg.rf.49e8b46388b10212bb80a533087bf7ce.jpg', '185_jpg.rf.0be4216255fe795d6df6ea5f0d449e51.jpg', '9583813_jpg.rf.741c56f5c7daf0210e6716bd91f459f4.jpg', '32439166_jpg.rf.e9deda40935c62fccb4b8bd5b8c435a0.jpg', '9583864_jpg.rf.d731d7c5343e6acdeebe9ba9c50a2287.jpg', '186_jpg.rf.4c57f4d90551d3112cc98caacb245032.jpg', '21_jpg.rf.87e90c4d72bc0e393caec8b9f71a6608.jpg', '150_jpg.rf.dd8c7f7eff7d33d72dd5ad806ee8c857.jpg', '477_jpg.rf.20cb8bdbb17759f79c37281ca0526697.jpg', '9583649_jpg.rf.ee0b9bf81ecabac2b467c513acc46d9b.jpg', '569_jpg.rf.3196e8fac7f900d91700f80f408583cf.jpg', '9583585_jpg.rf.cb13b0f2698976f5480b40e354046339.jpg', '117_jpg.rf.3e979c3d59ea50906d0eabfb125e8df6.jpg', '66_jpg.rf.5211d7e73a81094f5239258b9635be23.jpg', '218_jpg.rf.8fdf254cb0aa6ad1372c5a882ad750de.jpg', '176_jpg.rf.b015606d0cecbfe44c746363dff02b69.jpg', '351_jpg.rf.86c37f9d192be41b5ca9acb24d7390f7.jpg', '586_jpg.rf.bf29e6afde3590af841bb5ba46353009.jpg', '32439087_jpg.rf.1275113e42438ace5c1c4a2dd007b9a3.jpg', '211_jpg.rf.d4bf3381c134e9c61b362e314b5ca60f.jpg', '9583682_jpg.rf.7cd6b6817a8a3742b97a6cab68dd9dfc.jpg', '535_jpg.rf.411c63d7bf20ff99aab45031af4857a4.jpg', '9583634_jpg.rf.fcc40ab7276890500829c63b52541190.jpg', '586_jpg.rf.8310805f888de6a57493df680f443409.jpg', '321_jpg.rf.014753287b62e780c0297135a23b1d27.jpg', '540_jpg.rf.e574892a52592a112de057b41cd04e0d.jpg', '9583896_jpg.rf.574b384c475074c45d69625205725102.jpg', '400_jpg.rf.cc2b6db63129202b301f64859fcf9cd4.jpg', '32439278_jpg.rf.6d641f4083651cfbaebd36e22479184f.jpg', '574_jpg.rf.1252f3584ada21e87678a1ea23573a79.jpg', '9584063_jpg.rf.e8ad27be4ebe4bc775795238eb73ed8d.jpg', '9583808_jpg.rf.da65197848c716e9d69abe3e1f88ea2d.jpg', '32439310_jpg.rf.3b3041c20695ad8c759ad8155dd8473a.jpg', '65_jpg.rf.fc8cf55f7df6be789376e91a9cd7f7aa.jpg', '144_jpg.rf.037c8846b6b7cf11d1e94ace3e3b666f.jpg', '9583678_jpg.rf.19890ed2fd0a3503555d4d8361687a1a.jpg', '32439123_jpg.rf.d7be9f493a3cd6564919d3808c71cde3.jpg', '32438958_jpg.rf.043ef6dfca36e0c924a0e31888cf5410.jpg', '444_jpg.rf.a96820cc5592c25452ea1fb9d8e65503.jpg', '32439227_jpg.rf.b9a906fe505f098592a9e7fbc68d11c5.jpg', '85_jpg.rf.11f437a72cfa0ba446381193907f5d6c.jpg', '102_jpg.rf.c6259a85048ed827157564ea6ee54203.jpg', '32439146_jpg.rf.b1371f6e395b416bd5d39dec43c69b37.jpg', '230_jpg.rf.40f2f691295d65a3ef8735d075bcde66.jpg', '9584013_jpg.rf.662efb5e402c8afa3c89b24c8fbdf765.jpg', '111_jpg.rf.fb205acfea6b85c578d5714c1d170a74.jpg', '452_jpg.rf.12209f7edf7f900be2fbfbab03afabfa.jpg', '9583655_jpg.rf.408b54ba680185c4b9a7b6922b299705.jpg', '9583687_jpg.rf.2017245bdb21d5599aba9ff66ba0faec.jpg', '101_jpg.rf.34cfb18c3b156a642b2695659cf58d0d.jpg', '218_jpg.rf.22a5c316cfb54d92661af4a6a58b8cab.jpg', '571_jpg.rf.aeb129e9679177c308c6b3c244d8e74f.jpg', '146_jpg.rf.381b8ae9fafd8bfac4a8b22196e4bfd4.jpg', '249_jpg.rf.a8430d1c4c321da12ab50af092bcb084.jpg', '32438972_jpg.rf.55af3e487f0019dc654f899adaa47320.jpg', '130_jpg.rf.1a8be9cf6ff44cacf70b6a8e1b99fe7b.jpg', '471_jpg.rf.37e5f8a0cb6c4413ce5bd115814ed0ab.jpg', '9583868_jpg.rf.f9c11443fb681ed72b7adf92aa36a92d.jpg', '280_jpg.rf.d154b08a563982889d4d72998c6bbfda.jpg', '309_jpg.rf.fc955421285b8f566ada03e5c2997760.jpg', '248_jpg.rf.8ca22693eecdf68a61b9daf1751f17d7.jpg', '9583806_jpg.rf.299413df83af20b8bb19cf3c9dea2940.jpg', '558_jpg.rf.0588c984954c267e2c824abe38bb53f7.jpg', '93_jpg.rf.f7a22a8a6b5ef2411cf1ba4cecca1fa9.jpg', '437_jpg.rf.376e1cf07b96dc1f21985f14d04b1b29.jpg', '32439225_jpg.rf.73a7d075102770eb59553bdf6f1cdd6c.jpg', '7_jpg.rf.6a4ff2dab01e86cb7c7a16667752e80d.jpg', '80_jpg.rf.6f9ef389de71b1ea80e9f6ea31131065.jpg', '370_jpg.rf.54b6949637a667a53b9b4452896e508e.jpg', '526_jpg.rf.eb149a62aedbd34b72ad62f06b4820a3.jpg', '9584000_jpg.rf.fcf2abb02f20f1ed3898491ae7a41468.jpg', '9583944_jpg.rf.5819a21dfa53e074b9a09aba448f7787.jpg', '38_jpg.rf.e4c2018abbb68e8484784f69994aec20.jpg', '370_jpg.rf.c5b0913cf208267171cf34a5bb563627.jpg', '471_jpg.rf.5db9289b874a68cc8311bd090cd15801.jpg', '32439039_jpg.rf.db3b16fd7172b507bbd7c7681ecb38a0.jpg', '72_jpg.rf.8eed8b664f3b192f8f82405c293e76cc.jpg', '219_jpg.rf.098c1bcac9c5ddb46a2787c2fa24ebe6.jpg', '118_jpg.rf.cdf87cb9faa0d8b80d9609cf110bb0ff.jpg', '591_jpg.rf.74ec1650550aa1c49a093df4b76b018b.jpg', '32439173_jpg.rf.485b78fb61a9057032773b55a46736f9.jpg', '32439275_jpg.rf.0476f35db295446816a04974e075ec8e.jpg', '32439139_jpg.rf.15f8d5a4c321d0d42bd2eb977c12e91d.jpg', '32439135_jpg.rf.28caba5e1a3403ae928ea6282179c633.jpg', '9583726_jpg.rf.6eae9e3ca0cecd9167a2d43225a2785a.jpg', '396_jpg.rf.903ea79338040c619f8d1c2ac86270ef.jpg', '213_jpg.rf.8f83947d37aba694c6cd94b0c58f64db.jpg', '146_jpg.rf.4e11d16dfaace13c1bee7244c1fcb4ab.jpg', '435_jpg.rf.202cfe0a4f09f97e0970386d8f4eef54.jpg', '8_jpg.rf.ad4d3edfba833c7036969a15ada9c36d.jpg', '316_jpg.rf.fc1c6eff7f4fd06fb53967af8bb66482.jpg', '379_jpg.rf.e57ac01def23b0f0472ad4555b565625.jpg', '9583982_jpg.rf.9ecb49f884ebbdfba956b132bea223e8.jpg', '409_jpg.rf.acfcff740c481658d83304fa5c2c482a.jpg', '545_jpg.rf.749d4ce02407006ac29143075155ab57.jpg', '132_jpg.rf.d1294c7b44e221c52ae30d99c02694c4.jpg', '9583880_jpg.rf.8424f33e79fa9dbabd7010b65be8ad3f.jpg', '352_jpg.rf.f38a6c324ce13e4d7dc89001d368f6ee.jpg', '9583866_jpg.rf.9af1db540e1eae186a9c07ec39e75ec0.jpg', '286_jpg.rf.cf08efa9621fad55514bf6cb0fde36b5.jpg', '9584036_jpg.rf.35cdc294642ca25a74d733fa08e7edb8.jpg', '9584010_jpg.rf.32534c1418badd4d3bf259a6e0064658.jpg', '9583793_jpg.rf.d3ceacd2e8aa7f21a8d1e14c56325c9e.jpg', '498_jpg.rf.db76ae1fa5c31b4b3b2f3be0a3c88225.jpg', '261_jpg.rf.1ac3fe5aca79e228284ccb5d65dc85f2.jpg', '342_jpg.rf.e9692f149c0b53f240ad0d25d133e370.jpg', '9583635_jpg.rf.df7fb8a6869281b6cb3c1446f7849fd3.jpg', '475_jpg.rf.304ba336280f635daf6790dfb3328597.jpg', '410_jpg.rf.a3ae51280e51e30091daf03774d8869b.jpg', '373_jpg.rf.5a017a0292573e8f2fb0afc72deefb66.jpg', '32439295_jpg.rf.3475bc85e3edb6d3b6f99cd65c57e230.jpg', '135_jpg.rf.8436d3746ccd6eaa9be3b539083604be.jpg', '9583739_jpg.rf.595e359bd5f2e3cea71ee47bb0c86129.jpg', '84_jpg.rf.688b8203bab87f161aad84ee4ed05388.jpg', '32439215_jpg.rf.0484b812d171e04b5fad5a105f2e780a.jpg', '234_jpg.rf.1f9ca56943980013c1738642fe26a4e6.jpg', '280_jpg.rf.3c21394ce0fff17f5e63bc47a8599810.jpg', '32439153_jpg.rf.088d34270dbad22323aa887fdd36a431.jpg', '32439241_jpg.rf.65093495c192a733bc005e2b7c57055f.jpg', '187_jpg.rf.b1f7f61decaa72e7b92ea92d686578ca.jpg', '32438983_jpg.rf.ec3877b656e6f5b93105a76d3bfae176.jpg', '174_jpg.rf.14064a270c3a0fb15dad8b5b3d86f5d7.jpg', '275_jpg.rf.13f9e859684927cdba7975431ad8ad54.jpg', '9584056_jpg.rf.3ef162f38dbc9b09d4dbf1ff089fceb9.jpg', '303_jpg.rf.e1f8d749af290381e7807a4fe67313be.jpg', '208_jpg.rf.1f7440384d7d07e2d1524ee5f58018f1.jpg', '244_jpg.rf.c289fad137600a82f8f5938ef12e2530.jpg', '32438999_jpg.rf.8dfeb5114fa1459d72c8636ad74ddb20.jpg', '9583561_jpg.rf.aea6b8f6cd191094484fef841c2d89ff.jpg', '32439043_jpg.rf.842fab69c4957517ea4f3fff623f8a66.jpg', '195_jpg.rf.83ea8c0e6a8822ec3892f73cce78b3ab.jpg', '515_jpg.rf.38a018713155c48a837493dc7180bd57.jpg', '32439175_jpg.rf.776a77345c5ded5c8375f714286edda6.jpg', '253_jpg.rf.ec0e627dd1242758f000510868635498.jpg', '250_jpg.rf.ac7606f9785541b0be524774715eae18.jpg', '463_jpg.rf.b8ee52cbb388bb5095890e28cfc151e8.jpg', '277_jpg.rf.45275d3b97404c90b4c40964ba3dc163.jpg', '91_jpg.rf.1f96693ec127fbe70578b379c89d068a.jpg', '32439047_jpg.rf.6d03742c9cb5a5d74d500154b0fd929d.jpg', '32438975_jpg.rf.a61c99e26f9ac968dbe7875dd0e61b7d.jpg', '256_jpg.rf.596830568c57618b8012859e28597931.jpg', '155_jpg.rf.3f1af6c04da31d1aeba42e8c5f121417.jpg', '136_jpg.rf.8af0a8b0d972cdf6a69f85cb7bf2dcdb.jpg', '450_jpg.rf.d72b4306bf56eea487ca9a4b2bbe9209.jpg', '447_jpg.rf.20828e709c41c968804b8b5391824870.jpg', '9583856_jpg.rf.f191dff5d1c6da952b3cd6485825906e.jpg', '32439230_jpg.rf.35ddfe4f5ec1859b0bb8750cb95a7d0b.jpg', '492_jpg.rf.7fbd32ae055aac82effa3d8e75ea1aa0.jpg', '407_jpg.rf.2744926b1fd77537edbde0479b8bb8c3.jpg', '32439180_jpg.rf.64103e069ae0ccf95e339e6394f6a2b1.jpg', '29_jpg.rf.e2040fe6d80bc4cb65dbcfb31e667a4e.jpg', '32439091_jpg.rf.94c60091390c93c12f6e54be09776007.jpg', '32438959_jpg.rf.88103a28400d9aa71b9e032957dba151.jpg', '9583952_jpg.rf.e54a712c29761bc1668d27dac86ad6f6.jpg', '264_jpg.rf.0426245ecfe056194a041c0d2acaec14.jpg', '32438977_jpg.rf.9285ce3b65b639eb1508e767358dc007.jpg', '32439100_jpg.rf.56cac3caf5acbf55017c7230fe6783af.jpg', '52_jpg.rf.5629717f440cdfe702ceb04048a08794.jpg', '32439291_jpg.rf.544bdb56353b89aa93fbdbdf0f5723b2.jpg', '130_jpg.rf.47406877499d4dda8a5e0cdb4e17e301.jpg', '491_jpg.rf.1a27b62e66cec702eb5d444502eb7541.jpg', '277_jpg.rf.d74af14e2a7f09166043bdd9d21aa7b2.jpg', '404_jpg.rf.9c07d950795623ba77164b9198c5a1f0.jpg', '301_jpg.rf.abce41be0ce448d3cfa181bbde76c390.jpg', '278_jpg.rf.691c1030ba5b1433998505684b747119.jpg', '32439240_jpg.rf.9f76cc33801336389039f37b6e69476e.jpg', '231_jpg.rf.23c93dba6065948cba9aaaea30141de0.jpg', '6_jpg.rf.c9b53972ab99027842566d90947d0ab2.jpg', '166_jpg.rf.7dc06281b32f68d7a25bf4748b2b94c6.jpg', '398_jpg.rf.a85cf42a32ee4d32700a48db52e07fb0.jpg', '235_jpg.rf.ae3a3f65b9b69baea494c2ea533aa8a1.jpg', '9583779_jpg.rf.1a1a8fc7d473a73037cc54ad152145ff.jpg', '376_jpg.rf.3e6fd2e4ac1365e48bf605d85136dcc7.jpg', '32438964_jpg.rf.b5c5ff29f256c6b154053510db9442d9.jpg', '301_jpg.rf.fbdcf50723fe6bd86da996aba132c574.jpg', '551_jpg.rf.52bca15c4bd1b583af01ac0969f03101.jpg', '237_jpg.rf.aed24a264edfdb37c6d72752552ae46e.jpg', '432_jpg.rf.757f9b21ae4edd1c91ea86333d740e32.jpg', '7_jpg.rf.11bd26df129f6ebc7cba569c0fee3092.jpg', '32438979_jpg.rf.2b941c537c2a22b7390cecd3e62f81ff.jpg', '531_jpg.rf.9bc2690033cf553c651174a3c88a6f3b.jpg', '32439304_jpg.rf.cc1a72fab1b8bd58e7376c92dc74860a.jpg', '491_jpg.rf.e87be1d7a58d8af28f7816c16ff8a243.jpg', '71_jpg.rf.a123c52676c74fe8f00109df487bbe66.jpg', '32439159_jpg.rf.666203640bdfdad65960c4926dbc28dd.jpg', '32439037_jpg.rf.a2479db1a4d9bcd37b8f41d6a0f59521.jpg', '346_jpg.rf.b5ddb21c1c6deb0e45625b92bffb7eaa.jpg', '431_jpg.rf.a0422cdd6036c9b2e98a70d149c886a7.jpg', '32439321_jpg.rf.5da26893230f4eb0ec31cf961732fef4.jpg', '433_jpg.rf.ee0e928353571fa924684dbbbc232094.jpg', '9583968_jpg.rf.2c2a9bb2b50c4b185ae414503e4f183f.jpg', '325_jpg.rf.5bdee70f7fcde8f234894ea8a225b879.jpg', '9583802_jpg.rf.6bfab16af32fa26cc18608a2a375e480.jpg', '9583648_jpg.rf.e28d9b0919715cc12e90c578bddbfeec.jpg', '292_jpg.rf.5bcfd001fb7013c9cfba1f8c203d8fb8.jpg', '404_jpg.rf.1eda8da44daa17507ffffa29cdb51562.jpg', '9583653_jpg.rf.12d162d8d1cdc8777427b61adcc38f60.jpg', '127_jpg.rf.418930eb228acb24214f2bf83e37259b.jpg', '521_jpg.rf.9ecb331b9545e884e2faaf29ff12a111.jpg', '204_jpg.rf.fdcdfe2505c6c7dab80e9e8dd811843e.jpg', '190_jpg.rf.a5c8086a9955e50f07921bd5a23bd2c3.jpg', '9583847_jpg.rf.b0c414948e7f6339f6548ab5c8ebf9e6.jpg', '59_jpg.rf.7b5ffa8a77fb14e3f905f759edcd4663.jpg', '32439171_jpg.rf.5b199a9e0dd890978521f8c65b08bb73.jpg', '592_jpg.rf.ccc61907f14db03e893e1669867a6533.jpg', '108_jpg.rf.5c0b06af9210560d69501d3c3d8b4ccc.jpg', '115_jpg.rf.23cd516a7f2375a46a5d81bb6bff1a83.jpg', '497_jpg.rf.7dfd8db29feea809994be121edfae4de.jpg', '196_jpg.rf.733005fc1bd70da8d8cf1683c9fba2ce.jpg', '32439261_jpg.rf.c3846960bcc7ca70d2158c759a904cf3.jpg', '443_jpg.rf.011fbee03f4b3ac4eaeee12fd07f2abc.jpg', '9584030_jpg.rf.e13d930ffd20d7eb99d821d4a9c476b3.jpg', '32439212_jpg.rf.5080def3eb81aaab7ec4689e55350bcf.jpg', '149_jpg.rf.2b350bfd43ff3302f7a6cee3ef1cdff8.jpg', '562_jpg.rf.0a7f07f40bc7492ef48e3b82fcec7cb8.jpg', '583_jpg.rf.e50d8f98f89caa8e49901132d0048a63.jpg', '9583783_jpg.rf.92c86f632c17c5282c197dc469a0c87e.jpg', '32439117_jpg.rf.1793554b8cb03baeba338ebaf10fb890.jpg', '459_jpg.rf.67e5d4c260bd3683db797c62a1228282.jpg', '251_jpg.rf.295e978e6ba8e91324e6b13bc559ccbe.jpg', '508_jpg.rf.28f6e3519c76572e023077566f60f0bb.jpg', '282_jpg.rf.e69e29b11a0305da59f767516ef78703.jpg', '9583935_jpg.rf.2bb4993671cf9a6d1a38a35d08a62405.jpg', '9583700_jpg.rf.a2fdef37167698eb6804fd5a3c7eaa0b.jpg', '344_jpg.rf.08a0266371c763d4ea9d21b62c7d62d2.jpg', '9583862_jpg.rf.c7ffe75a3f652e4f130e5695e0c63412.jpg', '61_jpg.rf.ccd4433cc8859181ad5fc11b725d01e4.jpg', '104_jpg.rf.1653c069b6baad49dea78da19d669371.jpg', '395_jpg.rf.df0bc840d7f07854530d1d9c5c5acb75.jpg', '186_jpg.rf.28f1cb58e259f8d6f2f6ba0b8a1ddbde.jpg', '9583962_jpg.rf.79a1f5e8b677f64da15010a055a6102f.jpg', '9583874_jpg.rf.9b5a1c86ebb338bf29fe110997ed4034.jpg', '9583807_jpg.rf.f42c8eae39457b15669a8470dbc3721c.jpg', '32439211_jpg.rf.392e4d37bb771ac1b78b22f93d2529ad.jpg', '517_jpg.rf.4b91396468be1024c4014f9faa21c605.jpg', '135_jpg.rf.bff92b8537d59f64a6df26554418a67e.jpg', '420_jpg.rf.6baaf217cd1810618d52b7482f1ab3c0.jpg', '580_jpg.rf.3ac2e329459ff5ac0d69aa6a6192736b.jpg', '9583842_jpg.rf.29600cf034e252b1f9d1375b6086d8aa.jpg', '32439108_jpg.rf.e69f3f66f21f94982ac029cd939c491b.jpg', '32439163_jpg.rf.6faab53d6d9d9395385b1599348924ad.jpg', '476_jpg.rf.0998094cecac3f45ffab6ca64da8be96.jpg', '300_jpg.rf.40ce7cb7925df3149e569176310bfd24.jpg', '9583786_jpg.rf.2dee7bbfb082e8af82957bde172ace9b.jpg', '32438961_jpg.rf.5db8e9bb39ba98089f9c7e615c16f41a.jpg', '359_jpg.rf.a5727af15e7d1f133a2a0f81c23b5765.jpg', '9583851_jpg.rf.daf29404d10109f10421ab786ac4ef17.jpg', '9583750_jpg.rf.f3da69d38204d39683de8e753b8f6179.jpg', '537_jpg.rf.2b4f15b595e6fc4a116b3421aabc48ee.jpg', '32439070_jpg.rf.752c5aa04e250949a9269b4e3dbb0ae4.jpg', '69_jpg.rf.1ef536417bf8bdfc7719b32b532fd9b8.jpg', '528_jpg.rf.a3a54374a08085abd4333f34e8296b73.jpg', '113_jpg.rf.b95e1bf49411877f5c5a858c36e91b50.jpg', '9583875_jpg.rf.b6b2a878a6827f250f6374b00c7e1c5c.jpg', '32439185_jpg.rf.3244f38c58fe4da7d6a4df1f388497f1.jpg', '497_jpg.rf.3b1780aaffbc1bc02ec42f97655b256c.jpg', '9583958_jpg.rf.0a4e6b39073ddf53abc5da85c361eb2b.jpg', '326_jpg.rf.0cf1c8ba62c904d1f684a46cf4e5c783.jpg', '53_jpg.rf.84bec03556fd7ea4e1f882c464537564.jpg', '9583571_jpg.rf.92e1f36e37f1e40a72dc6c59c8ff2f56.jpg', '451_jpg.rf.12444aff6503d1778a07a63f3d1e4d70.jpg', '9583956_jpg.rf.49590ac1199dadfcb30171b2d50ebc39.jpg', '383_jpg.rf.837da8abbda2dfd3f6f79ec2696bd98b.jpg'}\n"
          ]
        }
      ]
    },
    {
      "cell_type": "markdown",
      "source": [
        "#Step 4: Apply DeepLabV3 Segmentation"
      ],
      "metadata": {
        "id": "RfN__XcIA7Re"
      }
    },
    {
      "cell_type": "markdown",
      "source": [
        "#images missing masks are still available thats why rather than removing we can use the augmentation"
      ],
      "metadata": {
        "id": "ETEU9Yj0FQpa"
      }
    },
    {
      "cell_type": "markdown",
      "source": [
        "**Dataset class with albumentations transforms**"
      ],
      "metadata": {
        "id": "ankkT6vXE_Ti"
      }
    },
    {
      "cell_type": "code",
      "source": [
        "import albumentations as A\n",
        "from albumentations.pytorch import ToTensorV2\n",
        "from torchvision.models.segmentation import DeepLabV3_ResNet50_Weights\n"
      ],
      "metadata": {
        "id": "Xt9QwLxKsufy"
      },
      "execution_count": null,
      "outputs": []
    },
    {
      "cell_type": "code",
      "source": [
        "import albumentations as A\n",
        "from albumentations.pytorch import ToTensorV2\n",
        "\n",
        "train_transforms = A.Compose([\n",
        "    A.Resize(512, 512),\n",
        "    A.HorizontalFlip(p=0.5),\n",
        "    A.Normalize(mean=(0.485, 0.456, 0.406),\n",
        "                std=(0.229, 0.224, 0.225)),\n",
        "    ToTensorV2(),\n",
        "])\n",
        "\n",
        "val_transforms = A.Compose([\n",
        "    A.Resize(512, 512),\n",
        "    A.Normalize(mean=(0.485, 0.456, 0.406),\n",
        "                std=(0.229, 0.224, 0.225)),\n",
        "    ToTensorV2(),\n",
        "])\n",
        "\n",
        "\n"
      ],
      "metadata": {
        "id": "PDB31IWGuN_Z"
      },
      "execution_count": null,
      "outputs": []
    },
    {
      "cell_type": "code",
      "source": [
        "\n",
        "import torch\n",
        "from torch.utils.data import Dataset\n",
        "from PIL import Image\n",
        "import numpy as np\n",
        "import os\n",
        "\n",
        "class SegmentationDataset(Dataset):\n",
        "    def __init__(self, image_dir, mask_dir, transforms=None):\n",
        "        self.image_dir = image_dir\n",
        "        self.mask_dir = mask_dir\n",
        "        self.transforms = transforms\n",
        "\n",
        "        self.image_mask_pairs = []\n",
        "        image_files = sorted(os.listdir(image_dir))\n",
        "        mask_files = sorted(os.listdir(mask_dir))\n",
        "\n",
        "        image_set = set(os.path.splitext(f)[0] for f in image_files)\n",
        "        mask_set = set(os.path.splitext(f)[0] for f in mask_files)\n",
        "        common_files = image_set.intersection(mask_set)\n",
        "\n",
        "        for fname in common_files:\n",
        "            image_path = os.path.join(image_dir, fname + \".jpg\")  # or .png\n",
        "            mask_path = os.path.join(mask_dir, fname + \".png\")    # mask must match\n",
        "            self.image_mask_pairs.append((image_path, mask_path))\n",
        "\n",
        "        if len(self.image_mask_pairs) == 0:\n",
        "            raise ValueError(\" No valid image–mask pairs found.\")\n",
        "\n",
        "    def __len__(self):\n",
        "        return len(self.image_mask_pairs)\n",
        "\n",
        "    def __getitem__(self, idx):\n",
        "        image_path, mask_path = self.image_mask_pairs[idx]\n",
        "\n",
        "        image = np.array(Image.open(image_path).convert(\"RGB\"))\n",
        "        mask = np.array(Image.open(mask_path))\n",
        "\n",
        "        # Apply albumentations transforms\n",
        "        if self.transforms:\n",
        "            augmented = self.transforms(image=image, mask=mask)\n",
        "            image = augmented[\"image\"]\n",
        "            mask = augmented[\"mask\"]\n",
        "\n",
        "        return image.float(), mask.long()\n",
        "\n",
        "\n",
        "\n"
      ],
      "metadata": {
        "id": "9wTRSmPBqjtW"
      },
      "execution_count": null,
      "outputs": []
    },
    {
      "cell_type": "code",
      "source": [
        "import torch\n",
        "import torchvision.transforms as T\n",
        "from torchvision.models.segmentation import deeplabv3_resnet50, DeepLabV3_ResNet50_Weights\n",
        "\n",
        "# Set device\n",
        "device = torch.device(\"cuda\" if torch.cuda.is_available() else \"cpu\")\n",
        "\n",
        "# Load weights and model\n",
        "weights = DeepLabV3_ResNet50_Weights.DEFAULT\n",
        "model = deeplabv3_resnet50(weights=weights)\n",
        "\n",
        "# Change classifier to match your 5 classes\n",
        "model.classifier[-1] = torch.nn.Conv2d(256, 5, kernel_size=(1, 1))\n",
        "\n",
        "# Move to device\n",
        "model = model.to(device)\n",
        "\n",
        "# ✅ Define Albumentations-style compatible transform\n",
        "# This gives you the official image normalization and resize transforms\n",
        "preprocess = weights.transforms()\n",
        "\n",
        "# Print to verify\n",
        "print(preprocess)\n"
      ],
      "metadata": {
        "colab": {
          "base_uri": "https://localhost:8080/"
        },
        "id": "T8JeYBoOF-Nm",
        "outputId": "d2e33db0-34c2-47c3-8623-8f5d73ef5a7a"
      },
      "execution_count": null,
      "outputs": [
        {
          "output_type": "stream",
          "name": "stderr",
          "text": [
            "Downloading: \"https://download.pytorch.org/models/deeplabv3_resnet50_coco-cd0a2569.pth\" to /root/.cache/torch/hub/checkpoints/deeplabv3_resnet50_coco-cd0a2569.pth\n",
            "100%|██████████| 161M/161M [00:00<00:00, 183MB/s]\n"
          ]
        },
        {
          "output_type": "stream",
          "name": "stdout",
          "text": [
            "SemanticSegmentation(\n",
            "    resize_size=[520]\n",
            "    mean=[0.485, 0.456, 0.406]\n",
            "    std=[0.229, 0.224, 0.225]\n",
            "    interpolation=InterpolationMode.BILINEAR\n",
            ")\n"
          ]
        }
      ]
    },
    {
      "cell_type": "markdown",
      "source": [
        "**create dataloaders**"
      ],
      "metadata": {
        "id": "Y5EJ-GBDrUpV"
      }
    },
    {
      "cell_type": "code",
      "source": [
        "# Define directories\n",
        "train_image_dir = '/content/aperi-1/train'\n",
        "train_mask_dir = '/content/aperi-1/train_masks'\n",
        "val_image_dir = '/content/aperi-1/valid'\n",
        "val_mask_dir = '/content/aperi-1/valid_masks'\n",
        "\n",
        "\n",
        "# Create datasets\n",
        "\n",
        "train_dataset = SegmentationDataset(train_image_dir, train_mask_dir, transforms=train_transforms)\n",
        "val_dataset = SegmentationDataset(val_image_dir, val_mask_dir, transforms=val_transforms)\n",
        "\n",
        "# Create dataloaders\n",
        "train_loader = DataLoader(train_dataset, batch_size=8, shuffle=True, num_workers=2)\n",
        "val_loader = DataLoader(val_dataset, batch_size=8, shuffle=False, num_workers=2)\n"
      ],
      "metadata": {
        "id": "VvKjj_8oSi67"
      },
      "execution_count": null,
      "outputs": []
    },
    {
      "cell_type": "code",
      "source": [
        "import os\n",
        "\n",
        "print(\"Files in /content:\")\n",
        "print(os.listdir(\"/content\"))\n",
        "\n",
        "print(\"\\nFiles in /content/aperi-1 (if it exists):\")\n",
        "if os.path.exists(\"/content/aperi-1\"):\n",
        "    print(os.listdir(\"/content/aperi-1\"))\n"
      ],
      "metadata": {
        "colab": {
          "base_uri": "https://localhost:8080/"
        },
        "id": "Xyw8g7hnHvAi",
        "outputId": "ef2005a0-b6a5-46d9-e6f1-891037558a8b"
      },
      "execution_count": null,
      "outputs": [
        {
          "output_type": "stream",
          "name": "stdout",
          "text": [
            "Files in /content:\n",
            "['.config', 'aperi-1', 'sample_data']\n",
            "\n",
            "Files in /content/aperi-1 (if it exists):\n",
            "['train', 'README.dataset.txt', 'README.roboflow.txt', 'valid_masks', 'valid', 'train_masks']\n"
          ]
        }
      ]
    },
    {
      "cell_type": "markdown",
      "source": [
        "**Model + Loss + Optimizer Setup**"
      ],
      "metadata": {
        "id": "DwpVD8MGrktW"
      }
    },
    {
      "cell_type": "code",
      "source": [
        "from torchvision.models.segmentation import deeplabv3_resnet50, DeepLabV3_ResNet50_Weights\n",
        "\n",
        "weights = DeepLabV3_ResNet50_Weights.DEFAULT\n",
        "model = deeplabv3_resnet50(weights=weights)\n",
        "\n",
        "# Change classifier head for 5 classes\n",
        "model.classifier[4] = torch.nn.Conv2d(256, 5, kernel_size=1)\n",
        "\n",
        "# Move to GPU\n",
        "device = torch.device(\"cuda\" if torch.cuda.is_available() else \"cpu\")\n",
        "model = model.to(device)\n",
        "\n",
        "# Loss and optimizer\n",
        "import torch.nn.functional as F\n",
        "criterion = torch.nn.CrossEntropyLoss()\n",
        "optimizer = torch.optim.Adam(model.parameters(), lr=1e-4)\n"
      ],
      "metadata": {
        "id": "XXYfytv6psJj"
      },
      "execution_count": null,
      "outputs": []
    },
    {
      "cell_type": "markdown",
      "source": [
        "**Matrics**"
      ],
      "metadata": {
        "id": "TDIu2jtdJth1"
      }
    },
    {
      "cell_type": "code",
      "source": [
        "def compute_iou(preds, masks, num_classes):\n",
        "    ious = []\n",
        "    preds = preds.view(-1)\n",
        "    masks = masks.view(-1)\n",
        "\n",
        "    for cls in range(num_classes):\n",
        "        pred_inds = preds == cls\n",
        "        target_inds = masks == cls\n",
        "        intersection = (pred_inds[target_inds]).long().sum().item()\n",
        "        union = pred_inds.long().sum().item() + target_inds.long().sum().item() - intersection\n",
        "        if union == 0:\n",
        "            ious.append(float('nan'))  # Skip class if not present\n",
        "        else:\n",
        "            ious.append(intersection / union)\n",
        "    return np.nanmean(ious)\n"
      ],
      "metadata": {
        "id": "8J9G2r0sJsIU"
      },
      "execution_count": null,
      "outputs": []
    },
    {
      "cell_type": "markdown",
      "source": [
        "**training for some epoch**"
      ],
      "metadata": {
        "id": "Mdh2W5JEvaSf"
      }
    },
    {
      "cell_type": "code",
      "source": [
        "\"\"\"from tqdm import tqdm\n",
        "from tqdm import tqdm\n",
        "import torch.nn.functional as F\n",
        "from tqdm import tqdm\n",
        "import numpy as np\n",
        "\n",
        "def train_model(model, train_loader, val_loader, criterion, optimizer, num_epochs=15, num_classes=5):\n",
        "    device = torch.device(\"cuda\" if torch.cuda.is_available() else \"cpu\")\n",
        "    model.to(device)\n",
        "\n",
        "    train_losses, val_losses, val_ious = [], [], []\n",
        "\n",
        "    for epoch in range(num_epochs):\n",
        "        model.train()\n",
        "        running_loss = 0.0\n",
        "\n",
        "        for images, masks in tqdm(train_loader, desc=f\"Epoch {epoch+1}/{num_epochs}\"):\n",
        "            images = images.to(device)\n",
        "            masks = masks.to(device)\n",
        "\n",
        "            outputs = model(images)['out']\n",
        "            outputs = F.interpolate(outputs, size=masks.shape[1:], mode='bilinear', align_corners=False)\n",
        "\n",
        "            loss = criterion(outputs, masks)\n",
        "\n",
        "            optimizer.zero_grad()\n",
        "            loss.backward()\n",
        "            optimizer.step()\n",
        "            running_loss += loss.item() * images.size(0)\n",
        "\n",
        "        avg_train_loss = running_loss / len(train_loader.dataset)\n",
        "        train_losses.append(avg_train_loss)\n",
        "\n",
        "        # Validation\n",
        "        model.eval()\n",
        "        val_loss = 0.0\n",
        "        ious = []\n",
        "\n",
        "        with torch.no_grad():\n",
        "            for images, masks in val_loader:\n",
        "                images = images.to(device)\n",
        "                masks = masks.to(device)\n",
        "\n",
        "                outputs = model(images)['out']\n",
        "                outputs = F.interpolate(outputs, size=masks.shape[1:], mode='bilinear', align_corners=False)\n",
        "\n",
        "                loss = criterion(outputs, masks)\n",
        "                val_loss += loss.item() * images.size(0)\n",
        "\n",
        "                preds = torch.argmax(outputs, dim=1)\n",
        "                iou = compute_iou(preds, masks, num_classes)\n",
        "                ious.append(iou)\n",
        "\n",
        "        avg_val_loss = val_loss / len(val_loader.dataset)\n",
        "        avg_iou = np.nanmean(ious)\n",
        "        val_losses.append(avg_val_loss)\n",
        "        val_ious.append(avg_iou)\n",
        "\n",
        "        print(f\"📘 Epoch [{epoch+1}/{num_epochs}] | Train Loss: {avg_train_loss:.4f} | \"\n",
        "              f\"Val Loss: {avg_val_loss:.4f} | mIoU: {avg_iou:.4f}\")\n",
        "\n",
        "    return model, train_losses, val_losses, val_ious\n",
        "    \"\"\"\n",
        "\n",
        "\n",
        "\n"
      ],
      "metadata": {
        "id": "zODj6a0xrCTD"
      },
      "execution_count": null,
      "outputs": []
    },
    {
      "cell_type": "code",
      "source": [
        "# above training call\n",
        "\"\"\"model, train_losses, val_losses, val_ious = train_model(\n",
        "    model, train_loader, val_loader,\n",
        "    criterion, optimizer,\n",
        "    num_epochs=15, num_classes=5\n",
        ")\n",
        "\"\"\"\n",
        "\n"
      ],
      "metadata": {
        "colab": {
          "base_uri": "https://localhost:8080/"
        },
        "id": "GQ0WIKJQo5U9",
        "outputId": "2c3a27ca-d0a1-4a72-c1d7-ef409660bba4"
      },
      "execution_count": null,
      "outputs": [
        {
          "output_type": "stream",
          "name": "stderr",
          "text": [
            "Epoch 1/15: 100%|██████████| 233/233 [02:39<00:00,  1.46it/s]\n"
          ]
        },
        {
          "output_type": "stream",
          "name": "stdout",
          "text": [
            "📘 Epoch [1/15] | Train Loss: 0.7482 | Val Loss: 0.4201 | mIoU: 0.5179\n"
          ]
        },
        {
          "output_type": "stream",
          "name": "stderr",
          "text": [
            "Epoch 2/15: 100%|██████████| 233/233 [02:40<00:00,  1.45it/s]\n"
          ]
        },
        {
          "output_type": "stream",
          "name": "stdout",
          "text": [
            "📘 Epoch [2/15] | Train Loss: 0.3354 | Val Loss: 0.2687 | mIoU: 0.5864\n"
          ]
        },
        {
          "output_type": "stream",
          "name": "stderr",
          "text": [
            "Epoch 3/15: 100%|██████████| 233/233 [02:41<00:00,  1.44it/s]\n"
          ]
        },
        {
          "output_type": "stream",
          "name": "stdout",
          "text": [
            "📘 Epoch [3/15] | Train Loss: 0.2426 | Val Loss: 0.2483 | mIoU: 0.5310\n"
          ]
        },
        {
          "output_type": "stream",
          "name": "stderr",
          "text": [
            "Epoch 4/15: 100%|██████████| 233/233 [02:41<00:00,  1.44it/s]\n"
          ]
        },
        {
          "output_type": "stream",
          "name": "stdout",
          "text": [
            "📘 Epoch [4/15] | Train Loss: 0.1980 | Val Loss: 0.2208 | mIoU: 0.5849\n"
          ]
        },
        {
          "output_type": "stream",
          "name": "stderr",
          "text": [
            "Epoch 5/15: 100%|██████████| 233/233 [02:41<00:00,  1.44it/s]\n"
          ]
        },
        {
          "output_type": "stream",
          "name": "stdout",
          "text": [
            "📘 Epoch [5/15] | Train Loss: 0.1763 | Val Loss: 0.2370 | mIoU: 0.5606\n"
          ]
        },
        {
          "output_type": "stream",
          "name": "stderr",
          "text": [
            "Epoch 6/15: 100%|██████████| 233/233 [02:41<00:00,  1.44it/s]\n"
          ]
        },
        {
          "output_type": "stream",
          "name": "stdout",
          "text": [
            "📘 Epoch [6/15] | Train Loss: 0.1599 | Val Loss: 0.1903 | mIoU: 0.6351\n"
          ]
        },
        {
          "output_type": "stream",
          "name": "stderr",
          "text": [
            "Epoch 7/15: 100%|██████████| 233/233 [02:41<00:00,  1.44it/s]\n"
          ]
        },
        {
          "output_type": "stream",
          "name": "stdout",
          "text": [
            "📘 Epoch [7/15] | Train Loss: 0.1495 | Val Loss: 0.1789 | mIoU: 0.6420\n"
          ]
        },
        {
          "output_type": "stream",
          "name": "stderr",
          "text": [
            "Epoch 8/15: 100%|██████████| 233/233 [02:42<00:00,  1.44it/s]\n"
          ]
        },
        {
          "output_type": "stream",
          "name": "stdout",
          "text": [
            "📘 Epoch [8/15] | Train Loss: 0.1271 | Val Loss: 0.1922 | mIoU: 0.6463\n"
          ]
        },
        {
          "output_type": "stream",
          "name": "stderr",
          "text": [
            "Epoch 9/15: 100%|██████████| 233/233 [02:41<00:00,  1.44it/s]\n"
          ]
        },
        {
          "output_type": "stream",
          "name": "stdout",
          "text": [
            "📘 Epoch [9/15] | Train Loss: 0.1193 | Val Loss: 0.1796 | mIoU: 0.6497\n"
          ]
        },
        {
          "output_type": "stream",
          "name": "stderr",
          "text": [
            "Epoch 10/15: 100%|██████████| 233/233 [02:41<00:00,  1.44it/s]\n"
          ]
        },
        {
          "output_type": "stream",
          "name": "stdout",
          "text": [
            "📘 Epoch [10/15] | Train Loss: 0.1220 | Val Loss: 0.1973 | mIoU: 0.6090\n"
          ]
        },
        {
          "output_type": "stream",
          "name": "stderr",
          "text": [
            "Epoch 11/15: 100%|██████████| 233/233 [02:42<00:00,  1.44it/s]\n"
          ]
        },
        {
          "output_type": "stream",
          "name": "stdout",
          "text": [
            "📘 Epoch [11/15] | Train Loss: 0.1125 | Val Loss: 0.1995 | mIoU: 0.6143\n"
          ]
        },
        {
          "output_type": "stream",
          "name": "stderr",
          "text": [
            "Epoch 12/15: 100%|██████████| 233/233 [02:41<00:00,  1.44it/s]\n"
          ]
        },
        {
          "output_type": "stream",
          "name": "stdout",
          "text": [
            "📘 Epoch [12/15] | Train Loss: 0.1106 | Val Loss: 0.1857 | mIoU: 0.6293\n"
          ]
        },
        {
          "output_type": "stream",
          "name": "stderr",
          "text": [
            "Epoch 13/15: 100%|██████████| 233/233 [02:41<00:00,  1.44it/s]\n"
          ]
        },
        {
          "output_type": "stream",
          "name": "stdout",
          "text": [
            "📘 Epoch [13/15] | Train Loss: 0.1042 | Val Loss: 0.1973 | mIoU: 0.6319\n"
          ]
        },
        {
          "output_type": "stream",
          "name": "stderr",
          "text": [
            "Epoch 14/15: 100%|██████████| 233/233 [02:41<00:00,  1.44it/s]\n"
          ]
        },
        {
          "output_type": "stream",
          "name": "stdout",
          "text": [
            "📘 Epoch [14/15] | Train Loss: 0.1113 | Val Loss: 0.1915 | mIoU: 0.6582\n"
          ]
        },
        {
          "output_type": "stream",
          "name": "stderr",
          "text": [
            "Epoch 15/15: 100%|██████████| 233/233 [02:42<00:00,  1.44it/s]\n"
          ]
        },
        {
          "output_type": "stream",
          "name": "stdout",
          "text": [
            "📘 Epoch [15/15] | Train Loss: 0.0876 | Val Loss: 0.1825 | mIoU: 0.6738\n"
          ]
        }
      ]
    },
    {
      "cell_type": "markdown",
      "source": [
        "**Training+Save Best Model in train_model**"
      ],
      "metadata": {
        "id": "6Fg5ZsU_MsPA"
      }
    },
    {
      "cell_type": "code",
      "source": [
        "import torch\n",
        "import torch.nn.functional as F\n",
        "import numpy as np\n",
        "from tqdm import tqdm\n",
        "\n",
        "def compute_metrics(preds, labels, num_classes):\n",
        "    preds = preds.cpu().numpy()\n",
        "    labels = labels.cpu().numpy()\n",
        "\n",
        "    ious, f1s, precisions, recalls = [], [], [], []\n",
        "\n",
        "    for cls in range(num_classes):\n",
        "        pred_cls = (preds == cls)\n",
        "        label_cls = (labels == cls)\n",
        "\n",
        "        intersection = np.logical_and(pred_cls, label_cls).sum()\n",
        "        union = np.logical_or(pred_cls, label_cls).sum()\n",
        "        iou = intersection / union if union != 0 else float('nan')\n",
        "        ious.append(iou)\n",
        "\n",
        "        tp = intersection\n",
        "        fp = pred_cls.sum() - tp\n",
        "        fn = label_cls.sum() - tp\n",
        "\n",
        "        precision = tp / (tp + fp + 1e-7) if (tp + fp) > 0 else float('nan')\n",
        "        recall = tp / (tp + fn + 1e-7) if (tp + fn) > 0 else float('nan')\n",
        "        f1 = 2 * precision * recall / (precision + recall + 1e-7) if (precision + recall) > 0 else float('nan')\n",
        "\n",
        "        precisions.append(precision)\n",
        "        recalls.append(recall)\n",
        "        f1s.append(f1)\n",
        "\n",
        "    return np.nanmean(ious), np.nanmean(f1s), np.nanmean(precisions), np.nanmean(recalls)\n",
        "\n",
        "def train_model(model, train_loader, val_loader, criterion, optimizer, num_epochs=15, num_classes=5, save_path='best_model.pth'):\n",
        "    device = torch.device(\"cuda\" if torch.cuda.is_available() else \"cpu\")\n",
        "    model.to(device)\n",
        "\n",
        "    train_losses, val_losses = [], []\n",
        "    val_ious, val_f1s, val_precisions, val_recalls = [], [], [], []\n",
        "\n",
        "    best_miou = 0.0\n",
        "\n",
        "    for epoch in range(num_epochs):\n",
        "        model.train()\n",
        "        running_loss = 0.0\n",
        "\n",
        "        for images, masks in tqdm(train_loader, desc=f\"Epoch {epoch+1}/{num_epochs} - Training\"):\n",
        "            images = images.to(device)\n",
        "            masks = masks.to(device)\n",
        "\n",
        "            optimizer.zero_grad()\n",
        "            outputs = model(images)['out']\n",
        "            outputs = F.interpolate(outputs, size=masks.shape[1:], mode='bilinear', align_corners=False)\n",
        "\n",
        "            loss = criterion(outputs, masks)\n",
        "            loss.backward()\n",
        "            optimizer.step()\n",
        "\n",
        "            running_loss += loss.item() * images.size(0)\n",
        "\n",
        "        avg_train_loss = running_loss / len(train_loader.dataset)\n",
        "        train_losses.append(avg_train_loss)\n",
        "\n",
        "        # Validation\n",
        "        model.eval()\n",
        "        val_loss = 0.0\n",
        "        ious, f1s, precisions, recalls = [], [], [], []\n",
        "\n",
        "        with torch.no_grad():\n",
        "            for images, masks in tqdm(val_loader, desc=f\"Epoch {epoch+1}/{num_epochs} - Validation\"):\n",
        "                images = images.to(device)\n",
        "                masks = masks.to(device)\n",
        "\n",
        "                outputs = model(images)['out']\n",
        "                outputs = F.interpolate(outputs, size=masks.shape[1:], mode='bilinear', align_corners=False)\n",
        "                loss = criterion(outputs, masks)\n",
        "                val_loss += loss.item() * images.size(0)\n",
        "\n",
        "                preds = torch.argmax(outputs, dim=1)\n",
        "\n",
        "                iou, f1, prec, rec = compute_metrics(preds, masks, num_classes)\n",
        "                ious.append(iou)\n",
        "                f1s.append(f1)\n",
        "                precisions.append(prec)\n",
        "                recalls.append(rec)\n",
        "\n",
        "        avg_val_loss = val_loss / len(val_loader.dataset)\n",
        "        avg_iou = np.nanmean(ious)\n",
        "        avg_f1 = np.nanmean(f1s)\n",
        "        avg_precision = np.nanmean(precisions)\n",
        "        avg_recall = np.nanmean(recalls)\n",
        "\n",
        "        val_losses.append(avg_val_loss)\n",
        "        val_ious.append(avg_iou)\n",
        "        val_f1s.append(avg_f1)\n",
        "        val_precisions.append(avg_precision)\n",
        "        val_recalls.append(avg_recall)\n",
        "\n",
        "        print(f\"Epoch [{epoch+1}/{num_epochs}]\")\n",
        "        print(f\"Train Loss: {avg_train_loss:.4f} | Val Loss: {avg_val_loss:.4f}\")\n",
        "        print(f\"Val mIoU: {avg_iou:.4f} | F1: {avg_f1:.4f} | Precision: {avg_precision:.4f} | Recall: {avg_recall:.4f}\")\n",
        "\n",
        "        # Save best model by mIoU\n",
        "        if avg_iou > best_miou:\n",
        "            best_miou = avg_iou\n",
        "            torch.save(model.state_dict(), save_path)\n",
        "            print(f\"Best model saved with mIoU: {best_miou:.4f}\")\n",
        "\n",
        "    history = {\n",
        "        'train_loss': train_losses,\n",
        "        'val_loss': val_losses,\n",
        "        'val_miou': val_ious,\n",
        "        'val_f1': val_f1s,\n",
        "        'val_precision': val_precisions,\n",
        "        'val_recall': val_recalls\n",
        "    }\n",
        "\n",
        "    return model, history\n",
        "\n"
      ],
      "metadata": {
        "id": "mhoMa8pSMnD4"
      },
      "execution_count": null,
      "outputs": []
    },
    {
      "cell_type": "markdown",
      "source": [
        "**Call training**"
      ],
      "metadata": {
        "id": "bHgWsLyPM5i1"
      }
    },
    {
      "cell_type": "code",
      "source": [
        "model, history = train_model(\n",
        "    model,\n",
        "    train_loader,\n",
        "    val_loader,\n",
        "    criterion,\n",
        "    optimizer,\n",
        "    num_epochs=100,\n",
        "    num_classes=5,             # set according to your dataset\n",
        "    save_path='best_deeplabv3.pth'\n",
        ")\n",
        "\n"
      ],
      "metadata": {
        "id": "pkwcZGMmM4LL",
        "colab": {
          "base_uri": "https://localhost:8080/"
        },
        "outputId": "c88a8ec1-abb7-447b-fa35-82a5daced95c"
      },
      "execution_count": null,
      "outputs": [
        {
          "output_type": "stream",
          "name": "stderr",
          "text": [
            "Epoch 1/100 - Training: 100%|██████████| 233/233 [02:47<00:00,  1.39it/s]\n",
            "Epoch 1/100 - Validation: 100%|██████████| 26/26 [00:07<00:00,  3.40it/s]\n"
          ]
        },
        {
          "output_type": "stream",
          "name": "stdout",
          "text": [
            "Epoch [1/100]\n",
            "Train Loss: 0.0875 | Val Loss: 0.1971\n",
            "Val mIoU: 0.6523 | F1: 0.7578 | Precision: 0.8584 | Recall: 0.7250\n",
            "Best model saved with mIoU: 0.6523\n"
          ]
        },
        {
          "output_type": "stream",
          "name": "stderr",
          "text": [
            "Epoch 2/100 - Training: 100%|██████████| 233/233 [02:47<00:00,  1.39it/s]\n",
            "Epoch 2/100 - Validation: 100%|██████████| 26/26 [00:07<00:00,  3.34it/s]\n"
          ]
        },
        {
          "output_type": "stream",
          "name": "stdout",
          "text": [
            "Epoch [2/100]\n",
            "Train Loss: 0.0884 | Val Loss: 0.1973\n",
            "Val mIoU: 0.6643 | F1: 0.7685 | Precision: 0.8664 | Recall: 0.7319\n",
            "Best model saved with mIoU: 0.6643\n"
          ]
        },
        {
          "output_type": "stream",
          "name": "stderr",
          "text": [
            "Epoch 3/100 - Training: 100%|██████████| 233/233 [02:47<00:00,  1.39it/s]\n",
            "Epoch 3/100 - Validation: 100%|██████████| 26/26 [00:07<00:00,  3.39it/s]\n"
          ]
        },
        {
          "output_type": "stream",
          "name": "stdout",
          "text": [
            "Epoch [3/100]\n",
            "Train Loss: 0.0811 | Val Loss: 0.1919\n",
            "Val mIoU: 0.6345 | F1: 0.7584 | Precision: 0.7974 | Recall: 0.7516\n"
          ]
        },
        {
          "output_type": "stream",
          "name": "stderr",
          "text": [
            "Epoch 4/100 - Training: 100%|██████████| 233/233 [02:47<00:00,  1.39it/s]\n",
            "Epoch 4/100 - Validation: 100%|██████████| 26/26 [00:07<00:00,  3.36it/s]\n"
          ]
        },
        {
          "output_type": "stream",
          "name": "stdout",
          "text": [
            "Epoch [4/100]\n",
            "Train Loss: 0.0681 | Val Loss: 0.1812\n",
            "Val mIoU: 0.6874 | F1: 0.7882 | Precision: 0.8531 | Recall: 0.7672\n",
            "Best model saved with mIoU: 0.6874\n"
          ]
        },
        {
          "output_type": "stream",
          "name": "stderr",
          "text": [
            "Epoch 5/100 - Training: 100%|██████████| 233/233 [02:47<00:00,  1.39it/s]\n",
            "Epoch 5/100 - Validation: 100%|██████████| 26/26 [00:07<00:00,  3.32it/s]\n"
          ]
        },
        {
          "output_type": "stream",
          "name": "stdout",
          "text": [
            "Epoch [5/100]\n",
            "Train Loss: 0.0671 | Val Loss: 0.1985\n",
            "Val mIoU: 0.6814 | F1: 0.7757 | Precision: 0.8608 | Recall: 0.7604\n"
          ]
        },
        {
          "output_type": "stream",
          "name": "stderr",
          "text": [
            "Epoch 6/100 - Training: 100%|██████████| 233/233 [02:48<00:00,  1.39it/s]\n",
            "Epoch 6/100 - Validation: 100%|██████████| 26/26 [00:07<00:00,  3.32it/s]\n"
          ]
        },
        {
          "output_type": "stream",
          "name": "stdout",
          "text": [
            "Epoch [6/100]\n",
            "Train Loss: 0.0746 | Val Loss: 0.2555\n",
            "Val mIoU: 0.6333 | F1: 0.7502 | Precision: 0.8270 | Recall: 0.7214\n"
          ]
        },
        {
          "output_type": "stream",
          "name": "stderr",
          "text": [
            "Epoch 7/100 - Training: 100%|██████████| 233/233 [02:47<00:00,  1.39it/s]\n",
            "Epoch 7/100 - Validation: 100%|██████████| 26/26 [00:07<00:00,  3.41it/s]\n"
          ]
        },
        {
          "output_type": "stream",
          "name": "stdout",
          "text": [
            "Epoch [7/100]\n",
            "Train Loss: 0.0816 | Val Loss: 0.1924\n",
            "Val mIoU: 0.6810 | F1: 0.7714 | Precision: 0.8839 | Recall: 0.7432\n"
          ]
        },
        {
          "output_type": "stream",
          "name": "stderr",
          "text": [
            "Epoch 8/100 - Training: 100%|██████████| 233/233 [02:47<00:00,  1.39it/s]\n",
            "Epoch 8/100 - Validation: 100%|██████████| 26/26 [00:07<00:00,  3.38it/s]\n"
          ]
        },
        {
          "output_type": "stream",
          "name": "stdout",
          "text": [
            "Epoch [8/100]\n",
            "Train Loss: 0.0711 | Val Loss: 0.1985\n",
            "Val mIoU: 0.6824 | F1: 0.7785 | Precision: 0.8660 | Recall: 0.7592\n"
          ]
        },
        {
          "output_type": "stream",
          "name": "stderr",
          "text": [
            "Epoch 9/100 - Training: 100%|██████████| 233/233 [02:48<00:00,  1.39it/s]\n",
            "Epoch 9/100 - Validation: 100%|██████████| 26/26 [00:07<00:00,  3.30it/s]\n"
          ]
        },
        {
          "output_type": "stream",
          "name": "stdout",
          "text": [
            "Epoch [9/100]\n",
            "Train Loss: 0.0674 | Val Loss: 0.2202\n",
            "Val mIoU: 0.6147 | F1: 0.7403 | Precision: 0.8089 | Recall: 0.7372\n"
          ]
        },
        {
          "output_type": "stream",
          "name": "stderr",
          "text": [
            "Epoch 10/100 - Training: 100%|██████████| 233/233 [02:47<00:00,  1.39it/s]\n",
            "Epoch 10/100 - Validation: 100%|██████████| 26/26 [00:07<00:00,  3.31it/s]\n"
          ]
        },
        {
          "output_type": "stream",
          "name": "stdout",
          "text": [
            "Epoch [10/100]\n",
            "Train Loss: 0.0660 | Val Loss: 0.2150\n",
            "Val mIoU: 0.6859 | F1: 0.7888 | Precision: 0.8366 | Recall: 0.7785\n"
          ]
        },
        {
          "output_type": "stream",
          "name": "stderr",
          "text": [
            "Epoch 11/100 - Training: 100%|██████████| 233/233 [02:47<00:00,  1.39it/s]\n",
            "Epoch 11/100 - Validation: 100%|██████████| 26/26 [00:07<00:00,  3.40it/s]\n"
          ]
        },
        {
          "output_type": "stream",
          "name": "stdout",
          "text": [
            "Epoch [11/100]\n",
            "Train Loss: 0.0653 | Val Loss: 0.1770\n",
            "Val mIoU: 0.6991 | F1: 0.7951 | Precision: 0.8558 | Recall: 0.7825\n",
            "Best model saved with mIoU: 0.6991\n"
          ]
        },
        {
          "output_type": "stream",
          "name": "stderr",
          "text": [
            "Epoch 12/100 - Training: 100%|██████████| 233/233 [02:47<00:00,  1.39it/s]\n",
            "Epoch 12/100 - Validation: 100%|██████████| 26/26 [00:07<00:00,  3.40it/s]\n"
          ]
        },
        {
          "output_type": "stream",
          "name": "stdout",
          "text": [
            "Epoch [12/100]\n",
            "Train Loss: 0.0648 | Val Loss: 0.1874\n",
            "Val mIoU: 0.6892 | F1: 0.7924 | Precision: 0.8648 | Recall: 0.7567\n"
          ]
        },
        {
          "output_type": "stream",
          "name": "stderr",
          "text": [
            "Epoch 13/100 - Training: 100%|██████████| 233/233 [02:47<00:00,  1.39it/s]\n",
            "Epoch 13/100 - Validation: 100%|██████████| 26/26 [00:07<00:00,  3.38it/s]\n"
          ]
        },
        {
          "output_type": "stream",
          "name": "stdout",
          "text": [
            "Epoch [13/100]\n",
            "Train Loss: 0.0588 | Val Loss: 0.1822\n",
            "Val mIoU: 0.6922 | F1: 0.7886 | Precision: 0.8551 | Recall: 0.7710\n"
          ]
        },
        {
          "output_type": "stream",
          "name": "stderr",
          "text": [
            "Epoch 14/100 - Training: 100%|██████████| 233/233 [02:47<00:00,  1.39it/s]\n",
            "Epoch 14/100 - Validation: 100%|██████████| 26/26 [00:07<00:00,  3.34it/s]\n"
          ]
        },
        {
          "output_type": "stream",
          "name": "stdout",
          "text": [
            "Epoch [14/100]\n",
            "Train Loss: 0.0572 | Val Loss: 0.2169\n",
            "Val mIoU: 0.6733 | F1: 0.7868 | Precision: 0.8385 | Recall: 0.7635\n"
          ]
        },
        {
          "output_type": "stream",
          "name": "stderr",
          "text": [
            "Epoch 15/100 - Training: 100%|██████████| 233/233 [02:47<00:00,  1.39it/s]\n",
            "Epoch 15/100 - Validation: 100%|██████████| 26/26 [00:07<00:00,  3.39it/s]\n"
          ]
        },
        {
          "output_type": "stream",
          "name": "stdout",
          "text": [
            "Epoch [15/100]\n",
            "Train Loss: 0.0600 | Val Loss: 0.2102\n",
            "Val mIoU: 0.6832 | F1: 0.7891 | Precision: 0.8358 | Recall: 0.7856\n"
          ]
        },
        {
          "output_type": "stream",
          "name": "stderr",
          "text": [
            "Epoch 16/100 - Training: 100%|██████████| 233/233 [02:48<00:00,  1.39it/s]\n",
            "Epoch 16/100 - Validation: 100%|██████████| 26/26 [00:07<00:00,  3.39it/s]\n"
          ]
        },
        {
          "output_type": "stream",
          "name": "stdout",
          "text": [
            "Epoch [16/100]\n",
            "Train Loss: 0.0550 | Val Loss: 0.2055\n",
            "Val mIoU: 0.6906 | F1: 0.7951 | Precision: 0.8549 | Recall: 0.7717\n"
          ]
        },
        {
          "output_type": "stream",
          "name": "stderr",
          "text": [
            "Epoch 17/100 - Training: 100%|██████████| 233/233 [02:47<00:00,  1.39it/s]\n",
            "Epoch 17/100 - Validation: 100%|██████████| 26/26 [00:07<00:00,  3.34it/s]\n"
          ]
        },
        {
          "output_type": "stream",
          "name": "stdout",
          "text": [
            "Epoch [17/100]\n",
            "Train Loss: 0.0577 | Val Loss: 0.1982\n",
            "Val mIoU: 0.6902 | F1: 0.7930 | Precision: 0.8618 | Recall: 0.7690\n"
          ]
        },
        {
          "output_type": "stream",
          "name": "stderr",
          "text": [
            "Epoch 18/100 - Training: 100%|██████████| 233/233 [02:47<00:00,  1.39it/s]\n",
            "Epoch 18/100 - Validation: 100%|██████████| 26/26 [00:07<00:00,  3.36it/s]\n"
          ]
        },
        {
          "output_type": "stream",
          "name": "stdout",
          "text": [
            "Epoch [18/100]\n",
            "Train Loss: 0.0916 | Val Loss: 0.2365\n",
            "Val mIoU: 0.6132 | F1: 0.7304 | Precision: 0.8221 | Recall: 0.7035\n"
          ]
        },
        {
          "output_type": "stream",
          "name": "stderr",
          "text": [
            "Epoch 19/100 - Training: 100%|██████████| 233/233 [02:47<00:00,  1.39it/s]\n",
            "Epoch 19/100 - Validation: 100%|██████████| 26/26 [00:07<00:00,  3.39it/s]\n"
          ]
        },
        {
          "output_type": "stream",
          "name": "stdout",
          "text": [
            "Epoch [19/100]\n",
            "Train Loss: 0.0860 | Val Loss: 0.1912\n",
            "Val mIoU: 0.6619 | F1: 0.7674 | Precision: 0.8580 | Recall: 0.7478\n"
          ]
        },
        {
          "output_type": "stream",
          "name": "stderr",
          "text": [
            "Epoch 20/100 - Training: 100%|██████████| 233/233 [02:47<00:00,  1.39it/s]\n",
            "Epoch 20/100 - Validation: 100%|██████████| 26/26 [00:07<00:00,  3.40it/s]\n"
          ]
        },
        {
          "output_type": "stream",
          "name": "stdout",
          "text": [
            "Epoch [20/100]\n",
            "Train Loss: 0.0551 | Val Loss: 0.2196\n",
            "Val mIoU: 0.6849 | F1: 0.7895 | Precision: 0.8611 | Recall: 0.7655\n"
          ]
        },
        {
          "output_type": "stream",
          "name": "stderr",
          "text": [
            "Epoch 21/100 - Training: 100%|██████████| 233/233 [02:47<00:00,  1.39it/s]\n",
            "Epoch 21/100 - Validation: 100%|██████████| 26/26 [00:07<00:00,  3.34it/s]\n"
          ]
        },
        {
          "output_type": "stream",
          "name": "stdout",
          "text": [
            "Epoch [21/100]\n",
            "Train Loss: 0.0567 | Val Loss: 0.2111\n",
            "Val mIoU: 0.6677 | F1: 0.7899 | Precision: 0.8228 | Recall: 0.7755\n"
          ]
        },
        {
          "output_type": "stream",
          "name": "stderr",
          "text": [
            "Epoch 22/100 - Training: 100%|██████████| 233/233 [02:47<00:00,  1.39it/s]\n",
            "Epoch 22/100 - Validation: 100%|██████████| 26/26 [00:07<00:00,  3.38it/s]\n"
          ]
        },
        {
          "output_type": "stream",
          "name": "stdout",
          "text": [
            "Epoch [22/100]\n",
            "Train Loss: 0.0496 | Val Loss: 0.1930\n",
            "Val mIoU: 0.7001 | F1: 0.8018 | Precision: 0.8673 | Recall: 0.7768\n",
            "Best model saved with mIoU: 0.7001\n"
          ]
        },
        {
          "output_type": "stream",
          "name": "stderr",
          "text": [
            "Epoch 23/100 - Training: 100%|██████████| 233/233 [02:47<00:00,  1.39it/s]\n",
            "Epoch 23/100 - Validation: 100%|██████████| 26/26 [00:07<00:00,  3.35it/s]\n"
          ]
        },
        {
          "output_type": "stream",
          "name": "stdout",
          "text": [
            "Epoch [23/100]\n",
            "Train Loss: 0.0451 | Val Loss: 0.2164\n",
            "Val mIoU: 0.6992 | F1: 0.8016 | Precision: 0.8476 | Recall: 0.7833\n"
          ]
        },
        {
          "output_type": "stream",
          "name": "stderr",
          "text": [
            "Epoch 24/100 - Training: 100%|██████████| 233/233 [02:47<00:00,  1.39it/s]\n",
            "Epoch 24/100 - Validation: 100%|██████████| 26/26 [00:07<00:00,  3.38it/s]\n"
          ]
        },
        {
          "output_type": "stream",
          "name": "stdout",
          "text": [
            "Epoch [24/100]\n",
            "Train Loss: 0.0528 | Val Loss: 0.2121\n",
            "Val mIoU: 0.6821 | F1: 0.7743 | Precision: 0.8483 | Recall: 0.7580\n"
          ]
        },
        {
          "output_type": "stream",
          "name": "stderr",
          "text": [
            "Epoch 25/100 - Training: 100%|██████████| 233/233 [02:47<00:00,  1.39it/s]\n",
            "Epoch 25/100 - Validation: 100%|██████████| 26/26 [00:07<00:00,  3.37it/s]\n"
          ]
        },
        {
          "output_type": "stream",
          "name": "stdout",
          "text": [
            "Epoch [25/100]\n",
            "Train Loss: 0.0479 | Val Loss: 0.2126\n",
            "Val mIoU: 0.6898 | F1: 0.7928 | Precision: 0.8504 | Recall: 0.7614\n"
          ]
        },
        {
          "output_type": "stream",
          "name": "stderr",
          "text": [
            "Epoch 26/100 - Training: 100%|██████████| 233/233 [02:47<00:00,  1.39it/s]\n",
            "Epoch 26/100 - Validation: 100%|██████████| 26/26 [00:07<00:00,  3.37it/s]\n"
          ]
        },
        {
          "output_type": "stream",
          "name": "stdout",
          "text": [
            "Epoch [26/100]\n",
            "Train Loss: 0.0441 | Val Loss: 0.2027\n",
            "Val mIoU: 0.6915 | F1: 0.7963 | Precision: 0.8510 | Recall: 0.7657\n"
          ]
        },
        {
          "output_type": "stream",
          "name": "stderr",
          "text": [
            "Epoch 27/100 - Training: 100%|██████████| 233/233 [02:47<00:00,  1.39it/s]\n",
            "Epoch 27/100 - Validation: 100%|██████████| 26/26 [00:07<00:00,  3.39it/s]\n"
          ]
        },
        {
          "output_type": "stream",
          "name": "stdout",
          "text": [
            "Epoch [27/100]\n",
            "Train Loss: 0.0444 | Val Loss: 0.2018\n",
            "Val mIoU: 0.6774 | F1: 0.7904 | Precision: 0.8396 | Recall: 0.7759\n"
          ]
        },
        {
          "output_type": "stream",
          "name": "stderr",
          "text": [
            "Epoch 28/100 - Training: 100%|██████████| 233/233 [02:47<00:00,  1.39it/s]\n",
            "Epoch 28/100 - Validation: 100%|██████████| 26/26 [00:07<00:00,  3.37it/s]\n"
          ]
        },
        {
          "output_type": "stream",
          "name": "stdout",
          "text": [
            "Epoch [28/100]\n",
            "Train Loss: 0.0815 | Val Loss: 0.2191\n",
            "Val mIoU: 0.6351 | F1: 0.7540 | Precision: 0.8344 | Recall: 0.7242\n"
          ]
        },
        {
          "output_type": "stream",
          "name": "stderr",
          "text": [
            "Epoch 29/100 - Training: 100%|██████████| 233/233 [02:47<00:00,  1.39it/s]\n",
            "Epoch 29/100 - Validation: 100%|██████████| 26/26 [00:07<00:00,  3.33it/s]\n"
          ]
        },
        {
          "output_type": "stream",
          "name": "stdout",
          "text": [
            "Epoch [29/100]\n",
            "Train Loss: 0.0796 | Val Loss: 0.1903\n",
            "Val mIoU: 0.6699 | F1: 0.7859 | Precision: 0.8428 | Recall: 0.7581\n"
          ]
        },
        {
          "output_type": "stream",
          "name": "stderr",
          "text": [
            "Epoch 30/100 - Training: 100%|██████████| 233/233 [02:48<00:00,  1.39it/s]\n",
            "Epoch 30/100 - Validation: 100%|██████████| 26/26 [00:07<00:00,  3.32it/s]\n"
          ]
        },
        {
          "output_type": "stream",
          "name": "stdout",
          "text": [
            "Epoch [30/100]\n",
            "Train Loss: 0.0499 | Val Loss: 0.1906\n",
            "Val mIoU: 0.7081 | F1: 0.8057 | Precision: 0.8572 | Recall: 0.7874\n",
            "Best model saved with mIoU: 0.7081\n"
          ]
        },
        {
          "output_type": "stream",
          "name": "stderr",
          "text": [
            "Epoch 31/100 - Training: 100%|██████████| 233/233 [02:47<00:00,  1.39it/s]\n",
            "Epoch 31/100 - Validation: 100%|██████████| 26/26 [00:07<00:00,  3.36it/s]\n"
          ]
        },
        {
          "output_type": "stream",
          "name": "stdout",
          "text": [
            "Epoch [31/100]\n",
            "Train Loss: 0.0455 | Val Loss: 0.1885\n",
            "Val mIoU: 0.7049 | F1: 0.8082 | Precision: 0.8461 | Recall: 0.7916\n"
          ]
        },
        {
          "output_type": "stream",
          "name": "stderr",
          "text": [
            "Epoch 32/100 - Training: 100%|██████████| 233/233 [02:48<00:00,  1.39it/s]\n",
            "Epoch 32/100 - Validation: 100%|██████████| 26/26 [00:07<00:00,  3.36it/s]\n"
          ]
        },
        {
          "output_type": "stream",
          "name": "stdout",
          "text": [
            "Epoch [32/100]\n",
            "Train Loss: 0.0408 | Val Loss: 0.2084\n",
            "Val mIoU: 0.6985 | F1: 0.7967 | Precision: 0.8673 | Recall: 0.7660\n"
          ]
        },
        {
          "output_type": "stream",
          "name": "stderr",
          "text": [
            "Epoch 33/100 - Training: 100%|██████████| 233/233 [02:48<00:00,  1.39it/s]\n",
            "Epoch 33/100 - Validation: 100%|██████████| 26/26 [00:07<00:00,  3.29it/s]\n"
          ]
        },
        {
          "output_type": "stream",
          "name": "stdout",
          "text": [
            "Epoch [33/100]\n",
            "Train Loss: 0.0418 | Val Loss: 0.2137\n",
            "Val mIoU: 0.6936 | F1: 0.7956 | Precision: 0.8601 | Recall: 0.7689\n"
          ]
        },
        {
          "output_type": "stream",
          "name": "stderr",
          "text": [
            "Epoch 34/100 - Training: 100%|██████████| 233/233 [02:48<00:00,  1.38it/s]\n",
            "Epoch 34/100 - Validation: 100%|██████████| 26/26 [00:07<00:00,  3.30it/s]\n"
          ]
        },
        {
          "output_type": "stream",
          "name": "stdout",
          "text": [
            "Epoch [34/100]\n",
            "Train Loss: 0.0402 | Val Loss: 0.2095\n",
            "Val mIoU: 0.7057 | F1: 0.8095 | Precision: 0.8545 | Recall: 0.7953\n"
          ]
        },
        {
          "output_type": "stream",
          "name": "stderr",
          "text": [
            "Epoch 35/100 - Training: 100%|██████████| 233/233 [02:47<00:00,  1.39it/s]\n",
            "Epoch 35/100 - Validation: 100%|██████████| 26/26 [00:07<00:00,  3.38it/s]\n"
          ]
        },
        {
          "output_type": "stream",
          "name": "stdout",
          "text": [
            "Epoch [35/100]\n",
            "Train Loss: 0.0385 | Val Loss: 0.2196\n",
            "Val mIoU: 0.7045 | F1: 0.8004 | Precision: 0.8797 | Recall: 0.7725\n"
          ]
        },
        {
          "output_type": "stream",
          "name": "stderr",
          "text": [
            "Epoch 36/100 - Training: 100%|██████████| 233/233 [02:47<00:00,  1.39it/s]\n",
            "Epoch 36/100 - Validation: 100%|██████████| 26/26 [00:07<00:00,  3.37it/s]\n"
          ]
        },
        {
          "output_type": "stream",
          "name": "stdout",
          "text": [
            "Epoch [36/100]\n",
            "Train Loss: 0.0370 | Val Loss: 0.1967\n",
            "Val mIoU: 0.6929 | F1: 0.7933 | Precision: 0.8618 | Recall: 0.7700\n"
          ]
        },
        {
          "output_type": "stream",
          "name": "stderr",
          "text": [
            "Epoch 37/100 - Training: 100%|██████████| 233/233 [02:47<00:00,  1.39it/s]\n",
            "Epoch 37/100 - Validation: 100%|██████████| 26/26 [00:07<00:00,  3.33it/s]\n"
          ]
        },
        {
          "output_type": "stream",
          "name": "stdout",
          "text": [
            "Epoch [37/100]\n",
            "Train Loss: 0.0401 | Val Loss: 0.2159\n",
            "Val mIoU: 0.7000 | F1: 0.8017 | Precision: 0.8638 | Recall: 0.7782\n"
          ]
        },
        {
          "output_type": "stream",
          "name": "stderr",
          "text": [
            "Epoch 38/100 - Training: 100%|██████████| 233/233 [02:47<00:00,  1.39it/s]\n",
            "Epoch 38/100 - Validation: 100%|██████████| 26/26 [00:07<00:00,  3.31it/s]\n"
          ]
        },
        {
          "output_type": "stream",
          "name": "stdout",
          "text": [
            "Epoch [38/100]\n",
            "Train Loss: 0.0373 | Val Loss: 0.2628\n",
            "Val mIoU: 0.6737 | F1: 0.7905 | Precision: 0.8321 | Recall: 0.7731\n"
          ]
        },
        {
          "output_type": "stream",
          "name": "stderr",
          "text": [
            "Epoch 39/100 - Training: 100%|██████████| 233/233 [02:47<00:00,  1.39it/s]\n",
            "Epoch 39/100 - Validation: 100%|██████████| 26/26 [00:07<00:00,  3.37it/s]\n"
          ]
        },
        {
          "output_type": "stream",
          "name": "stdout",
          "text": [
            "Epoch [39/100]\n",
            "Train Loss: 0.0386 | Val Loss: 0.2104\n",
            "Val mIoU: 0.7088 | F1: 0.8128 | Precision: 0.8463 | Recall: 0.7984\n",
            "Best model saved with mIoU: 0.7088\n"
          ]
        },
        {
          "output_type": "stream",
          "name": "stderr",
          "text": [
            "Epoch 40/100 - Training: 100%|██████████| 233/233 [02:48<00:00,  1.39it/s]\n",
            "Epoch 40/100 - Validation: 100%|██████████| 26/26 [00:07<00:00,  3.39it/s]\n"
          ]
        },
        {
          "output_type": "stream",
          "name": "stdout",
          "text": [
            "Epoch [40/100]\n",
            "Train Loss: 0.0363 | Val Loss: 0.2455\n",
            "Val mIoU: 0.6948 | F1: 0.7983 | Precision: 0.8514 | Recall: 0.7797\n"
          ]
        },
        {
          "output_type": "stream",
          "name": "stderr",
          "text": [
            "Epoch 41/100 - Training: 100%|██████████| 233/233 [02:48<00:00,  1.39it/s]\n",
            "Epoch 41/100 - Validation: 100%|██████████| 26/26 [00:07<00:00,  3.32it/s]\n"
          ]
        },
        {
          "output_type": "stream",
          "name": "stdout",
          "text": [
            "Epoch [41/100]\n",
            "Train Loss: 0.0380 | Val Loss: 0.2627\n",
            "Val mIoU: 0.6924 | F1: 0.7931 | Precision: 0.8565 | Recall: 0.7688\n"
          ]
        },
        {
          "output_type": "stream",
          "name": "stderr",
          "text": [
            "Epoch 42/100 - Training: 100%|██████████| 233/233 [02:47<00:00,  1.39it/s]\n",
            "Epoch 42/100 - Validation: 100%|██████████| 26/26 [00:07<00:00,  3.31it/s]\n"
          ]
        },
        {
          "output_type": "stream",
          "name": "stdout",
          "text": [
            "Epoch [42/100]\n",
            "Train Loss: 0.0363 | Val Loss: 0.2110\n",
            "Val mIoU: 0.6943 | F1: 0.7949 | Precision: 0.8404 | Recall: 0.7938\n"
          ]
        },
        {
          "output_type": "stream",
          "name": "stderr",
          "text": [
            "Epoch 43/100 - Training: 100%|██████████| 233/233 [02:48<00:00,  1.39it/s]\n",
            "Epoch 43/100 - Validation: 100%|██████████| 26/26 [00:07<00:00,  3.38it/s]\n"
          ]
        },
        {
          "output_type": "stream",
          "name": "stdout",
          "text": [
            "Epoch [43/100]\n",
            "Train Loss: 0.0658 | Val Loss: 0.2248\n",
            "Val mIoU: 0.6379 | F1: 0.7534 | Precision: 0.8040 | Recall: 0.7512\n"
          ]
        },
        {
          "output_type": "stream",
          "name": "stderr",
          "text": [
            "Epoch 44/100 - Training: 100%|██████████| 233/233 [02:47<00:00,  1.39it/s]\n",
            "Epoch 44/100 - Validation: 100%|██████████| 26/26 [00:07<00:00,  3.39it/s]\n"
          ]
        },
        {
          "output_type": "stream",
          "name": "stdout",
          "text": [
            "Epoch [44/100]\n",
            "Train Loss: 0.0768 | Val Loss: 0.2019\n",
            "Val mIoU: 0.6761 | F1: 0.7826 | Precision: 0.8465 | Recall: 0.7645\n"
          ]
        },
        {
          "output_type": "stream",
          "name": "stderr",
          "text": [
            "Epoch 45/100 - Training: 100%|██████████| 233/233 [02:47<00:00,  1.39it/s]\n",
            "Epoch 45/100 - Validation: 100%|██████████| 26/26 [00:07<00:00,  3.31it/s]\n"
          ]
        },
        {
          "output_type": "stream",
          "name": "stdout",
          "text": [
            "Epoch [45/100]\n",
            "Train Loss: 0.0494 | Val Loss: 0.2313\n",
            "Val mIoU: 0.6841 | F1: 0.7920 | Precision: 0.8481 | Recall: 0.7708\n"
          ]
        },
        {
          "output_type": "stream",
          "name": "stderr",
          "text": [
            "Epoch 46/100 - Training: 100%|██████████| 233/233 [02:47<00:00,  1.39it/s]\n",
            "Epoch 46/100 - Validation: 100%|██████████| 26/26 [00:07<00:00,  3.31it/s]\n"
          ]
        },
        {
          "output_type": "stream",
          "name": "stdout",
          "text": [
            "Epoch [46/100]\n",
            "Train Loss: 0.0455 | Val Loss: 0.2081\n",
            "Val mIoU: 0.7206 | F1: 0.8182 | Precision: 0.8533 | Recall: 0.8055\n",
            "Best model saved with mIoU: 0.7206\n"
          ]
        },
        {
          "output_type": "stream",
          "name": "stderr",
          "text": [
            "Epoch 47/100 - Training: 100%|██████████| 233/233 [02:47<00:00,  1.39it/s]\n",
            "Epoch 47/100 - Validation: 100%|██████████| 26/26 [00:07<00:00,  3.38it/s]\n"
          ]
        },
        {
          "output_type": "stream",
          "name": "stdout",
          "text": [
            "Epoch [47/100]\n",
            "Train Loss: 0.0360 | Val Loss: 0.2305\n",
            "Val mIoU: 0.6902 | F1: 0.7877 | Precision: 0.8755 | Recall: 0.7582\n"
          ]
        },
        {
          "output_type": "stream",
          "name": "stderr",
          "text": [
            "Epoch 48/100 - Training: 100%|██████████| 233/233 [02:47<00:00,  1.39it/s]\n",
            "Epoch 48/100 - Validation: 100%|██████████| 26/26 [00:07<00:00,  3.36it/s]\n"
          ]
        },
        {
          "output_type": "stream",
          "name": "stdout",
          "text": [
            "Epoch [48/100]\n",
            "Train Loss: 0.0364 | Val Loss: 0.2376\n",
            "Val mIoU: 0.6947 | F1: 0.7966 | Precision: 0.8706 | Recall: 0.7659\n"
          ]
        },
        {
          "output_type": "stream",
          "name": "stderr",
          "text": [
            "Epoch 49/100 - Training: 100%|██████████| 233/233 [02:48<00:00,  1.39it/s]\n",
            "Epoch 49/100 - Validation: 100%|██████████| 26/26 [00:07<00:00,  3.32it/s]\n"
          ]
        },
        {
          "output_type": "stream",
          "name": "stdout",
          "text": [
            "Epoch [49/100]\n",
            "Train Loss: 0.0333 | Val Loss: 0.2397\n",
            "Val mIoU: 0.7040 | F1: 0.8004 | Precision: 0.8617 | Recall: 0.7741\n"
          ]
        },
        {
          "output_type": "stream",
          "name": "stderr",
          "text": [
            "Epoch 50/100 - Training: 100%|██████████| 233/233 [02:47<00:00,  1.39it/s]\n",
            "Epoch 50/100 - Validation: 100%|██████████| 26/26 [00:07<00:00,  3.33it/s]\n"
          ]
        },
        {
          "output_type": "stream",
          "name": "stdout",
          "text": [
            "Epoch [50/100]\n",
            "Train Loss: 0.0321 | Val Loss: 0.2519\n",
            "Val mIoU: 0.6967 | F1: 0.7929 | Precision: 0.8753 | Recall: 0.7637\n"
          ]
        },
        {
          "output_type": "stream",
          "name": "stderr",
          "text": [
            "Epoch 51/100 - Training: 100%|██████████| 233/233 [02:47<00:00,  1.39it/s]\n",
            "Epoch 51/100 - Validation: 100%|██████████| 26/26 [00:07<00:00,  3.36it/s]\n"
          ]
        },
        {
          "output_type": "stream",
          "name": "stdout",
          "text": [
            "Epoch [51/100]\n",
            "Train Loss: 0.0357 | Val Loss: 0.2452\n",
            "Val mIoU: 0.7073 | F1: 0.8043 | Precision: 0.8710 | Recall: 0.7798\n"
          ]
        },
        {
          "output_type": "stream",
          "name": "stderr",
          "text": [
            "Epoch 52/100 - Training: 100%|██████████| 233/233 [02:47<00:00,  1.39it/s]\n",
            "Epoch 52/100 - Validation: 100%|██████████| 26/26 [00:07<00:00,  3.38it/s]\n"
          ]
        },
        {
          "output_type": "stream",
          "name": "stdout",
          "text": [
            "Epoch [52/100]\n",
            "Train Loss: 0.0334 | Val Loss: 0.2525\n",
            "Val mIoU: 0.7109 | F1: 0.8085 | Precision: 0.8605 | Recall: 0.7892\n"
          ]
        },
        {
          "output_type": "stream",
          "name": "stderr",
          "text": [
            "Epoch 53/100 - Training: 100%|██████████| 233/233 [02:47<00:00,  1.39it/s]\n",
            "Epoch 53/100 - Validation: 100%|██████████| 26/26 [00:07<00:00,  3.28it/s]\n"
          ]
        },
        {
          "output_type": "stream",
          "name": "stdout",
          "text": [
            "Epoch [53/100]\n",
            "Train Loss: 0.0300 | Val Loss: 0.2625\n",
            "Val mIoU: 0.7008 | F1: 0.7990 | Precision: 0.8629 | Recall: 0.7767\n"
          ]
        },
        {
          "output_type": "stream",
          "name": "stderr",
          "text": [
            "Epoch 54/100 - Training: 100%|██████████| 233/233 [02:47<00:00,  1.39it/s]\n",
            "Epoch 54/100 - Validation: 100%|██████████| 26/26 [00:07<00:00,  3.32it/s]\n"
          ]
        },
        {
          "output_type": "stream",
          "name": "stdout",
          "text": [
            "Epoch [54/100]\n",
            "Train Loss: 0.0303 | Val Loss: 0.2683\n",
            "Val mIoU: 0.6883 | F1: 0.7955 | Precision: 0.8388 | Recall: 0.7819\n"
          ]
        },
        {
          "output_type": "stream",
          "name": "stderr",
          "text": [
            "Epoch 55/100 - Training: 100%|██████████| 233/233 [02:48<00:00,  1.39it/s]\n",
            "Epoch 55/100 - Validation: 100%|██████████| 26/26 [00:07<00:00,  3.39it/s]\n"
          ]
        },
        {
          "output_type": "stream",
          "name": "stdout",
          "text": [
            "Epoch [55/100]\n",
            "Train Loss: 0.0306 | Val Loss: 0.2628\n",
            "Val mIoU: 0.6908 | F1: 0.7901 | Precision: 0.8735 | Recall: 0.7625\n"
          ]
        },
        {
          "output_type": "stream",
          "name": "stderr",
          "text": [
            "Epoch 56/100 - Training: 100%|██████████| 233/233 [02:47<00:00,  1.39it/s]\n",
            "Epoch 56/100 - Validation: 100%|██████████| 26/26 [00:07<00:00,  3.38it/s]\n"
          ]
        },
        {
          "output_type": "stream",
          "name": "stdout",
          "text": [
            "Epoch [56/100]\n",
            "Train Loss: 0.0281 | Val Loss: 0.2638\n",
            "Val mIoU: 0.6991 | F1: 0.7980 | Precision: 0.8722 | Recall: 0.7706\n"
          ]
        },
        {
          "output_type": "stream",
          "name": "stderr",
          "text": [
            "Epoch 57/100 - Training: 100%|██████████| 233/233 [02:47<00:00,  1.39it/s]\n",
            "Epoch 57/100 - Validation: 100%|██████████| 26/26 [00:07<00:00,  3.32it/s]\n"
          ]
        },
        {
          "output_type": "stream",
          "name": "stdout",
          "text": [
            "Epoch [57/100]\n",
            "Train Loss: 0.0284 | Val Loss: 0.2698\n",
            "Val mIoU: 0.6945 | F1: 0.7934 | Precision: 0.8600 | Recall: 0.7685\n"
          ]
        },
        {
          "output_type": "stream",
          "name": "stderr",
          "text": [
            "Epoch 58/100 - Training: 100%|██████████| 233/233 [02:47<00:00,  1.39it/s]\n",
            "Epoch 58/100 - Validation: 100%|██████████| 26/26 [00:07<00:00,  3.29it/s]\n"
          ]
        },
        {
          "output_type": "stream",
          "name": "stdout",
          "text": [
            "Epoch [58/100]\n",
            "Train Loss: 0.0282 | Val Loss: 0.2505\n",
            "Val mIoU: 0.7001 | F1: 0.8053 | Precision: 0.8583 | Recall: 0.7850\n"
          ]
        },
        {
          "output_type": "stream",
          "name": "stderr",
          "text": [
            "Epoch 59/100 - Training: 100%|██████████| 233/233 [02:47<00:00,  1.39it/s]\n",
            "Epoch 59/100 - Validation: 100%|██████████| 26/26 [00:07<00:00,  3.36it/s]\n"
          ]
        },
        {
          "output_type": "stream",
          "name": "stdout",
          "text": [
            "Epoch [59/100]\n",
            "Train Loss: 0.0479 | Val Loss: 0.3557\n",
            "Val mIoU: 0.5465 | F1: 0.6821 | Precision: 0.8124 | Recall: 0.6394\n"
          ]
        },
        {
          "output_type": "stream",
          "name": "stderr",
          "text": [
            "Epoch 60/100 - Training: 100%|██████████| 233/233 [02:47<00:00,  1.39it/s]\n",
            "Epoch 60/100 - Validation: 100%|██████████| 26/26 [00:07<00:00,  3.37it/s]\n"
          ]
        },
        {
          "output_type": "stream",
          "name": "stdout",
          "text": [
            "Epoch [60/100]\n",
            "Train Loss: 0.1315 | Val Loss: 0.2140\n",
            "Val mIoU: 0.6583 | F1: 0.7690 | Precision: 0.8163 | Recall: 0.7680\n"
          ]
        },
        {
          "output_type": "stream",
          "name": "stderr",
          "text": [
            "Epoch 61/100 - Training: 100%|██████████| 233/233 [02:47<00:00,  1.39it/s]\n",
            "Epoch 61/100 - Validation: 100%|██████████| 26/26 [00:07<00:00,  3.31it/s]\n"
          ]
        },
        {
          "output_type": "stream",
          "name": "stdout",
          "text": [
            "Epoch [61/100]\n",
            "Train Loss: 0.0526 | Val Loss: 0.2044\n",
            "Val mIoU: 0.6874 | F1: 0.7961 | Precision: 0.8447 | Recall: 0.7792\n"
          ]
        },
        {
          "output_type": "stream",
          "name": "stderr",
          "text": [
            "Epoch 62/100 - Training: 100%|██████████| 233/233 [02:47<00:00,  1.39it/s]\n",
            "Epoch 62/100 - Validation: 100%|██████████| 26/26 [00:07<00:00,  3.33it/s]\n"
          ]
        },
        {
          "output_type": "stream",
          "name": "stdout",
          "text": [
            "Epoch [62/100]\n",
            "Train Loss: 0.0402 | Val Loss: 0.2120\n",
            "Val mIoU: 0.6991 | F1: 0.7981 | Precision: 0.8496 | Recall: 0.7821\n"
          ]
        },
        {
          "output_type": "stream",
          "name": "stderr",
          "text": [
            "Epoch 63/100 - Training: 100%|██████████| 233/233 [02:47<00:00,  1.39it/s]\n",
            "Epoch 63/100 - Validation: 100%|██████████| 26/26 [00:07<00:00,  3.38it/s]\n"
          ]
        },
        {
          "output_type": "stream",
          "name": "stdout",
          "text": [
            "Epoch [63/100]\n",
            "Train Loss: 0.0367 | Val Loss: 0.2239\n",
            "Val mIoU: 0.7019 | F1: 0.7990 | Precision: 0.8702 | Recall: 0.7730\n"
          ]
        },
        {
          "output_type": "stream",
          "name": "stderr",
          "text": [
            "Epoch 64/100 - Training: 100%|██████████| 233/233 [02:47<00:00,  1.39it/s]\n",
            "Epoch 64/100 - Validation: 100%|██████████| 26/26 [00:07<00:00,  3.37it/s]\n"
          ]
        },
        {
          "output_type": "stream",
          "name": "stdout",
          "text": [
            "Epoch [64/100]\n",
            "Train Loss: 0.0302 | Val Loss: 0.2401\n",
            "Val mIoU: 0.6962 | F1: 0.7994 | Precision: 0.8651 | Recall: 0.7719\n"
          ]
        },
        {
          "output_type": "stream",
          "name": "stderr",
          "text": [
            "Epoch 65/100 - Training: 100%|██████████| 233/233 [02:48<00:00,  1.38it/s]\n",
            "Epoch 65/100 - Validation: 100%|██████████| 26/26 [00:07<00:00,  3.31it/s]\n"
          ]
        },
        {
          "output_type": "stream",
          "name": "stdout",
          "text": [
            "Epoch [65/100]\n",
            "Train Loss: 0.0289 | Val Loss: 0.2405\n",
            "Val mIoU: 0.6980 | F1: 0.7957 | Precision: 0.8698 | Recall: 0.7716\n"
          ]
        },
        {
          "output_type": "stream",
          "name": "stderr",
          "text": [
            "Epoch 66/100 - Training: 100%|██████████| 233/233 [02:47<00:00,  1.39it/s]\n",
            "Epoch 66/100 - Validation: 100%|██████████| 26/26 [00:07<00:00,  3.30it/s]\n"
          ]
        },
        {
          "output_type": "stream",
          "name": "stdout",
          "text": [
            "Epoch [66/100]\n",
            "Train Loss: 0.0279 | Val Loss: 0.2515\n",
            "Val mIoU: 0.6991 | F1: 0.8025 | Precision: 0.8535 | Recall: 0.7829\n"
          ]
        },
        {
          "output_type": "stream",
          "name": "stderr",
          "text": [
            "Epoch 67/100 - Training: 100%|██████████| 233/233 [02:47<00:00,  1.39it/s]\n",
            "Epoch 67/100 - Validation: 100%|██████████| 26/26 [00:07<00:00,  3.39it/s]\n"
          ]
        },
        {
          "output_type": "stream",
          "name": "stdout",
          "text": [
            "Epoch [67/100]\n",
            "Train Loss: 0.0286 | Val Loss: 0.2294\n",
            "Val mIoU: 0.7086 | F1: 0.8147 | Precision: 0.8467 | Recall: 0.8002\n"
          ]
        },
        {
          "output_type": "stream",
          "name": "stderr",
          "text": [
            "Epoch 68/100 - Training: 100%|██████████| 233/233 [02:48<00:00,  1.39it/s]\n",
            "Epoch 68/100 - Validation: 100%|██████████| 26/26 [00:07<00:00,  3.33it/s]\n"
          ]
        },
        {
          "output_type": "stream",
          "name": "stdout",
          "text": [
            "Epoch [68/100]\n",
            "Train Loss: 0.0259 | Val Loss: 0.2529\n",
            "Val mIoU: 0.6841 | F1: 0.7960 | Precision: 0.8364 | Recall: 0.7831\n"
          ]
        },
        {
          "output_type": "stream",
          "name": "stderr",
          "text": [
            "Epoch 69/100 - Training: 100%|██████████| 233/233 [02:48<00:00,  1.39it/s]\n",
            "Epoch 69/100 - Validation: 100%|██████████| 26/26 [00:07<00:00,  3.28it/s]\n"
          ]
        },
        {
          "output_type": "stream",
          "name": "stdout",
          "text": [
            "Epoch [69/100]\n",
            "Train Loss: 0.0260 | Val Loss: 0.2420\n",
            "Val mIoU: 0.6989 | F1: 0.8031 | Precision: 0.8590 | Recall: 0.7759\n"
          ]
        },
        {
          "output_type": "stream",
          "name": "stderr",
          "text": [
            "Epoch 70/100 - Training: 100%|██████████| 233/233 [02:48<00:00,  1.39it/s]\n",
            "Epoch 70/100 - Validation: 100%|██████████| 26/26 [00:07<00:00,  3.32it/s]\n"
          ]
        },
        {
          "output_type": "stream",
          "name": "stdout",
          "text": [
            "Epoch [70/100]\n",
            "Train Loss: 0.0260 | Val Loss: 0.2553\n",
            "Val mIoU: 0.6946 | F1: 0.8042 | Precision: 0.8506 | Recall: 0.7803\n"
          ]
        },
        {
          "output_type": "stream",
          "name": "stderr",
          "text": [
            "Epoch 71/100 - Training: 100%|██████████| 233/233 [02:47<00:00,  1.39it/s]\n",
            "Epoch 71/100 - Validation: 100%|██████████| 26/26 [00:07<00:00,  3.36it/s]\n"
          ]
        },
        {
          "output_type": "stream",
          "name": "stdout",
          "text": [
            "Epoch [71/100]\n",
            "Train Loss: 0.0249 | Val Loss: 0.2709\n",
            "Val mIoU: 0.7048 | F1: 0.8048 | Precision: 0.8715 | Recall: 0.7807\n"
          ]
        },
        {
          "output_type": "stream",
          "name": "stderr",
          "text": [
            "Epoch 72/100 - Training: 100%|██████████| 233/233 [02:48<00:00,  1.39it/s]\n",
            "Epoch 72/100 - Validation: 100%|██████████| 26/26 [00:07<00:00,  3.39it/s]\n"
          ]
        },
        {
          "output_type": "stream",
          "name": "stdout",
          "text": [
            "Epoch [72/100]\n",
            "Train Loss: 0.0259 | Val Loss: 0.2211\n",
            "Val mIoU: 0.6948 | F1: 0.8011 | Precision: 0.8568 | Recall: 0.7775\n"
          ]
        },
        {
          "output_type": "stream",
          "name": "stderr",
          "text": [
            "Epoch 73/100 - Training: 100%|██████████| 233/233 [02:47<00:00,  1.39it/s]\n",
            "Epoch 73/100 - Validation: 100%|██████████| 26/26 [00:07<00:00,  3.28it/s]\n"
          ]
        },
        {
          "output_type": "stream",
          "name": "stdout",
          "text": [
            "Epoch [73/100]\n",
            "Train Loss: 0.0256 | Val Loss: 0.2689\n",
            "Val mIoU: 0.6917 | F1: 0.7958 | Precision: 0.8595 | Recall: 0.7723\n"
          ]
        },
        {
          "output_type": "stream",
          "name": "stderr",
          "text": [
            "Epoch 74/100 - Training: 100%|██████████| 233/233 [02:48<00:00,  1.39it/s]\n",
            "Epoch 74/100 - Validation: 100%|██████████| 26/26 [00:07<00:00,  3.31it/s]\n"
          ]
        },
        {
          "output_type": "stream",
          "name": "stdout",
          "text": [
            "Epoch [74/100]\n",
            "Train Loss: 0.0508 | Val Loss: 0.2179\n",
            "Val mIoU: 0.6778 | F1: 0.7977 | Precision: 0.7956 | Recall: 0.7988\n"
          ]
        },
        {
          "output_type": "stream",
          "name": "stderr",
          "text": [
            "Epoch 75/100 - Training: 100%|██████████| 233/233 [02:47<00:00,  1.39it/s]\n",
            "Epoch 75/100 - Validation: 100%|██████████| 26/26 [00:07<00:00,  3.37it/s]\n"
          ]
        },
        {
          "output_type": "stream",
          "name": "stdout",
          "text": [
            "Epoch [75/100]\n",
            "Train Loss: 0.0456 | Val Loss: 0.2554\n",
            "Val mIoU: 0.6314 | F1: 0.7558 | Precision: 0.7886 | Recall: 0.7505\n"
          ]
        },
        {
          "output_type": "stream",
          "name": "stderr",
          "text": [
            "Epoch 76/100 - Training: 100%|██████████| 233/233 [02:47<00:00,  1.39it/s]\n",
            "Epoch 76/100 - Validation: 100%|██████████| 26/26 [00:07<00:00,  3.36it/s]\n"
          ]
        },
        {
          "output_type": "stream",
          "name": "stdout",
          "text": [
            "Epoch [76/100]\n",
            "Train Loss: 0.0480 | Val Loss: 0.2414\n",
            "Val mIoU: 0.6656 | F1: 0.7704 | Precision: 0.8551 | Recall: 0.7479\n"
          ]
        },
        {
          "output_type": "stream",
          "name": "stderr",
          "text": [
            "Epoch 77/100 - Training: 100%|██████████| 233/233 [02:47<00:00,  1.39it/s]\n",
            "Epoch 77/100 - Validation: 100%|██████████| 26/26 [00:07<00:00,  3.29it/s]\n"
          ]
        },
        {
          "output_type": "stream",
          "name": "stdout",
          "text": [
            "Epoch [77/100]\n",
            "Train Loss: 0.0350 | Val Loss: 0.2346\n",
            "Val mIoU: 0.6894 | F1: 0.7981 | Precision: 0.8540 | Recall: 0.7717\n"
          ]
        },
        {
          "output_type": "stream",
          "name": "stderr",
          "text": [
            "Epoch 78/100 - Training: 100%|██████████| 233/233 [02:47<00:00,  1.39it/s]\n",
            "Epoch 78/100 - Validation: 100%|██████████| 26/26 [00:07<00:00,  3.33it/s]\n"
          ]
        },
        {
          "output_type": "stream",
          "name": "stdout",
          "text": [
            "Epoch [78/100]\n",
            "Train Loss: 0.0282 | Val Loss: 0.2479\n",
            "Val mIoU: 0.6990 | F1: 0.7983 | Precision: 0.8610 | Recall: 0.7737\n"
          ]
        },
        {
          "output_type": "stream",
          "name": "stderr",
          "text": [
            "Epoch 79/100 - Training: 100%|██████████| 233/233 [02:48<00:00,  1.39it/s]\n",
            "Epoch 79/100 - Validation: 100%|██████████| 26/26 [00:07<00:00,  3.36it/s]\n"
          ]
        },
        {
          "output_type": "stream",
          "name": "stdout",
          "text": [
            "Epoch [79/100]\n",
            "Train Loss: 0.0253 | Val Loss: 0.2393\n",
            "Val mIoU: 0.6957 | F1: 0.7999 | Precision: 0.8469 | Recall: 0.7804\n"
          ]
        },
        {
          "output_type": "stream",
          "name": "stderr",
          "text": [
            "Epoch 80/100 - Training: 100%|██████████| 233/233 [02:47<00:00,  1.39it/s]\n",
            "Epoch 80/100 - Validation: 100%|██████████| 26/26 [00:07<00:00,  3.39it/s]\n"
          ]
        },
        {
          "output_type": "stream",
          "name": "stdout",
          "text": [
            "Epoch [80/100]\n",
            "Train Loss: 0.0284 | Val Loss: 0.2574\n",
            "Val mIoU: 0.6911 | F1: 0.7882 | Precision: 0.8525 | Recall: 0.7779\n"
          ]
        },
        {
          "output_type": "stream",
          "name": "stderr",
          "text": [
            "Epoch 81/100 - Training: 100%|██████████| 233/233 [02:47<00:00,  1.39it/s]\n",
            "Epoch 81/100 - Validation: 100%|██████████| 26/26 [00:07<00:00,  3.31it/s]\n"
          ]
        },
        {
          "output_type": "stream",
          "name": "stdout",
          "text": [
            "Epoch [81/100]\n",
            "Train Loss: 0.0248 | Val Loss: 0.2700\n",
            "Val mIoU: 0.6886 | F1: 0.7867 | Precision: 0.8665 | Recall: 0.7631\n"
          ]
        },
        {
          "output_type": "stream",
          "name": "stderr",
          "text": [
            "Epoch 82/100 - Training: 100%|██████████| 233/233 [02:47<00:00,  1.39it/s]\n",
            "Epoch 82/100 - Validation: 100%|██████████| 26/26 [00:07<00:00,  3.30it/s]\n"
          ]
        },
        {
          "output_type": "stream",
          "name": "stdout",
          "text": [
            "Epoch [82/100]\n",
            "Train Loss: 0.0237 | Val Loss: 0.2695\n",
            "Val mIoU: 0.6755 | F1: 0.7893 | Precision: 0.8120 | Recall: 0.7935\n"
          ]
        },
        {
          "output_type": "stream",
          "name": "stderr",
          "text": [
            "Epoch 83/100 - Training: 100%|██████████| 233/233 [02:47<00:00,  1.39it/s]\n",
            "Epoch 83/100 - Validation: 100%|██████████| 26/26 [00:07<00:00,  3.36it/s]\n"
          ]
        },
        {
          "output_type": "stream",
          "name": "stdout",
          "text": [
            "Epoch [83/100]\n",
            "Train Loss: 0.0400 | Val Loss: 0.2298\n",
            "Val mIoU: 0.6564 | F1: 0.7706 | Precision: 0.8304 | Recall: 0.7477\n"
          ]
        },
        {
          "output_type": "stream",
          "name": "stderr",
          "text": [
            "Epoch 84/100 - Training: 100%|██████████| 233/233 [02:47<00:00,  1.39it/s]\n",
            "Epoch 84/100 - Validation: 100%|██████████| 26/26 [00:07<00:00,  3.36it/s]\n"
          ]
        },
        {
          "output_type": "stream",
          "name": "stdout",
          "text": [
            "Epoch [84/100]\n",
            "Train Loss: 0.0371 | Val Loss: 0.2470\n",
            "Val mIoU: 0.6661 | F1: 0.7838 | Precision: 0.8289 | Recall: 0.7685\n"
          ]
        },
        {
          "output_type": "stream",
          "name": "stderr",
          "text": [
            "Epoch 85/100 - Training: 100%|██████████| 233/233 [02:47<00:00,  1.39it/s]\n",
            "Epoch 85/100 - Validation: 100%|██████████| 26/26 [00:07<00:00,  3.28it/s]\n"
          ]
        },
        {
          "output_type": "stream",
          "name": "stdout",
          "text": [
            "Epoch [85/100]\n",
            "Train Loss: 0.0541 | Val Loss: 0.2184\n",
            "Val mIoU: 0.6839 | F1: 0.7879 | Precision: 0.8469 | Recall: 0.7758\n"
          ]
        },
        {
          "output_type": "stream",
          "name": "stderr",
          "text": [
            "Epoch 86/100 - Training: 100%|██████████| 233/233 [02:48<00:00,  1.38it/s]\n",
            "Epoch 86/100 - Validation: 100%|██████████| 26/26 [00:07<00:00,  3.33it/s]\n"
          ]
        },
        {
          "output_type": "stream",
          "name": "stdout",
          "text": [
            "Epoch [86/100]\n",
            "Train Loss: 0.0297 | Val Loss: 0.2209\n",
            "Val mIoU: 0.6959 | F1: 0.7993 | Precision: 0.8574 | Recall: 0.7820\n"
          ]
        },
        {
          "output_type": "stream",
          "name": "stderr",
          "text": [
            "Epoch 87/100 - Training: 100%|██████████| 233/233 [02:47<00:00,  1.39it/s]\n",
            "Epoch 87/100 - Validation: 100%|██████████| 26/26 [00:07<00:00,  3.36it/s]\n"
          ]
        },
        {
          "output_type": "stream",
          "name": "stdout",
          "text": [
            "Epoch [87/100]\n",
            "Train Loss: 0.0269 | Val Loss: 0.2431\n",
            "Val mIoU: 0.7048 | F1: 0.8018 | Precision: 0.8610 | Recall: 0.7826\n"
          ]
        },
        {
          "output_type": "stream",
          "name": "stderr",
          "text": [
            "Epoch 88/100 - Training: 100%|██████████| 233/233 [02:48<00:00,  1.38it/s]\n",
            "Epoch 88/100 - Validation: 100%|██████████| 26/26 [00:07<00:00,  3.35it/s]\n"
          ]
        },
        {
          "output_type": "stream",
          "name": "stdout",
          "text": [
            "Epoch [88/100]\n",
            "Train Loss: 0.0257 | Val Loss: 0.2576\n",
            "Val mIoU: 0.6891 | F1: 0.7924 | Precision: 0.8508 | Recall: 0.7699\n"
          ]
        },
        {
          "output_type": "stream",
          "name": "stderr",
          "text": [
            "Epoch 89/100 - Training: 100%|██████████| 233/233 [02:47<00:00,  1.39it/s]\n",
            "Epoch 89/100 - Validation: 100%|██████████| 26/26 [00:07<00:00,  3.32it/s]\n"
          ]
        },
        {
          "output_type": "stream",
          "name": "stdout",
          "text": [
            "Epoch [89/100]\n",
            "Train Loss: 0.0244 | Val Loss: 0.2600\n",
            "Val mIoU: 0.6925 | F1: 0.7889 | Precision: 0.8704 | Recall: 0.7624\n"
          ]
        },
        {
          "output_type": "stream",
          "name": "stderr",
          "text": [
            "Epoch 90/100 - Training: 100%|██████████| 233/233 [02:47<00:00,  1.39it/s]\n",
            "Epoch 90/100 - Validation: 100%|██████████| 26/26 [00:07<00:00,  3.31it/s]\n"
          ]
        },
        {
          "output_type": "stream",
          "name": "stdout",
          "text": [
            "Epoch [90/100]\n",
            "Train Loss: 0.0255 | Val Loss: 0.2615\n",
            "Val mIoU: 0.7009 | F1: 0.7973 | Precision: 0.8654 | Recall: 0.7738\n"
          ]
        },
        {
          "output_type": "stream",
          "name": "stderr",
          "text": [
            "Epoch 91/100 - Training: 100%|██████████| 233/233 [02:47<00:00,  1.39it/s]\n",
            "Epoch 91/100 - Validation: 100%|██████████| 26/26 [00:07<00:00,  3.35it/s]\n"
          ]
        },
        {
          "output_type": "stream",
          "name": "stdout",
          "text": [
            "Epoch [91/100]\n",
            "Train Loss: 0.0246 | Val Loss: 0.2648\n",
            "Val mIoU: 0.6970 | F1: 0.7938 | Precision: 0.8635 | Recall: 0.7671\n"
          ]
        },
        {
          "output_type": "stream",
          "name": "stderr",
          "text": [
            "Epoch 92/100 - Training: 100%|██████████| 233/233 [02:47<00:00,  1.39it/s]\n",
            "Epoch 92/100 - Validation: 100%|██████████| 26/26 [00:07<00:00,  3.35it/s]\n"
          ]
        },
        {
          "output_type": "stream",
          "name": "stdout",
          "text": [
            "Epoch [92/100]\n",
            "Train Loss: 0.0235 | Val Loss: 0.2575\n",
            "Val mIoU: 0.6928 | F1: 0.8014 | Precision: 0.8449 | Recall: 0.7811\n"
          ]
        },
        {
          "output_type": "stream",
          "name": "stderr",
          "text": [
            "Epoch 93/100 - Training: 100%|██████████| 233/233 [02:47<00:00,  1.39it/s]\n",
            "Epoch 93/100 - Validation: 100%|██████████| 26/26 [00:07<00:00,  3.32it/s]\n"
          ]
        },
        {
          "output_type": "stream",
          "name": "stdout",
          "text": [
            "Epoch [93/100]\n",
            "Train Loss: 0.0244 | Val Loss: 0.2654\n",
            "Val mIoU: 0.6938 | F1: 0.7975 | Precision: 0.8504 | Recall: 0.7766\n"
          ]
        },
        {
          "output_type": "stream",
          "name": "stderr",
          "text": [
            "Epoch 94/100 - Training: 100%|██████████| 233/233 [02:47<00:00,  1.39it/s]\n",
            "Epoch 94/100 - Validation: 100%|██████████| 26/26 [00:07<00:00,  3.32it/s]\n"
          ]
        },
        {
          "output_type": "stream",
          "name": "stdout",
          "text": [
            "Epoch [94/100]\n",
            "Train Loss: 0.0229 | Val Loss: 0.2650\n",
            "Val mIoU: 0.6997 | F1: 0.8037 | Precision: 0.8515 | Recall: 0.7830\n"
          ]
        },
        {
          "output_type": "stream",
          "name": "stderr",
          "text": [
            "Epoch 95/100 - Training: 100%|██████████| 233/233 [02:47<00:00,  1.39it/s]\n",
            "Epoch 95/100 - Validation: 100%|██████████| 26/26 [00:07<00:00,  3.37it/s]\n"
          ]
        },
        {
          "output_type": "stream",
          "name": "stdout",
          "text": [
            "Epoch [95/100]\n",
            "Train Loss: 0.0221 | Val Loss: 0.2715\n",
            "Val mIoU: 0.7014 | F1: 0.8055 | Precision: 0.8625 | Recall: 0.7814\n"
          ]
        },
        {
          "output_type": "stream",
          "name": "stderr",
          "text": [
            "Epoch 96/100 - Training: 100%|██████████| 233/233 [02:47<00:00,  1.39it/s]\n",
            "Epoch 96/100 - Validation: 100%|██████████| 26/26 [00:07<00:00,  3.36it/s]\n"
          ]
        },
        {
          "output_type": "stream",
          "name": "stdout",
          "text": [
            "Epoch [96/100]\n",
            "Train Loss: 0.0221 | Val Loss: 0.2756\n",
            "Val mIoU: 0.6936 | F1: 0.7972 | Precision: 0.8552 | Recall: 0.7783\n"
          ]
        },
        {
          "output_type": "stream",
          "name": "stderr",
          "text": [
            "Epoch 97/100 - Training: 100%|██████████| 233/233 [02:47<00:00,  1.39it/s]\n",
            "Epoch 97/100 - Validation: 100%|██████████| 26/26 [00:07<00:00,  3.32it/s]\n"
          ]
        },
        {
          "output_type": "stream",
          "name": "stdout",
          "text": [
            "Epoch [97/100]\n",
            "Train Loss: 0.0234 | Val Loss: 0.2757\n",
            "Val mIoU: 0.6981 | F1: 0.7957 | Precision: 0.8614 | Recall: 0.7745\n"
          ]
        },
        {
          "output_type": "stream",
          "name": "stderr",
          "text": [
            "Epoch 98/100 - Training: 100%|██████████| 233/233 [02:48<00:00,  1.38it/s]\n",
            "Epoch 98/100 - Validation: 100%|██████████| 26/26 [00:07<00:00,  3.31it/s]\n"
          ]
        },
        {
          "output_type": "stream",
          "name": "stdout",
          "text": [
            "Epoch [98/100]\n",
            "Train Loss: 0.0230 | Val Loss: 0.2696\n",
            "Val mIoU: 0.7048 | F1: 0.8002 | Precision: 0.8706 | Recall: 0.7768\n"
          ]
        },
        {
          "output_type": "stream",
          "name": "stderr",
          "text": [
            "Epoch 99/100 - Training: 100%|██████████| 233/233 [02:47<00:00,  1.39it/s]\n",
            "Epoch 99/100 - Validation: 100%|██████████| 26/26 [00:07<00:00,  3.36it/s]\n"
          ]
        },
        {
          "output_type": "stream",
          "name": "stdout",
          "text": [
            "Epoch [99/100]\n",
            "Train Loss: 0.0421 | Val Loss: 0.2603\n",
            "Val mIoU: 0.6923 | F1: 0.7914 | Precision: 0.8550 | Recall: 0.7744\n"
          ]
        },
        {
          "output_type": "stream",
          "name": "stderr",
          "text": [
            "Epoch 100/100 - Training: 100%|██████████| 233/233 [02:48<00:00,  1.39it/s]\n",
            "Epoch 100/100 - Validation: 100%|██████████| 26/26 [00:07<00:00,  3.36it/s]"
          ]
        },
        {
          "output_type": "stream",
          "name": "stdout",
          "text": [
            "Epoch [100/100]\n",
            "Train Loss: 0.0249 | Val Loss: 0.2617\n",
            "Val mIoU: 0.6930 | F1: 0.7961 | Precision: 0.8638 | Recall: 0.7682\n"
          ]
        },
        {
          "output_type": "stream",
          "name": "stderr",
          "text": [
            "\n"
          ]
        }
      ]
    },
    {
      "cell_type": "markdown",
      "source": [
        "#plotting curves"
      ],
      "metadata": {
        "id": "gMpLrcYU5Gl0"
      }
    },
    {
      "cell_type": "code",
      "source": [
        "import matplotlib.pyplot as plt\n",
        "\n",
        "epochs = range(1, len(history['train_loss']) + 1)\n",
        "\n",
        "plt.figure(figsize=(16, 12))\n",
        "\n",
        "plt.subplot(2, 2, 1)\n",
        "plt.plot(epochs, history['train_loss'], label='Train Loss')\n",
        "plt.plot(epochs, history['val_loss'], label='Val Loss')\n",
        "plt.legend()\n",
        "plt.title('Loss Curve')\n",
        "\n",
        "plt.subplot(2, 2, 2)\n",
        "plt.plot(epochs, history['val_miou'], label='Val mIoU')\n",
        "plt.legend()\n",
        "plt.title('Validation mIoU')\n",
        "\n",
        "plt.subplot(2, 2, 3)\n",
        "plt.plot(epochs, history['val_f1'], label='Val F1 Score')\n",
        "plt.legend()\n",
        "plt.title('Validation F1 Score')\n",
        "\n",
        "plt.subplot(2, 2, 4)\n",
        "plt.plot(epochs, history['val_precision'], label='Val Precision')\n",
        "plt.plot(epochs, history['val_recall'], label='Val Recall')\n",
        "plt.legend()\n",
        "plt.title('Validation Precision & Recall')\n",
        "\n",
        "plt.show()\n"
      ],
      "metadata": {
        "id": "enbJOFDbIA5a",
        "colab": {
          "base_uri": "https://localhost:8080/",
          "height": 1000
        },
        "outputId": "0cdc67a1-da53-4ac5-ae2f-ce6f6701171d"
      },
      "execution_count": null,
      "outputs": [
        {
          "output_type": "display_data",
          "data": {
            "text/plain": [
              "<Figure size 1600x1200 with 4 Axes>"
            ],
            "image/png": "[encoded data removed]"
          },
          "metadata": {}
        }
      ]
    },
    {
      "cell_type": "code",
      "source": [],
      "metadata": {
        "id": "Vvx0Vm0kIA81"
      },
      "execution_count": null,
      "outputs": []
    }
  ]
}